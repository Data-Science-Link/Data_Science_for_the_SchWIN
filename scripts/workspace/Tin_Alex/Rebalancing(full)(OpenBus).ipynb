{
 "cells": [
  {
   "cell_type": "code",
   "execution_count": 1,
   "metadata": {},
   "outputs": [],
   "source": [
    "import pandas as pd\n",
    "import numpy as np"
   ]
  },
  {
   "cell_type": "code",
   "execution_count": null,
   "metadata": {},
   "outputs": [],
   "source": []
  },
  {
   "cell_type": "code",
   "execution_count": 27,
   "metadata": {},
   "outputs": [],
   "source": [
    "# Mar2015 = pd.read_csv('./openbus/2015-03/bikeshare_nyc_raw.csv', sep='\\t')\n",
    "# Apr2015 = pd.read_csv('./openbus/2015-04/bikeshare_nyc_raw.csv', sep='\\t')\n",
    "# May2015 = pd.read_csv('./openbus/2015-05/bikeshare_nyc_raw.csv', sep='\\t')\n",
    "# Jun2015 = pd.read_csv('./openbus/2015-06/bikeshare_nyc_raw.csv', sep='\\t')\n",
    "# Jul2015 = pd.read_csv('./openbus/2015-07/bikeshare_nyc_raw.csv', sep='\\t')\n",
    "# Aug2015 = pd.read_csv('./openbus/2015-08/bikeshare_nyc_raw.csv', sep='\\t')\n",
    "# Sep2015 = pd.read_csv('./openbus/2015-09/bikeshare_nyc_raw.csv', sep='\\t')\n",
    "# Oct2015 = pd.read_csv('./openbus/2015-10/bikeshare_nyc_raw.csv', sep='\\t')\n",
    "# Nov2015 = pd.read_csv('./openbus/2015-11/bikeshare_nyc_raw.csv', sep='\\t')\n",
    "# Dec2015 = pd.read_csv('./openbus/2015-12/bikeshare_nyc_raw.csv', sep='\\t')\n",
    "# Jan2016 = pd.read_csv('./openbus/2016-01/bikeshare_nyc_raw.csv', sep='\\t')\n",
    "# Feb2016 = pd.read_csv('./openbus/2016-02/bikeshare_nyc_raw.csv', sep='\\t')\n",
    "# Mar2016 = pd.read_csv('./openbus/2016-03/bikeshare_nyc_raw.csv', sep='\\t')\n",
    "# Apr2016 = pd.read_csv('./openbus/2016-04/bikeshare_nyc_raw.csv', sep='\\t')\n",
    "# May2016 = pd.read_csv('./openbus/2016-05/bikeshare_nyc_raw.csv', sep='\\t')\n",
    "# Jun2016 = pd.read_csv('./openbus/2016-06/bikeshare_nyc_raw.csv', sep='\\t')\n",
    "# Jul2016 = pd.read_csv('./openbus/2016-07/bikeshare_nyc_raw.csv', sep='\\t')\n",
    "# Aug2016 = pd.read_csv('./openbus/2016-08/bikeshare_nyc_raw.csv', sep='\\t')\n",
    "# Sep2016 = pd.read_csv('./openbus/2016-09/bikeshare_nyc_raw.csv', sep='\\t')\n",
    "# Oct2016 = pd.read_csv('./openbus/2016-10/bikeshare_nyc_raw.csv', sep='\\t')\n",
    "# Nov2016 = pd.read_csv('./openbus/2016-11/bikeshare_nyc_raw.csv', sep='\\t')\n",
    "# Dec2016 = pd.read_csv('./openbus/2016-12/bikeshare_nyc_raw.csv', sep='\\t')\n",
    "Jan2017 = pd.read_csv('./openbus/2017-01/bikeshare_nyc_raw.csv', sep='\\t')\n",
    "Feb2017 = pd.read_csv('./openbus/2017-02/bikeshare_nyc_raw.csv', sep='\\t')\n",
    "Mar2017 = pd.read_csv('./openbus/2017-03/bikeshare_nyc_raw.csv', sep='\\t')\n",
    "Apr2017 = pd.read_csv('./openbus/2017-04/bikeshare_nyc_raw.csv', sep='\\t')\n",
    "May2017 = pd.read_csv('./openbus/2017-05/bikeshare_nyc_raw.csv', sep='\\t')\n",
    "Jun2017 = pd.read_csv('./openbus/2017-06/bikeshare_nyc_raw.csv', sep='\\t')\n",
    "Jul2017 = pd.read_csv('./openbus/2017-07/bikeshare_nyc_raw.csv', sep='\\t')\n",
    "Aug2017 = pd.read_csv('./openbus/2017-08/bikeshare_nyc_raw.csv', sep='\\t')\n",
    "Sep2017 = pd.read_csv('./openbus/2017-09/bikeshare_nyc_raw.csv', sep='\\t')\n",
    "Oct2017 = pd.read_csv('./openbus/2017-10/bikeshare_nyc_raw.csv', sep='\\t')\n",
    "Nov2017 = pd.read_csv('./openbus/2017-11/bikeshare_nyc_raw.csv', sep='\\t')\n",
    "Dec2017 = pd.read_csv('./openbus/2017-12/bikeshare_nyc_raw.csv', sep='\\t')\n",
    "Jan2018 = pd.read_csv('./openbus/2018-01/bikeshare_nyc_raw.csv', sep='\\t')\n",
    "Feb2018 = pd.read_csv('./openbus/2018-02/bikeshare_nyc_raw.csv', sep='\\t')\n",
    "Mar2018 = pd.read_csv('./openbus/2018-03/bikeshare_nyc_raw.csv', sep='\\t')\n",
    "Apr2018 = pd.read_csv('./openbus/2018-04/bikeshare_nyc_raw.csv', sep='\\t')\n",
    "May2018 = pd.read_csv('./openbus/2018-05/bikeshare_nyc_raw.csv', sep='\\t')\n",
    "Jun2018 = pd.read_csv('./openbus/2018-06/bikeshare_nyc_raw.csv', sep='\\t')\n",
    "Jul2018 = pd.read_csv('./openbus/2018-07/bikeshare_nyc_raw.csv', sep='\\t')\n",
    "Aug2018 = pd.read_csv('./openbus/2018-08/bikeshare_nyc_raw.csv', sep='\\t')\n",
    "Sep2018 = pd.read_csv('./openbus/2018-09/bikeshare_nyc_raw.csv', sep='\\t')\n",
    "Oct2018 = pd.read_csv('./openbus/2018-10/bikeshare_nyc_raw.csv', sep='\\t')\n",
    "Nov2018 = pd.read_csv('./openbus/2018-11/bikeshare_nyc_raw.csv', sep='\\t')\n",
    "Dec2018 = pd.read_csv('./openbus/2018-12/bikeshare_nyc_raw.csv', sep='\\t')\n",
    "Jan2019 = pd.read_csv('./openbus/2019-01/bikeshare_nyc_raw.csv', sep='\\t')\n",
    "Feb2019 = pd.read_csv('./openbus/2019-02/bikeshare_nyc_raw.csv', sep='\\t')\n",
    "Mar2019 = pd.read_csv('./openbus/2019-03/bikeshare_nyc_raw.csv', sep='\\t')\n",
    "Apr2019 = pd.read_csv('./openbus/2019-04/bikeshare_nyc_raw.csv', sep='\\t')"
   ]
  },
  {
   "cell_type": "code",
   "execution_count": 28,
   "metadata": {},
   "outputs": [],
   "source": [
    "yr_2018 = pd.concat([Jan2018, Feb2018, Mar2018, Apr2018, May2018, Jun2018, Jul2018, Aug2018, Sep2018, Oct2018, Nov2018, Dec2018], axis=0)"
   ]
  },
  {
   "cell_type": "code",
   "execution_count": 31,
   "metadata": {},
   "outputs": [],
   "source": [
    "yr_2017 = pd.concat([Jan2017, Feb2017, Mar2017, Apr2017, May2017, Jun2017, Jul2017, Aug2017, Sep2017, Oct2017, Nov2017, Dec2017], axis=0)"
   ]
  },
  {
   "cell_type": "code",
   "execution_count": 32,
   "metadata": {},
   "outputs": [],
   "source": [
    "yr_2019= pd.concat([Jan2019, Feb2019, Mar2019, Apr2019], axis=0)"
   ]
  },
  {
   "cell_type": "markdown",
   "metadata": {},
   "source": [
    "## Combined datasets - Jan 2017-Apr 2019"
   ]
  },
  {
   "cell_type": "code",
   "execution_count": 266,
   "metadata": {},
   "outputs": [],
   "source": [
    "yr_total = pd.concat([yr_2017, yr_2018, yr_2019], axis=0)"
   ]
  },
  {
   "cell_type": "markdown",
   "metadata": {},
   "source": [
    "## Data Cleaning"
   ]
  },
  {
   "cell_type": "code",
   "execution_count": 267,
   "metadata": {},
   "outputs": [],
   "source": [
    "# Parse datetime\n",
    "yr_total['date'] = pd.to_datetime(yr_total['date'], yearfirst=True)\n",
    "\n",
    "#Add seasonality \n",
    "yr_total['season'] = pd.cut(yr_total.date.dt.month, bins=[0, 3, 6, 9, 12], labels=['Spring','Summer','Autumn','Winter'])\n",
    "\n",
    "# Year-month column for data visualizations\n",
    "yr_total['year_month'] = yr_total['date'].dt.strftime('%Y-%m')"
   ]
  },
  {
   "cell_type": "code",
   "execution_count": 283,
   "metadata": {},
   "outputs": [],
   "source": [
    "# Calculate percentage of bikes in docks \n",
    "yr_total['percentage'] = yr_total['avail_bikes']/yr_total['tot_docks']\n",
    "\n",
    "# The NAs are from stations where there are 0 available bikes and 0 available docks. Impute all to NA.\n",
    "yr_total['percentage'] = yr_total['percentage'].fillna(0)\n",
    "\n",
    "# Annotate bike percentage in docks (below 15% means need rebalancing, above 85% means need more space to park bikes)\n",
    "yr_total['status'] = pd.cut(yr_total['percentage'], bins=[0,0.15, 0.85, 1], labels=['Need bikes','Status OK','Need dock space'])\n",
    "yr_total['status'] = yr_total['status'].cat.add_categories('Out of Service')\n",
    "\n",
    "# Replace all out of service as Status \"Out of Service\"\n",
    "yr_total.loc[yr_total['in_service']==0,'status'] = 'Out of Service'\n",
    "\n",
    "# Replace remaining NAs, which were dock_stations with no available bikes)\n",
    "yr_total['status'] = yr_total['status'].cat.add_categories('Out of bikes')\n",
    "yr_total['status'] = yr_total['status'].fillna('Out of bikes')\n",
    "\n",
    "\n",
    "#Save all remaining NAs, which are dock_stations with no available bikes, to a separate dataframe\n",
    "no_bikes = yr_total[yr_total['status']== 'Out of bikes']\n"
   ]
  },
  {
   "cell_type": "code",
   "execution_count": 286,
   "metadata": {},
   "outputs": [],
   "source": [
    "# Create time interpretable\n",
    "\n",
    "#Add 12 hours if pm column is '1'\n",
    "yr_total['hour'] = np.where(yr_total['pm']== 1, \n",
    "                                 yr_total['hour'] + 12, \n",
    "                                 yr_total['hour'])\n",
    "\n",
    "#Drop pm column\n",
    "yr_total = yr_total.drop('pm', axis=1)\n",
    "\n",
    "# Correct time formatting (defined formula)\n",
    "def filltime(text):\n",
    "    return text.zfill(2)\n",
    "\n",
    "yr_total['hour'] = yr_total['hour'].astype(str).apply(filltime)\n",
    "yr_total['minute'] = yr_total['minute'].astype(str).apply(filltime)\n",
    "\n",
    "# Replace hours where hour is '24' to '00'\n",
    "yr_total['hour'] = yr_total['hour'].apply(lambda x: x.replace('24','00'))\n",
    "\n",
    "\n",
    "yr_total['time'] = yr_total['hour'] + \":\" + yr_total['minute']\n",
    "\n",
    "import datetime as dt\n",
    "yr_total['time'] = pd.to_datetime(yr_total['time'])\n",
    "yr_total['time'] = yr_total['time'].apply(lambda x: x.time().strftime('%H:%M'))\n"
   ]
  },
  {
   "cell_type": "code",
   "execution_count": 289,
   "metadata": {},
   "outputs": [
    {
     "data": {
      "text/plain": [
       "Status OK          8069683\n",
       "Need bikes         3067373\n",
       "Need dock space    1569604\n",
       "Out of bikes       1335705\n",
       "Out of Service      360432\n",
       "Name: status, dtype: int64"
      ]
     },
     "execution_count": 289,
     "metadata": {},
     "output_type": "execute_result"
    }
   ],
   "source": [
    "yr_total.status.value_counts()"
   ]
  },
  {
   "cell_type": "code",
   "execution_count": 290,
   "metadata": {},
   "outputs": [],
   "source": [
    "yr_total.to_csv('./yr_total.csv')"
   ]
  },
  {
   "cell_type": "markdown",
   "metadata": {},
   "source": [
    "## Breaking down to specific datasets"
   ]
  },
  {
   "cell_type": "code",
   "execution_count": 123,
   "metadata": {},
   "outputs": [
    {
     "data": {
      "text/html": [
       "<div>\n",
       "<style scoped>\n",
       "    .dataframe tbody tr th:only-of-type {\n",
       "        vertical-align: middle;\n",
       "    }\n",
       "\n",
       "    .dataframe tbody tr th {\n",
       "        vertical-align: top;\n",
       "    }\n",
       "\n",
       "    .dataframe thead th {\n",
       "        text-align: right;\n",
       "    }\n",
       "</style>\n",
       "<table border=\"1\" class=\"dataframe\">\n",
       "  <thead>\n",
       "    <tr style=\"text-align: right;\">\n",
       "      <th></th>\n",
       "      <th>dock_id</th>\n",
       "      <th>dock_name</th>\n",
       "      <th>_lat</th>\n",
       "      <th>_long</th>\n",
       "      <th>year_month</th>\n",
       "      <th>in_service</th>\n",
       "      <th>avail_bikes</th>\n",
       "      <th>tot_docks</th>\n",
       "      <th>percentage</th>\n",
       "    </tr>\n",
       "  </thead>\n",
       "  <tbody>\n",
       "    <tr>\n",
       "      <th>1079</th>\n",
       "      <td>79</td>\n",
       "      <td>Franklin St &amp; W Broadway</td>\n",
       "      <td>40.719116</td>\n",
       "      <td>-74.006667</td>\n",
       "      <td>2017-02</td>\n",
       "      <td>0</td>\n",
       "      <td>0</td>\n",
       "      <td>0</td>\n",
       "      <td>NaN</td>\n",
       "    </tr>\n",
       "    <tr>\n",
       "      <th>2070</th>\n",
       "      <td>82</td>\n",
       "      <td>St James Pl &amp; Pearl St</td>\n",
       "      <td>40.711174</td>\n",
       "      <td>-74.000165</td>\n",
       "      <td>2017-04</td>\n",
       "      <td>0</td>\n",
       "      <td>0</td>\n",
       "      <td>0</td>\n",
       "      <td>NaN</td>\n",
       "    </tr>\n",
       "    <tr>\n",
       "      <th>2100</th>\n",
       "      <td>82</td>\n",
       "      <td>St James Pl &amp; Pearl St</td>\n",
       "      <td>40.711174</td>\n",
       "      <td>-74.000165</td>\n",
       "      <td>2017-05</td>\n",
       "      <td>0</td>\n",
       "      <td>0</td>\n",
       "      <td>0</td>\n",
       "      <td>NaN</td>\n",
       "    </tr>\n",
       "    <tr>\n",
       "      <th>2597</th>\n",
       "      <td>82</td>\n",
       "      <td>St James Pl &amp; Pearl St</td>\n",
       "      <td>40.711174</td>\n",
       "      <td>-74.000165</td>\n",
       "      <td>2018-10</td>\n",
       "      <td>0</td>\n",
       "      <td>0</td>\n",
       "      <td>0</td>\n",
       "      <td>NaN</td>\n",
       "    </tr>\n",
       "    <tr>\n",
       "      <th>2890</th>\n",
       "      <td>83</td>\n",
       "      <td>Atlantic Ave &amp; Fort Greene Pl</td>\n",
       "      <td>40.683826</td>\n",
       "      <td>-73.976323</td>\n",
       "      <td>2017-04</td>\n",
       "      <td>0</td>\n",
       "      <td>0</td>\n",
       "      <td>0</td>\n",
       "      <td>NaN</td>\n",
       "    </tr>\n",
       "    <tr>\n",
       "      <th>...</th>\n",
       "      <td>...</td>\n",
       "      <td>...</td>\n",
       "      <td>...</td>\n",
       "      <td>...</td>\n",
       "      <td>...</td>\n",
       "      <td>...</td>\n",
       "      <td>...</td>\n",
       "      <td>...</td>\n",
       "      <td>...</td>\n",
       "    </tr>\n",
       "    <tr>\n",
       "      <th>548259</th>\n",
       "      <td>3519</td>\n",
       "      <td>28 Ave &amp; 43 St</td>\n",
       "      <td>40.764258</td>\n",
       "      <td>-73.911239</td>\n",
       "      <td>2018-10</td>\n",
       "      <td>0</td>\n",
       "      <td>0</td>\n",
       "      <td>0</td>\n",
       "      <td>NaN</td>\n",
       "    </tr>\n",
       "    <tr>\n",
       "      <th>548260</th>\n",
       "      <td>3519</td>\n",
       "      <td>28 Ave &amp; 43 St</td>\n",
       "      <td>40.764258</td>\n",
       "      <td>-73.911239</td>\n",
       "      <td>2018-11</td>\n",
       "      <td>0</td>\n",
       "      <td>0</td>\n",
       "      <td>0</td>\n",
       "      <td>NaN</td>\n",
       "    </tr>\n",
       "    <tr>\n",
       "      <th>548261</th>\n",
       "      <td>3519</td>\n",
       "      <td>28 Ave &amp; 43 St</td>\n",
       "      <td>40.764258</td>\n",
       "      <td>-73.911239</td>\n",
       "      <td>2018-12</td>\n",
       "      <td>0</td>\n",
       "      <td>0</td>\n",
       "      <td>0</td>\n",
       "      <td>NaN</td>\n",
       "    </tr>\n",
       "    <tr>\n",
       "      <th>548654</th>\n",
       "      <td>3521</td>\n",
       "      <td>Lenox Ave &amp; W 111 St</td>\n",
       "      <td>40.798786</td>\n",
       "      <td>-73.952300</td>\n",
       "      <td>2019-02</td>\n",
       "      <td>0</td>\n",
       "      <td>0</td>\n",
       "      <td>0</td>\n",
       "      <td>NaN</td>\n",
       "    </tr>\n",
       "    <tr>\n",
       "      <th>549607</th>\n",
       "      <td>3531</td>\n",
       "      <td>Frederick Douglass Blvd &amp; W 129 St</td>\n",
       "      <td>40.812551</td>\n",
       "      <td>-73.949229</td>\n",
       "      <td>2019-04</td>\n",
       "      <td>0</td>\n",
       "      <td>0</td>\n",
       "      <td>0</td>\n",
       "      <td>NaN</td>\n",
       "    </tr>\n",
       "  </tbody>\n",
       "</table>\n",
       "<p>816 rows × 9 columns</p>\n",
       "</div>"
      ],
      "text/plain": [
       "        dock_id                           dock_name       _lat      _long  \\\n",
       "1079         79            Franklin St & W Broadway  40.719116 -74.006667   \n",
       "2070         82              St James Pl & Pearl St  40.711174 -74.000165   \n",
       "2100         82              St James Pl & Pearl St  40.711174 -74.000165   \n",
       "2597         82              St James Pl & Pearl St  40.711174 -74.000165   \n",
       "2890         83       Atlantic Ave & Fort Greene Pl  40.683826 -73.976323   \n",
       "...         ...                                 ...        ...        ...   \n",
       "548259     3519                      28 Ave & 43 St  40.764258 -73.911239   \n",
       "548260     3519                      28 Ave & 43 St  40.764258 -73.911239   \n",
       "548261     3519                      28 Ave & 43 St  40.764258 -73.911239   \n",
       "548654     3521                Lenox Ave & W 111 St  40.798786 -73.952300   \n",
       "549607     3531  Frederick Douglass Blvd & W 129 St  40.812551 -73.949229   \n",
       "\n",
       "       year_month  in_service  avail_bikes  tot_docks  percentage  \n",
       "1079      2017-02           0            0          0         NaN  \n",
       "2070      2017-04           0            0          0         NaN  \n",
       "2100      2017-05           0            0          0         NaN  \n",
       "2597      2018-10           0            0          0         NaN  \n",
       "2890      2017-04           0            0          0         NaN  \n",
       "...           ...         ...          ...        ...         ...  \n",
       "548259    2018-10           0            0          0         NaN  \n",
       "548260    2018-11           0            0          0         NaN  \n",
       "548261    2018-12           0            0          0         NaN  \n",
       "548654    2019-02           0            0          0         NaN  \n",
       "549607    2019-04           0            0          0         NaN  \n",
       "\n",
       "[816 rows x 9 columns]"
      ]
     },
     "execution_count": 123,
     "metadata": {},
     "output_type": "execute_result"
    }
   ],
   "source": [
    "# DO NOT RUN THIS CELL\n",
    "# Confirm that NaNs in percentage is due to fact that dock station is not in service\n",
    "\n",
    "viz_month[viz_month['percentage'].isna()]"
   ]
  },
  {
   "cell_type": "code",
   "execution_count": 129,
   "metadata": {},
   "outputs": [],
   "source": [
    "\n",
    "# Visualization of hourly average bike availability\n",
    "viz_month_detail = yr_total.groupby(['dock_id','dock_name','_lat','_long','year_month','hour','in_service']).agg({'percentage':'mean'}).reset_index()\n",
    "\n",
    "# Fill NAs with 0 (stations not in service)\n",
    "viz_month_detail['percentage'] = viz_month_detail['percentage'].fillna(0)"
   ]
  },
  {
   "cell_type": "code",
   "execution_count": 125,
   "metadata": {},
   "outputs": [],
   "source": [
    "# Visualization of monthly average bike availability\n",
    "\n",
    "viz_month = yr_total.groupby(['dock_id','dock_name','_lat','_long','year_month','in_service']).agg({'percentage': 'mean'}).reset_index()\n",
    "\n",
    "# Fill NAs with 0 (stations not in service)\n",
    "viz_month['percentage'] = viz_month['percentage'].fillna(0)"
   ]
  },
  {
   "cell_type": "code",
   "execution_count": 210,
   "metadata": {},
   "outputs": [],
   "source": [
    "viz_month.to_csv('./bikeload.csv')\n",
    "viz_month_detail.to_csv('./hourlybikeload.csv')"
   ]
  },
  {
   "cell_type": "code",
   "execution_count": 223,
   "metadata": {},
   "outputs": [
    {
     "ename": "NameError",
     "evalue": "name 'nanmean' is not defined",
     "output_type": "error",
     "traceback": [
      "\u001b[0;31m---------------------------------------------------------------------------\u001b[0m",
      "\u001b[0;31mNameError\u001b[0m                                 Traceback (most recent call last)",
      "\u001b[0;32m<ipython-input-223-e182ecfc3557>\u001b[0m in \u001b[0;36m<module>\u001b[0;34m\u001b[0m\n\u001b[0;32m----> 1\u001b[0;31m \u001b[0mviz_month1\u001b[0m \u001b[0;34m=\u001b[0m \u001b[0myr_total\u001b[0m\u001b[0;34m.\u001b[0m\u001b[0mgroupby\u001b[0m\u001b[0;34m(\u001b[0m\u001b[0;34m[\u001b[0m\u001b[0;34m'dock_id'\u001b[0m\u001b[0;34m,\u001b[0m\u001b[0;34m'dock_name'\u001b[0m\u001b[0;34m,\u001b[0m\u001b[0;34m'_lat'\u001b[0m\u001b[0;34m,\u001b[0m\u001b[0;34m'_long'\u001b[0m\u001b[0;34m,\u001b[0m\u001b[0;34m'year_month'\u001b[0m\u001b[0;34m]\u001b[0m\u001b[0;34m)\u001b[0m\u001b[0;34m.\u001b[0m\u001b[0magg\u001b[0m\u001b[0;34m(\u001b[0m\u001b[0;34m{\u001b[0m\u001b[0;34m'percentage'\u001b[0m\u001b[0;34m:\u001b[0m \u001b[0mnanmean\u001b[0m\u001b[0;34m}\u001b[0m\u001b[0;34m)\u001b[0m\u001b[0;34m.\u001b[0m\u001b[0mreset_index\u001b[0m\u001b[0;34m(\u001b[0m\u001b[0;34m)\u001b[0m\u001b[0;34m\u001b[0m\u001b[0;34m\u001b[0m\u001b[0m\n\u001b[0m",
      "\u001b[0;31mNameError\u001b[0m: name 'nanmean' is not defined"
     ]
    }
   ],
   "source": [
    "viz_month1 = yr_total.groupby(['dock_id','dock_name','_lat','_long','year_month']).agg({'percentage': }).reset_index()\n"
   ]
  },
  {
   "cell_type": "code",
   "execution_count": 222,
   "metadata": {},
   "outputs": [
    {
     "data": {
      "text/plain": [
       "dock_id         0\n",
       "dock_name       0\n",
       "_lat            0\n",
       "_long           0\n",
       "year_month      0\n",
       "percentage    132\n",
       "dtype: int64"
      ]
     },
     "execution_count": 222,
     "metadata": {},
     "output_type": "execute_result"
    }
   ],
   "source": [
    "viz_month1.isna().sum()"
   ]
  },
  {
   "cell_type": "code",
   "execution_count": 74,
   "metadata": {},
   "outputs": [],
   "source": [
    "# import plotly.express as px\n",
    "\n",
    "# px.set_mapbox_access_token(open('.mapbox_token').read())\n",
    "# fig = px.scatter_mapbox(viz, lat='_lat',lon='_long',color='percentage', \n",
    "#                         color_continuous_scale = px.colors.cyclical.IceFire,\n",
    "#                        size_max=15, zoom=10)\n",
    "# fig.show()"
   ]
  },
  {
   "cell_type": "code",
   "execution_count": null,
   "metadata": {},
   "outputs": [],
   "source": []
  },
  {
   "cell_type": "code",
   "execution_count": null,
   "metadata": {},
   "outputs": [],
   "source": []
  },
  {
   "cell_type": "markdown",
   "metadata": {},
   "source": [
    "## Visualizing dock_station statistics"
   ]
  },
  {
   "cell_type": "code",
   "execution_count": 151,
   "metadata": {},
   "outputs": [],
   "source": [
    "# Visualize in service dock stations over the time frame\n",
    "\n",
    "import seaborn as sns\n",
    "\n",
    "dock_station = yr_total.groupby('year_month')['in_service'].value_counts()"
   ]
  },
  {
   "cell_type": "code",
   "execution_count": 178,
   "metadata": {},
   "outputs": [],
   "source": [
    "dock_station1 = pd.DataFrame({'count': yr_total.groupby(['year_month','in_service']).size()}).reset_index()"
   ]
  },
  {
   "cell_type": "code",
   "execution_count": 195,
   "metadata": {},
   "outputs": [],
   "source": [
    "# Total number of stations\n",
    "a= yr_total.groupby('year_month')['dock_id'].nunique().reset_index().rename(columns={'dock_id':'station_num'})\n",
    "\n",
    "#Total number of \"check-ins\" from the excel sheets\n",
    "b = yr_total.groupby('year_month')['in_service'].size().reset_index().rename(columns={'in_service':'total_check'})"
   ]
  },
  {
   "cell_type": "code",
   "execution_count": 199,
   "metadata": {},
   "outputs": [],
   "source": [
    "dock_station1 = dock_station1.merge(a)\n",
    "dock_station1 = dock_station1.merge(b)"
   ]
  },
  {
   "cell_type": "code",
   "execution_count": 215,
   "metadata": {},
   "outputs": [],
   "source": [
    "#Impute percentage of stations \"in-service\"\n",
    "dock_station1['percent'] = dock_station1['count']/dock_station1['total_check']"
   ]
  },
  {
   "cell_type": "code",
   "execution_count": 219,
   "metadata": {},
   "outputs": [
    {
     "data": {
      "text/plain": [
       "(56, 6)"
      ]
     },
     "execution_count": 219,
     "metadata": {},
     "output_type": "execute_result"
    }
   ],
   "source": [
    "dock_station1.shape"
   ]
  },
  {
   "cell_type": "code",
   "execution_count": 218,
   "metadata": {},
   "outputs": [],
   "source": [
    "dock_station1.to_csv('./dockstation.csv')"
   ]
  },
  {
   "cell_type": "markdown",
   "metadata": {},
   "source": [
    "### In-service Dock stations (by Year and Month)"
   ]
  },
  {
   "cell_type": "code",
   "execution_count": 204,
   "metadata": {},
   "outputs": [],
   "source": [
    "fig,axs = plt.subplots(2, sharex=True, sharey= False)\n",
    "fig.suptitle('')\n"
   ]
  },
  {
   "cell_type": "code",
   "execution_count": 207,
   "metadata": {},
   "outputs": [
    {
     "data": {
      "text/plain": [
       "<matplotlib.axes._subplots.AxesSubplot at 0x7f8017df8550>"
      ]
     },
     "execution_count": 207,
     "metadata": {},
     "output_type": "execute_result"
    },
    {
     "data": {
      "image/png": "[encoded data removed]",
      "text/plain": [
       "<Figure size 432x288 with 1 Axes>"
      ]
     },
     "metadata": {
      "needs_background": "light"
     },
     "output_type": "display_data"
    }
   ],
   "source": [
    "sns.barplot(x='year_month', y = 'percent', hue='in_service', data=dock_station1)\n"
   ]
  },
  {
   "cell_type": "code",
   "execution_count": null,
   "metadata": {},
   "outputs": [],
   "source": []
  },
  {
   "cell_type": "code",
   "execution_count": null,
   "metadata": {},
   "outputs": [],
   "source": []
  },
  {
   "cell_type": "code",
   "execution_count": null,
   "metadata": {},
   "outputs": [],
   "source": []
  },
  {
   "cell_type": "code",
   "execution_count": null,
   "metadata": {},
   "outputs": [],
   "source": []
  }
 ],
 "metadata": {
  "kernelspec": {
   "display_name": "Python 3",
   "language": "python",
   "name": "python3"
  },
  "language_info": {
   "codemirror_mode": {
    "name": "ipython",
    "version": 3
   },
   "file_extension": ".py",
   "mimetype": "text/x-python",
   "name": "python",
   "nbconvert_exporter": "python",
   "pygments_lexer": "ipython3",
   "version": "3.7.6"
  }
 },
 "nbformat": 4,
 "nbformat_minor": 4
}
