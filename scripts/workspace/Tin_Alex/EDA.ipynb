{
 "cells": [
  {
   "cell_type": "markdown",
   "metadata": {},
   "source": [
    "#  Datasets & libraries"
   ]
  },
  {
   "cell_type": "code",
   "execution_count": 2,
   "metadata": {},
   "outputs": [],
   "source": [
    "import pandas as pd\n",
    "import numpy as np\n",
    "\n",
    "from read_path_module import read_data_relative_path"
   ]
  },
  {
   "cell_type": "markdown",
   "metadata": {},
   "source": [
    "Monthly trip csv data <br>\n",
    "https://s3.amazonaws.com/tripdata/index.html\n",
    "\n",
    "\n",
    "<br>\n",
    "Operating Reports: <br>\n",
    "https://www.citibikenyc.com/system-data/operating-reports\n"
   ]
  },
  {
   "cell_type": "markdown",
   "metadata": {},
   "source": [
    "## Trip Data"
   ]
  },
  {
   "cell_type": "code",
   "execution_count": 56,
   "metadata": {},
   "outputs": [],
   "source": [
    "df_names = [\"df_201901\", \"df_201902\", \"df_201903\", \"df_201904\", \"df_201905\", \"df_201906\", \n",
    "              \"df_201907\", \"df_201908\", \"df_201909\", \"df_201910\", \"df_201911\", \"df_201912\", \n",
    "              \"df_202001\", \"df_202002\", \"df_202003\", \"df_202004\", \"df_202005\"]\n"
   ]
  },
  {
   "cell_type": "code",
   "execution_count": 2,
   "metadata": {},
   "outputs": [],
   "source": [
    "df_201904 = pd.read_csv('./tripdata/201904-citibike-tripdata.csv.zip')"
   ]
  },
  {
   "cell_type": "markdown",
   "metadata": {},
   "source": [
    "## COVID"
   ]
  },
  {
   "cell_type": "code",
   "execution_count": 7,
   "metadata": {},
   "outputs": [
    {
     "data": {
      "text/html": [
       "<div>\n",
       "<style scoped>\n",
       "    .dataframe tbody tr th:only-of-type {\n",
       "        vertical-align: middle;\n",
       "    }\n",
       "\n",
       "    .dataframe tbody tr th {\n",
       "        vertical-align: top;\n",
       "    }\n",
       "\n",
       "    .dataframe thead th {\n",
       "        text-align: right;\n",
       "    }\n",
       "</style>\n",
       "<table border=\"1\" class=\"dataframe\">\n",
       "  <thead>\n",
       "    <tr style=\"text-align: right;\">\n",
       "      <th></th>\n",
       "      <th>tripduration</th>\n",
       "      <th>starttime</th>\n",
       "      <th>stoptime</th>\n",
       "      <th>start station id</th>\n",
       "      <th>start station name</th>\n",
       "      <th>start station latitude</th>\n",
       "      <th>start station longitude</th>\n",
       "      <th>end station id</th>\n",
       "      <th>end station name</th>\n",
       "      <th>end station latitude</th>\n",
       "      <th>end station longitude</th>\n",
       "      <th>bikeid</th>\n",
       "      <th>usertype</th>\n",
       "      <th>birth year</th>\n",
       "      <th>gender</th>\n",
       "    </tr>\n",
       "  </thead>\n",
       "  <tbody>\n",
       "    <tr>\n",
       "      <th>0</th>\n",
       "      <td>88</td>\n",
       "      <td>2019-04-01 00:00:14.7410</td>\n",
       "      <td>2019-04-01 00:01:42.8900</td>\n",
       "      <td>2006</td>\n",
       "      <td>Central Park S &amp; 6 Ave</td>\n",
       "      <td>40.765909</td>\n",
       "      <td>-73.976342</td>\n",
       "      <td>2006</td>\n",
       "      <td>Central Park S &amp; 6 Ave</td>\n",
       "      <td>40.765909</td>\n",
       "      <td>-73.976342</td>\n",
       "      <td>36515</td>\n",
       "      <td>Subscriber</td>\n",
       "      <td>1982</td>\n",
       "      <td>1</td>\n",
       "    </tr>\n",
       "    <tr>\n",
       "      <th>1</th>\n",
       "      <td>443</td>\n",
       "      <td>2019-04-01 00:00:20.8270</td>\n",
       "      <td>2019-04-01 00:07:44.2920</td>\n",
       "      <td>254</td>\n",
       "      <td>W 11 St &amp; 6 Ave</td>\n",
       "      <td>40.735324</td>\n",
       "      <td>-73.998004</td>\n",
       "      <td>540</td>\n",
       "      <td>Lexington Ave &amp; E 29 St</td>\n",
       "      <td>40.743116</td>\n",
       "      <td>-73.982154</td>\n",
       "      <td>17406</td>\n",
       "      <td>Subscriber</td>\n",
       "      <td>1983</td>\n",
       "      <td>1</td>\n",
       "    </tr>\n",
       "    <tr>\n",
       "      <th>2</th>\n",
       "      <td>662</td>\n",
       "      <td>2019-04-01 00:00:30.9960</td>\n",
       "      <td>2019-04-01 00:11:33.2610</td>\n",
       "      <td>3244</td>\n",
       "      <td>University Pl &amp; E 8 St</td>\n",
       "      <td>40.731437</td>\n",
       "      <td>-73.994903</td>\n",
       "      <td>3244</td>\n",
       "      <td>University Pl &amp; E 8 St</td>\n",
       "      <td>40.731437</td>\n",
       "      <td>-73.994903</td>\n",
       "      <td>20775</td>\n",
       "      <td>Subscriber</td>\n",
       "      <td>1988</td>\n",
       "      <td>1</td>\n",
       "    </tr>\n",
       "    <tr>\n",
       "      <th>3</th>\n",
       "      <td>86</td>\n",
       "      <td>2019-04-01 00:00:30.9110</td>\n",
       "      <td>2019-04-01 00:01:56.9600</td>\n",
       "      <td>526</td>\n",
       "      <td>E 33 St &amp; 5 Ave</td>\n",
       "      <td>40.747659</td>\n",
       "      <td>-73.984907</td>\n",
       "      <td>474</td>\n",
       "      <td>5 Ave &amp; E 29 St</td>\n",
       "      <td>40.745168</td>\n",
       "      <td>-73.986831</td>\n",
       "      <td>36270</td>\n",
       "      <td>Subscriber</td>\n",
       "      <td>1982</td>\n",
       "      <td>1</td>\n",
       "    </tr>\n",
       "    <tr>\n",
       "      <th>4</th>\n",
       "      <td>136</td>\n",
       "      <td>2019-04-01 00:00:32.5930</td>\n",
       "      <td>2019-04-01 00:02:49.3910</td>\n",
       "      <td>461</td>\n",
       "      <td>E 20 St &amp; 2 Ave</td>\n",
       "      <td>40.735877</td>\n",
       "      <td>-73.982050</td>\n",
       "      <td>504</td>\n",
       "      <td>1 Ave &amp; E 16 St</td>\n",
       "      <td>40.732219</td>\n",
       "      <td>-73.981656</td>\n",
       "      <td>36051</td>\n",
       "      <td>Subscriber</td>\n",
       "      <td>1986</td>\n",
       "      <td>1</td>\n",
       "    </tr>\n",
       "    <tr>\n",
       "      <th>...</th>\n",
       "      <td>...</td>\n",
       "      <td>...</td>\n",
       "      <td>...</td>\n",
       "      <td>...</td>\n",
       "      <td>...</td>\n",
       "      <td>...</td>\n",
       "      <td>...</td>\n",
       "      <td>...</td>\n",
       "      <td>...</td>\n",
       "      <td>...</td>\n",
       "      <td>...</td>\n",
       "      <td>...</td>\n",
       "      <td>...</td>\n",
       "      <td>...</td>\n",
       "      <td>...</td>\n",
       "    </tr>\n",
       "    <tr>\n",
       "      <th>1766089</th>\n",
       "      <td>516</td>\n",
       "      <td>2019-04-30 23:59:33.7520</td>\n",
       "      <td>2019-05-01 00:08:10.1700</td>\n",
       "      <td>397</td>\n",
       "      <td>Fulton St &amp; Clermont Ave</td>\n",
       "      <td>40.684157</td>\n",
       "      <td>-73.969223</td>\n",
       "      <td>3232</td>\n",
       "      <td>Bond St &amp; Fulton St</td>\n",
       "      <td>40.689622</td>\n",
       "      <td>-73.983043</td>\n",
       "      <td>15005</td>\n",
       "      <td>Subscriber</td>\n",
       "      <td>1983</td>\n",
       "      <td>1</td>\n",
       "    </tr>\n",
       "    <tr>\n",
       "      <th>1766090</th>\n",
       "      <td>435</td>\n",
       "      <td>2019-04-30 23:59:35.0850</td>\n",
       "      <td>2019-05-01 00:06:50.4610</td>\n",
       "      <td>432</td>\n",
       "      <td>E 7 St &amp; Avenue A</td>\n",
       "      <td>40.726218</td>\n",
       "      <td>-73.983799</td>\n",
       "      <td>349</td>\n",
       "      <td>Rivington St &amp; Ridge St</td>\n",
       "      <td>40.718502</td>\n",
       "      <td>-73.983299</td>\n",
       "      <td>27227</td>\n",
       "      <td>Subscriber</td>\n",
       "      <td>1992</td>\n",
       "      <td>1</td>\n",
       "    </tr>\n",
       "    <tr>\n",
       "      <th>1766091</th>\n",
       "      <td>564</td>\n",
       "      <td>2019-04-30 23:59:40.1050</td>\n",
       "      <td>2019-05-01 00:09:04.3660</td>\n",
       "      <td>3709</td>\n",
       "      <td>W 15 St &amp; 6 Ave</td>\n",
       "      <td>40.738046</td>\n",
       "      <td>-73.996430</td>\n",
       "      <td>432</td>\n",
       "      <td>E 7 St &amp; Avenue A</td>\n",
       "      <td>40.726218</td>\n",
       "      <td>-73.983799</td>\n",
       "      <td>16766</td>\n",
       "      <td>Subscriber</td>\n",
       "      <td>1985</td>\n",
       "      <td>1</td>\n",
       "    </tr>\n",
       "    <tr>\n",
       "      <th>1766092</th>\n",
       "      <td>675</td>\n",
       "      <td>2019-04-30 23:59:43.2650</td>\n",
       "      <td>2019-05-01 00:10:58.6670</td>\n",
       "      <td>353</td>\n",
       "      <td>S Portland Ave &amp; Hanson Pl</td>\n",
       "      <td>40.685396</td>\n",
       "      <td>-73.974315</td>\n",
       "      <td>3549</td>\n",
       "      <td>Grand Ave &amp; Bergen St</td>\n",
       "      <td>40.678045</td>\n",
       "      <td>-73.962408</td>\n",
       "      <td>17787</td>\n",
       "      <td>Subscriber</td>\n",
       "      <td>1976</td>\n",
       "      <td>1</td>\n",
       "    </tr>\n",
       "    <tr>\n",
       "      <th>1766093</th>\n",
       "      <td>1764</td>\n",
       "      <td>2019-04-30 23:59:50.8000</td>\n",
       "      <td>2019-05-01 00:29:15.0230</td>\n",
       "      <td>368</td>\n",
       "      <td>Carmine St &amp; 6 Ave</td>\n",
       "      <td>40.730386</td>\n",
       "      <td>-74.002150</td>\n",
       "      <td>369</td>\n",
       "      <td>Washington Pl &amp; 6 Ave</td>\n",
       "      <td>40.732241</td>\n",
       "      <td>-74.000264</td>\n",
       "      <td>33169</td>\n",
       "      <td>Subscriber</td>\n",
       "      <td>1991</td>\n",
       "      <td>1</td>\n",
       "    </tr>\n",
       "  </tbody>\n",
       "</table>\n",
       "<p>1766094 rows × 15 columns</p>\n",
       "</div>"
      ],
      "text/plain": [
       "         tripduration                 starttime                  stoptime  \\\n",
       "0                  88  2019-04-01 00:00:14.7410  2019-04-01 00:01:42.8900   \n",
       "1                 443  2019-04-01 00:00:20.8270  2019-04-01 00:07:44.2920   \n",
       "2                 662  2019-04-01 00:00:30.9960  2019-04-01 00:11:33.2610   \n",
       "3                  86  2019-04-01 00:00:30.9110  2019-04-01 00:01:56.9600   \n",
       "4                 136  2019-04-01 00:00:32.5930  2019-04-01 00:02:49.3910   \n",
       "...               ...                       ...                       ...   \n",
       "1766089           516  2019-04-30 23:59:33.7520  2019-05-01 00:08:10.1700   \n",
       "1766090           435  2019-04-30 23:59:35.0850  2019-05-01 00:06:50.4610   \n",
       "1766091           564  2019-04-30 23:59:40.1050  2019-05-01 00:09:04.3660   \n",
       "1766092           675  2019-04-30 23:59:43.2650  2019-05-01 00:10:58.6670   \n",
       "1766093          1764  2019-04-30 23:59:50.8000  2019-05-01 00:29:15.0230   \n",
       "\n",
       "         start station id          start station name  start station latitude  \\\n",
       "0                    2006      Central Park S & 6 Ave               40.765909   \n",
       "1                     254             W 11 St & 6 Ave               40.735324   \n",
       "2                    3244      University Pl & E 8 St               40.731437   \n",
       "3                     526             E 33 St & 5 Ave               40.747659   \n",
       "4                     461             E 20 St & 2 Ave               40.735877   \n",
       "...                   ...                         ...                     ...   \n",
       "1766089               397    Fulton St & Clermont Ave               40.684157   \n",
       "1766090               432           E 7 St & Avenue A               40.726218   \n",
       "1766091              3709             W 15 St & 6 Ave               40.738046   \n",
       "1766092               353  S Portland Ave & Hanson Pl               40.685396   \n",
       "1766093               368          Carmine St & 6 Ave               40.730386   \n",
       "\n",
       "         start station longitude  end station id         end station name  \\\n",
       "0                     -73.976342            2006   Central Park S & 6 Ave   \n",
       "1                     -73.998004             540  Lexington Ave & E 29 St   \n",
       "2                     -73.994903            3244   University Pl & E 8 St   \n",
       "3                     -73.984907             474          5 Ave & E 29 St   \n",
       "4                     -73.982050             504          1 Ave & E 16 St   \n",
       "...                          ...             ...                      ...   \n",
       "1766089               -73.969223            3232      Bond St & Fulton St   \n",
       "1766090               -73.983799             349  Rivington St & Ridge St   \n",
       "1766091               -73.996430             432        E 7 St & Avenue A   \n",
       "1766092               -73.974315            3549    Grand Ave & Bergen St   \n",
       "1766093               -74.002150             369    Washington Pl & 6 Ave   \n",
       "\n",
       "         end station latitude  end station longitude  bikeid    usertype  \\\n",
       "0                   40.765909             -73.976342   36515  Subscriber   \n",
       "1                   40.743116             -73.982154   17406  Subscriber   \n",
       "2                   40.731437             -73.994903   20775  Subscriber   \n",
       "3                   40.745168             -73.986831   36270  Subscriber   \n",
       "4                   40.732219             -73.981656   36051  Subscriber   \n",
       "...                       ...                    ...     ...         ...   \n",
       "1766089             40.689622             -73.983043   15005  Subscriber   \n",
       "1766090             40.718502             -73.983299   27227  Subscriber   \n",
       "1766091             40.726218             -73.983799   16766  Subscriber   \n",
       "1766092             40.678045             -73.962408   17787  Subscriber   \n",
       "1766093             40.732241             -74.000264   33169  Subscriber   \n",
       "\n",
       "         birth year  gender  \n",
       "0              1982       1  \n",
       "1              1983       1  \n",
       "2              1988       1  \n",
       "3              1982       1  \n",
       "4              1986       1  \n",
       "...             ...     ...  \n",
       "1766089        1983       1  \n",
       "1766090        1992       1  \n",
       "1766091        1985       1  \n",
       "1766092        1976       1  \n",
       "1766093        1991       1  \n",
       "\n",
       "[1766094 rows x 15 columns]"
      ]
     },
     "execution_count": 7,
     "metadata": {},
     "output_type": "execute_result"
    }
   ],
   "source": [
    "df_201904"
   ]
  },
  {
   "cell_type": "code",
   "execution_count": 24,
   "metadata": {},
   "outputs": [
    {
     "name": "stdout",
     "output_type": "stream",
     "text": [
      "Subscriber    22529\n",
      "Customer       1077\n",
      "Name: usertype, dtype: int64\n"
     ]
    }
   ],
   "source": [
    "print(df_201903.usertype.value_counts())\n",
    "print(df_202003.usertype.value_counts())"
   ]
  },
  {
   "cell_type": "code",
   "execution_count": 26,
   "metadata": {
    "scrolled": true
   },
   "outputs": [
    {
     "name": "stdout",
     "output_type": "stream",
     "text": [
      "Subscriber    32364\n",
      "Customer       3771\n",
      "Name: usertype, dtype: int64\n",
      "Subscriber    12952\n",
      "Customer      12125\n",
      "Name: usertype, dtype: int64\n"
     ]
    }
   ],
   "source": [
    "print(df_201905.usertype.value_counts())\n",
    "print(df_202005.usertype.value_counts())"
   ]
  },
  {
   "cell_type": "code",
   "execution_count": 55,
   "metadata": {
    "scrolled": true
   },
   "outputs": [
    {
     "data": {
      "text/plain": [
       "32     1283\n",
       "33     1157\n",
       "31     1053\n",
       "30      958\n",
       "34      956\n",
       "40      896\n",
       "35      854\n",
       "29      844\n",
       "39      774\n",
       "36      755\n",
       "37      753\n",
       "28      632\n",
       "51      625\n",
       "38      618\n",
       "42      585\n",
       "43      550\n",
       "27      527\n",
       "26      512\n",
       "41      462\n",
       "44      373\n",
       "47      361\n",
       "45      345\n",
       "58      344\n",
       "50      317\n",
       "49      264\n",
       "62      256\n",
       "48      240\n",
       "25      239\n",
       "46      208\n",
       "57      203\n",
       "52      179\n",
       "60      176\n",
       "64      167\n",
       "54      135\n",
       "53      127\n",
       "24      120\n",
       "56      118\n",
       "55       95\n",
       "61       85\n",
       "63       76\n",
       "66       71\n",
       "67       68\n",
       "68       55\n",
       "59       51\n",
       "69       49\n",
       "71       43\n",
       "22       39\n",
       "65       37\n",
       "23       13\n",
       "70        8\n",
       "21        6\n",
       "20        5\n",
       "79        4\n",
       "76        3\n",
       "132       1\n",
       "19        1\n",
       "Name: age, dtype: int64"
      ]
     },
     "execution_count": 55,
     "metadata": {},
     "output_type": "execute_result"
    }
   ],
   "source": [
    "df_201901.age.value_counts(sort=True)"
   ]
  },
  {
   "cell_type": "code",
   "execution_count": null,
   "metadata": {},
   "outputs": [],
   "source": []
  },
  {
   "cell_type": "code",
   "execution_count": null,
   "metadata": {},
   "outputs": [],
   "source": []
  },
  {
   "cell_type": "code",
   "execution_count": null,
   "metadata": {},
   "outputs": [],
   "source": []
  },
  {
   "cell_type": "markdown",
   "metadata": {},
   "source": [
    "## DA Question 1"
   ]
  },
  {
   "cell_type": "markdown",
   "metadata": {},
   "source": [
    "#### What are the purposes of the rides? Hypothesize based on common sense. Estimate the proportions of rides which are riders commuting for works."
   ]
  },
  {
   "cell_type": "code",
   "execution_count": 89,
   "metadata": {},
   "outputs": [],
   "source": [
    "# Convert to date-time format\n",
    "df_201901.starttime = pd.to_datetime(df_201901.starttime, format= \"%Y-%m-%d %H:%M:%S\")\n",
    "df_201901.stoptime = pd.to_datetime(df_201901.stoptime, format= \"%Y-%m-%d %H:%M:%S\")"
   ]
  },
  {
   "cell_type": "code",
   "execution_count": 94,
   "metadata": {},
   "outputs": [
    {
     "data": {
      "text/plain": [
       "0         1\n",
       "1         1\n",
       "2         1\n",
       "3         1\n",
       "4         1\n",
       "         ..\n",
       "19671    26\n",
       "19672    27\n",
       "19673    27\n",
       "19674    29\n",
       "19675    30\n",
       "Name: starttime, Length: 19676, dtype: int64"
      ]
     },
     "execution_count": 94,
     "metadata": {},
     "output_type": "execute_result"
    }
   ],
   "source": [
    "df_201901.starttime.dt.day"
   ]
  },
  {
   "cell_type": "code",
   "execution_count": 107,
   "metadata": {},
   "outputs": [
    {
     "data": {
      "text/plain": [
       "<matplotlib.axes._subplots.AxesSubplot at 0x7ff41403ea10>"
      ]
     },
     "execution_count": 107,
     "metadata": {},
     "output_type": "execute_result"
    },
    {
     "data": {
      "image/png": "[encoded data removed]",
      "text/plain": [
       "<Figure size 432x288 with 1 Axes>"
      ]
     },
     "metadata": {
      "needs_background": "light"
     },
     "output_type": "display_data"
    }
   ],
   "source": [
    "\n",
    "df_201901.groupby(by=[df_201901.starttime.dt.hour]).count()['bikeid'].plot()"
   ]
  },
  {
   "cell_type": "code",
   "execution_count": 8,
   "metadata": {},
   "outputs": [
    {
     "data": {
      "text/plain": [
       "<matplotlib.axes._subplots.AxesSubplot at 0x7fdaa22c7dd0>"
      ]
     },
     "execution_count": 8,
     "metadata": {},
     "output_type": "execute_result"
    },
    {
     "data": {
      "image/png": "[encoded data removed]",
      "text/plain": [
       "<Figure size 432x288 with 1 Axes>"
      ]
     },
     "metadata": {
      "needs_background": "light"
     },
     "output_type": "display_data"
    }
   ],
   "source": [
    "import matplotlib.pyplot as plt\n",
    "\n",
    "df_201904.starttime = pd.to_datetime(df_201904.starttime, format= \"%Y-%m-%d %H:%M:%S\")\n",
    "df_201904.stoptime = pd.to_datetime(df_201904.stoptime, format= \"%Y-%m-%d %H:%M:%S\")\n",
    "\n",
    "df_201904.groupby(by=[df_201904.starttime.dt.hour]).count()['bikeid'].plot()"
   ]
  },
  {
   "cell_type": "code",
   "execution_count": 115,
   "metadata": {},
   "outputs": [],
   "source": [
    "df_202003.starttime = pd.to_datetime(df_202003.starttime, format= \"%Y-%m-%d %H:%M:%S\")\n",
    "df_202003.stoptime = pd.to_datetime(df_202003.stoptime, format= \"%Y-%m-%d %H:%M:%S\")"
   ]
  },
  {
   "cell_type": "code",
   "execution_count": 117,
   "metadata": {},
   "outputs": [
    {
     "data": {
      "text/plain": [
       "<matplotlib.axes._subplots.AxesSubplot at 0x7ff40677ab90>"
      ]
     },
     "execution_count": 117,
     "metadata": {},
     "output_type": "execute_result"
    },
    {
     "data": {
      "image/png": "[encoded data removed]",
      "text/plain": [
       "<Figure size 432x288 with 1 Axes>"
      ]
     },
     "metadata": {
      "needs_background": "light"
     },
     "output_type": "display_data"
    }
   ],
   "source": [
    "df_202003.groupby(by=[df_202003.starttime.dt.hour]).count()['bikeid'].plot()"
   ]
  },
  {
   "cell_type": "code",
   "execution_count": 108,
   "metadata": {},
   "outputs": [],
   "source": [
    "df_202004.starttime = pd.to_datetime(df_202004.starttime, format= \"%Y-%m-%d %H:%M:%S\")\n",
    "df_202004.stoptime = pd.to_datetime(df_202004.stoptime, format= \"%Y-%m-%d %H:%M:%S\")"
   ]
  },
  {
   "cell_type": "code",
   "execution_count": 114,
   "metadata": {},
   "outputs": [
    {
     "data": {
      "text/plain": [
       "<matplotlib.axes._subplots.AxesSubplot at 0x7ff40738d2d0>"
      ]
     },
     "execution_count": 114,
     "metadata": {},
     "output_type": "execute_result"
    },
    {
     "data": {
      "image/png": "[encoded data removed]",
      "text/plain": [
       "<Figure size 432x288 with 1 Axes>"
      ]
     },
     "metadata": {
      "needs_background": "light"
     },
     "output_type": "display_data"
    }
   ],
   "source": [
    "df_202004.groupby(by=[df_202004.starttime.dt.hour]).count()['bikeid'].plot()"
   ]
  },
  {
   "cell_type": "markdown",
   "metadata": {},
   "source": [
    "#### What are the characteristics of the riders in terms of age/gender?"
   ]
  },
  {
   "cell_type": "code",
   "execution_count": 118,
   "metadata": {},
   "outputs": [],
   "source": [
    "#create column 'age'\n",
    "df_201901['age'] = 2020 - df_201901['birth_year']"
   ]
  },
  {
   "cell_type": "code",
   "execution_count": 121,
   "metadata": {},
   "outputs": [
    {
     "data": {
      "text/plain": [
       "0        1\n",
       "1        2\n",
       "2        1\n",
       "3        0\n",
       "4        0\n",
       "        ..\n",
       "19671    1\n",
       "19672    1\n",
       "19673    2\n",
       "19674    1\n",
       "19675    1\n",
       "Name: gender, Length: 19676, dtype: category\n",
       "Categories (3, int64): [0, 1, 2]"
      ]
     },
     "execution_count": 121,
     "metadata": {},
     "output_type": "execute_result"
    }
   ],
   "source": [
    "df_201901.gender.astype('category')"
   ]
  },
  {
   "cell_type": "code",
   "execution_count": null,
   "metadata": {},
   "outputs": [],
   "source": []
  },
  {
   "cell_type": "code",
   "execution_count": null,
   "metadata": {},
   "outputs": [],
   "source": []
  },
  {
   "cell_type": "code",
   "execution_count": null,
   "metadata": {},
   "outputs": [],
   "source": []
  },
  {
   "cell_type": "code",
   "execution_count": 3,
   "metadata": {},
   "outputs": [],
   "source": [
    "rebalance = pd.read_csv('./Capstone Project Timeline - Sheet4.csv')\n",
    "total = pd.read_csv('./Total_rides_per_month.csv')"
   ]
  },
  {
   "cell_type": "code",
   "execution_count": 4,
   "metadata": {},
   "outputs": [],
   "source": [
    "total = total.drop('Unnamed: 0', axis=1)"
   ]
  },
  {
   "cell_type": "code",
   "execution_count": 31,
   "metadata": {},
   "outputs": [
    {
     "data": {
      "text/plain": [
       "year      int64\n",
       "month    object\n",
       "rides     int64\n",
       "dtype: object"
      ]
     },
     "execution_count": 31,
     "metadata": {},
     "output_type": "execute_result"
    }
   ],
   "source": [
    "total.dtypes"
   ]
  },
  {
   "cell_type": "code",
   "execution_count": 5,
   "metadata": {},
   "outputs": [],
   "source": [
    "total['year'] = total['year'].astype(str)\n",
    "total['year_month'] = total['year']+'-'+total['month']"
   ]
  },
  {
   "cell_type": "code",
   "execution_count": 6,
   "metadata": {},
   "outputs": [],
   "source": [
    "rebalance['Year'] = rebalance['Year'].astype(str)\n",
    "rebalance['year_month'] = rebalance['Year']+'-'+rebalance['Month']"
   ]
  },
  {
   "cell_type": "code",
   "execution_count": 7,
   "metadata": {},
   "outputs": [],
   "source": [
    "full = pd.merge(total, rebalance, how='right',on='year_month')\n",
    "\n",
    "full = full.drop(['year','month'], axis=1)"
   ]
  },
  {
   "cell_type": "code",
   "execution_count": 8,
   "metadata": {},
   "outputs": [],
   "source": [
    "full.year_month = pd.to_datetime(full.year_month, format='%Y-%B')"
   ]
  },
  {
   "cell_type": "code",
   "execution_count": 9,
   "metadata": {},
   "outputs": [],
   "source": [
    "full = full.drop(['Year','Month'],axis=1)"
   ]
  },
  {
   "cell_type": "code",
   "execution_count": 11,
   "metadata": {},
   "outputs": [],
   "source": [
    "full = full.sort_values('year_month')"
   ]
  },
  {
   "cell_type": "code",
   "execution_count": 17,
   "metadata": {},
   "outputs": [],
   "source": [
    "full['percent'] = full['Rebalance']/full['rides']*100"
   ]
  },
  {
   "cell_type": "code",
   "execution_count": 122,
   "metadata": {},
   "outputs": [
    {
     "name": "stderr",
     "output_type": "stream",
     "text": [
      "No handles with labels found to put in legend.\n"
     ]
    },
    {
     "data": {
      "image/png": "[encoded data removed]",
      "text/plain": [
       "<Figure size 432x288 with 2 Axes>"
      ]
     },
     "metadata": {
      "needs_background": "light"
     },
     "output_type": "display_data"
    }
   ],
   "source": [
    "import matplotlib.pyplot as plt\n",
    "\n",
    "fig, ax = plt.subplots(2,1)\n",
    "# dates = matplotlib.dates.date2num(full.year_month)\n",
    "ax[0].plot_date(full.year_month,full.rides, label='Rides')\n",
    "plt.legend()\n",
    "ax[1].plot_date(full.year_month, full.Rebalance, label='Rebalance')\n",
    "plt.legend()\n",
    "plt.show()"
   ]
  },
  {
   "cell_type": "code",
   "execution_count": 127,
   "metadata": {},
   "outputs": [
    {
     "data": {
      "image/png": "[encoded data removed]",
      "text/plain": [
       "<Figure size 1080x576 with 1 Axes>"
      ]
     },
     "metadata": {
      "needs_background": "light"
     },
     "output_type": "display_data"
    }
   ],
   "source": [
    "\n",
    "plt.figure(figsize=(15,8))\n",
    "plt.plot_date(full.year_month,full.rides, label='Rides', ls='solid')\n",
    "plt.plot_date(full.year_month, full.Rebalance, label='Rebalance', ls='solid')\n",
    "plt.ylabel('Bike Count')\n",
    "plt.legend()\n",
    "plt.show()\n",
    "# plt.savefig('totbal.png')"
   ]
  },
  {
   "cell_type": "code",
   "execution_count": 24,
   "metadata": {},
   "outputs": [
    {
     "data": {
      "image/png": "[encoded data removed]",
      "text/plain": [
       "<Figure size 1080x576 with 1 Axes>"
      ]
     },
     "metadata": {
      "needs_background": "light"
     },
     "output_type": "display_data"
    }
   ],
   "source": [
    "import matplotlib.pyplot as plt\n",
    "\n",
    "plt.figure(figsize=(15,8))\n",
    "plt.plot_date(full.year_month,full.percent, label='Rebalancing', ls='solid')\n",
    "plt.ylabel('Rebalancing %')\n",
    "plt.legend()\n",
    "plt.show()\n",
    "# plt.savefig('rebalance.png')"
   ]
  },
  {
   "cell_type": "code",
   "execution_count": 25,
   "metadata": {},
   "outputs": [
    {
     "data": {
      "text/html": [
       "<div>\n",
       "<style scoped>\n",
       "    .dataframe tbody tr th:only-of-type {\n",
       "        vertical-align: middle;\n",
       "    }\n",
       "\n",
       "    .dataframe tbody tr th {\n",
       "        vertical-align: top;\n",
       "    }\n",
       "\n",
       "    .dataframe thead th {\n",
       "        text-align: right;\n",
       "    }\n",
       "</style>\n",
       "<table border=\"1\" class=\"dataframe\">\n",
       "  <thead>\n",
       "    <tr style=\"text-align: right;\">\n",
       "      <th></th>\n",
       "      <th>rides</th>\n",
       "      <th>Rebalance</th>\n",
       "      <th>percent</th>\n",
       "    </tr>\n",
       "    <tr>\n",
       "      <th>year_month</th>\n",
       "      <th></th>\n",
       "      <th></th>\n",
       "      <th></th>\n",
       "    </tr>\n",
       "  </thead>\n",
       "  <tbody>\n",
       "    <tr>\n",
       "      <th>2018-12-01</th>\n",
       "      <td>1036710</td>\n",
       "      <td>209396</td>\n",
       "      <td>20.198127</td>\n",
       "    </tr>\n",
       "    <tr>\n",
       "      <th>2015-02-01</th>\n",
       "      <td>196930</td>\n",
       "      <td>24938</td>\n",
       "      <td>12.663383</td>\n",
       "    </tr>\n",
       "    <tr>\n",
       "      <th>2019-11-01</th>\n",
       "      <td>1509505</td>\n",
       "      <td>166363</td>\n",
       "      <td>11.021030</td>\n",
       "    </tr>\n",
       "    <tr>\n",
       "      <th>2019-10-01</th>\n",
       "      <td>2134826</td>\n",
       "      <td>225330</td>\n",
       "      <td>10.554959</td>\n",
       "    </tr>\n",
       "    <tr>\n",
       "      <th>2015-01-01</th>\n",
       "      <td>285552</td>\n",
       "      <td>29807</td>\n",
       "      <td>10.438379</td>\n",
       "    </tr>\n",
       "    <tr>\n",
       "      <th>...</th>\n",
       "      <td>...</td>\n",
       "      <td>...</td>\n",
       "      <td>...</td>\n",
       "    </tr>\n",
       "    <tr>\n",
       "      <th>2016-03-01</th>\n",
       "      <td>933432</td>\n",
       "      <td>38006</td>\n",
       "      <td>4.071641</td>\n",
       "    </tr>\n",
       "    <tr>\n",
       "      <th>2018-04-01</th>\n",
       "      <td>1331177</td>\n",
       "      <td>48307</td>\n",
       "      <td>3.628894</td>\n",
       "    </tr>\n",
       "    <tr>\n",
       "      <th>2020-04-01</th>\n",
       "      <td>692030</td>\n",
       "      <td>24172</td>\n",
       "      <td>3.492912</td>\n",
       "    </tr>\n",
       "    <tr>\n",
       "      <th>2019-03-01</th>\n",
       "      <td>1351566</td>\n",
       "      <td>22280</td>\n",
       "      <td>1.648458</td>\n",
       "    </tr>\n",
       "    <tr>\n",
       "      <th>2019-04-01</th>\n",
       "      <td>1799150</td>\n",
       "      <td>27400</td>\n",
       "      <td>1.522941</td>\n",
       "    </tr>\n",
       "  </tbody>\n",
       "</table>\n",
       "<p>83 rows × 3 columns</p>\n",
       "</div>"
      ],
      "text/plain": [
       "              rides  Rebalance    percent\n",
       "year_month                               \n",
       "2018-12-01  1036710     209396  20.198127\n",
       "2015-02-01   196930      24938  12.663383\n",
       "2019-11-01  1509505     166363  11.021030\n",
       "2019-10-01  2134826     225330  10.554959\n",
       "2015-01-01   285552      29807  10.438379\n",
       "...             ...        ...        ...\n",
       "2016-03-01   933432      38006   4.071641\n",
       "2018-04-01  1331177      48307   3.628894\n",
       "2020-04-01   692030      24172   3.492912\n",
       "2019-03-01  1351566      22280   1.648458\n",
       "2019-04-01  1799150      27400   1.522941\n",
       "\n",
       "[83 rows x 3 columns]"
      ]
     },
     "execution_count": 25,
     "metadata": {},
     "output_type": "execute_result"
    }
   ],
   "source": [
    "full.set_index('year_month').sort_values(by='percent',ascending=False)"
   ]
  },
  {
   "cell_type": "code",
   "execution_count": null,
   "metadata": {},
   "outputs": [],
   "source": []
  },
  {
   "cell_type": "markdown",
   "metadata": {
    "heading_collapsed": true
   },
   "source": [
    "## Resource"
   ]
  },
  {
   "cell_type": "markdown",
   "metadata": {
    "hidden": true
   },
   "source": [
    "Cycling Trends in NYC (May 2019) <br>\n",
    "https://www1.nyc.gov/html/dot/downloads/pdf/cycling-in-the-city.pdf\n",
    "<br>\n",
    "Main: https://www1.nyc.gov/html/dot/html/bicyclists/cyclinginthecity.shtml\n",
    "<br>\n",
    "<br>\n",
    "\n",
    "\n"
   ]
  },
  {
   "cell_type": "markdown",
   "metadata": {
    "heading_collapsed": true,
    "hidden": true
   },
   "source": [
    "##### The History of Citi Bike <br>\n",
    "September 2011\n",
    "NYC DOT announces the selection of a bike share operator for New York City, kicking off an unprecedented public input process.\n",
    "\n",
    "May 2012\n",
    "The system name, Citi Bike and sponsors are announced with Citibank as the title sponsor and MasterCard as the Preferred Payment Partner.\n",
    "\n",
    "April 2013\n",
    "5,000 Citi Bike founding memberships sell out in 30 hours, weeks before the program is scheduled to launch.\n",
    "\n",
    "May 2013\n",
    "Citi Bike launches with 6000 bikes at hundreds of stations throughout Manhattan and Brooklyn.\n",
    "\n",
    "June 2013\n",
    "Citi Bike graces the cover of The New Yorker magazine.\n",
    "\n",
    "December 2013\n",
    "Citi Bike helps power the New Year’s Eve ball drop in Times Square\n",
    "\n",
    "August 2014\n",
    "Total distance travelled on the system passes 20 million miles.\n",
    "\n",
    "October 2014\n",
    "New York City Bike Share, the operator of Citi Bike comes under new ownership, who pledge to provide increased private capital to improve the program. The program is boosted by an increased sponsorship commitment from Citi and an increase in the credit facility from the Goldman Sachs Urban Investment Group to allow for the expansion of the program. A 6,000 bike expansion is announced, that will double the size of network from 6,000 to 12,000 bikes.\n",
    "\n",
    "December 2014\n",
    "Citi Bike hits the big screen, with bike share being used by Quvenzhané Wallis, who plays Annie in the opening scenes of the 2014 Sony Picture update of the classic musical.\n",
    "\n",
    "August 2015\n",
    "Citi Bike expansion begins, bringing 140 new stations to Bed-Stuy, Greenpoint, Long Island City, Williamsburg, and Upper East Side and Upper West Side.\n",
    "\n",
    "December 2015\n",
    "Citi Bike riders hit a new milestone, 10 million trips in one year. This breaks the one-year record for bike share ridership in all bike share programs in the Western Hemisphere, aside from Velib in Paris.\n",
    "\n",
    "May 2016\n",
    "Citi Bike gains its 100,000th Annual Member.\n",
    "\n",
    "August 2016\n",
    "Citi Bike expansion continues bringing another 140 stations in the Upper East Side & Upper West Side in Manhattan and Jersey City, and moving into new Brooklyn neighborhoods. We also grew from 8,000 to 10,000 bikes.\n",
    "\n",
    "September 2017\n",
    "Citi Bike adds another 142 stations in Harlem, East Harlem, Astoria, Crown Heights, and Prospect Heights. We also grew from 10,000 to 12,000 bikes.\n",
    "\n",
    "October 2017\n",
    "Citi Bike riders take their 50 Millionth trip all time.\n",
    "\n",
    "May 2018\n",
    "Citi Bike celebrates 5 years of bike share in NYC with over 143,000 members.\n",
    "\n",
    "May 2019\n",
    "Citi Bike becomes available to rent in the Lyft app."
   ]
  }
 ],
 "metadata": {
  "kernelspec": {
   "display_name": "Python 3",
   "language": "python",
   "name": "python3"
  },
  "language_info": {
   "codemirror_mode": {
    "name": "ipython",
    "version": 3
   },
   "file_extension": ".py",
   "mimetype": "text/x-python",
   "name": "python",
   "nbconvert_exporter": "python",
   "pygments_lexer": "ipython3",
   "version": "3.7.6"
  }
 },
 "nbformat": 4,
 "nbformat_minor": 4
}
