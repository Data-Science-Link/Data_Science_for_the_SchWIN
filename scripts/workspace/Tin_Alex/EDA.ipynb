{
 "cells": [
  {
   "cell_type": "markdown",
   "metadata": {},
   "source": [
    "#  Datasets & libraries"
   ]
  },
  {
   "cell_type": "code",
   "execution_count": 2,
   "metadata": {},
   "outputs": [],
   "source": [
    "import pandas as pd\n",
    "import numpy as np\n",
    "\n",
    "from read_path_module import read_data_relative_path"
   ]
  },
  {
   "cell_type": "markdown",
   "metadata": {},
   "source": [
    "Monthly trip csv data <br>\n",
    "https://s3.amazonaws.com/tripdata/index.html\n",
    "\n",
    "\n",
    "<br>\n",
    "Operating Reports: <br>\n",
    "https://www.citibikenyc.com/system-data/operating-reports\n"
   ]
  },
  {
   "cell_type": "markdown",
   "metadata": {
    "heading_collapsed": true
   },
   "source": [
    "## Trip Data"
   ]
  },
  {
   "cell_type": "code",
   "execution_count": 56,
   "metadata": {
    "hidden": true
   },
   "outputs": [],
   "source": [
    "df_names = [\"df_201901\", \"df_201902\", \"df_201903\", \"df_201904\", \"df_201905\", \"df_201906\", \n",
    "              \"df_201907\", \"df_201908\", \"df_201909\", \"df_201910\", \"df_201911\", \"df_201912\", \n",
    "              \"df_202001\", \"df_202002\", \"df_202003\", \"df_202004\", \"df_202005\"]\n"
   ]
  },
  {
   "cell_type": "code",
   "execution_count": null,
   "metadata": {
    "hidden": true
   },
   "outputs": [],
   "source": []
  },
  {
   "cell_type": "code",
   "execution_count": null,
   "metadata": {
    "hidden": true
   },
   "outputs": [],
   "source": []
  },
  {
   "cell_type": "code",
   "execution_count": null,
   "metadata": {
    "hidden": true
   },
   "outputs": [],
   "source": []
  },
  {
   "cell_type": "markdown",
   "metadata": {
    "heading_collapsed": true
   },
   "source": [
    "## COVID"
   ]
  },
  {
   "cell_type": "code",
   "execution_count": 5,
   "metadata": {
    "hidden": true,
    "scrolled": true
   },
   "outputs": [
    {
     "data": {
      "text/html": [
       "<div>\n",
       "<style scoped>\n",
       "    .dataframe tbody tr th:only-of-type {\n",
       "        vertical-align: middle;\n",
       "    }\n",
       "\n",
       "    .dataframe tbody tr th {\n",
       "        vertical-align: top;\n",
       "    }\n",
       "\n",
       "    .dataframe thead th {\n",
       "        text-align: right;\n",
       "    }\n",
       "</style>\n",
       "<table border=\"1\" class=\"dataframe\">\n",
       "  <thead>\n",
       "    <tr style=\"text-align: right;\">\n",
       "      <th></th>\n",
       "      <th>tripduration</th>\n",
       "      <th>starttime</th>\n",
       "      <th>stoptime</th>\n",
       "      <th>start station id</th>\n",
       "      <th>start station name</th>\n",
       "      <th>start station latitude</th>\n",
       "      <th>start station longitude</th>\n",
       "      <th>end station id</th>\n",
       "      <th>end station name</th>\n",
       "      <th>end station latitude</th>\n",
       "      <th>end station longitude</th>\n",
       "      <th>bikeid</th>\n",
       "      <th>usertype</th>\n",
       "      <th>birth year</th>\n",
       "      <th>gender</th>\n",
       "    </tr>\n",
       "  </thead>\n",
       "  <tbody>\n",
       "    <tr>\n",
       "      <th>0</th>\n",
       "      <td>201</td>\n",
       "      <td>2019-01-01 03:09:09.711</td>\n",
       "      <td>2019-01-01 03:12:30.879</td>\n",
       "      <td>3183</td>\n",
       "      <td>Exchange Place</td>\n",
       "      <td>40.716247</td>\n",
       "      <td>-74.033459</td>\n",
       "      <td>3214</td>\n",
       "      <td>Essex Light Rail</td>\n",
       "      <td>40.712774</td>\n",
       "      <td>-74.036486</td>\n",
       "      <td>29612</td>\n",
       "      <td>Subscriber</td>\n",
       "      <td>1993</td>\n",
       "      <td>1</td>\n",
       "    </tr>\n",
       "    <tr>\n",
       "      <th>1</th>\n",
       "      <td>505</td>\n",
       "      <td>2019-01-01 05:18:00.106</td>\n",
       "      <td>2019-01-01 05:26:25.905</td>\n",
       "      <td>3183</td>\n",
       "      <td>Exchange Place</td>\n",
       "      <td>40.716247</td>\n",
       "      <td>-74.033459</td>\n",
       "      <td>3638</td>\n",
       "      <td>Washington St</td>\n",
       "      <td>40.724294</td>\n",
       "      <td>-74.035483</td>\n",
       "      <td>29213</td>\n",
       "      <td>Subscriber</td>\n",
       "      <td>1972</td>\n",
       "      <td>2</td>\n",
       "    </tr>\n",
       "    <tr>\n",
       "      <th>2</th>\n",
       "      <td>756</td>\n",
       "      <td>2019-01-01 10:36:33.340</td>\n",
       "      <td>2019-01-01 10:49:10.260</td>\n",
       "      <td>3183</td>\n",
       "      <td>Exchange Place</td>\n",
       "      <td>40.716247</td>\n",
       "      <td>-74.033459</td>\n",
       "      <td>3192</td>\n",
       "      <td>Liberty Light Rail</td>\n",
       "      <td>40.711242</td>\n",
       "      <td>-74.055701</td>\n",
       "      <td>26164</td>\n",
       "      <td>Subscriber</td>\n",
       "      <td>1985</td>\n",
       "      <td>1</td>\n",
       "    </tr>\n",
       "    <tr>\n",
       "      <th>3</th>\n",
       "      <td>1575</td>\n",
       "      <td>2019-01-01 12:43:38.643</td>\n",
       "      <td>2019-01-01 13:09:54.528</td>\n",
       "      <td>3183</td>\n",
       "      <td>Exchange Place</td>\n",
       "      <td>40.716247</td>\n",
       "      <td>-74.033459</td>\n",
       "      <td>3638</td>\n",
       "      <td>Washington St</td>\n",
       "      <td>40.724294</td>\n",
       "      <td>-74.035483</td>\n",
       "      <td>29672</td>\n",
       "      <td>Customer</td>\n",
       "      <td>1969</td>\n",
       "      <td>0</td>\n",
       "    </tr>\n",
       "    <tr>\n",
       "      <th>4</th>\n",
       "      <td>1566</td>\n",
       "      <td>2019-01-01 12:43:39.601</td>\n",
       "      <td>2019-01-01 13:09:46.510</td>\n",
       "      <td>3183</td>\n",
       "      <td>Exchange Place</td>\n",
       "      <td>40.716247</td>\n",
       "      <td>-74.033459</td>\n",
       "      <td>3638</td>\n",
       "      <td>Washington St</td>\n",
       "      <td>40.724294</td>\n",
       "      <td>-74.035483</td>\n",
       "      <td>29522</td>\n",
       "      <td>Customer</td>\n",
       "      <td>1969</td>\n",
       "      <td>0</td>\n",
       "    </tr>\n",
       "    <tr>\n",
       "      <th>...</th>\n",
       "      <td>...</td>\n",
       "      <td>...</td>\n",
       "      <td>...</td>\n",
       "      <td>...</td>\n",
       "      <td>...</td>\n",
       "      <td>...</td>\n",
       "      <td>...</td>\n",
       "      <td>...</td>\n",
       "      <td>...</td>\n",
       "      <td>...</td>\n",
       "      <td>...</td>\n",
       "      <td>...</td>\n",
       "      <td>...</td>\n",
       "      <td>...</td>\n",
       "      <td>...</td>\n",
       "    </tr>\n",
       "    <tr>\n",
       "      <th>19671</th>\n",
       "      <td>853</td>\n",
       "      <td>2019-01-26 06:40:17.332</td>\n",
       "      <td>2019-01-26 06:54:30.888</td>\n",
       "      <td>3694</td>\n",
       "      <td>Jackson Square</td>\n",
       "      <td>40.711130</td>\n",
       "      <td>-74.078900</td>\n",
       "      <td>3183</td>\n",
       "      <td>Exchange Place</td>\n",
       "      <td>40.716247</td>\n",
       "      <td>-74.033459</td>\n",
       "      <td>26293</td>\n",
       "      <td>Subscriber</td>\n",
       "      <td>1977</td>\n",
       "      <td>1</td>\n",
       "    </tr>\n",
       "    <tr>\n",
       "      <th>19672</th>\n",
       "      <td>936</td>\n",
       "      <td>2019-01-27 06:36:20.640</td>\n",
       "      <td>2019-01-27 06:51:57.146</td>\n",
       "      <td>3694</td>\n",
       "      <td>Jackson Square</td>\n",
       "      <td>40.711130</td>\n",
       "      <td>-74.078900</td>\n",
       "      <td>3183</td>\n",
       "      <td>Exchange Place</td>\n",
       "      <td>40.716247</td>\n",
       "      <td>-74.033459</td>\n",
       "      <td>26291</td>\n",
       "      <td>Subscriber</td>\n",
       "      <td>1977</td>\n",
       "      <td>1</td>\n",
       "    </tr>\n",
       "    <tr>\n",
       "      <th>19673</th>\n",
       "      <td>653</td>\n",
       "      <td>2019-01-27 21:14:08.546</td>\n",
       "      <td>2019-01-27 21:25:01.617</td>\n",
       "      <td>3694</td>\n",
       "      <td>Jackson Square</td>\n",
       "      <td>40.711130</td>\n",
       "      <td>-74.078900</td>\n",
       "      <td>3677</td>\n",
       "      <td>Glenwood Ave</td>\n",
       "      <td>40.727551</td>\n",
       "      <td>-74.071061</td>\n",
       "      <td>26188</td>\n",
       "      <td>Customer</td>\n",
       "      <td>1998</td>\n",
       "      <td>2</td>\n",
       "    </tr>\n",
       "    <tr>\n",
       "      <th>19674</th>\n",
       "      <td>960</td>\n",
       "      <td>2019-01-29 06:15:26.588</td>\n",
       "      <td>2019-01-29 06:31:26.730</td>\n",
       "      <td>3694</td>\n",
       "      <td>Jackson Square</td>\n",
       "      <td>40.711130</td>\n",
       "      <td>-74.078900</td>\n",
       "      <td>3183</td>\n",
       "      <td>Exchange Place</td>\n",
       "      <td>40.716247</td>\n",
       "      <td>-74.033459</td>\n",
       "      <td>26196</td>\n",
       "      <td>Subscriber</td>\n",
       "      <td>1977</td>\n",
       "      <td>1</td>\n",
       "    </tr>\n",
       "    <tr>\n",
       "      <th>19675</th>\n",
       "      <td>1109</td>\n",
       "      <td>2019-01-30 06:30:03.605</td>\n",
       "      <td>2019-01-30 06:48:33.276</td>\n",
       "      <td>3694</td>\n",
       "      <td>Jackson Square</td>\n",
       "      <td>40.711130</td>\n",
       "      <td>-74.078900</td>\n",
       "      <td>3183</td>\n",
       "      <td>Exchange Place</td>\n",
       "      <td>40.716247</td>\n",
       "      <td>-74.033459</td>\n",
       "      <td>26242</td>\n",
       "      <td>Subscriber</td>\n",
       "      <td>1977</td>\n",
       "      <td>1</td>\n",
       "    </tr>\n",
       "  </tbody>\n",
       "</table>\n",
       "<p>19676 rows × 15 columns</p>\n",
       "</div>"
      ],
      "text/plain": [
       "       tripduration               starttime                stoptime  \\\n",
       "0               201 2019-01-01 03:09:09.711 2019-01-01 03:12:30.879   \n",
       "1               505 2019-01-01 05:18:00.106 2019-01-01 05:26:25.905   \n",
       "2               756 2019-01-01 10:36:33.340 2019-01-01 10:49:10.260   \n",
       "3              1575 2019-01-01 12:43:38.643 2019-01-01 13:09:54.528   \n",
       "4              1566 2019-01-01 12:43:39.601 2019-01-01 13:09:46.510   \n",
       "...             ...                     ...                     ...   \n",
       "19671           853 2019-01-26 06:40:17.332 2019-01-26 06:54:30.888   \n",
       "19672           936 2019-01-27 06:36:20.640 2019-01-27 06:51:57.146   \n",
       "19673           653 2019-01-27 21:14:08.546 2019-01-27 21:25:01.617   \n",
       "19674           960 2019-01-29 06:15:26.588 2019-01-29 06:31:26.730   \n",
       "19675          1109 2019-01-30 06:30:03.605 2019-01-30 06:48:33.276   \n",
       "\n",
       "       start station id start station name  start station latitude  \\\n",
       "0                  3183     Exchange Place               40.716247   \n",
       "1                  3183     Exchange Place               40.716247   \n",
       "2                  3183     Exchange Place               40.716247   \n",
       "3                  3183     Exchange Place               40.716247   \n",
       "4                  3183     Exchange Place               40.716247   \n",
       "...                 ...                ...                     ...   \n",
       "19671              3694     Jackson Square               40.711130   \n",
       "19672              3694     Jackson Square               40.711130   \n",
       "19673              3694     Jackson Square               40.711130   \n",
       "19674              3694     Jackson Square               40.711130   \n",
       "19675              3694     Jackson Square               40.711130   \n",
       "\n",
       "       start station longitude  end station id    end station name  \\\n",
       "0                   -74.033459            3214    Essex Light Rail   \n",
       "1                   -74.033459            3638       Washington St   \n",
       "2                   -74.033459            3192  Liberty Light Rail   \n",
       "3                   -74.033459            3638       Washington St   \n",
       "4                   -74.033459            3638       Washington St   \n",
       "...                        ...             ...                 ...   \n",
       "19671               -74.078900            3183      Exchange Place   \n",
       "19672               -74.078900            3183      Exchange Place   \n",
       "19673               -74.078900            3677        Glenwood Ave   \n",
       "19674               -74.078900            3183      Exchange Place   \n",
       "19675               -74.078900            3183      Exchange Place   \n",
       "\n",
       "       end station latitude  end station longitude  bikeid    usertype  \\\n",
       "0                 40.712774             -74.036486   29612  Subscriber   \n",
       "1                 40.724294             -74.035483   29213  Subscriber   \n",
       "2                 40.711242             -74.055701   26164  Subscriber   \n",
       "3                 40.724294             -74.035483   29672    Customer   \n",
       "4                 40.724294             -74.035483   29522    Customer   \n",
       "...                     ...                    ...     ...         ...   \n",
       "19671             40.716247             -74.033459   26293  Subscriber   \n",
       "19672             40.716247             -74.033459   26291  Subscriber   \n",
       "19673             40.727551             -74.071061   26188    Customer   \n",
       "19674             40.716247             -74.033459   26196  Subscriber   \n",
       "19675             40.716247             -74.033459   26242  Subscriber   \n",
       "\n",
       "       birth year  gender  \n",
       "0            1993       1  \n",
       "1            1972       2  \n",
       "2            1985       1  \n",
       "3            1969       0  \n",
       "4            1969       0  \n",
       "...           ...     ...  \n",
       "19671        1977       1  \n",
       "19672        1977       1  \n",
       "19673        1998       2  \n",
       "19674        1977       1  \n",
       "19675        1977       1  \n",
       "\n",
       "[19676 rows x 15 columns]"
      ]
     },
     "execution_count": 5,
     "metadata": {},
     "output_type": "execute_result"
    }
   ],
   "source": [
    "df_201901"
   ]
  },
  {
   "cell_type": "code",
   "execution_count": 24,
   "metadata": {
    "hidden": true
   },
   "outputs": [
    {
     "name": "stdout",
     "output_type": "stream",
     "text": [
      "Subscriber    22529\n",
      "Customer       1077\n",
      "Name: usertype, dtype: int64\n"
     ]
    }
   ],
   "source": [
    "print(df_201903.usertype.value_counts())\n",
    "print(df_202003.usertype.value_counts())"
   ]
  },
  {
   "cell_type": "code",
   "execution_count": 26,
   "metadata": {
    "hidden": true,
    "scrolled": true
   },
   "outputs": [
    {
     "name": "stdout",
     "output_type": "stream",
     "text": [
      "Subscriber    32364\n",
      "Customer       3771\n",
      "Name: usertype, dtype: int64\n",
      "Subscriber    12952\n",
      "Customer      12125\n",
      "Name: usertype, dtype: int64\n"
     ]
    }
   ],
   "source": [
    "print(df_201905.usertype.value_counts())\n",
    "print(df_202005.usertype.value_counts())"
   ]
  },
  {
   "cell_type": "code",
   "execution_count": 55,
   "metadata": {
    "hidden": true,
    "scrolled": true
   },
   "outputs": [
    {
     "data": {
      "text/plain": [
       "32     1283\n",
       "33     1157\n",
       "31     1053\n",
       "30      958\n",
       "34      956\n",
       "40      896\n",
       "35      854\n",
       "29      844\n",
       "39      774\n",
       "36      755\n",
       "37      753\n",
       "28      632\n",
       "51      625\n",
       "38      618\n",
       "42      585\n",
       "43      550\n",
       "27      527\n",
       "26      512\n",
       "41      462\n",
       "44      373\n",
       "47      361\n",
       "45      345\n",
       "58      344\n",
       "50      317\n",
       "49      264\n",
       "62      256\n",
       "48      240\n",
       "25      239\n",
       "46      208\n",
       "57      203\n",
       "52      179\n",
       "60      176\n",
       "64      167\n",
       "54      135\n",
       "53      127\n",
       "24      120\n",
       "56      118\n",
       "55       95\n",
       "61       85\n",
       "63       76\n",
       "66       71\n",
       "67       68\n",
       "68       55\n",
       "59       51\n",
       "69       49\n",
       "71       43\n",
       "22       39\n",
       "65       37\n",
       "23       13\n",
       "70        8\n",
       "21        6\n",
       "20        5\n",
       "79        4\n",
       "76        3\n",
       "132       1\n",
       "19        1\n",
       "Name: age, dtype: int64"
      ]
     },
     "execution_count": 55,
     "metadata": {},
     "output_type": "execute_result"
    }
   ],
   "source": [
    "df_201901.age.value_counts(sort=True)"
   ]
  },
  {
   "cell_type": "code",
   "execution_count": 61,
   "metadata": {
    "hidden": true
   },
   "outputs": [
    {
     "data": {
      "image/png": "[encoded data removed]",
      "text/plain": [
       "<Figure size 432x288 with 1 Axes>"
      ]
     },
     "metadata": {
      "needs_background": "light"
     },
     "output_type": "display_data"
    }
   ],
   "source": [
    "import matplotlib.pyplot as plt\n",
    "plt.hist(df_201901.age)\n",
    "plt.show()"
   ]
  },
  {
   "cell_type": "code",
   "execution_count": null,
   "metadata": {
    "hidden": true
   },
   "outputs": [],
   "source": []
  },
  {
   "cell_type": "code",
   "execution_count": null,
   "metadata": {
    "hidden": true
   },
   "outputs": [],
   "source": []
  },
  {
   "cell_type": "code",
   "execution_count": null,
   "metadata": {
    "hidden": true
   },
   "outputs": [],
   "source": []
  },
  {
   "cell_type": "markdown",
   "metadata": {},
   "source": [
    "## DA Question 1"
   ]
  },
  {
   "cell_type": "markdown",
   "metadata": {},
   "source": [
    "#### What are the purposes of the rides? Hypothesize based on common sense. Estimate the proportions of rides which are riders commuting for works."
   ]
  },
  {
   "cell_type": "code",
   "execution_count": 89,
   "metadata": {},
   "outputs": [],
   "source": [
    "# Convert to date-time format\n",
    "df_201901.starttime = pd.to_datetime(df_201901.starttime, format= \"%Y-%m-%d %H:%M:%S\")\n",
    "df_201901.stoptime = pd.to_datetime(df_201901.stoptime, format= \"%Y-%m-%d %H:%M:%S\")"
   ]
  },
  {
   "cell_type": "code",
   "execution_count": 94,
   "metadata": {},
   "outputs": [
    {
     "data": {
      "text/plain": [
       "0         1\n",
       "1         1\n",
       "2         1\n",
       "3         1\n",
       "4         1\n",
       "         ..\n",
       "19671    26\n",
       "19672    27\n",
       "19673    27\n",
       "19674    29\n",
       "19675    30\n",
       "Name: starttime, Length: 19676, dtype: int64"
      ]
     },
     "execution_count": 94,
     "metadata": {},
     "output_type": "execute_result"
    }
   ],
   "source": [
    "df_201901.starttime.dt.day"
   ]
  },
  {
   "cell_type": "code",
   "execution_count": 107,
   "metadata": {},
   "outputs": [
    {
     "data": {
      "text/plain": [
       "<matplotlib.axes._subplots.AxesSubplot at 0x7ff41403ea10>"
      ]
     },
     "execution_count": 107,
     "metadata": {},
     "output_type": "execute_result"
    },
    {
     "data": {
      "image/png": "[encoded data removed]",
      "text/plain": [
       "<Figure size 432x288 with 1 Axes>"
      ]
     },
     "metadata": {
      "needs_background": "light"
     },
     "output_type": "display_data"
    }
   ],
   "source": [
    "\n",
    "df_201901.groupby(by=[df_201901.starttime.dt.hour]).count()['bikeid'].plot()"
   ]
  },
  {
   "cell_type": "code",
   "execution_count": 115,
   "metadata": {},
   "outputs": [],
   "source": [
    "df_202003.starttime = pd.to_datetime(df_202003.starttime, format= \"%Y-%m-%d %H:%M:%S\")\n",
    "df_202003.stoptime = pd.to_datetime(df_202003.stoptime, format= \"%Y-%m-%d %H:%M:%S\")"
   ]
  },
  {
   "cell_type": "code",
   "execution_count": 117,
   "metadata": {},
   "outputs": [
    {
     "data": {
      "text/plain": [
       "<matplotlib.axes._subplots.AxesSubplot at 0x7ff40677ab90>"
      ]
     },
     "execution_count": 117,
     "metadata": {},
     "output_type": "execute_result"
    },
    {
     "data": {
      "image/png": "[encoded data removed]",
      "text/plain": [
       "<Figure size 432x288 with 1 Axes>"
      ]
     },
     "metadata": {
      "needs_background": "light"
     },
     "output_type": "display_data"
    }
   ],
   "source": [
    "df_202003.groupby(by=[df_202003.starttime.dt.hour]).count()['bikeid'].plot()"
   ]
  },
  {
   "cell_type": "code",
   "execution_count": 108,
   "metadata": {},
   "outputs": [],
   "source": [
    "df_202004.starttime = pd.to_datetime(df_202004.starttime, format= \"%Y-%m-%d %H:%M:%S\")\n",
    "df_202004.stoptime = pd.to_datetime(df_202004.stoptime, format= \"%Y-%m-%d %H:%M:%S\")"
   ]
  },
  {
   "cell_type": "code",
   "execution_count": 114,
   "metadata": {},
   "outputs": [
    {
     "data": {
      "text/plain": [
       "<matplotlib.axes._subplots.AxesSubplot at 0x7ff40738d2d0>"
      ]
     },
     "execution_count": 114,
     "metadata": {},
     "output_type": "execute_result"
    },
    {
     "data": {
      "image/png": "[encoded data removed]",
      "text/plain": [
       "<Figure size 432x288 with 1 Axes>"
      ]
     },
     "metadata": {
      "needs_background": "light"
     },
     "output_type": "display_data"
    }
   ],
   "source": [
    "df_202004.groupby(by=[df_202004.starttime.dt.hour]).count()['bikeid'].plot()"
   ]
  },
  {
   "cell_type": "markdown",
   "metadata": {},
   "source": [
    "#### What are the characteristics of the riders in terms of age/gender?"
   ]
  },
  {
   "cell_type": "code",
   "execution_count": 118,
   "metadata": {},
   "outputs": [],
   "source": [
    "#create column 'age'\n",
    "df_201901['age'] = 2020 - df_201901['birth_year']"
   ]
  },
  {
   "cell_type": "code",
   "execution_count": 121,
   "metadata": {},
   "outputs": [
    {
     "data": {
      "text/plain": [
       "0        1\n",
       "1        2\n",
       "2        1\n",
       "3        0\n",
       "4        0\n",
       "        ..\n",
       "19671    1\n",
       "19672    1\n",
       "19673    2\n",
       "19674    1\n",
       "19675    1\n",
       "Name: gender, Length: 19676, dtype: category\n",
       "Categories (3, int64): [0, 1, 2]"
      ]
     },
     "execution_count": 121,
     "metadata": {},
     "output_type": "execute_result"
    }
   ],
   "source": [
    "df_201901.gender.astype('category')"
   ]
  },
  {
   "cell_type": "code",
   "execution_count": null,
   "metadata": {},
   "outputs": [],
   "source": []
  },
  {
   "cell_type": "code",
   "execution_count": null,
   "metadata": {},
   "outputs": [],
   "source": []
  },
  {
   "cell_type": "code",
   "execution_count": null,
   "metadata": {},
   "outputs": [],
   "source": []
  },
  {
   "cell_type": "code",
   "execution_count": null,
   "metadata": {},
   "outputs": [],
   "source": []
  },
  {
   "cell_type": "markdown",
   "metadata": {},
   "source": [
    "#### How are the ride-demand change with respect to time? Analyze the daily ride-count growth as a time series."
   ]
  },
  {
   "cell_type": "code",
   "execution_count": 2,
   "metadata": {},
   "outputs": [
    {
     "data": {
      "text/plain": [
       "True"
      ]
     },
     "execution_count": 2,
     "metadata": {},
     "output_type": "execute_result"
    }
   ],
   "source": []
  },
  {
   "cell_type": "code",
   "execution_count": null,
   "metadata": {},
   "outputs": [],
   "source": []
  },
  {
   "cell_type": "code",
   "execution_count": null,
   "metadata": {},
   "outputs": [],
   "source": []
  },
  {
   "cell_type": "code",
   "execution_count": null,
   "metadata": {},
   "outputs": [],
   "source": []
  },
  {
   "cell_type": "code",
   "execution_count": null,
   "metadata": {},
   "outputs": [],
   "source": []
  },
  {
   "cell_type": "code",
   "execution_count": null,
   "metadata": {},
   "outputs": [],
   "source": []
  },
  {
   "cell_type": "markdown",
   "metadata": {},
   "source": [
    "#### Analyze the variations of ride-counts w.r.t. months. What seasonality do you observe? What is the likely reason for the seasonality?"
   ]
  },
  {
   "cell_type": "code",
   "execution_count": null,
   "metadata": {},
   "outputs": [],
   "source": []
  },
  {
   "cell_type": "code",
   "execution_count": null,
   "metadata": {},
   "outputs": [],
   "source": []
  },
  {
   "cell_type": "code",
   "execution_count": null,
   "metadata": {},
   "outputs": [],
   "source": []
  },
  {
   "cell_type": "code",
   "execution_count": null,
   "metadata": {},
   "outputs": [],
   "source": []
  },
  {
   "cell_type": "code",
   "execution_count": null,
   "metadata": {},
   "outputs": [],
   "source": []
  },
  {
   "cell_type": "markdown",
   "metadata": {
    "heading_collapsed": true
   },
   "source": [
    "## Resource"
   ]
  },
  {
   "cell_type": "markdown",
   "metadata": {
    "hidden": true
   },
   "source": [
    "Cycling Trends in NYC (May 2019) <br>\n",
    "https://www1.nyc.gov/html/dot/downloads/pdf/cycling-in-the-city.pdf\n",
    "<br>\n",
    "Main: https://www1.nyc.gov/html/dot/html/bicyclists/cyclinginthecity.shtml\n",
    "<br>\n",
    "<br>\n",
    "\n",
    "\n"
   ]
  },
  {
   "cell_type": "markdown",
   "metadata": {
    "heading_collapsed": true,
    "hidden": true
   },
   "source": [
    "##### The History of Citi Bike <br>\n",
    "September 2011\n",
    "NYC DOT announces the selection of a bike share operator for New York City, kicking off an unprecedented public input process.\n",
    "\n",
    "May 2012\n",
    "The system name, Citi Bike and sponsors are announced with Citibank as the title sponsor and MasterCard as the Preferred Payment Partner.\n",
    "\n",
    "April 2013\n",
    "5,000 Citi Bike founding memberships sell out in 30 hours, weeks before the program is scheduled to launch.\n",
    "\n",
    "May 2013\n",
    "Citi Bike launches with 6000 bikes at hundreds of stations throughout Manhattan and Brooklyn.\n",
    "\n",
    "June 2013\n",
    "Citi Bike graces the cover of The New Yorker magazine.\n",
    "\n",
    "December 2013\n",
    "Citi Bike helps power the New Year’s Eve ball drop in Times Square\n",
    "\n",
    "August 2014\n",
    "Total distance travelled on the system passes 20 million miles.\n",
    "\n",
    "October 2014\n",
    "New York City Bike Share, the operator of Citi Bike comes under new ownership, who pledge to provide increased private capital to improve the program. The program is boosted by an increased sponsorship commitment from Citi and an increase in the credit facility from the Goldman Sachs Urban Investment Group to allow for the expansion of the program. A 6,000 bike expansion is announced, that will double the size of network from 6,000 to 12,000 bikes.\n",
    "\n",
    "December 2014\n",
    "Citi Bike hits the big screen, with bike share being used by Quvenzhané Wallis, who plays Annie in the opening scenes of the 2014 Sony Picture update of the classic musical.\n",
    "\n",
    "August 2015\n",
    "Citi Bike expansion begins, bringing 140 new stations to Bed-Stuy, Greenpoint, Long Island City, Williamsburg, and Upper East Side and Upper West Side.\n",
    "\n",
    "December 2015\n",
    "Citi Bike riders hit a new milestone, 10 million trips in one year. This breaks the one-year record for bike share ridership in all bike share programs in the Western Hemisphere, aside from Velib in Paris.\n",
    "\n",
    "May 2016\n",
    "Citi Bike gains its 100,000th Annual Member.\n",
    "\n",
    "August 2016\n",
    "Citi Bike expansion continues bringing another 140 stations in the Upper East Side & Upper West Side in Manhattan and Jersey City, and moving into new Brooklyn neighborhoods. We also grew from 8,000 to 10,000 bikes.\n",
    "\n",
    "September 2017\n",
    "Citi Bike adds another 142 stations in Harlem, East Harlem, Astoria, Crown Heights, and Prospect Heights. We also grew from 10,000 to 12,000 bikes.\n",
    "\n",
    "October 2017\n",
    "Citi Bike riders take their 50 Millionth trip all time.\n",
    "\n",
    "May 2018\n",
    "Citi Bike celebrates 5 years of bike share in NYC with over 143,000 members.\n",
    "\n",
    "May 2019\n",
    "Citi Bike becomes available to rent in the Lyft app."
   ]
  }
 ],
 "metadata": {
  "kernelspec": {
   "display_name": "Python 3",
   "language": "python",
   "name": "python3"
  },
  "language_info": {
   "codemirror_mode": {
    "name": "ipython",
    "version": 3
   },
   "file_extension": ".py",
   "mimetype": "text/x-python",
   "name": "python",
   "nbconvert_exporter": "python",
   "pygments_lexer": "ipython3",
   "version": "3.7.6"
  }
 },
 "nbformat": 4,
 "nbformat_minor": 4
}
