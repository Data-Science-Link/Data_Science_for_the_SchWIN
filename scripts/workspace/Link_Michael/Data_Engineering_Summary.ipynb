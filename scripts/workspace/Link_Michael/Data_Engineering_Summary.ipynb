{
 "cells": [
  {
   "cell_type": "markdown",
   "metadata": {},
   "source": [
    "## Data Engineering Summary\n"
   ]
  },
  {
   "cell_type": "markdown",
   "metadata": {},
   "source": [
    "#### This notebook provides recommendations on the best path for accessing citibike data\n",
    "##### The two data access recommendations are:\n",
    "- A: Master csv file should be subsampled for global analysis\n",
    "    - i.e. how has ridership changed over the 10+ year history of the company\n",
    "<br>\n",
    "- B: Local sqlite server should be used for local analysis\n",
    "    - i.e. give me all data with start station == times square for during the pandemic\n",
    "    - i.e. group by start station and get average trip duration\n",
    "<br>\n",
    "\n",
    "##### Method A helps to reduce the full dataset down to a subsample that is representative of the program history\n",
    "##### Method B helps the user to access a specific subset of data without having to load all data into memory\n",
    "- i.e. without the sql database you would have to load all relevant data then do group by\n",
    "\n",
    "    "
   ]
  },
  {
   "cell_type": "markdown",
   "metadata": {},
   "source": [
    "### Method A - Master CSV Subsampling"
   ]
  },
  {
   "cell_type": "markdown",
   "metadata": {},
   "source": [
    "##### read an example full dataset from aws"
   ]
  },
  {
   "cell_type": "code",
   "execution_count": 6,
   "metadata": {},
   "outputs": [
    {
     "data": {
      "text/plain": [
       "(49244, 15)"
      ]
     },
     "execution_count": 6,
     "metadata": {},
     "output_type": "execute_result"
    }
   ],
   "source": [
    "import pandas as pd\n",
    "import random\n",
    "\n",
    "# Reading data directly from aws using \"Link Address\"\n",
    "df_aws_full = pd.read_csv('https://schwinning.s3.us-east-2.amazonaws.com/JC-201909-citibike-tripdata.csv.zip')\n",
    "\n",
    "# FileNotFoundError: [Errno 2] No such file or directory: 'https://schwinning.s3.us-east-2.amazonaws.com/JC-201909-citibike-tripdata.csv.zip'\n",
    "    # filename = \"https://schwinning.s3.us-east-2.amazonaws.com/JC-201909-citibike-tripdata.csv.zip\"\n",
    "    # n = sum(1 for line in open(filename)) - 1 #number of records in file (excludes header)\n",
    "    # s = 100 #desired sample size\n",
    "    # skip = sorted(random.sample(range(1,n+1),n-s)) #the 0-indexed header will not be included in the skip list\n",
    "    # df = pd.read_csv(filename, skiprows=skip)\n",
    "    \n",
    "df_aws_full.shape"
   ]
  },
  {
   "cell_type": "markdown",
   "metadata": {},
   "source": [
    "##### read an example full dataset from aws and randomly pull 5% of it"
   ]
  },
  {
   "cell_type": "code",
   "execution_count": 8,
   "metadata": {},
   "outputs": [
    {
     "data": {
      "text/plain": [
       "(2465, 15)"
      ]
     },
     "execution_count": 8,
     "metadata": {},
     "output_type": "execute_result"
    }
   ],
   "source": [
    "import pandas as pd\n",
    "import random\n",
    "\n",
    "filename = \"https://schwinning.s3.us-east-2.amazonaws.com/JC-201909-citibike-tripdata.csv.zip\"\n",
    "\n",
    "p = 0.05  # 1% of the lines\n",
    "# keep the header, then take only 1% of lines\n",
    "# if random from [0,1] interval is greater than 0.01 the row will be skipped\n",
    "df_aws_percentage = pd.read_csv(\n",
    "         filename,\n",
    "         header=0, \n",
    "         skiprows=lambda i: i>0 and random.random() > p\n",
    ")\n",
    "\n",
    "df_aws_percentage.shape"
   ]
  },
  {
   "cell_type": "markdown",
   "metadata": {},
   "source": [
    "##### read THE full dataset from aws and randomly pull 0.01% of it"
   ]
  },
  {
   "cell_type": "code",
   "execution_count": 10,
   "metadata": {},
   "outputs": [],
   "source": [
    "filename = \"https://schwinning.s3.us-east-2.amazonaws.com/combined.csv\"\n",
    "\n",
    "p = 0.0001  # 1% of the lines\n",
    "# keep the header, then take only 1% of lines\n",
    "# if random from [0,1] interval is greater than 0.01 the row will be skipped\n",
    "df_aws_combined_percentage = pd.read_csv(\n",
    "         filename,\n",
    "         header=0, \n",
    "         skiprows=lambda i: i>0 and random.random() > p\n",
    ")##### read an example full dataset from aws\n",
    "\n",
    "df_aws_combined_percentage.shape"
   ]
  },
  {
   "cell_type": "markdown",
   "metadata": {},
   "source": [
    "### Method B: Local SQLite Server"
   ]
  },
  {
   "cell_type": "markdown",
   "metadata": {},
   "source": [
    "#### load necessary libraries and map connection to the local sqlite server"
   ]
  },
  {
   "cell_type": "code",
   "execution_count": 12,
   "metadata": {},
   "outputs": [],
   "source": [
    "# !pip install ipython-sql\n",
    "%load_ext sql\n",
    "%sql sqlite:////Users/michaellink/Desktop/__NYCDSA/_Projects/Capstone/data/citibike/sqlite/citi_bike.db"
   ]
  },
  {
   "cell_type": "markdown",
   "metadata": {},
   "source": [
    "#### run standard sql query"
   ]
  },
  {
   "cell_type": "code",
   "execution_count": 19,
   "metadata": {
    "scrolled": true
   },
   "outputs": [
    {
     "name": "stdout",
     "output_type": "stream",
     "text": [
      " * sqlite:////Users/michaellink/Desktop/__NYCDSA/_Projects/Capstone/data/citibike/sqlite/citi_bike.db\n",
      "Done.\n"
     ]
    },
    {
     "data": {
      "text/html": [
       "<table>\n",
       "    <tr>\n",
       "        <th>tripduration</th>\n",
       "        <th>starttime</th>\n",
       "        <th>stoptime</th>\n",
       "        <th>start_station_id</th>\n",
       "        <th>start_station_name</th>\n",
       "        <th>start_station_latitude</th>\n",
       "        <th>start_station_longitude</th>\n",
       "        <th>end_station_id</th>\n",
       "        <th>end_station_name</th>\n",
       "        <th>end_station_latitude</th>\n",
       "        <th>end_station_longitude</th>\n",
       "        <th>bikeid</th>\n",
       "        <th>usertype</th>\n",
       "        <th>birth_year</th>\n",
       "        <th>gender</th>\n",
       "    </tr>\n",
       "    <tr>\n",
       "        <td>20</td>\n",
       "        <td>2019-01-01 00:01:47.4010</td>\n",
       "        <td>2019-01-01 00:07:07.5810</td>\n",
       "        <td>3160</td>\n",
       "        <td>Central Park West &amp; W 76 St</td>\n",
       "        <td>40.77896784</td>\n",
       "        <td>-73.97374737</td>\n",
       "        <td>3283</td>\n",
       "        <td>W 89 St &amp; Columbus Ave</td>\n",
       "        <td>40.7882213</td>\n",
       "        <td>-73.97041561</td>\n",
       "        <td>15839</td>\n",
       "        <td>Subscriber</td>\n",
       "        <td>1971</td>\n",
       "        <td>1</td>\n",
       "    </tr>\n",
       "    <tr>\n",
       "        <td>16</td>\n",
       "        <td>2019-01-01 00:04:43.7360</td>\n",
       "        <td>2019-01-01 00:10:00.6080</td>\n",
       "        <td>519</td>\n",
       "        <td>Pershing Square North</td>\n",
       "        <td>40.751873</td>\n",
       "        <td>-73.977706</td>\n",
       "        <td>518</td>\n",
       "        <td>E 39 St &amp; 2 Ave</td>\n",
       "        <td>40.74780373</td>\n",
       "        <td>-73.9734419</td>\n",
       "        <td>32723</td>\n",
       "        <td>Subscriber</td>\n",
       "        <td>1964</td>\n",
       "        <td>1</td>\n",
       "    </tr>\n",
       "</table>"
      ],
      "text/plain": [
       "[(20, '2019-01-01 00:01:47.4010', '2019-01-01 00:07:07.5810', 3160, 'Central Park West & W 76 St', 40.77896784, -73.97374737, 3283, 'W 89 St & Columbus Ave', 40.7882213, -73.97041561, 15839, 'Subscriber', 1971, 1),\n",
       " (16, '2019-01-01 00:04:43.7360', '2019-01-01 00:10:00.6080', 519, 'Pershing Square North', 40.751873, -73.977706, 518, 'E 39 St & 2 Ave', 40.74780373, -73.9734419, 32723, 'Subscriber', 1964, 1)]"
      ]
     },
     "execution_count": 19,
     "metadata": {},
     "output_type": "execute_result"
    }
   ],
   "source": [
    "%sql SELECT * FROM yr_2019 LIMIT 2;"
   ]
  },
  {
   "cell_type": "markdown",
   "metadata": {},
   "source": [
    "#### save standard sql query as pandas dataframe"
   ]
  },
  {
   "cell_type": "code",
   "execution_count": 20,
   "metadata": {},
   "outputs": [
    {
     "name": "stdout",
     "output_type": "stream",
     "text": [
      " * sqlite:////Users/michaellink/Desktop/__NYCDSA/_Projects/Capstone/data/citibike/sqlite/citi_bike.db\n",
      "Done.\n",
      "<class 'pandas.core.frame.DataFrame'>\n"
     ]
    },
    {
     "data": {
      "text/html": [
       "<div>\n",
       "<style scoped>\n",
       "    .dataframe tbody tr th:only-of-type {\n",
       "        vertical-align: middle;\n",
       "    }\n",
       "\n",
       "    .dataframe tbody tr th {\n",
       "        vertical-align: top;\n",
       "    }\n",
       "\n",
       "    .dataframe thead th {\n",
       "        text-align: right;\n",
       "    }\n",
       "</style>\n",
       "<table border=\"1\" class=\"dataframe\">\n",
       "  <thead>\n",
       "    <tr style=\"text-align: right;\">\n",
       "      <th></th>\n",
       "      <th>tripduration</th>\n",
       "      <th>starttime</th>\n",
       "      <th>stoptime</th>\n",
       "      <th>start_station_id</th>\n",
       "      <th>start_station_name</th>\n",
       "      <th>start_station_latitude</th>\n",
       "      <th>start_station_longitude</th>\n",
       "      <th>end_station_id</th>\n",
       "      <th>end_station_name</th>\n",
       "      <th>end_station_latitude</th>\n",
       "      <th>end_station_longitude</th>\n",
       "      <th>bikeid</th>\n",
       "      <th>usertype</th>\n",
       "      <th>birth_year</th>\n",
       "      <th>gender</th>\n",
       "    </tr>\n",
       "  </thead>\n",
       "  <tbody>\n",
       "    <tr>\n",
       "      <th>0</th>\n",
       "      <td>20</td>\n",
       "      <td>2019-01-01 00:01:47.4010</td>\n",
       "      <td>2019-01-01 00:07:07.5810</td>\n",
       "      <td>3160</td>\n",
       "      <td>Central Park West &amp; W 76 St</td>\n",
       "      <td>40.778968</td>\n",
       "      <td>-73.973747</td>\n",
       "      <td>3283</td>\n",
       "      <td>W 89 St &amp; Columbus Ave</td>\n",
       "      <td>40.788221</td>\n",
       "      <td>-73.970416</td>\n",
       "      <td>15839</td>\n",
       "      <td>Subscriber</td>\n",
       "      <td>1971</td>\n",
       "      <td>1</td>\n",
       "    </tr>\n",
       "    <tr>\n",
       "      <th>1</th>\n",
       "      <td>16</td>\n",
       "      <td>2019-01-01 00:04:43.7360</td>\n",
       "      <td>2019-01-01 00:10:00.6080</td>\n",
       "      <td>519</td>\n",
       "      <td>Pershing Square North</td>\n",
       "      <td>40.751873</td>\n",
       "      <td>-73.977706</td>\n",
       "      <td>518</td>\n",
       "      <td>E 39 St &amp; 2 Ave</td>\n",
       "      <td>40.747804</td>\n",
       "      <td>-73.973442</td>\n",
       "      <td>32723</td>\n",
       "      <td>Subscriber</td>\n",
       "      <td>1964</td>\n",
       "      <td>1</td>\n",
       "    </tr>\n",
       "    <tr>\n",
       "      <th>2</th>\n",
       "      <td>91</td>\n",
       "      <td>2019-01-01 00:06:03.9970</td>\n",
       "      <td>2019-01-01 00:15:55.4380</td>\n",
       "      <td>3171</td>\n",
       "      <td>Amsterdam Ave &amp; W 82 St</td>\n",
       "      <td>40.785247</td>\n",
       "      <td>-73.976673</td>\n",
       "      <td>3154</td>\n",
       "      <td>E 77 St &amp; 3 Ave</td>\n",
       "      <td>40.773142</td>\n",
       "      <td>-73.958562</td>\n",
       "      <td>27451</td>\n",
       "      <td>Subscriber</td>\n",
       "      <td>1987</td>\n",
       "      <td>1</td>\n",
       "    </tr>\n",
       "    <tr>\n",
       "      <th>3</th>\n",
       "      <td>719</td>\n",
       "      <td>2019-01-01 00:07:03.5450</td>\n",
       "      <td>2019-01-01 00:52:22.6500</td>\n",
       "      <td>504</td>\n",
       "      <td>1 Ave &amp; E 16 St</td>\n",
       "      <td>40.732219</td>\n",
       "      <td>-73.981656</td>\n",
       "      <td>3709</td>\n",
       "      <td>W 15 St &amp; 6 Ave</td>\n",
       "      <td>40.738046</td>\n",
       "      <td>-73.996430</td>\n",
       "      <td>21579</td>\n",
       "      <td>Subscriber</td>\n",
       "      <td>1990</td>\n",
       "      <td>1</td>\n",
       "    </tr>\n",
       "    <tr>\n",
       "      <th>4</th>\n",
       "      <td>3</td>\n",
       "      <td>2019-01-01 00:07:35.9450</td>\n",
       "      <td>2019-01-01 00:12:39.5020</td>\n",
       "      <td>229</td>\n",
       "      <td>Great Jones St</td>\n",
       "      <td>40.727434</td>\n",
       "      <td>-73.993790</td>\n",
       "      <td>503</td>\n",
       "      <td>E 20 St &amp; Park Ave</td>\n",
       "      <td>40.738274</td>\n",
       "      <td>-73.987520</td>\n",
       "      <td>35379</td>\n",
       "      <td>Subscriber</td>\n",
       "      <td>1979</td>\n",
       "      <td>1</td>\n",
       "    </tr>\n",
       "  </tbody>\n",
       "</table>\n",
       "</div>"
      ],
      "text/plain": [
       "   tripduration                 starttime                  stoptime  \\\n",
       "0            20  2019-01-01 00:01:47.4010  2019-01-01 00:07:07.5810   \n",
       "1            16  2019-01-01 00:04:43.7360  2019-01-01 00:10:00.6080   \n",
       "2            91  2019-01-01 00:06:03.9970  2019-01-01 00:15:55.4380   \n",
       "3           719  2019-01-01 00:07:03.5450  2019-01-01 00:52:22.6500   \n",
       "4             3  2019-01-01 00:07:35.9450  2019-01-01 00:12:39.5020   \n",
       "\n",
       "   start_station_id           start_station_name  start_station_latitude  \\\n",
       "0              3160  Central Park West & W 76 St               40.778968   \n",
       "1               519        Pershing Square North               40.751873   \n",
       "2              3171      Amsterdam Ave & W 82 St               40.785247   \n",
       "3               504              1 Ave & E 16 St               40.732219   \n",
       "4               229               Great Jones St               40.727434   \n",
       "\n",
       "   start_station_longitude  end_station_id        end_station_name  \\\n",
       "0               -73.973747            3283  W 89 St & Columbus Ave   \n",
       "1               -73.977706             518         E 39 St & 2 Ave   \n",
       "2               -73.976673            3154         E 77 St & 3 Ave   \n",
       "3               -73.981656            3709         W 15 St & 6 Ave   \n",
       "4               -73.993790             503      E 20 St & Park Ave   \n",
       "\n",
       "   end_station_latitude  end_station_longitude  bikeid    usertype  \\\n",
       "0             40.788221             -73.970416   15839  Subscriber   \n",
       "1             40.747804             -73.973442   32723  Subscriber   \n",
       "2             40.773142             -73.958562   27451  Subscriber   \n",
       "3             40.738046             -73.996430   21579  Subscriber   \n",
       "4             40.738274             -73.987520   35379  Subscriber   \n",
       "\n",
       "   birth_year  gender  \n",
       "0        1971       1  \n",
       "1        1964       1  \n",
       "2        1987       1  \n",
       "3        1990       1  \n",
       "4        1979       1  "
      ]
     },
     "execution_count": 20,
     "metadata": {},
     "output_type": "execute_result"
    }
   ],
   "source": [
    "import pandas as pd\n",
    "\n",
    "result = %sql SELECT * FROM yr_2019 LIMIT 5;\n",
    "df = result.DataFrame()\n",
    "print(type(df))\n",
    "df"
   ]
  },
  {
   "cell_type": "markdown",
   "metadata": {},
   "source": [
    "#### demonstration of randomly sampling from table need to speed up"
   ]
  },
  {
   "cell_type": "code",
   "execution_count": 38,
   "metadata": {
    "scrolled": true
   },
   "outputs": [
    {
     "name": "stdout",
     "output_type": "stream",
     "text": [
      " * sqlite:////Users/michaellink/Desktop/__NYCDSA/_Projects/Capstone/data/citibike/sqlite/citi_bike.db\n",
      "(sqlite3.OperationalError) wrong number of arguments to function random()\n",
      "[SQL: select random(1,2) from yr_2019 limit 10;]\n",
      "(Background on this error at: http://sqlalche.me/e/e3q8)\n"
     ]
    },
    {
     "data": {
      "text/html": [
       "<div>\n",
       "<style scoped>\n",
       "    .dataframe tbody tr th:only-of-type {\n",
       "        vertical-align: middle;\n",
       "    }\n",
       "\n",
       "    .dataframe tbody tr th {\n",
       "        vertical-align: top;\n",
       "    }\n",
       "\n",
       "    .dataframe thead th {\n",
       "        text-align: right;\n",
       "    }\n",
       "</style>\n",
       "<table border=\"1\" class=\"dataframe\">\n",
       "  <thead>\n",
       "    <tr style=\"text-align: right;\">\n",
       "      <th></th>\n",
       "      <th>tripduration</th>\n",
       "      <th>starttime</th>\n",
       "      <th>stoptime</th>\n",
       "      <th>start_station_id</th>\n",
       "      <th>start_station_name</th>\n",
       "      <th>start_station_latitude</th>\n",
       "      <th>start_station_longitude</th>\n",
       "      <th>end_station_id</th>\n",
       "      <th>end_station_name</th>\n",
       "      <th>end_station_latitude</th>\n",
       "      <th>end_station_longitude</th>\n",
       "      <th>bikeid</th>\n",
       "      <th>usertype</th>\n",
       "      <th>birth_year</th>\n",
       "      <th>gender</th>\n",
       "    </tr>\n",
       "  </thead>\n",
       "  <tbody>\n",
       "    <tr>\n",
       "      <th>0</th>\n",
       "      <td>20</td>\n",
       "      <td>2019-01-01 00:01:47.4010</td>\n",
       "      <td>2019-01-01 00:07:07.5810</td>\n",
       "      <td>3160</td>\n",
       "      <td>Central Park West &amp; W 76 St</td>\n",
       "      <td>40.778968</td>\n",
       "      <td>-73.973747</td>\n",
       "      <td>3283</td>\n",
       "      <td>W 89 St &amp; Columbus Ave</td>\n",
       "      <td>40.788221</td>\n",
       "      <td>-73.970416</td>\n",
       "      <td>15839</td>\n",
       "      <td>Subscriber</td>\n",
       "      <td>1971</td>\n",
       "      <td>1</td>\n",
       "    </tr>\n",
       "    <tr>\n",
       "      <th>1</th>\n",
       "      <td>16</td>\n",
       "      <td>2019-01-01 00:04:43.7360</td>\n",
       "      <td>2019-01-01 00:10:00.6080</td>\n",
       "      <td>519</td>\n",
       "      <td>Pershing Square North</td>\n",
       "      <td>40.751873</td>\n",
       "      <td>-73.977706</td>\n",
       "      <td>518</td>\n",
       "      <td>E 39 St &amp; 2 Ave</td>\n",
       "      <td>40.747804</td>\n",
       "      <td>-73.973442</td>\n",
       "      <td>32723</td>\n",
       "      <td>Subscriber</td>\n",
       "      <td>1964</td>\n",
       "      <td>1</td>\n",
       "    </tr>\n",
       "    <tr>\n",
       "      <th>2</th>\n",
       "      <td>91</td>\n",
       "      <td>2019-01-01 00:06:03.9970</td>\n",
       "      <td>2019-01-01 00:15:55.4380</td>\n",
       "      <td>3171</td>\n",
       "      <td>Amsterdam Ave &amp; W 82 St</td>\n",
       "      <td>40.785247</td>\n",
       "      <td>-73.976673</td>\n",
       "      <td>3154</td>\n",
       "      <td>E 77 St &amp; 3 Ave</td>\n",
       "      <td>40.773142</td>\n",
       "      <td>-73.958562</td>\n",
       "      <td>27451</td>\n",
       "      <td>Subscriber</td>\n",
       "      <td>1987</td>\n",
       "      <td>1</td>\n",
       "    </tr>\n",
       "    <tr>\n",
       "      <th>3</th>\n",
       "      <td>719</td>\n",
       "      <td>2019-01-01 00:07:03.5450</td>\n",
       "      <td>2019-01-01 00:52:22.6500</td>\n",
       "      <td>504</td>\n",
       "      <td>1 Ave &amp; E 16 St</td>\n",
       "      <td>40.732219</td>\n",
       "      <td>-73.981656</td>\n",
       "      <td>3709</td>\n",
       "      <td>W 15 St &amp; 6 Ave</td>\n",
       "      <td>40.738046</td>\n",
       "      <td>-73.996430</td>\n",
       "      <td>21579</td>\n",
       "      <td>Subscriber</td>\n",
       "      <td>1990</td>\n",
       "      <td>1</td>\n",
       "    </tr>\n",
       "    <tr>\n",
       "      <th>4</th>\n",
       "      <td>3</td>\n",
       "      <td>2019-01-01 00:07:35.9450</td>\n",
       "      <td>2019-01-01 00:12:39.5020</td>\n",
       "      <td>229</td>\n",
       "      <td>Great Jones St</td>\n",
       "      <td>40.727434</td>\n",
       "      <td>-73.993790</td>\n",
       "      <td>503</td>\n",
       "      <td>E 20 St &amp; Park Ave</td>\n",
       "      <td>40.738274</td>\n",
       "      <td>-73.987520</td>\n",
       "      <td>35379</td>\n",
       "      <td>Subscriber</td>\n",
       "      <td>1979</td>\n",
       "      <td>1</td>\n",
       "    </tr>\n",
       "  </tbody>\n",
       "</table>\n",
       "</div>"
      ],
      "text/plain": [
       "   tripduration                 starttime                  stoptime  \\\n",
       "0            20  2019-01-01 00:01:47.4010  2019-01-01 00:07:07.5810   \n",
       "1            16  2019-01-01 00:04:43.7360  2019-01-01 00:10:00.6080   \n",
       "2            91  2019-01-01 00:06:03.9970  2019-01-01 00:15:55.4380   \n",
       "3           719  2019-01-01 00:07:03.5450  2019-01-01 00:52:22.6500   \n",
       "4             3  2019-01-01 00:07:35.9450  2019-01-01 00:12:39.5020   \n",
       "\n",
       "   start_station_id           start_station_name  start_station_latitude  \\\n",
       "0              3160  Central Park West & W 76 St               40.778968   \n",
       "1               519        Pershing Square North               40.751873   \n",
       "2              3171      Amsterdam Ave & W 82 St               40.785247   \n",
       "3               504              1 Ave & E 16 St               40.732219   \n",
       "4               229               Great Jones St               40.727434   \n",
       "\n",
       "   start_station_longitude  end_station_id        end_station_name  \\\n",
       "0               -73.973747            3283  W 89 St & Columbus Ave   \n",
       "1               -73.977706             518         E 39 St & 2 Ave   \n",
       "2               -73.976673            3154         E 77 St & 3 Ave   \n",
       "3               -73.981656            3709         W 15 St & 6 Ave   \n",
       "4               -73.993790             503      E 20 St & Park Ave   \n",
       "\n",
       "   end_station_latitude  end_station_longitude  bikeid    usertype  \\\n",
       "0             40.788221             -73.970416   15839  Subscriber   \n",
       "1             40.747804             -73.973442   32723  Subscriber   \n",
       "2             40.773142             -73.958562   27451  Subscriber   \n",
       "3             40.738046             -73.996430   21579  Subscriber   \n",
       "4             40.738274             -73.987520   35379  Subscriber   \n",
       "\n",
       "   birth_year  gender  \n",
       "0        1971       1  \n",
       "1        1964       1  \n",
       "2        1987       1  \n",
       "3        1990       1  \n",
       "4        1979       1  "
      ]
     },
     "execution_count": 38,
     "metadata": {},
     "output_type": "execute_result"
    }
   ],
   "source": [
    "# Approximately 20 seconds. Not a big problem if we run once and save as csv\n",
    "results = %sql select * from yr_2019 order by random() limit 10;\n",
    "df_random = result.DataFrame()\n",
    "df_random.head(5)"
   ]
  },
  {
   "cell_type": "code",
   "execution_count": 21,
   "metadata": {},
   "outputs": [
    {
     "name": "stdout",
     "output_type": "stream",
     "text": [
      " * sqlite:////Users/michaellink/Desktop/__NYCDSA/_Projects/Capstone/data/citibike/sqlite/citi_bike.db\n",
      "Done.\n"
     ]
    }
   ],
   "source": [
    "results = %sql SELECT start_station_name from yr_2019;\n"
   ]
  },
  {
   "cell_type": "code",
   "execution_count": 24,
   "metadata": {},
   "outputs": [],
   "source": [
    "df_2019 = results.DataFrame()"
   ]
  },
  {
   "cell_type": "code",
   "execution_count": 25,
   "metadata": {},
   "outputs": [
    {
     "data": {
      "text/html": [
       "<div>\n",
       "<style scoped>\n",
       "    .dataframe tbody tr th:only-of-type {\n",
       "        vertical-align: middle;\n",
       "    }\n",
       "\n",
       "    .dataframe tbody tr th {\n",
       "        vertical-align: top;\n",
       "    }\n",
       "\n",
       "    .dataframe thead th {\n",
       "        text-align: right;\n",
       "    }\n",
       "</style>\n",
       "<table border=\"1\" class=\"dataframe\">\n",
       "  <thead>\n",
       "    <tr style=\"text-align: right;\">\n",
       "      <th></th>\n",
       "      <th>start_station_name</th>\n",
       "    </tr>\n",
       "  </thead>\n",
       "  <tbody>\n",
       "    <tr>\n",
       "      <th>0</th>\n",
       "      <td>Central Park West &amp; W 76 St</td>\n",
       "    </tr>\n",
       "    <tr>\n",
       "      <th>1</th>\n",
       "      <td>Pershing Square North</td>\n",
       "    </tr>\n",
       "  </tbody>\n",
       "</table>\n",
       "</div>"
      ],
      "text/plain": [
       "            start_station_name\n",
       "0  Central Park West & W 76 St\n",
       "1        Pershing Square North"
      ]
     },
     "execution_count": 25,
     "metadata": {},
     "output_type": "execute_result"
    }
   ],
   "source": [
    "df_2019.head(2)"
   ]
  },
  {
   "cell_type": "code",
   "execution_count": 26,
   "metadata": {
    "scrolled": true
   },
   "outputs": [
    {
     "data": {
      "text/plain": [
       "992"
      ]
     },
     "execution_count": 26,
     "metadata": {},
     "output_type": "execute_result"
    }
   ],
   "source": [
    "# df_2019.start_station_name.value_counts()\n",
    "df_2019.start_station_name.nunique()"
   ]
  },
  {
   "cell_type": "code",
   "execution_count": null,
   "metadata": {},
   "outputs": [],
   "source": []
  },
  {
   "cell_type": "code",
   "execution_count": null,
   "metadata": {},
   "outputs": [],
   "source": []
  },
  {
   "cell_type": "code",
   "execution_count": 30,
   "metadata": {},
   "outputs": [
    {
     "name": "stdout",
     "output_type": "stream",
     "text": [
      " * sqlite:////Users/michaellink/Desktop/__NYCDSA/_Projects/Capstone/data/citibike/sqlite/citi_bike.db\n",
      "Done.\n"
     ]
    }
   ],
   "source": [
    "results = %sql SELECT start_station_name from yr_2014;\n",
    "df_2014 = results.DataFrame()"
   ]
  },
  {
   "cell_type": "code",
   "execution_count": 32,
   "metadata": {},
   "outputs": [
    {
     "data": {
      "text/plain": [
       "344"
      ]
     },
     "execution_count": 32,
     "metadata": {},
     "output_type": "execute_result"
    }
   ],
   "source": [
    "# df_2019.start_station_name.value_counts()\n",
    "df_2014.start_station_name.nunique()"
   ]
  },
  {
   "cell_type": "code",
   "execution_count": null,
   "metadata": {},
   "outputs": [],
   "source": []
  },
  {
   "cell_type": "code",
   "execution_count": null,
   "metadata": {},
   "outputs": [],
   "source": []
  },
  {
   "cell_type": "code",
   "execution_count": 33,
   "metadata": {},
   "outputs": [
    {
     "name": "stdout",
     "output_type": "stream",
     "text": [
      " * sqlite:////Users/michaellink/Desktop/__NYCDSA/_Projects/Capstone/data/citibike/sqlite/citi_bike.db\n",
      "Done.\n"
     ]
    }
   ],
   "source": [
    "results = %sql SELECT start_station_name from yr_2015;\n",
    "df_2015 = results.DataFrame()"
   ]
  },
  {
   "cell_type": "code",
   "execution_count": 35,
   "metadata": {},
   "outputs": [
    {
     "data": {
      "text/plain": [
       "532"
      ]
     },
     "execution_count": 35,
     "metadata": {},
     "output_type": "execute_result"
    }
   ],
   "source": [
    "# df_2019.start_station_name.value_counts()\n",
    "df_2015.start_station_name.nunique()"
   ]
  },
  {
   "cell_type": "markdown",
   "metadata": {},
   "source": [
    "### Future Direction\n",
    "- pick global random sampling method\n",
    "    - count unique imbalanced features and calculate ratio \n",
    "        - (dock station A is 24% of global population, dock station B is 13% of global population, etc.)\n",
    "    - run multiple times with various subsample ratio (1% subsample, 5% subsample, 10% subsample)\n",
    "        - (dock station A is 22% of subsample population, dock station B is 16% of subsample population, etc.)\n",
    "    - plot histogram of subsample "
   ]
  },
  {
   "cell_type": "code",
   "execution_count": null,
   "metadata": {},
   "outputs": [],
   "source": []
  }
 ],
 "metadata": {
  "kernelspec": {
   "display_name": "Python 3",
   "language": "python",
   "name": "python3"
  },
  "language_info": {
   "codemirror_mode": {
    "name": "ipython",
    "version": 3
   },
   "file_extension": ".py",
   "mimetype": "text/x-python",
   "name": "python",
   "nbconvert_exporter": "python",
   "pygments_lexer": "ipython3",
   "version": "3.7.6"
  }
 },
 "nbformat": 4,
 "nbformat_minor": 4
}
