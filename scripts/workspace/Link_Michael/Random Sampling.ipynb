{
 "cells": [
  {
   "cell_type": "markdown",
   "metadata": {},
   "source": [
    "### Random Sampling Validation and Dataset Creation!\n",
    "\n",
    "<br> \n",
    "\n",
    "##### In this notebook we aim to\n",
    "- Count proportion of imbalanced features from each year (global truth)\n",
    "- Speedily and randomly select from sql database\n",
    "- Count proportion of imbalanced features from each year and each random sample (sampled truth)\n",
    "- Compare global truth and sampled truth and deem acceptibility\n",
    "\n",
    "<br>\n",
    "\n",
    "#### Steps to getting there:\n",
    "- import yearly database tables\n",
    "    - get count of imbalanced features\n",
    "    - calculate the ratio\n",
    "    - store results\n",
    "- import random subsample of yearly database\n",
    "    - repeat above\n",
    "- compare the global and local proportions graphically\n",
    "- after sampling is acceptable then save the csv"
   ]
  },
  {
   "cell_type": "markdown",
   "metadata": {},
   "source": [
    "### Import relevant libraries"
   ]
  },
  {
   "cell_type": "code",
   "execution_count": 2,
   "metadata": {},
   "outputs": [],
   "source": [
    "import pandas as pd\n",
    "import matplotlib.pyplot as plt\n",
    "import random\n",
    "import seaborn as sns\n",
    "from matplotlib.ticker import PercentFormatter\n",
    "import numpy as np"
   ]
  },
  {
   "cell_type": "markdown",
   "metadata": {},
   "source": [
    "### Creating connection to local sqlite database"
   ]
  },
  {
   "cell_type": "code",
   "execution_count": 3,
   "metadata": {},
   "outputs": [],
   "source": [
    "# !pip install ipython-sql\n",
    "%load_ext sql\n",
    "%sql sqlite:////Users/michaellink/Desktop/__NYCDSA/_Projects/Capstone/data/citibike/sqlite/citi_bike_yr.db"
   ]
  },
  {
   "cell_type": "markdown",
   "metadata": {},
   "source": [
    "### Comparing the global 'truth' and local 'representation' of imbalanced features"
   ]
  },
  {
   "cell_type": "markdown",
   "metadata": {},
   "source": [
    "#### Global - Proportion of rides taken from each station"
   ]
  },
  {
   "cell_type": "code",
   "execution_count": null,
   "metadata": {
    "scrolled": true
   },
   "outputs": [],
   "source": [
    "%%time\n",
    "# sql query for total rides from station\n",
    "result = %sql SELECT start_station_name, SUM (counter) from yr_2019 GROUP BY start_station_name;\n",
    "# convert into pandas df\n",
    "df_station_global = result.DataFrame()\n",
    "# sort descending\n",
    "df_station_global.sort_values(by=['SUM (counter)'], inplace=True, ascending=False)\n",
    "# rename column\n",
    "df_station_global.rename(columns={\"SUM (counter)\": \"num_rides\"}, inplace=True)\n",
    "# getting proportion of rides from each station\n",
    "df_station_global['percent_rides'] = 100 * (df_station_global['num_rides'] / df_station_global['num_rides'].sum())\n",
    "# displaying results\n",
    "df_station_global.head(2)"
   ]
  },
  {
   "cell_type": "markdown",
   "metadata": {},
   "source": [
    "#### Local - Proportion of rides taken from each station"
   ]
  },
  {
   "cell_type": "code",
   "execution_count": null,
   "metadata": {
    "scrolled": false
   },
   "outputs": [],
   "source": [
    "%%time\n",
    "# sql query to get 5% random sample\n",
    "result = %sql SELECT * FROM yr_2019 WHERE abs(CAST(random() AS REAL))/9223372036854775808 < 0.05;\n",
    "# convert into pandas df\n",
    "df_station_local = result.DataFrame()\n",
    "# group by station name and sum occurences\n",
    "df_station_local = df_station_local.groupby(['start_station_name'])['counter'].sum().reset_index()\n",
    "# sort descending\n",
    "df_station_local.sort_values(by=['counter'], inplace=True, ascending=False)\n",
    "# rename column\n",
    "df_station_local.rename(columns={\"counter\": \"num_rides\"}, inplace=True)\n",
    "# getting proportion of rides from each station\n",
    "df_station_local['percent_rides'] = 100 * (df_station_local['num_rides'] / df_station_local['num_rides'].sum())\n",
    "# displaying results\n",
    "df_station_local.head(2)\n",
    "df_station_local.tail(10)\n",
    "\n",
    "# Size of subsampled csv is 50kb\n",
    "# df_station_local.to_csv('size.csv') "
   ]
  },
  {
   "cell_type": "markdown",
   "metadata": {},
   "source": [
    "#### Function to perform sample validation (i.e. is our sample representative?)"
   ]
  },
  {
   "cell_type": "code",
   "execution_count": null,
   "metadata": {},
   "outputs": [],
   "source": [
    "def sample_validation(df_station_global = df_station_global,\n",
    "                      df_station_local = df_station_local,\n",
    "                      num_samples = 3,\n",
    "                      ratio_grab = 0.05):\n",
    "    \n",
    "    # Prepare data FOR the LOOP\n",
    "    df_station_global_for_loop = df_station_global.drop(['num_rides'], axis=1).rename(columns={\"percent_rides\": \"percent_global_rides\"}).set_index('start_station_name')\n",
    "    \n",
    "    # Perform first concatenation\n",
    "    # sql query to get 5% random sample\n",
    "    result = %sql SELECT * FROM yr_2019 WHERE abs(CAST(random() AS REAL))/9223372036854775808 < $ratio_grab;\n",
    "    # convert into pandas df\n",
    "    df_station_local = result.DataFrame()\n",
    "    # group by station name and sum occurences\n",
    "    df_station_local = df_station_local.groupby(['start_station_name'])['counter'].sum().reset_index()\n",
    "    # sort descending\n",
    "    df_station_local.sort_values(by=['counter'], inplace=True, ascending=False)\n",
    "    # rename column\n",
    "    df_station_local.rename(columns={\"counter\": \"num_rides\"}, inplace=True)\n",
    "    # getting proportion of rides from each station\n",
    "    df_station_local['percent_rides'] = 100 * (df_station_local['num_rides'] / df_station_local['num_rides'].sum())\n",
    "    # modify df_station_local to prepare for concatenation\n",
    "    df_station_local_for_loop = df_station_local.drop(['num_rides'], axis=1).set_index('start_station_name')\n",
    "    \n",
    "    # Do initial concatenation\n",
    "    df_station_sampling = pd.concat([df_station_global_for_loop, df_station_local_for_loop], axis=1, sort=False).reindex(df_station_global_for_loop.index)\n",
    "\n",
    "    # for loop to randomly sample from sql database then save results (proportion of rides taken from a station)\n",
    "    for x in range(0, (num_samples - 1)):\n",
    "        print(f'This is iteration {x}')\n",
    "        # sql query to get 5% random sample\n",
    "        result = %sql SELECT * FROM yr_2019 WHERE abs(CAST(random() AS REAL))/9223372036854775808 < $ratio_grab;\n",
    "        # convert into pandas df\n",
    "        df_station_local_for_loop = result.DataFrame()\n",
    "        # group by station name and sum occurences\n",
    "        df_station_local_for_loop = df_station_local_for_loop.groupby(['start_station_name'])['counter'].sum().reset_index()\n",
    "        # sort descending\n",
    "        df_station_local_for_loop.sort_values(by=['counter'], inplace=True, ascending=False)\n",
    "        # rename column\n",
    "        df_station_local_for_loop.rename(columns={\"counter\": \"num_rides\"}, inplace=True)\n",
    "        # getting proportion of rides from each station\n",
    "        df_station_local_for_loop['percent_rides'] = 100 * (df_station_local_for_loop['num_rides'] / df_station_local_for_loop['num_rides'].sum())\n",
    "        # modify df_station_local to prepare for concatenation\n",
    "        df_station_local_for_loop = df_station_local_for_loop.drop(['num_rides'], axis=1).set_index('start_station_name')\n",
    "        # concatenate this iteration of df_station_local\n",
    "        df_station_sampling = pd.concat([df_station_sampling, df_station_local_for_loop], axis=1, sort=False).reindex(df_station_sampling.index)\n",
    "\n",
    "    return df_station_sampling"
   ]
  },
  {
   "cell_type": "code",
   "execution_count": null,
   "metadata": {},
   "outputs": [],
   "source": [
    "# Grab 5% of the data. Do this 40 times. Save Results\n",
    "sample_five_percent_n_40 = sample_validation(num_samples = 40, ratio_grab = 0.05)"
   ]
  },
  {
   "cell_type": "code",
   "execution_count": null,
   "metadata": {},
   "outputs": [],
   "source": [
    "sample_five_percent_n_40.to_csv('five_percent_sample.csv')"
   ]
  },
  {
   "cell_type": "code",
   "execution_count": null,
   "metadata": {},
   "outputs": [],
   "source": [
    "# Grab 0.5% of the data. Do this 40 times. Save Results\n",
    "sample_one_half_percent_n_40 = sample_validation(num_samples = 40, ratio_grab = 0.005)"
   ]
  },
  {
   "cell_type": "code",
   "execution_count": null,
   "metadata": {},
   "outputs": [],
   "source": [
    "sample_one_half_percent_n_40.to_csv('one_half_percent_sample.csv')"
   ]
  },
  {
   "cell_type": "code",
   "execution_count": null,
   "metadata": {},
   "outputs": [],
   "source": [
    "# Grab 15% of the data. Do this 40 times. Save Results\n",
    "sample_fifteen_percent_n_40 = sample_validation(num_samples = 40, ratio_grab = 0.15)"
   ]
  },
  {
   "cell_type": "code",
   "execution_count": null,
   "metadata": {},
   "outputs": [],
   "source": [
    "sample_fifteen_percent_n_40.to_csv('fifteen_percent_sample.csv')"
   ]
  },
  {
   "cell_type": "markdown",
   "metadata": {},
   "source": [
    "### Conclusions"
   ]
  },
  {
   "cell_type": "code",
   "execution_count": null,
   "metadata": {},
   "outputs": [],
   "source": [
    "sample_fifteen_percent_n_40 = pd.read_csv('fifteen_percent_sample.csv')\n",
    "sample_five_percent_n_40 = pd.read_csv('five_percent_sample.csv')\n",
    "sample_one_half_percent_n_40 = pd.read_csv('one_half_percent_sample.csv')"
   ]
  },
  {
   "cell_type": "code",
   "execution_count": null,
   "metadata": {},
   "outputs": [],
   "source": [
    "sample_fifteen_percent_n_40.head(1)"
   ]
  },
  {
   "cell_type": "code",
   "execution_count": null,
   "metadata": {},
   "outputs": [],
   "source": [
    "fifteen = sample_fifteen_percent_n_40.copy().set_index('start_station_name')\n",
    "five = sample_five_percent_n_40.copy().set_index('start_station_name')\n",
    "half = sample_one_half_percent_n_40.copy().set_index('start_station_name')"
   ]
  },
  {
   "cell_type": "code",
   "execution_count": null,
   "metadata": {
    "scrolled": true
   },
   "outputs": [],
   "source": [
    "num = pd.DataFrame(half.isna().sum()).iloc[1:][0].mean()\n",
    "print(f'The average number of missed stations when using 1/2 % sampling is {num}.\\n')\n",
    "num = pd.DataFrame(five.isna().sum()).iloc[1:][0].mean()\n",
    "print(f'The average number of missed stations when using 5 % sampling is {num}.\\n')\n",
    "num = pd.DataFrame(fifteen.isna().sum()).iloc[1:][0].mean()\n",
    "print(f'The average number of missed stations when using 15 % sampling is {num}.\\n')"
   ]
  },
  {
   "cell_type": "code",
   "execution_count": null,
   "metadata": {},
   "outputs": [],
   "source": []
  },
  {
   "cell_type": "code",
   "execution_count": null,
   "metadata": {},
   "outputs": [],
   "source": [
    "correct = fifteen.copy().transpose().iloc[:1]\n",
    "fifteen = fifteen.copy().transpose().iloc[1:]\n",
    "five = five.copy().transpose().iloc[1:]\n",
    "half = half.copy().transpose().iloc[1:]"
   ]
  },
  {
   "cell_type": "code",
   "execution_count": null,
   "metadata": {},
   "outputs": [],
   "source": [
    "correct.head(2)"
   ]
  },
  {
   "cell_type": "code",
   "execution_count": null,
   "metadata": {
    "scrolled": true
   },
   "outputs": [],
   "source": [
    "# assign random number so we can look at a variety of station distributions\n",
    "wild = random.randrange(0, 39)\n",
    "\n",
    "# get station name associated with this random column\n",
    "station_name = correct.iloc[:,wild:wild+1].columns.to_list()[0]\n",
    "# get the true distribution\n",
    "correct_answer= correct.iloc[:,wild:wild+1].values.flatten()[0]\n",
    "\n",
    "x = fifteen.copy().iloc[:,wild:wild+1].values.flatten()\n",
    "plt.figure(figsize=(20,10)) \n",
    "result = plt.hist(x, bins=10, color='c', edgecolor='k', alpha=0.65)\n",
    "plt.axvline(x.mean(), color='r', linestyle='dashed', linewidth=2, label='Sample Mean of % Rides = '+str(round(x.mean(),2)))\n",
    "plt.axvline(correct_answer, color='g', linestyle='dashed', linewidth=2, label='Population % Rides = '+str(round(x.mean(),2)))\n",
    "plt.title(station_name+' for the 15% Subsample Iterated 40 Times')\n",
    "plt.xlabel('Percentage of Rides Taken From this Station in 2019')\n",
    "plt.ylabel('Frequency')\n",
    "plt.legend(loc='upper right')\n",
    "plt.show()\n"
   ]
  },
  {
   "cell_type": "code",
   "execution_count": null,
   "metadata": {},
   "outputs": [],
   "source": [
    "# assign random number so we can look at a variety of station distributions\n",
    "wild = random.randrange(0, 990)\n",
    "\n",
    "# get station name associated with this random column\n",
    "station_name = correct.iloc[:,wild:wild+1].columns.to_list()[0]\n",
    "# get the true distribution\n",
    "correct_answer= correct.iloc[:,wild:wild+1].values.flatten()[0]\n",
    "\n",
    "x = five.copy().iloc[:,wild:wild+1].values.flatten()\n",
    "plt.figure(figsize=(20,10)) \n",
    "result = plt.hist(x, bins=10, color='c', edgecolor='k', alpha=0.65)\n",
    "plt.axvline(x.mean(), color='r', linestyle='dashed', linewidth=2, label='Sample Mean of % Rides = '+str(round(x.mean(),2)))\n",
    "plt.axvline(correct_answer, color='g', linestyle='dashed', linewidth=2, label='Population % Rides = '+str(round(x.mean(),2)))\n",
    "plt.title(station_name+' for the 5% Subsample Iterated 40 Times')\n",
    "plt.xlabel('Percentage of Rides Taken From this Station in 2019')\n",
    "plt.ylabel('Frequency')\n",
    "plt.legend(loc='upper right')\n",
    "plt.show()\n"
   ]
  },
  {
   "cell_type": "code",
   "execution_count": null,
   "metadata": {},
   "outputs": [],
   "source": [
    "df = fifteen.copy().iloc[:,6:7]\n",
    "dfm = df.melt(var_name='columns')\n",
    "g = sns.FacetGrid(dfm, col='columns')\n",
    "g = (g.map(sns.distplot, 'value'))"
   ]
  },
  {
   "cell_type": "code",
   "execution_count": null,
   "metadata": {
    "scrolled": false
   },
   "outputs": [],
   "source": [
    "\n",
    "max_fifteen = fifteen.max().values.flatten()\n",
    "min_fifteen = fifteen.min().values.flatten()\n",
    "correct_values = correct.mean().values.flatten()\n",
    "percent_off_max = 100 * ( (max_fifteen - correct_values) / correct_values)\n",
    "weights = np.ones_like(correct_values) / len(correct_values)\n",
    "plt.figure(figsize=(20,7)) \n",
    "result = plt.hist(percent_off_max, bins=25, color='c', edgecolor='k', alpha=0.65, weights=weights)\n",
    "plt.xticks(np.arange(0, 360, 10))\n",
    "plt.gca().yaxis.set_major_formatter(PercentFormatter(1))\n",
    "plt.title('Percent Correct From 15% Sample >>> 100 * ( Max - Correct / Correct )')\n",
    "plt.xlabel('Percentage Deviation from Correct # of Rides Taken From this Station in 2019')\n",
    "plt.ylabel('Percent of Samples Falling Within Bin')\n",
    "plt.show()"
   ]
  },
  {
   "cell_type": "code",
   "execution_count": null,
   "metadata": {
    "scrolled": true
   },
   "outputs": [],
   "source": [
    "\n",
    "max_five = five.max().values.flatten()\n",
    "min_five = five.min().values.flatten()\n",
    "correct_values = correct.mean().values.flatten()\n",
    "percent_off_max = 100 * ( (max_five - correct_values) / correct_values)\n",
    "weights = np.ones_like(correct_values) / len(correct_values)\n",
    "plt.figure(figsize=(20,10)) \n",
    "result = plt.hist(percent_off_max, bins=25, color='c', edgecolor='k', alpha=0.65, weights=weights)\n",
    "# plt.xticks(np.arange(0, 360, 10))\n",
    "plt.gca().yaxis.set_major_formatter(PercentFormatter(1))\n",
    "plt.title('Percent Correct From 5% Sample>>> 100 * ( Max - Correct / Correct )')\n",
    "plt.show()"
   ]
  },
  {
   "cell_type": "code",
   "execution_count": null,
   "metadata": {},
   "outputs": [],
   "source": [
    "min_fifteen = fifteen.min().values.flatten()\n",
    "correct_values = correct.mean().values.flatten()\n",
    "percent_off_min = 100 * ( (correct_values - min_fifteen) / correct_values)\n",
    "weights = np.ones_like(correct_values) / len(correct_values)\n",
    "plt.figure(figsize=(20,7)) \n",
    "result = plt.hist(percent_off_min, bins=25, color='c', edgecolor='k', alpha=0.65, weights=weights)\n",
    "plt.xticks(np.arange(-130, 100, 10))\n",
    "plt.gca().yaxis.set_major_formatter(PercentFormatter(1))\n",
    "plt.title('Percent Correct From 15% Sample >>> 100 * ( Correct - Min / Correct )')\n",
    "plt.show()"
   ]
  },
  {
   "cell_type": "code",
   "execution_count": null,
   "metadata": {},
   "outputs": [],
   "source": [
    "min_five = five.min().values.flatten()\n",
    "correct_values = correct.mean().values.flatten()\n",
    "percent_off_min = 100 * ( (correct_values - min_five) / correct_values)\n",
    "weights = np.ones_like(correct_values) / len(correct_values)\n",
    "plt.figure(figsize=(20,7)) \n",
    "result = plt.hist(percent_off_min, bins=25, color='c', edgecolor='k', alpha=0.65, weights=weights)\n",
    "# plt.xticks(np.arange(-130, 100, 10))\n",
    "plt.gca().yaxis.set_major_formatter(PercentFormatter(1))\n",
    "plt.title('Percent Correct From 5% Sample >>> 100 * ( Correct - Min / Correct )')\n",
    "plt.show()"
   ]
  },
  {
   "cell_type": "code",
   "execution_count": null,
   "metadata": {},
   "outputs": [],
   "source": [
    "max_five = five.max().values.flatten()\n",
    "min_five = five.min().values.flatten()\n",
    "correct_values = correct.mean().values.flatten()\n",
    "percent_off_max = 100 * ( (max_five - correct_values) / correct_values)\n",
    "percent_off_min = 100 * ( (correct_values - min_five) / correct_values)\n",
    "\n",
    "med_max_diff = round(np.median(percent_off_max),2)\n",
    "med_min_diff = round(np.median(percent_off_min),2)\n",
    "\n",
    "print(f'The median percent difference for the 5% sample is {med_max_diff} when using the max and {med_min_diff} when using the min.\\n')\n",
    "\n",
    "max_fifteen = fifteen.max().values.flatten()\n",
    "min_fifteen = fifteen.min().values.flatten()\n",
    "correct_values = correct.mean().values.flatten()\n",
    "percent_off_max = 100 * ( (max_fifteen - correct_values) / correct_values)\n",
    "percent_off_min = 100 * ( (correct_values - min_fifteen) / correct_values)\n",
    "\n",
    "med_max_diff = round(np.median(percent_off_max),2)\n",
    "med_min_diff = round(np.median(percent_off_min),2)\n",
    "\n",
    "print(f'The median percent difference for the 5% sample is {med_max_diff} when using the max and {med_min_diff} when using the min.\\n')"
   ]
  },
  {
   "cell_type": "code",
   "execution_count": null,
   "metadata": {},
   "outputs": [],
   "source": []
  },
  {
   "cell_type": "code",
   "execution_count": null,
   "metadata": {},
   "outputs": [],
   "source": []
  },
  {
   "cell_type": "code",
   "execution_count": null,
   "metadata": {},
   "outputs": [],
   "source": []
  },
  {
   "cell_type": "code",
   "execution_count": null,
   "metadata": {},
   "outputs": [],
   "source": []
  },
  {
   "cell_type": "code",
   "execution_count": null,
   "metadata": {},
   "outputs": [],
   "source": []
  },
  {
   "cell_type": "code",
   "execution_count": null,
   "metadata": {},
   "outputs": [],
   "source": []
  },
  {
   "cell_type": "code",
   "execution_count": null,
   "metadata": {},
   "outputs": [],
   "source": []
  },
  {
   "cell_type": "code",
   "execution_count": null,
   "metadata": {},
   "outputs": [],
   "source": []
  },
  {
   "cell_type": "code",
   "execution_count": null,
   "metadata": {},
   "outputs": [],
   "source": []
  },
  {
   "cell_type": "code",
   "execution_count": null,
   "metadata": {},
   "outputs": [],
   "source": []
  },
  {
   "cell_type": "code",
   "execution_count": null,
   "metadata": {},
   "outputs": [],
   "source": []
  },
  {
   "cell_type": "markdown",
   "metadata": {},
   "source": [
    "### Data Export Using 15% Subsample"
   ]
  },
  {
   "cell_type": "code",
   "execution_count": 4,
   "metadata": {},
   "outputs": [
    {
     "name": "stdout",
     "output_type": "stream",
     "text": [
      " * sqlite:////Users/michaellink/Desktop/__NYCDSA/_Projects/Capstone/data/citibike/sqlite/citi_bike_yr.db\n",
      "Done.\n"
     ]
    },
    {
     "data": {
      "text/html": [
       "<div>\n",
       "<style scoped>\n",
       "    .dataframe tbody tr th:only-of-type {\n",
       "        vertical-align: middle;\n",
       "    }\n",
       "\n",
       "    .dataframe tbody tr th {\n",
       "        vertical-align: top;\n",
       "    }\n",
       "\n",
       "    .dataframe thead th {\n",
       "        text-align: right;\n",
       "    }\n",
       "</style>\n",
       "<table border=\"1\" class=\"dataframe\">\n",
       "  <thead>\n",
       "    <tr style=\"text-align: right;\">\n",
       "      <th></th>\n",
       "      <th>tripduration</th>\n",
       "      <th>starttime</th>\n",
       "      <th>stoptime</th>\n",
       "      <th>start_station_id</th>\n",
       "      <th>start_station_name</th>\n",
       "      <th>start_station_latitude</th>\n",
       "      <th>start_station_longitude</th>\n",
       "      <th>end_station_id</th>\n",
       "      <th>end_station_name</th>\n",
       "      <th>end_station_latitude</th>\n",
       "      <th>end_station_longitude</th>\n",
       "      <th>bikeid</th>\n",
       "      <th>usertype</th>\n",
       "      <th>birth_year</th>\n",
       "      <th>gender</th>\n",
       "      <th>counter</th>\n",
       "      <th>year</th>\n",
       "      <th>age</th>\n",
       "    </tr>\n",
       "  </thead>\n",
       "  <tbody>\n",
       "    <tr>\n",
       "      <th>0</th>\n",
       "      <td>114.0</td>\n",
       "      <td>2020-01-01 00:03:49.8380</td>\n",
       "      <td>2020-01-01 00:05:44.1390</td>\n",
       "      <td>274</td>\n",
       "      <td>Lafayette Ave &amp; Fort Greene Pl</td>\n",
       "      <td>40.686919</td>\n",
       "      <td>-73.976682</td>\n",
       "      <td>416</td>\n",
       "      <td>Cumberland St &amp; Lafayette Ave</td>\n",
       "      <td>40.687534</td>\n",
       "      <td>-73.972652</td>\n",
       "      <td>14936</td>\n",
       "      <td>Subscriber</td>\n",
       "      <td>1991</td>\n",
       "      <td>1</td>\n",
       "      <td>1</td>\n",
       "      <td>2020</td>\n",
       "      <td>29</td>\n",
       "    </tr>\n",
       "    <tr>\n",
       "      <th>1</th>\n",
       "      <td>1095.0</td>\n",
       "      <td>2020-01-01 00:05:36.6700</td>\n",
       "      <td>2020-01-01 00:23:52.0200</td>\n",
       "      <td>514</td>\n",
       "      <td>12 Ave &amp; W 40 St</td>\n",
       "      <td>40.760875</td>\n",
       "      <td>-74.002777</td>\n",
       "      <td>405</td>\n",
       "      <td>Washington St &amp; Gansevoort St</td>\n",
       "      <td>40.739323</td>\n",
       "      <td>-74.008119</td>\n",
       "      <td>30266</td>\n",
       "      <td>Customer</td>\n",
       "      <td>2001</td>\n",
       "      <td>2</td>\n",
       "      <td>1</td>\n",
       "      <td>2020</td>\n",
       "      <td>19</td>\n",
       "    </tr>\n",
       "    <tr>\n",
       "      <th>2</th>\n",
       "      <td>579.0</td>\n",
       "      <td>2020-01-01 00:05:59.9140</td>\n",
       "      <td>2020-01-01 00:15:39.6350</td>\n",
       "      <td>3349</td>\n",
       "      <td>Grand Army Plaza &amp; Plaza St West</td>\n",
       "      <td>40.672968</td>\n",
       "      <td>-73.970880</td>\n",
       "      <td>3411</td>\n",
       "      <td>Bond St &amp; Bergen St</td>\n",
       "      <td>40.684967</td>\n",
       "      <td>-73.986208</td>\n",
       "      <td>39925</td>\n",
       "      <td>Subscriber</td>\n",
       "      <td>1961</td>\n",
       "      <td>1</td>\n",
       "      <td>1</td>\n",
       "      <td>2020</td>\n",
       "      <td>59</td>\n",
       "    </tr>\n",
       "  </tbody>\n",
       "</table>\n",
       "</div>"
      ],
      "text/plain": [
       "   tripduration                 starttime                  stoptime  \\\n",
       "0         114.0  2020-01-01 00:03:49.8380  2020-01-01 00:05:44.1390   \n",
       "1        1095.0  2020-01-01 00:05:36.6700  2020-01-01 00:23:52.0200   \n",
       "2         579.0  2020-01-01 00:05:59.9140  2020-01-01 00:15:39.6350   \n",
       "\n",
       "   start_station_id                start_station_name  start_station_latitude  \\\n",
       "0               274    Lafayette Ave & Fort Greene Pl               40.686919   \n",
       "1               514                  12 Ave & W 40 St               40.760875   \n",
       "2              3349  Grand Army Plaza & Plaza St West               40.672968   \n",
       "\n",
       "   start_station_longitude  end_station_id               end_station_name  \\\n",
       "0               -73.976682             416  Cumberland St & Lafayette Ave   \n",
       "1               -74.002777             405  Washington St & Gansevoort St   \n",
       "2               -73.970880            3411            Bond St & Bergen St   \n",
       "\n",
       "   end_station_latitude  end_station_longitude  bikeid    usertype  \\\n",
       "0             40.687534             -73.972652   14936  Subscriber   \n",
       "1             40.739323             -74.008119   30266    Customer   \n",
       "2             40.684967             -73.986208   39925  Subscriber   \n",
       "\n",
       "   birth_year  gender  counter  year  age  \n",
       "0        1991       1        1  2020   29  \n",
       "1        2001       2        1  2020   19  \n",
       "2        1961       1        1  2020   59  "
      ]
     },
     "execution_count": 4,
     "metadata": {},
     "output_type": "execute_result"
    }
   ],
   "source": [
    "# sql query to get 10% random sample\n",
    "result = %sql SELECT * FROM yr_2020 WHERE abs(CAST(random() AS REAL))/9223372036854775808 < 0.15;\n",
    "# convert into pandas df\n",
    "yr_2020 = result.DataFrame()\n",
    "yr_2020.drop(columns=['dummy'], inplace=True)\n",
    "# send to csv\n",
    "yr_2020.to_csv('./rand_10/yr_2020.csv', index=False)\n",
    "yr_2020.head(3)"
   ]
  },
  {
   "cell_type": "code",
   "execution_count": 5,
   "metadata": {},
   "outputs": [],
   "source": [
    "del yr_2020"
   ]
  },
  {
   "cell_type": "code",
   "execution_count": 7,
   "metadata": {},
   "outputs": [
    {
     "name": "stdout",
     "output_type": "stream",
     "text": [
      " * sqlite:////Users/michaellink/Desktop/__NYCDSA/_Projects/Capstone/data/citibike/sqlite/citi_bike_yr.db\n",
      "Done.\n"
     ]
    },
    {
     "data": {
      "text/html": [
       "<div>\n",
       "<style scoped>\n",
       "    .dataframe tbody tr th:only-of-type {\n",
       "        vertical-align: middle;\n",
       "    }\n",
       "\n",
       "    .dataframe tbody tr th {\n",
       "        vertical-align: top;\n",
       "    }\n",
       "\n",
       "    .dataframe thead th {\n",
       "        text-align: right;\n",
       "    }\n",
       "</style>\n",
       "<table border=\"1\" class=\"dataframe\">\n",
       "  <thead>\n",
       "    <tr style=\"text-align: right;\">\n",
       "      <th></th>\n",
       "      <th>tripduration</th>\n",
       "      <th>starttime</th>\n",
       "      <th>stoptime</th>\n",
       "      <th>start_station_id</th>\n",
       "      <th>start_station_name</th>\n",
       "      <th>start_station_latitude</th>\n",
       "      <th>start_station_longitude</th>\n",
       "      <th>end_station_id</th>\n",
       "      <th>end_station_name</th>\n",
       "      <th>end_station_latitude</th>\n",
       "      <th>end_station_longitude</th>\n",
       "      <th>bikeid</th>\n",
       "      <th>usertype</th>\n",
       "      <th>birth_year</th>\n",
       "      <th>gender</th>\n",
       "      <th>counter</th>\n",
       "      <th>year</th>\n",
       "      <th>age</th>\n",
       "    </tr>\n",
       "  </thead>\n",
       "  <tbody>\n",
       "    <tr>\n",
       "      <th>0</th>\n",
       "      <td>505.0</td>\n",
       "      <td>2019-01-01 00:18:45.1180</td>\n",
       "      <td>2019-01-01 00:27:10.5990</td>\n",
       "      <td>3132</td>\n",
       "      <td>E 59 St &amp; Madison Ave</td>\n",
       "      <td>40.763505</td>\n",
       "      <td>-73.971092</td>\n",
       "      <td>359</td>\n",
       "      <td>E 47 St &amp; Park Ave</td>\n",
       "      <td>40.755103</td>\n",
       "      <td>-73.974987</td>\n",
       "      <td>31801</td>\n",
       "      <td>Subscriber</td>\n",
       "      <td>1981</td>\n",
       "      <td>1</td>\n",
       "      <td>1</td>\n",
       "      <td>2019</td>\n",
       "      <td>38</td>\n",
       "    </tr>\n",
       "    <tr>\n",
       "      <th>1</th>\n",
       "      <td>537.0</td>\n",
       "      <td>2019-01-01 00:21:42.7480</td>\n",
       "      <td>2019-01-01 00:30:40.4410</td>\n",
       "      <td>3231</td>\n",
       "      <td>E 67 St &amp; Park Ave</td>\n",
       "      <td>40.767801</td>\n",
       "      <td>-73.965921</td>\n",
       "      <td>519</td>\n",
       "      <td>Pershing Square North</td>\n",
       "      <td>40.751873</td>\n",
       "      <td>-73.977706</td>\n",
       "      <td>30089</td>\n",
       "      <td>Subscriber</td>\n",
       "      <td>1996</td>\n",
       "      <td>1</td>\n",
       "      <td>1</td>\n",
       "      <td>2019</td>\n",
       "      <td>23</td>\n",
       "    </tr>\n",
       "    <tr>\n",
       "      <th>2</th>\n",
       "      <td>3491.0</td>\n",
       "      <td>2019-01-01 00:27:17.1280</td>\n",
       "      <td>2019-01-01 01:25:28.2510</td>\n",
       "      <td>3574</td>\n",
       "      <td>Prospect Pl &amp; Underhill Ave</td>\n",
       "      <td>40.676969</td>\n",
       "      <td>-73.965790</td>\n",
       "      <td>432</td>\n",
       "      <td>E 7 St &amp; Avenue A</td>\n",
       "      <td>40.726218</td>\n",
       "      <td>-73.983799</td>\n",
       "      <td>32404</td>\n",
       "      <td>Subscriber</td>\n",
       "      <td>1994</td>\n",
       "      <td>1</td>\n",
       "      <td>1</td>\n",
       "      <td>2019</td>\n",
       "      <td>25</td>\n",
       "    </tr>\n",
       "  </tbody>\n",
       "</table>\n",
       "</div>"
      ],
      "text/plain": [
       "   tripduration                 starttime                  stoptime  \\\n",
       "0         505.0  2019-01-01 00:18:45.1180  2019-01-01 00:27:10.5990   \n",
       "1         537.0  2019-01-01 00:21:42.7480  2019-01-01 00:30:40.4410   \n",
       "2        3491.0  2019-01-01 00:27:17.1280  2019-01-01 01:25:28.2510   \n",
       "\n",
       "  start_station_id           start_station_name  start_station_latitude  \\\n",
       "0             3132        E 59 St & Madison Ave               40.763505   \n",
       "1             3231           E 67 St & Park Ave               40.767801   \n",
       "2             3574  Prospect Pl & Underhill Ave               40.676969   \n",
       "\n",
       "   start_station_longitude end_station_id       end_station_name  \\\n",
       "0               -73.971092            359     E 47 St & Park Ave   \n",
       "1               -73.965921            519  Pershing Square North   \n",
       "2               -73.965790            432      E 7 St & Avenue A   \n",
       "\n",
       "   end_station_latitude  end_station_longitude  bikeid    usertype  \\\n",
       "0             40.755103             -73.974987   31801  Subscriber   \n",
       "1             40.751873             -73.977706   30089  Subscriber   \n",
       "2             40.726218             -73.983799   32404  Subscriber   \n",
       "\n",
       "   birth_year  gender  counter  year  age  \n",
       "0        1981       1        1  2019   38  \n",
       "1        1996       1        1  2019   23  \n",
       "2        1994       1        1  2019   25  "
      ]
     },
     "execution_count": 7,
     "metadata": {},
     "output_type": "execute_result"
    }
   ],
   "source": [
    "# sql query to get 10% random sample\n",
    "result = %sql SELECT * FROM yr_2019 WHERE abs(CAST(random() AS REAL))/9223372036854775808 < 0.15;\n",
    "# convert into pandas df\n",
    "yr_2019 = result.DataFrame()\n",
    "yr_2019.drop(columns=['dummy'], inplace=True)\n",
    "# send to csv\n",
    "yr_2019.to_csv('./rand_10/yr_2019.csv', index=False)\n",
    "yr_2019.head(3)"
   ]
  },
  {
   "cell_type": "code",
   "execution_count": 8,
   "metadata": {},
   "outputs": [],
   "source": [
    "del yr_2019"
   ]
  },
  {
   "cell_type": "code",
   "execution_count": 9,
   "metadata": {},
   "outputs": [
    {
     "name": "stdout",
     "output_type": "stream",
     "text": [
      " * sqlite:////Users/michaellink/Desktop/__NYCDSA/_Projects/Capstone/data/citibike/sqlite/citi_bike_yr.db\n",
      "Done.\n"
     ]
    },
    {
     "data": {
      "text/html": [
       "<div>\n",
       "<style scoped>\n",
       "    .dataframe tbody tr th:only-of-type {\n",
       "        vertical-align: middle;\n",
       "    }\n",
       "\n",
       "    .dataframe tbody tr th {\n",
       "        vertical-align: top;\n",
       "    }\n",
       "\n",
       "    .dataframe thead th {\n",
       "        text-align: right;\n",
       "    }\n",
       "</style>\n",
       "<table border=\"1\" class=\"dataframe\">\n",
       "  <thead>\n",
       "    <tr style=\"text-align: right;\">\n",
       "      <th></th>\n",
       "      <th>tripduration</th>\n",
       "      <th>starttime</th>\n",
       "      <th>stoptime</th>\n",
       "      <th>start_station_id</th>\n",
       "      <th>start_station_name</th>\n",
       "      <th>start_station_latitude</th>\n",
       "      <th>start_station_longitude</th>\n",
       "      <th>end_station_id</th>\n",
       "      <th>end_station_name</th>\n",
       "      <th>end_station_latitude</th>\n",
       "      <th>end_station_longitude</th>\n",
       "      <th>bikeid</th>\n",
       "      <th>usertype</th>\n",
       "      <th>birth_year</th>\n",
       "      <th>gender</th>\n",
       "      <th>counter</th>\n",
       "      <th>year</th>\n",
       "      <th>age</th>\n",
       "    </tr>\n",
       "  </thead>\n",
       "  <tbody>\n",
       "    <tr>\n",
       "      <th>0</th>\n",
       "      <td>306.0</td>\n",
       "      <td>2018-01-01 18:14:51.5680</td>\n",
       "      <td>2018-01-01 18:19:57.6420</td>\n",
       "      <td>72</td>\n",
       "      <td>W 52 St &amp; 11 Ave</td>\n",
       "      <td>40.767272</td>\n",
       "      <td>-73.993929</td>\n",
       "      <td>3356</td>\n",
       "      <td>Amsterdam Ave &amp; W 66 St</td>\n",
       "      <td>40.774667</td>\n",
       "      <td>-73.984706</td>\n",
       "      <td>30319</td>\n",
       "      <td>Subscriber</td>\n",
       "      <td>1992</td>\n",
       "      <td>1</td>\n",
       "      <td>1</td>\n",
       "      <td>2018</td>\n",
       "      <td>26</td>\n",
       "    </tr>\n",
       "    <tr>\n",
       "      <th>1</th>\n",
       "      <td>434.0</td>\n",
       "      <td>2018-01-02 08:06:14.3310</td>\n",
       "      <td>2018-01-02 08:13:28.7670</td>\n",
       "      <td>72</td>\n",
       "      <td>W 52 St &amp; 11 Ave</td>\n",
       "      <td>40.767272</td>\n",
       "      <td>-73.993929</td>\n",
       "      <td>173</td>\n",
       "      <td>Broadway &amp; W 49 St</td>\n",
       "      <td>40.760683</td>\n",
       "      <td>-73.984527</td>\n",
       "      <td>30525</td>\n",
       "      <td>Subscriber</td>\n",
       "      <td>1983</td>\n",
       "      <td>1</td>\n",
       "      <td>1</td>\n",
       "      <td>2018</td>\n",
       "      <td>35</td>\n",
       "    </tr>\n",
       "    <tr>\n",
       "      <th>2</th>\n",
       "      <td>1200.0</td>\n",
       "      <td>2018-01-02 10:23:18.8800</td>\n",
       "      <td>2018-01-02 10:43:18.9110</td>\n",
       "      <td>72</td>\n",
       "      <td>W 52 St &amp; 11 Ave</td>\n",
       "      <td>40.767272</td>\n",
       "      <td>-73.993929</td>\n",
       "      <td>127</td>\n",
       "      <td>Barrow St &amp; Hudson St</td>\n",
       "      <td>40.731724</td>\n",
       "      <td>-74.006744</td>\n",
       "      <td>30257</td>\n",
       "      <td>Subscriber</td>\n",
       "      <td>1974</td>\n",
       "      <td>1</td>\n",
       "      <td>1</td>\n",
       "      <td>2018</td>\n",
       "      <td>44</td>\n",
       "    </tr>\n",
       "  </tbody>\n",
       "</table>\n",
       "</div>"
      ],
      "text/plain": [
       "   tripduration                 starttime                  stoptime  \\\n",
       "0         306.0  2018-01-01 18:14:51.5680  2018-01-01 18:19:57.6420   \n",
       "1         434.0  2018-01-02 08:06:14.3310  2018-01-02 08:13:28.7670   \n",
       "2        1200.0  2018-01-02 10:23:18.8800  2018-01-02 10:43:18.9110   \n",
       "\n",
       "  start_station_id start_station_name  start_station_latitude  \\\n",
       "0               72   W 52 St & 11 Ave               40.767272   \n",
       "1               72   W 52 St & 11 Ave               40.767272   \n",
       "2               72   W 52 St & 11 Ave               40.767272   \n",
       "\n",
       "   start_station_longitude end_station_id         end_station_name  \\\n",
       "0               -73.993929           3356  Amsterdam Ave & W 66 St   \n",
       "1               -73.993929            173       Broadway & W 49 St   \n",
       "2               -73.993929            127    Barrow St & Hudson St   \n",
       "\n",
       "   end_station_latitude  end_station_longitude  bikeid    usertype  \\\n",
       "0             40.774667             -73.984706   30319  Subscriber   \n",
       "1             40.760683             -73.984527   30525  Subscriber   \n",
       "2             40.731724             -74.006744   30257  Subscriber   \n",
       "\n",
       "   birth_year  gender  counter  year  age  \n",
       "0        1992       1        1  2018   26  \n",
       "1        1983       1        1  2018   35  \n",
       "2        1974       1        1  2018   44  "
      ]
     },
     "execution_count": 9,
     "metadata": {},
     "output_type": "execute_result"
    }
   ],
   "source": [
    "# sql query to get 10% random sample\n",
    "result = %sql SELECT * FROM yr_2018 WHERE abs(CAST(random() AS REAL))/9223372036854775808 < 0.15;\n",
    "# convert into pandas df\n",
    "yr_2018 = result.DataFrame()\n",
    "yr_2018.drop(columns=['dummy'], inplace=True)\n",
    "# send to csv\n",
    "yr_2018.to_csv('./rand_10/yr_2018.csv', index=False)\n",
    "yr_2018.head(3)"
   ]
  },
  {
   "cell_type": "code",
   "execution_count": 10,
   "metadata": {},
   "outputs": [],
   "source": [
    "del yr_2018"
   ]
  },
  {
   "cell_type": "code",
   "execution_count": 11,
   "metadata": {},
   "outputs": [
    {
     "name": "stdout",
     "output_type": "stream",
     "text": [
      " * sqlite:////Users/michaellink/Desktop/__NYCDSA/_Projects/Capstone/data/citibike/sqlite/citi_bike_yr.db\n",
      "Done.\n"
     ]
    },
    {
     "data": {
      "text/html": [
       "<div>\n",
       "<style scoped>\n",
       "    .dataframe tbody tr th:only-of-type {\n",
       "        vertical-align: middle;\n",
       "    }\n",
       "\n",
       "    .dataframe tbody tr th {\n",
       "        vertical-align: top;\n",
       "    }\n",
       "\n",
       "    .dataframe thead th {\n",
       "        text-align: right;\n",
       "    }\n",
       "</style>\n",
       "<table border=\"1\" class=\"dataframe\">\n",
       "  <thead>\n",
       "    <tr style=\"text-align: right;\">\n",
       "      <th></th>\n",
       "      <th>tripduration</th>\n",
       "      <th>starttime</th>\n",
       "      <th>stoptime</th>\n",
       "      <th>start_station_id</th>\n",
       "      <th>start_station_name</th>\n",
       "      <th>start_station_latitude</th>\n",
       "      <th>start_station_longitude</th>\n",
       "      <th>end_station_id</th>\n",
       "      <th>end_station_name</th>\n",
       "      <th>end_station_latitude</th>\n",
       "      <th>end_station_longitude</th>\n",
       "      <th>bikeid</th>\n",
       "      <th>usertype</th>\n",
       "      <th>birth_year</th>\n",
       "      <th>gender</th>\n",
       "      <th>counter</th>\n",
       "      <th>year</th>\n",
       "      <th>age</th>\n",
       "    </tr>\n",
       "  </thead>\n",
       "  <tbody>\n",
       "    <tr>\n",
       "      <th>0</th>\n",
       "      <td>631.0</td>\n",
       "      <td>2017-01-01 00:01:10</td>\n",
       "      <td>2017-01-01 00:11:42</td>\n",
       "      <td>3143</td>\n",
       "      <td>5 Ave &amp; E 78 St</td>\n",
       "      <td>40.776829</td>\n",
       "      <td>-73.963888</td>\n",
       "      <td>3152</td>\n",
       "      <td>3 Ave &amp; E 71 St</td>\n",
       "      <td>40.768737</td>\n",
       "      <td>-73.961199</td>\n",
       "      <td>21211</td>\n",
       "      <td>Customer</td>\n",
       "      <td></td>\n",
       "      <td>0</td>\n",
       "      <td>1</td>\n",
       "      <td>2017</td>\n",
       "      <td>2017</td>\n",
       "    </tr>\n",
       "    <tr>\n",
       "      <th>1</th>\n",
       "      <td>559.0</td>\n",
       "      <td>2017-01-01 00:05:00</td>\n",
       "      <td>2017-01-01 00:14:20</td>\n",
       "      <td>499</td>\n",
       "      <td>Broadway &amp; W 60 St</td>\n",
       "      <td>40.769155</td>\n",
       "      <td>-73.981918</td>\n",
       "      <td>479</td>\n",
       "      <td>9 Ave &amp; W 45 St</td>\n",
       "      <td>40.760193</td>\n",
       "      <td>-73.991255</td>\n",
       "      <td>27294</td>\n",
       "      <td>Subscriber</td>\n",
       "      <td>1973</td>\n",
       "      <td>1</td>\n",
       "      <td>1</td>\n",
       "      <td>2017</td>\n",
       "      <td>44</td>\n",
       "    </tr>\n",
       "    <tr>\n",
       "      <th>2</th>\n",
       "      <td>1504.0</td>\n",
       "      <td>2017-01-01 00:09:29</td>\n",
       "      <td>2017-01-01 00:34:34</td>\n",
       "      <td>423</td>\n",
       "      <td>W 54 St &amp; 9 Ave</td>\n",
       "      <td>40.765849</td>\n",
       "      <td>-73.986905</td>\n",
       "      <td>3263</td>\n",
       "      <td>Cooper Square &amp; E 7 St</td>\n",
       "      <td>40.729236</td>\n",
       "      <td>-73.990868</td>\n",
       "      <td>17810</td>\n",
       "      <td>Subscriber</td>\n",
       "      <td>1994</td>\n",
       "      <td>1</td>\n",
       "      <td>1</td>\n",
       "      <td>2017</td>\n",
       "      <td>23</td>\n",
       "    </tr>\n",
       "  </tbody>\n",
       "</table>\n",
       "</div>"
      ],
      "text/plain": [
       "   tripduration            starttime             stoptime  start_station_id  \\\n",
       "0         631.0  2017-01-01 00:01:10  2017-01-01 00:11:42              3143   \n",
       "1         559.0  2017-01-01 00:05:00  2017-01-01 00:14:20               499   \n",
       "2        1504.0  2017-01-01 00:09:29  2017-01-01 00:34:34               423   \n",
       "\n",
       "   start_station_name  start_station_latitude  start_station_longitude  \\\n",
       "0     5 Ave & E 78 St               40.776829               -73.963888   \n",
       "1  Broadway & W 60 St               40.769155               -73.981918   \n",
       "2     W 54 St & 9 Ave               40.765849               -73.986905   \n",
       "\n",
       "   end_station_id        end_station_name  end_station_latitude  \\\n",
       "0            3152         3 Ave & E 71 St             40.768737   \n",
       "1             479         9 Ave & W 45 St             40.760193   \n",
       "2            3263  Cooper Square & E 7 St             40.729236   \n",
       "\n",
       "   end_station_longitude  bikeid    usertype birth_year  gender  counter  \\\n",
       "0             -73.961199   21211    Customer                  0        1   \n",
       "1             -73.991255   27294  Subscriber       1973       1        1   \n",
       "2             -73.990868   17810  Subscriber       1994       1        1   \n",
       "\n",
       "   year   age  \n",
       "0  2017  2017  \n",
       "1  2017    44  \n",
       "2  2017    23  "
      ]
     },
     "execution_count": 11,
     "metadata": {},
     "output_type": "execute_result"
    }
   ],
   "source": [
    "# sql query to get 10% random sample\n",
    "result = %sql SELECT * FROM yr_2017 WHERE abs(CAST(random() AS REAL))/9223372036854775808 < 0.15;\n",
    "# convert into pandas df\n",
    "yr_2017 = result.DataFrame()\n",
    "yr_2017.drop(columns=['dummy'], inplace=True)\n",
    "# send to csv\n",
    "yr_2017.to_csv('./rand_10/yr_2017.csv', index=False)\n",
    "yr_2017.head(3)"
   ]
  },
  {
   "cell_type": "code",
   "execution_count": 12,
   "metadata": {},
   "outputs": [],
   "source": [
    "del yr_2017"
   ]
  },
  {
   "cell_type": "code",
   "execution_count": 13,
   "metadata": {},
   "outputs": [
    {
     "name": "stdout",
     "output_type": "stream",
     "text": [
      " * sqlite:////Users/michaellink/Desktop/__NYCDSA/_Projects/Capstone/data/citibike/sqlite/citi_bike_yr.db\n",
      "Done.\n"
     ]
    },
    {
     "data": {
      "text/html": [
       "<div>\n",
       "<style scoped>\n",
       "    .dataframe tbody tr th:only-of-type {\n",
       "        vertical-align: middle;\n",
       "    }\n",
       "\n",
       "    .dataframe tbody tr th {\n",
       "        vertical-align: top;\n",
       "    }\n",
       "\n",
       "    .dataframe thead th {\n",
       "        text-align: right;\n",
       "    }\n",
       "</style>\n",
       "<table border=\"1\" class=\"dataframe\">\n",
       "  <thead>\n",
       "    <tr style=\"text-align: right;\">\n",
       "      <th></th>\n",
       "      <th>tripduration</th>\n",
       "      <th>starttime</th>\n",
       "      <th>stoptime</th>\n",
       "      <th>start_station_id</th>\n",
       "      <th>start_station_name</th>\n",
       "      <th>start_station_latitude</th>\n",
       "      <th>start_station_longitude</th>\n",
       "      <th>end_station_id</th>\n",
       "      <th>end_station_name</th>\n",
       "      <th>end_station_latitude</th>\n",
       "      <th>end_station_longitude</th>\n",
       "      <th>bikeid</th>\n",
       "      <th>usertype</th>\n",
       "      <th>birth_year</th>\n",
       "      <th>gender</th>\n",
       "      <th>counter</th>\n",
       "      <th>year</th>\n",
       "      <th>age</th>\n",
       "    </tr>\n",
       "  </thead>\n",
       "  <tbody>\n",
       "    <tr>\n",
       "      <th>0</th>\n",
       "      <td>889.0</td>\n",
       "      <td>1/1/2016 00:01:06</td>\n",
       "      <td>1/1/2016 00:15:56</td>\n",
       "      <td>268</td>\n",
       "      <td>Howard St &amp; Centre St</td>\n",
       "      <td>40.719105</td>\n",
       "      <td>-73.999733</td>\n",
       "      <td>3002</td>\n",
       "      <td>South End Ave &amp; Liberty St</td>\n",
       "      <td>40.711512</td>\n",
       "      <td>-74.015756</td>\n",
       "      <td>22794</td>\n",
       "      <td>Subscriber</td>\n",
       "      <td>1961</td>\n",
       "      <td>2</td>\n",
       "      <td>1</td>\n",
       "      <td>2016</td>\n",
       "      <td>55</td>\n",
       "    </tr>\n",
       "    <tr>\n",
       "      <th>1</th>\n",
       "      <td>1480.0</td>\n",
       "      <td>1/1/2016 00:01:12</td>\n",
       "      <td>1/1/2016 00:25:52</td>\n",
       "      <td>2006</td>\n",
       "      <td>Central Park S &amp; 6 Ave</td>\n",
       "      <td>40.765909</td>\n",
       "      <td>-73.976342</td>\n",
       "      <td>2006</td>\n",
       "      <td>Central Park S &amp; 6 Ave</td>\n",
       "      <td>40.765909</td>\n",
       "      <td>-73.976342</td>\n",
       "      <td>14562</td>\n",
       "      <td>Subscriber</td>\n",
       "      <td>1952</td>\n",
       "      <td>1</td>\n",
       "      <td>1</td>\n",
       "      <td>2016</td>\n",
       "      <td>64</td>\n",
       "    </tr>\n",
       "    <tr>\n",
       "      <th>2</th>\n",
       "      <td>479.0</td>\n",
       "      <td>1/1/2016 00:08:42</td>\n",
       "      <td>1/1/2016 00:16:42</td>\n",
       "      <td>3117</td>\n",
       "      <td>Franklin St &amp; Dupont St</td>\n",
       "      <td>40.735640</td>\n",
       "      <td>-73.958660</td>\n",
       "      <td>3104</td>\n",
       "      <td>Kent Ave &amp; N 7 St</td>\n",
       "      <td>40.720577</td>\n",
       "      <td>-73.961502</td>\n",
       "      <td>23563</td>\n",
       "      <td>Subscriber</td>\n",
       "      <td>1993</td>\n",
       "      <td>1</td>\n",
       "      <td>1</td>\n",
       "      <td>2016</td>\n",
       "      <td>23</td>\n",
       "    </tr>\n",
       "  </tbody>\n",
       "</table>\n",
       "</div>"
      ],
      "text/plain": [
       "   tripduration          starttime           stoptime  start_station_id  \\\n",
       "0         889.0  1/1/2016 00:01:06  1/1/2016 00:15:56               268   \n",
       "1        1480.0  1/1/2016 00:01:12  1/1/2016 00:25:52              2006   \n",
       "2         479.0  1/1/2016 00:08:42  1/1/2016 00:16:42              3117   \n",
       "\n",
       "        start_station_name  start_station_latitude  start_station_longitude  \\\n",
       "0    Howard St & Centre St               40.719105               -73.999733   \n",
       "1   Central Park S & 6 Ave               40.765909               -73.976342   \n",
       "2  Franklin St & Dupont St               40.735640               -73.958660   \n",
       "\n",
       "   end_station_id            end_station_name  end_station_latitude  \\\n",
       "0            3002  South End Ave & Liberty St             40.711512   \n",
       "1            2006      Central Park S & 6 Ave             40.765909   \n",
       "2            3104           Kent Ave & N 7 St             40.720577   \n",
       "\n",
       "   end_station_longitude  bikeid    usertype birth_year  gender  counter  \\\n",
       "0             -74.015756   22794  Subscriber       1961       2        1   \n",
       "1             -73.976342   14562  Subscriber       1952       1        1   \n",
       "2             -73.961502   23563  Subscriber       1993       1        1   \n",
       "\n",
       "   year  age  \n",
       "0  2016   55  \n",
       "1  2016   64  \n",
       "2  2016   23  "
      ]
     },
     "execution_count": 13,
     "metadata": {},
     "output_type": "execute_result"
    }
   ],
   "source": [
    "# sql query to get 10% random sample\n",
    "result = %sql SELECT * FROM yr_2016 WHERE abs(CAST(random() AS REAL))/9223372036854775808 < 0.15;\n",
    "# convert into pandas df\n",
    "yr_2016 = result.DataFrame()\n",
    "yr_2016.drop(columns=['dummy'], inplace=True)\n",
    "# send to csv\n",
    "yr_2016.to_csv('./rand_10/yr_2016.csv', index=False)\n",
    "yr_2016.head(3)"
   ]
  },
  {
   "cell_type": "code",
   "execution_count": 14,
   "metadata": {},
   "outputs": [],
   "source": [
    "del yr_2016"
   ]
  },
  {
   "cell_type": "code",
   "execution_count": 15,
   "metadata": {},
   "outputs": [
    {
     "name": "stdout",
     "output_type": "stream",
     "text": [
      " * sqlite:////Users/michaellink/Desktop/__NYCDSA/_Projects/Capstone/data/citibike/sqlite/citi_bike_yr.db\n",
      "Done.\n"
     ]
    },
    {
     "data": {
      "text/html": [
       "<div>\n",
       "<style scoped>\n",
       "    .dataframe tbody tr th:only-of-type {\n",
       "        vertical-align: middle;\n",
       "    }\n",
       "\n",
       "    .dataframe tbody tr th {\n",
       "        vertical-align: top;\n",
       "    }\n",
       "\n",
       "    .dataframe thead th {\n",
       "        text-align: right;\n",
       "    }\n",
       "</style>\n",
       "<table border=\"1\" class=\"dataframe\">\n",
       "  <thead>\n",
       "    <tr style=\"text-align: right;\">\n",
       "      <th></th>\n",
       "      <th>tripduration</th>\n",
       "      <th>starttime</th>\n",
       "      <th>stoptime</th>\n",
       "      <th>start_station_id</th>\n",
       "      <th>start_station_name</th>\n",
       "      <th>start_station_latitude</th>\n",
       "      <th>start_station_longitude</th>\n",
       "      <th>end_station_id</th>\n",
       "      <th>end_station_name</th>\n",
       "      <th>end_station_latitude</th>\n",
       "      <th>end_station_longitude</th>\n",
       "      <th>bikeid</th>\n",
       "      <th>usertype</th>\n",
       "      <th>birth_year</th>\n",
       "      <th>gender</th>\n",
       "      <th>counter</th>\n",
       "      <th>year</th>\n",
       "      <th>age</th>\n",
       "    </tr>\n",
       "  </thead>\n",
       "  <tbody>\n",
       "    <tr>\n",
       "      <th>0</th>\n",
       "      <td>496.0</td>\n",
       "      <td>1/1/2015 0:07</td>\n",
       "      <td>1/1/2015 0:15</td>\n",
       "      <td>512</td>\n",
       "      <td>W 29 St &amp; 9 Ave</td>\n",
       "      <td>40.750073</td>\n",
       "      <td>-73.998393</td>\n",
       "      <td>383</td>\n",
       "      <td>Greenwich Ave &amp; Charles St</td>\n",
       "      <td>40.735238</td>\n",
       "      <td>-74.000271</td>\n",
       "      <td>20788</td>\n",
       "      <td>Subscriber</td>\n",
       "      <td>1969</td>\n",
       "      <td>2</td>\n",
       "      <td>1</td>\n",
       "      <td>2015</td>\n",
       "      <td>46</td>\n",
       "    </tr>\n",
       "    <tr>\n",
       "      <th>1</th>\n",
       "      <td>540.0</td>\n",
       "      <td>1/1/2015 0:10</td>\n",
       "      <td>1/1/2015 0:19</td>\n",
       "      <td>291</td>\n",
       "      <td>Madison St &amp; Montgomery St</td>\n",
       "      <td>40.713126</td>\n",
       "      <td>-73.984844</td>\n",
       "      <td>151</td>\n",
       "      <td>Cleveland Pl &amp; Spring St</td>\n",
       "      <td>40.721816</td>\n",
       "      <td>-73.997203</td>\n",
       "      <td>16947</td>\n",
       "      <td>Subscriber</td>\n",
       "      <td>1979</td>\n",
       "      <td>1</td>\n",
       "      <td>1</td>\n",
       "      <td>2015</td>\n",
       "      <td>36</td>\n",
       "    </tr>\n",
       "    <tr>\n",
       "      <th>2</th>\n",
       "      <td>1196.0</td>\n",
       "      <td>1/1/2015 0:16</td>\n",
       "      <td>1/1/2015 0:36</td>\n",
       "      <td>466</td>\n",
       "      <td>W 25 St &amp; 6 Ave</td>\n",
       "      <td>40.743954</td>\n",
       "      <td>-73.991449</td>\n",
       "      <td>454</td>\n",
       "      <td>E 51 St &amp; 1 Ave</td>\n",
       "      <td>40.754557</td>\n",
       "      <td>-73.965930</td>\n",
       "      <td>20683</td>\n",
       "      <td>Subscriber</td>\n",
       "      <td>1971</td>\n",
       "      <td>1</td>\n",
       "      <td>1</td>\n",
       "      <td>2015</td>\n",
       "      <td>44</td>\n",
       "    </tr>\n",
       "  </tbody>\n",
       "</table>\n",
       "</div>"
      ],
      "text/plain": [
       "   tripduration      starttime       stoptime  start_station_id  \\\n",
       "0         496.0  1/1/2015 0:07  1/1/2015 0:15               512   \n",
       "1         540.0  1/1/2015 0:10  1/1/2015 0:19               291   \n",
       "2        1196.0  1/1/2015 0:16  1/1/2015 0:36               466   \n",
       "\n",
       "           start_station_name  start_station_latitude  \\\n",
       "0             W 29 St & 9 Ave               40.750073   \n",
       "1  Madison St & Montgomery St               40.713126   \n",
       "2             W 25 St & 6 Ave               40.743954   \n",
       "\n",
       "   start_station_longitude  end_station_id            end_station_name  \\\n",
       "0               -73.998393             383  Greenwich Ave & Charles St   \n",
       "1               -73.984844             151    Cleveland Pl & Spring St   \n",
       "2               -73.991449             454             E 51 St & 1 Ave   \n",
       "\n",
       "   end_station_latitude  end_station_longitude  bikeid    usertype birth_year  \\\n",
       "0             40.735238             -74.000271   20788  Subscriber       1969   \n",
       "1             40.721816             -73.997203   16947  Subscriber       1979   \n",
       "2             40.754557             -73.965930   20683  Subscriber       1971   \n",
       "\n",
       "   gender  counter  year  age  \n",
       "0       2        1  2015   46  \n",
       "1       1        1  2015   36  \n",
       "2       1        1  2015   44  "
      ]
     },
     "execution_count": 15,
     "metadata": {},
     "output_type": "execute_result"
    }
   ],
   "source": [
    "# sql query to get 10% random sample\n",
    "result = %sql SELECT * FROM yr_2015 WHERE abs(CAST(random() AS REAL))/9223372036854775808 < 0.15;\n",
    "# convert into pandas df\n",
    "yr_2015 = result.DataFrame()\n",
    "yr_2015.drop(columns=['dummy'], inplace=True)\n",
    "# send to csv\n",
    "yr_2015.to_csv('./rand_10/yr_2015.csv', index=False)\n",
    "yr_2015.head(3)"
   ]
  },
  {
   "cell_type": "code",
   "execution_count": 16,
   "metadata": {},
   "outputs": [],
   "source": [
    "del yr_2015"
   ]
  },
  {
   "cell_type": "code",
   "execution_count": 17,
   "metadata": {},
   "outputs": [
    {
     "name": "stdout",
     "output_type": "stream",
     "text": [
      " * sqlite:////Users/michaellink/Desktop/__NYCDSA/_Projects/Capstone/data/citibike/sqlite/citi_bike_yr.db\n",
      "Done.\n"
     ]
    },
    {
     "data": {
      "text/html": [
       "<div>\n",
       "<style scoped>\n",
       "    .dataframe tbody tr th:only-of-type {\n",
       "        vertical-align: middle;\n",
       "    }\n",
       "\n",
       "    .dataframe tbody tr th {\n",
       "        vertical-align: top;\n",
       "    }\n",
       "\n",
       "    .dataframe thead th {\n",
       "        text-align: right;\n",
       "    }\n",
       "</style>\n",
       "<table border=\"1\" class=\"dataframe\">\n",
       "  <thead>\n",
       "    <tr style=\"text-align: right;\">\n",
       "      <th></th>\n",
       "      <th>tripduration</th>\n",
       "      <th>starttime</th>\n",
       "      <th>stoptime</th>\n",
       "      <th>start_station_id</th>\n",
       "      <th>start_station_name</th>\n",
       "      <th>start_station_latitude</th>\n",
       "      <th>start_station_longitude</th>\n",
       "      <th>end_station_id</th>\n",
       "      <th>end_station_name</th>\n",
       "      <th>end_station_latitude</th>\n",
       "      <th>end_station_longitude</th>\n",
       "      <th>bikeid</th>\n",
       "      <th>usertype</th>\n",
       "      <th>birth_year</th>\n",
       "      <th>gender</th>\n",
       "      <th>counter</th>\n",
       "      <th>year</th>\n",
       "      <th>age</th>\n",
       "    </tr>\n",
       "  </thead>\n",
       "  <tbody>\n",
       "    <tr>\n",
       "      <th>0</th>\n",
       "      <td>330.0</td>\n",
       "      <td>2014-01-01 00:05:55</td>\n",
       "      <td>2014-01-01 00:11:25</td>\n",
       "      <td>422</td>\n",
       "      <td>W 59 St &amp; 10 Ave</td>\n",
       "      <td>40.770513</td>\n",
       "      <td>-73.988038</td>\n",
       "      <td>526</td>\n",
       "      <td>E 33 St &amp; 5 Ave</td>\n",
       "      <td>40.747659</td>\n",
       "      <td>-73.984907</td>\n",
       "      <td>17343</td>\n",
       "      <td>Subscriber</td>\n",
       "      <td>1987</td>\n",
       "      <td>1</td>\n",
       "      <td>1</td>\n",
       "      <td>2014</td>\n",
       "      <td>27</td>\n",
       "    </tr>\n",
       "    <tr>\n",
       "      <th>1</th>\n",
       "      <td>718.0</td>\n",
       "      <td>2014-01-01 00:09:32</td>\n",
       "      <td>2014-01-01 00:21:30</td>\n",
       "      <td>263</td>\n",
       "      <td>Elizabeth St &amp; Hester St</td>\n",
       "      <td>40.717290</td>\n",
       "      <td>-73.996375</td>\n",
       "      <td>251</td>\n",
       "      <td>Mott St &amp; Prince St</td>\n",
       "      <td>40.723180</td>\n",
       "      <td>-73.994800</td>\n",
       "      <td>15693</td>\n",
       "      <td>Customer</td>\n",
       "      <td>\\N</td>\n",
       "      <td>0</td>\n",
       "      <td>1</td>\n",
       "      <td>2014</td>\n",
       "      <td>2014</td>\n",
       "    </tr>\n",
       "    <tr>\n",
       "      <th>2</th>\n",
       "      <td>744.0</td>\n",
       "      <td>2014-01-01 00:12:23</td>\n",
       "      <td>2014-01-01 00:24:47</td>\n",
       "      <td>450</td>\n",
       "      <td>W 49 St &amp; 8 Ave</td>\n",
       "      <td>40.762272</td>\n",
       "      <td>-73.987882</td>\n",
       "      <td>505</td>\n",
       "      <td>6 Ave &amp; W 33 St</td>\n",
       "      <td>40.749013</td>\n",
       "      <td>-73.988484</td>\n",
       "      <td>15157</td>\n",
       "      <td>Subscriber</td>\n",
       "      <td>1976</td>\n",
       "      <td>1</td>\n",
       "      <td>1</td>\n",
       "      <td>2014</td>\n",
       "      <td>38</td>\n",
       "    </tr>\n",
       "  </tbody>\n",
       "</table>\n",
       "</div>"
      ],
      "text/plain": [
       "   tripduration            starttime             stoptime  start_station_id  \\\n",
       "0         330.0  2014-01-01 00:05:55  2014-01-01 00:11:25               422   \n",
       "1         718.0  2014-01-01 00:09:32  2014-01-01 00:21:30               263   \n",
       "2         744.0  2014-01-01 00:12:23  2014-01-01 00:24:47               450   \n",
       "\n",
       "         start_station_name  start_station_latitude  start_station_longitude  \\\n",
       "0          W 59 St & 10 Ave               40.770513               -73.988038   \n",
       "1  Elizabeth St & Hester St               40.717290               -73.996375   \n",
       "2           W 49 St & 8 Ave               40.762272               -73.987882   \n",
       "\n",
       "   end_station_id     end_station_name  end_station_latitude  \\\n",
       "0             526      E 33 St & 5 Ave             40.747659   \n",
       "1             251  Mott St & Prince St             40.723180   \n",
       "2             505      6 Ave & W 33 St             40.749013   \n",
       "\n",
       "   end_station_longitude  bikeid    usertype birth_year  gender  counter  \\\n",
       "0             -73.984907   17343  Subscriber       1987       1        1   \n",
       "1             -73.994800   15693    Customer         \\N       0        1   \n",
       "2             -73.988484   15157  Subscriber       1976       1        1   \n",
       "\n",
       "   year   age  \n",
       "0  2014    27  \n",
       "1  2014  2014  \n",
       "2  2014    38  "
      ]
     },
     "execution_count": 17,
     "metadata": {},
     "output_type": "execute_result"
    }
   ],
   "source": [
    "# sql query to get 10% random sample\n",
    "result = %sql SELECT * FROM yr_2014 WHERE abs(CAST(random() AS REAL))/9223372036854775808 < 0.15;\n",
    "# convert into pandas df\n",
    "yr_2014 = result.DataFrame()\n",
    "yr_2014.drop(columns=['dummy'], inplace=True)\n",
    "# send to csv\n",
    "yr_2014.to_csv('./rand_10/yr_2014.csv', index=False)\n",
    "yr_2014.head(3)"
   ]
  },
  {
   "cell_type": "code",
   "execution_count": 18,
   "metadata": {},
   "outputs": [],
   "source": [
    "del yr_2014"
   ]
  },
  {
   "cell_type": "code",
   "execution_count": 19,
   "metadata": {},
   "outputs": [
    {
     "name": "stdout",
     "output_type": "stream",
     "text": [
      " * sqlite:////Users/michaellink/Desktop/__NYCDSA/_Projects/Capstone/data/citibike/sqlite/citi_bike_yr.db\n",
      "Done.\n"
     ]
    },
    {
     "data": {
      "text/html": [
       "<div>\n",
       "<style scoped>\n",
       "    .dataframe tbody tr th:only-of-type {\n",
       "        vertical-align: middle;\n",
       "    }\n",
       "\n",
       "    .dataframe tbody tr th {\n",
       "        vertical-align: top;\n",
       "    }\n",
       "\n",
       "    .dataframe thead th {\n",
       "        text-align: right;\n",
       "    }\n",
       "</style>\n",
       "<table border=\"1\" class=\"dataframe\">\n",
       "  <thead>\n",
       "    <tr style=\"text-align: right;\">\n",
       "      <th></th>\n",
       "      <th>tripduration</th>\n",
       "      <th>starttime</th>\n",
       "      <th>stoptime</th>\n",
       "      <th>start_station_id</th>\n",
       "      <th>start_station_name</th>\n",
       "      <th>start_station_latitude</th>\n",
       "      <th>start_station_longitude</th>\n",
       "      <th>end_station_id</th>\n",
       "      <th>end_station_name</th>\n",
       "      <th>end_station_latitude</th>\n",
       "      <th>end_station_longitude</th>\n",
       "      <th>bikeid</th>\n",
       "      <th>usertype</th>\n",
       "      <th>birth_year</th>\n",
       "      <th>gender</th>\n",
       "      <th>counter</th>\n",
       "      <th>year</th>\n",
       "      <th>age</th>\n",
       "    </tr>\n",
       "  </thead>\n",
       "  <tbody>\n",
       "    <tr>\n",
       "      <th>0</th>\n",
       "      <td>456.0</td>\n",
       "      <td>2013-07-01 00:02:23</td>\n",
       "      <td>2013-07-01 00:09:59</td>\n",
       "      <td>146</td>\n",
       "      <td>Hudson St &amp; Reade St</td>\n",
       "      <td>40.716250</td>\n",
       "      <td>-74.009106</td>\n",
       "      <td>351</td>\n",
       "      <td>Front St &amp; Maiden Ln</td>\n",
       "      <td>40.7053</td>\n",
       "      <td>-74.0061</td>\n",
       "      <td>16321</td>\n",
       "      <td>Subscriber</td>\n",
       "      <td>1976</td>\n",
       "      <td>1</td>\n",
       "      <td>1</td>\n",
       "      <td>2013</td>\n",
       "      <td>37</td>\n",
       "    </tr>\n",
       "    <tr>\n",
       "      <th>1</th>\n",
       "      <td>311.0</td>\n",
       "      <td>2013-07-01 00:03:58</td>\n",
       "      <td>2013-07-01 00:09:09</td>\n",
       "      <td>494</td>\n",
       "      <td>W 26 St &amp; 8 Ave</td>\n",
       "      <td>40.747348</td>\n",
       "      <td>-73.997236</td>\n",
       "      <td>458</td>\n",
       "      <td>11 Ave &amp; W 27 St</td>\n",
       "      <td>40.7514</td>\n",
       "      <td>-74.0052</td>\n",
       "      <td>20595</td>\n",
       "      <td>Customer</td>\n",
       "      <td>\\N</td>\n",
       "      <td>0</td>\n",
       "      <td>1</td>\n",
       "      <td>2013</td>\n",
       "      <td>2013</td>\n",
       "    </tr>\n",
       "    <tr>\n",
       "      <th>2</th>\n",
       "      <td>318.0</td>\n",
       "      <td>2013-07-01 00:05:09</td>\n",
       "      <td>2013-07-01 00:10:27</td>\n",
       "      <td>406</td>\n",
       "      <td>Hicks St &amp; Montague St</td>\n",
       "      <td>40.695128</td>\n",
       "      <td>-73.995951</td>\n",
       "      <td>237</td>\n",
       "      <td>E 11 St &amp; 2 Ave</td>\n",
       "      <td>40.7305</td>\n",
       "      <td>-73.9867</td>\n",
       "      <td>19170</td>\n",
       "      <td>Subscriber</td>\n",
       "      <td>1983</td>\n",
       "      <td>2</td>\n",
       "      <td>1</td>\n",
       "      <td>2013</td>\n",
       "      <td>30</td>\n",
       "    </tr>\n",
       "  </tbody>\n",
       "</table>\n",
       "</div>"
      ],
      "text/plain": [
       "   tripduration            starttime             stoptime  start_station_id  \\\n",
       "0         456.0  2013-07-01 00:02:23  2013-07-01 00:09:59               146   \n",
       "1         311.0  2013-07-01 00:03:58  2013-07-01 00:09:09               494   \n",
       "2         318.0  2013-07-01 00:05:09  2013-07-01 00:10:27               406   \n",
       "\n",
       "       start_station_name  start_station_latitude  start_station_longitude  \\\n",
       "0    Hudson St & Reade St               40.716250               -74.009106   \n",
       "1         W 26 St & 8 Ave               40.747348               -73.997236   \n",
       "2  Hicks St & Montague St               40.695128               -73.995951   \n",
       "\n",
       "  end_station_id      end_station_name end_station_latitude  \\\n",
       "0            351  Front St & Maiden Ln              40.7053   \n",
       "1            458      11 Ave & W 27 St              40.7514   \n",
       "2            237       E 11 St & 2 Ave              40.7305   \n",
       "\n",
       "  end_station_longitude  bikeid    usertype birth_year  gender  counter  year  \\\n",
       "0              -74.0061   16321  Subscriber       1976       1        1  2013   \n",
       "1              -74.0052   20595    Customer         \\N       0        1  2013   \n",
       "2              -73.9867   19170  Subscriber       1983       2        1  2013   \n",
       "\n",
       "    age  \n",
       "0    37  \n",
       "1  2013  \n",
       "2    30  "
      ]
     },
     "execution_count": 19,
     "metadata": {},
     "output_type": "execute_result"
    }
   ],
   "source": [
    "# sql query to get 10% random sample\n",
    "result = %sql SELECT * FROM yr_2013 WHERE abs(CAST(random() AS REAL))/9223372036854775808 < 0.15;\n",
    "# convert into pandas df\n",
    "yr_2013 = result.DataFrame()\n",
    "yr_2013.drop(columns=['dummy'], inplace=True)\n",
    "# send to csv\n",
    "yr_2013.to_csv('./rand_10/yr_2013.csv', index=False)\n",
    "yr_2013.head(3)"
   ]
  },
  {
   "cell_type": "code",
   "execution_count": 20,
   "metadata": {},
   "outputs": [],
   "source": [
    "del yr_2013"
   ]
  },
  {
   "cell_type": "code",
   "execution_count": null,
   "metadata": {},
   "outputs": [],
   "source": []
  },
  {
   "cell_type": "code",
   "execution_count": null,
   "metadata": {},
   "outputs": [],
   "source": []
  },
  {
   "cell_type": "code",
   "execution_count": null,
   "metadata": {},
   "outputs": [],
   "source": []
  },
  {
   "cell_type": "code",
   "execution_count": null,
   "metadata": {},
   "outputs": [],
   "source": []
  },
  {
   "cell_type": "code",
   "execution_count": null,
   "metadata": {},
   "outputs": [],
   "source": [
    "# sql query to get 5% random sample\n",
    "result = %sql SELECT * FROM yr_2020 WHERE abs(CAST(random() AS REAL))/9223372036854775808 < 0.05;\n",
    "# convert into pandas df\n",
    "yr_2020 = result.DataFrame()\n",
    "yr_2020.drop(columns=['dummy'], inplace=True)\n",
    "# send to csv\n",
    "yr_2020.to_csv('./rand_5/yr_2020.csv', index=False)\n",
    "yr_2020.sample(5)"
   ]
  },
  {
   "cell_type": "code",
   "execution_count": null,
   "metadata": {},
   "outputs": [],
   "source": [
    "# sql query to get 5% random sample\n",
    "result = %sql SELECT * FROM yr_2019 WHERE abs(CAST(random() AS REAL))/9223372036854775808 < 0.05;\n",
    "# convert into pandas df\n",
    "yr_2019 = result.DataFrame()\n",
    "yr_2019.drop(columns=['dummy'], inplace=True)\n",
    "# # send to csv\n",
    "yr_2019.to_csv('./rand_5/yr_2019.csv', index=False)\n",
    "yr_2019.head()"
   ]
  },
  {
   "cell_type": "code",
   "execution_count": null,
   "metadata": {},
   "outputs": [],
   "source": [
    "# sql query to get 5% random sample\n",
    "result = %sql SELECT * FROM yr_2018 WHERE abs(CAST(random() AS REAL))/9223372036854775808 < 0.05;\n",
    "# convert into pandas df\n",
    "yr_2018 = result.DataFrame()\n",
    "yr_2018.drop(columns=['dummy'], inplace=True)\n",
    "# send to csv\n",
    "yr_2018.to_csv('./rand_5/yr_2018.csv', index=False)"
   ]
  },
  {
   "cell_type": "code",
   "execution_count": null,
   "metadata": {},
   "outputs": [],
   "source": [
    "# sql query to get 5% random sample\n",
    "result = %sql SELECT * FROM yr_2017 WHERE abs(CAST(random() AS REAL))/9223372036854775808 < 0.05;\n",
    "# convert into pandas df\n",
    "yr_2017 = result.DataFrame()\n",
    "yr_2017.drop(columns=['dummy'], inplace=True)\n",
    "# send to csv\n",
    "yr_2017.to_csv('./rand_5/yr_2017.csv', index=False)"
   ]
  },
  {
   "cell_type": "code",
   "execution_count": null,
   "metadata": {},
   "outputs": [],
   "source": [
    "# sql query to get 5% random sample\n",
    "result = %sql SELECT * FROM yr_2016 WHERE abs(CAST(random() AS REAL))/9223372036854775808 < 0.05;\n",
    "# convert into pandas df\n",
    "yr_2016 = result.DataFrame()\n",
    "yr_2016.drop(columns=['dummy'], inplace=True)\n",
    "# send to csv\n",
    "yr_2016.to_csv('./rand_5/yr_2016.csv', index=False)"
   ]
  },
  {
   "cell_type": "code",
   "execution_count": null,
   "metadata": {},
   "outputs": [],
   "source": [
    "# sql query to get 5% random sample\n",
    "result = %sql SELECT * FROM yr_2015 WHERE abs(CAST(random() AS REAL))/9223372036854775808 < 0.05;\n",
    "# convert into pandas df\n",
    "yr_2015 = result.DataFrame()\n",
    "yr_2015.drop(columns=['dummy'], inplace=True)\n",
    "# send to csv\n",
    "yr_2015.to_csv('./rand_5/yr_2015.csv', index=False)"
   ]
  },
  {
   "cell_type": "code",
   "execution_count": null,
   "metadata": {},
   "outputs": [],
   "source": [
    "# sql query to get 5% random sample\n",
    "result = %sql SELECT * FROM yr_2014 WHERE abs(CAST(random() AS REAL))/9223372036854775808 < 0.05;\n",
    "# convert into pandas df\n",
    "yr_2014 = result.DataFrame()\n",
    "yr_2014.drop(columns=['dummy'], inplace=True)\n",
    "# send to csv\n",
    "yr_2014.to_csv('./rand_5/yr_2014.csv', index=False)"
   ]
  },
  {
   "cell_type": "code",
   "execution_count": null,
   "metadata": {},
   "outputs": [],
   "source": [
    "# sql query to get 5% random sample\n",
    "result = %sql SELECT * FROM yr_2013 WHERE abs(CAST(random() AS REAL))/9223372036854775808 < 0.05;\n",
    "# convert into pandas df\n",
    "yr_2013 = result.DataFrame()\n",
    "yr_2013.drop(columns=['dummy'], inplace=True)\n",
    "# send to csv\n",
    "yr_2013.to_csv('./rand_5/yr_2013.csv', index=False)"
   ]
  },
  {
   "cell_type": "code",
   "execution_count": null,
   "metadata": {},
   "outputs": [],
   "source": [
    "yr_2020.head(2)"
   ]
  },
  {
   "cell_type": "code",
   "execution_count": null,
   "metadata": {},
   "outputs": [],
   "source": [
    "yr_2019.head(2)"
   ]
  },
  {
   "cell_type": "code",
   "execution_count": null,
   "metadata": {},
   "outputs": [],
   "source": [
    "yr_2018.head(2)"
   ]
  },
  {
   "cell_type": "code",
   "execution_count": null,
   "metadata": {},
   "outputs": [],
   "source": [
    "yr_2017.head(2)"
   ]
  },
  {
   "cell_type": "code",
   "execution_count": null,
   "metadata": {},
   "outputs": [],
   "source": [
    "yr_2016.head(2)"
   ]
  },
  {
   "cell_type": "code",
   "execution_count": null,
   "metadata": {},
   "outputs": [],
   "source": [
    "yr_2015.head(2)"
   ]
  },
  {
   "cell_type": "code",
   "execution_count": null,
   "metadata": {},
   "outputs": [],
   "source": [
    "yr_2014.head(2)"
   ]
  },
  {
   "cell_type": "code",
   "execution_count": null,
   "metadata": {},
   "outputs": [],
   "source": [
    "yr_2013.head(2)"
   ]
  },
  {
   "cell_type": "code",
   "execution_count": null,
   "metadata": {},
   "outputs": [],
   "source": []
  },
  {
   "cell_type": "code",
   "execution_count": null,
   "metadata": {},
   "outputs": [],
   "source": [
    "# convert into pandas df\n",
    "yr_2019.head()"
   ]
  },
  {
   "cell_type": "code",
   "execution_count": null,
   "metadata": {},
   "outputs": [],
   "source": []
  },
  {
   "cell_type": "code",
   "execution_count": null,
   "metadata": {},
   "outputs": [],
   "source": []
  },
  {
   "cell_type": "code",
   "execution_count": null,
   "metadata": {},
   "outputs": [],
   "source": []
  },
  {
   "cell_type": "code",
   "execution_count": null,
   "metadata": {},
   "outputs": [],
   "source": []
  },
  {
   "cell_type": "code",
   "execution_count": null,
   "metadata": {},
   "outputs": [],
   "source": []
  },
  {
   "cell_type": "code",
   "execution_count": null,
   "metadata": {},
   "outputs": [],
   "source": [
    "df_2019 = pd.read_csv('/Users/michaellink/Desktop/__NYCDSA/_Projects/Capstone/scripts/workspace/Link_Michael/tripdata/_2019/combined.csv', nrows=10)"
   ]
  },
  {
   "cell_type": "code",
   "execution_count": null,
   "metadata": {},
   "outputs": [],
   "source": [
    "df_2019.head()"
   ]
  },
  {
   "cell_type": "code",
   "execution_count": null,
   "metadata": {},
   "outputs": [],
   "source": []
  },
  {
   "cell_type": "code",
   "execution_count": null,
   "metadata": {},
   "outputs": [],
   "source": []
  },
  {
   "cell_type": "code",
   "execution_count": null,
   "metadata": {},
   "outputs": [],
   "source": []
  },
  {
   "cell_type": "code",
   "execution_count": null,
   "metadata": {},
   "outputs": [],
   "source": []
  },
  {
   "cell_type": "code",
   "execution_count": null,
   "metadata": {},
   "outputs": [],
   "source": []
  },
  {
   "cell_type": "code",
   "execution_count": null,
   "metadata": {},
   "outputs": [],
   "source": []
  },
  {
   "cell_type": "code",
   "execution_count": null,
   "metadata": {},
   "outputs": [],
   "source": []
  },
  {
   "cell_type": "code",
   "execution_count": null,
   "metadata": {},
   "outputs": [],
   "source": []
  },
  {
   "cell_type": "code",
   "execution_count": null,
   "metadata": {},
   "outputs": [],
   "source": []
  },
  {
   "cell_type": "code",
   "execution_count": null,
   "metadata": {},
   "outputs": [],
   "source": []
  },
  {
   "cell_type": "code",
   "execution_count": null,
   "metadata": {},
   "outputs": [],
   "source": []
  },
  {
   "cell_type": "code",
   "execution_count": null,
   "metadata": {},
   "outputs": [],
   "source": []
  },
  {
   "cell_type": "code",
   "execution_count": null,
   "metadata": {},
   "outputs": [],
   "source": []
  },
  {
   "cell_type": "code",
   "execution_count": null,
   "metadata": {},
   "outputs": [],
   "source": []
  },
  {
   "cell_type": "markdown",
   "metadata": {},
   "source": [
    "#### Global - Total number of stations"
   ]
  },
  {
   "cell_type": "code",
   "execution_count": null,
   "metadata": {},
   "outputs": [],
   "source": [
    "# get total number of distinct stations\n",
    "result = %sql SELECT COUNT (DISTINCT start_station_name) FROM yr_2019;\n",
    "num_station_global = result.DataFrame()\n",
    "num_station_global.rename(columns={\"COUNT (DISTINCT start_station_name)\": \"value\"}, inplace=True)\n",
    "num_station_global = num_station_global['value'].iloc[0]\n",
    "num_station_global"
   ]
  },
  {
   "cell_type": "markdown",
   "metadata": {},
   "source": [
    "#### Local - Total number of stations"
   ]
  },
  {
   "cell_type": "code",
   "execution_count": null,
   "metadata": {
    "scrolled": true
   },
   "outputs": [],
   "source": [
    "%%time\n",
    "# get total number of distinct stations\n",
    "# %sql SELECT COUNT (DISTINCT start_station_name) FROM yr_2019\n",
    "result = %sql SELECT COUNT (DISTINCT start_station_name) FROM yr_2019 WHERE abs(CAST(random() AS REAL))/9223372036854775808 < 0.05;\n",
    "    # can replace with pd dataframe later\n",
    "num_station_local = result.DataFrame()\n",
    "num_station_local.rename(columns={\"COUNT (DISTINCT start_station_name)\": \"value\"}, inplace=True)\n",
    "num_station_local = num_station_local['value'].iloc[0]\n",
    "num_station_local"
   ]
  },
  {
   "cell_type": "code",
   "execution_count": null,
   "metadata": {},
   "outputs": [],
   "source": []
  },
  {
   "cell_type": "code",
   "execution_count": null,
   "metadata": {},
   "outputs": [],
   "source": []
  },
  {
   "cell_type": "code",
   "execution_count": null,
   "metadata": {},
   "outputs": [],
   "source": []
  },
  {
   "cell_type": "code",
   "execution_count": null,
   "metadata": {},
   "outputs": [],
   "source": []
  },
  {
   "cell_type": "code",
   "execution_count": null,
   "metadata": {},
   "outputs": [],
   "source": []
  },
  {
   "cell_type": "code",
   "execution_count": null,
   "metadata": {},
   "outputs": [],
   "source": []
  },
  {
   "cell_type": "code",
   "execution_count": null,
   "metadata": {},
   "outputs": [],
   "source": []
  },
  {
   "cell_type": "code",
   "execution_count": null,
   "metadata": {},
   "outputs": [],
   "source": []
  },
  {
   "cell_type": "code",
   "execution_count": null,
   "metadata": {},
   "outputs": [],
   "source": []
  },
  {
   "cell_type": "markdown",
   "metadata": {},
   "source": [
    "#### Local - Experimentation to choose random sample method and to validate 5% grab"
   ]
  },
  {
   "cell_type": "code",
   "execution_count": null,
   "metadata": {
    "scrolled": false
   },
   "outputs": [],
   "source": [
    "%%time\n",
    "# [55 seconds]\n",
    "# Test on 5% grab of 2019 data with order by method\n",
    "# https://stackoverflow.com/questions/4114940/select-random-rows-in-sqlite\n",
    "result = %sql select * from yr_2019 order by random() limit 1048862;"
   ]
  },
  {
   "cell_type": "code",
   "execution_count": null,
   "metadata": {
    "scrolled": false
   },
   "outputs": [],
   "source": [
    "%%time\n",
    "# [17 seconds]\n",
    "# Test on 5% grab of 2019 data with abs method\n",
    "# https://stackoverflow.com/questions/4114940/select-random-rows-in-sqlite\n",
    "result = %sql SELECT * FROM yr_2019 WHERE abs(CAST(random() AS REAL))/9223372036854775808 < 0.05;"
   ]
  },
  {
   "cell_type": "code",
   "execution_count": null,
   "metadata": {
    "scrolled": true
   },
   "outputs": [],
   "source": [
    "%%time\n",
    "# [5 seconds]\n",
    "# Test on converting 5% grab of 2019 data into pandas dataframe\n",
    "# This contributes little to the overall time\n",
    "df_random_method_2 = result.DataFrame()\n",
    "print(df_random_method_2.shape)\n",
    "df_random_method_2.head(2)"
   ]
  },
  {
   "cell_type": "code",
   "execution_count": null,
   "metadata": {},
   "outputs": [],
   "source": [
    "# Verifying that our grab was truly 5%\n",
    "\n",
    "# Get total number of rows\n",
    "result = %sql SELECT COUNT(*) FROM yr_2019;\n",
    "num_observations = result.DataFrame()\n",
    "num_observations.rename(columns={\"COUNT(*)\": \"value\"}, inplace=True)\n",
    "num_observations = num_observations['value'].iloc[0]\n",
    "\n",
    "# Get number of rows from random sample\n",
    "num_row = df_random_method_2.shape[0]  \n",
    "\n",
    "# Calculate percentage\n",
    "percent = round(100 * ( num_row / num_observations), 2)\n",
    "print(f'The randomly sampled dataset is {percent} percent of the original dataset')"
   ]
  },
  {
   "cell_type": "code",
   "execution_count": null,
   "metadata": {},
   "outputs": [],
   "source": []
  },
  {
   "cell_type": "code",
   "execution_count": null,
   "metadata": {},
   "outputs": [],
   "source": []
  },
  {
   "cell_type": "code",
   "execution_count": null,
   "metadata": {},
   "outputs": [],
   "source": []
  },
  {
   "cell_type": "code",
   "execution_count": null,
   "metadata": {},
   "outputs": [],
   "source": []
  },
  {
   "cell_type": "code",
   "execution_count": null,
   "metadata": {},
   "outputs": [],
   "source": []
  },
  {
   "cell_type": "code",
   "execution_count": null,
   "metadata": {},
   "outputs": [],
   "source": []
  },
  {
   "cell_type": "code",
   "execution_count": null,
   "metadata": {},
   "outputs": [],
   "source": []
  },
  {
   "cell_type": "code",
   "execution_count": null,
   "metadata": {},
   "outputs": [],
   "source": []
  },
  {
   "cell_type": "code",
   "execution_count": null,
   "metadata": {},
   "outputs": [],
   "source": []
  },
  {
   "cell_type": "code",
   "execution_count": null,
   "metadata": {},
   "outputs": [],
   "source": [
    "%%time\n",
    "result = %sql SELECT * FROM yr_2020_test WHERE ID IN (SELECT ID FROM yr_2019 ORDER BY RANDOM() LIMIT 100)\n",
    "# select * from yr_2019 where random() <= .01;\n",
    "df_random = result.DataFrame()\n",
    "df_random.head(2)"
   ]
  },
  {
   "cell_type": "code",
   "execution_count": null,
   "metadata": {},
   "outputs": [],
   "source": []
  },
  {
   "cell_type": "code",
   "execution_count": null,
   "metadata": {},
   "outputs": [],
   "source": [
    "result = %sql SELECT * from yr_2019 WHERE random()<200 / (SELECT COUNT(1) from logs)::float ORDER BY random() LIMIT 100;\n",
    "# select * from yr_2019 where random() <= .01;\n",
    "df_random = result.DataFrame()\n",
    "df_random.head(2)"
   ]
  },
  {
   "cell_type": "code",
   "execution_count": null,
   "metadata": {},
   "outputs": [],
   "source": []
  },
  {
   "cell_type": "code",
   "execution_count": null,
   "metadata": {},
   "outputs": [],
   "source": []
  },
  {
   "cell_type": "code",
   "execution_count": null,
   "metadata": {},
   "outputs": [],
   "source": [
    "%%time\n",
    "# Order database randomly and take top %\n",
    "result = %sql select * from yr_2019 where random() <= .01;\n",
    "df_random = result.DataFrame()\n",
    "df_random.head(2)"
   ]
  },
  {
   "cell_type": "code",
   "execution_count": null,
   "metadata": {},
   "outputs": [],
   "source": [
    "%alias_magic t timeit"
   ]
  },
  {
   "cell_type": "code",
   "execution_count": null,
   "metadata": {},
   "outputs": [],
   "source": []
  },
  {
   "cell_type": "code",
   "execution_count": null,
   "metadata": {},
   "outputs": [],
   "source": []
  },
  {
   "cell_type": "code",
   "execution_count": null,
   "metadata": {},
   "outputs": [],
   "source": []
  },
  {
   "cell_type": "code",
   "execution_count": null,
   "metadata": {},
   "outputs": [],
   "source": []
  },
  {
   "cell_type": "code",
   "execution_count": null,
   "metadata": {},
   "outputs": [],
   "source": []
  },
  {
   "cell_type": "code",
   "execution_count": null,
   "metadata": {},
   "outputs": [],
   "source": []
  },
  {
   "cell_type": "code",
   "execution_count": null,
   "metadata": {},
   "outputs": [],
   "source": []
  },
  {
   "cell_type": "code",
   "execution_count": null,
   "metadata": {},
   "outputs": [],
   "source": []
  },
  {
   "cell_type": "code",
   "execution_count": null,
   "metadata": {},
   "outputs": [],
   "source": []
  },
  {
   "cell_type": "code",
   "execution_count": null,
   "metadata": {},
   "outputs": [],
   "source": []
  },
  {
   "cell_type": "code",
   "execution_count": null,
   "metadata": {},
   "outputs": [],
   "source": [
    "# Approximately 20 seconds. Not a big problem if we run once and save as csv\n",
    "results = %sql select * from yr_2019 order by random() limit 10;\n",
    "df_random = result.DataFrame()\n",
    "df_random.head(5)"
   ]
  },
  {
   "cell_type": "code",
   "execution_count": null,
   "metadata": {},
   "outputs": [],
   "source": []
  },
  {
   "cell_type": "code",
   "execution_count": null,
   "metadata": {},
   "outputs": [],
   "source": []
  },
  {
   "cell_type": "code",
   "execution_count": null,
   "metadata": {},
   "outputs": [],
   "source": []
  },
  {
   "cell_type": "code",
   "execution_count": null,
   "metadata": {},
   "outputs": [],
   "source": []
  },
  {
   "cell_type": "code",
   "execution_count": null,
   "metadata": {},
   "outputs": [],
   "source": []
  },
  {
   "cell_type": "code",
   "execution_count": null,
   "metadata": {},
   "outputs": [],
   "source": []
  }
 ],
 "metadata": {
  "kernelspec": {
   "display_name": "Python 3",
   "language": "python",
   "name": "python3"
  },
  "language_info": {
   "codemirror_mode": {
    "name": "ipython",
    "version": 3
   },
   "file_extension": ".py",
   "mimetype": "text/x-python",
   "name": "python",
   "nbconvert_exporter": "python",
   "pygments_lexer": "ipython3",
   "version": "3.7.6"
  }
 },
 "nbformat": 4,
 "nbformat_minor": 4
}
