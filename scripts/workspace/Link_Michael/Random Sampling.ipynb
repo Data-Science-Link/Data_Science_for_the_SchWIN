{
 "cells": [
  {
   "cell_type": "markdown",
   "metadata": {},
   "source": [
    "### Random Sampling Validation and Dataset Creation!\n",
    "\n",
    "<br> \n",
    "\n",
    "##### In this notebook we aim to\n",
    "- Count proportion of imbalanced features from each year (global truth)\n",
    "- Speedily and randomly select from sql database\n",
    "- Count proportion of imbalanced features from each year and each random sample (sampled truth)\n",
    "- Compare global truth and sampled truth and deem acceptibility\n",
    "\n",
    "<br>\n",
    "\n",
    "#### Steps to getting there:\n",
    "- import yearly database tables\n",
    "    - get count of imbalanced features\n",
    "    - calculate the ratio\n",
    "    - store results\n",
    "- import random subsample of yearly database\n",
    "    - repeat above\n",
    "- compare the global and local proportions graphically\n",
    "- after sampling is acceptable then save the csv"
   ]
  },
  {
   "cell_type": "markdown",
   "metadata": {},
   "source": [
    "### Import relevant libraries"
   ]
  },
  {
   "cell_type": "code",
   "execution_count": 1,
   "metadata": {},
   "outputs": [],
   "source": [
    "import pandas as pd\n",
    "import matplotlib.pyplot as plt\n",
    "import random\n",
    "import seaborn as sns\n",
    "from matplotlib.ticker import PercentFormatter\n",
    "import numpy as np"
   ]
  },
  {
   "cell_type": "markdown",
   "metadata": {},
   "source": [
    "### Creating connection to local sqlite database"
   ]
  },
  {
   "cell_type": "code",
   "execution_count": 2,
   "metadata": {},
   "outputs": [],
   "source": [
    "# !pip install ipython-sql\n",
    "%load_ext sql\n",
    "%sql sqlite:////Users/michaellink/Desktop/__NYCDSA/_Projects/Capstone/data/citibike/sqlite/citi_bike_year.db"
   ]
  },
  {
   "cell_type": "markdown",
   "metadata": {},
   "source": [
    "### Comparing the global 'truth' and local 'representation' of imbalanced features"
   ]
  },
  {
   "cell_type": "markdown",
   "metadata": {},
   "source": [
    "#### Global - Proportion of rides taken from each station"
   ]
  },
  {
   "cell_type": "code",
   "execution_count": 12,
   "metadata": {
    "scrolled": true
   },
   "outputs": [
    {
     "name": "stdout",
     "output_type": "stream",
     "text": [
      " * sqlite:////Users/michaellink/Desktop/__NYCDSA/_Projects/Capstone/data/citibike/sqlite/citi_bike_year.db\n",
      "Done.\n",
      "CPU times: user 15.2 s, sys: 4.41 s, total: 19.6 s\n",
      "Wall time: 29.9 s\n"
     ]
    },
    {
     "data": {
      "text/html": [
       "<div>\n",
       "<style scoped>\n",
       "    .dataframe tbody tr th:only-of-type {\n",
       "        vertical-align: middle;\n",
       "    }\n",
       "\n",
       "    .dataframe tbody tr th {\n",
       "        vertical-align: top;\n",
       "    }\n",
       "\n",
       "    .dataframe thead th {\n",
       "        text-align: right;\n",
       "    }\n",
       "</style>\n",
       "<table border=\"1\" class=\"dataframe\">\n",
       "  <thead>\n",
       "    <tr style=\"text-align: right;\">\n",
       "      <th></th>\n",
       "      <th>start_station_name</th>\n",
       "      <th>num_rides</th>\n",
       "      <th>percent_rides</th>\n",
       "    </tr>\n",
       "  </thead>\n",
       "  <tbody>\n",
       "    <tr>\n",
       "      <th>747</th>\n",
       "      <td>Pershing Square North</td>\n",
       "      <td>156575</td>\n",
       "      <td>0.747138</td>\n",
       "    </tr>\n",
       "    <tr>\n",
       "      <th>380</th>\n",
       "      <td>E 17 St &amp; Broadway</td>\n",
       "      <td>121781</td>\n",
       "      <td>0.581109</td>\n",
       "    </tr>\n",
       "  </tbody>\n",
       "</table>\n",
       "</div>"
      ],
      "text/plain": [
       "        start_station_name  num_rides  percent_rides\n",
       "747  Pershing Square North     156575       0.747138\n",
       "380     E 17 St & Broadway     121781       0.581109"
      ]
     },
     "execution_count": 12,
     "metadata": {},
     "output_type": "execute_result"
    }
   ],
   "source": [
    "%%time\n",
    "# sql query for total rides from station\n",
    "result = %sql SELECT start_station_name, SUM (counter) from yr_2019 GROUP BY start_station_name;\n",
    "# convert into pandas df\n",
    "df_station_global = result.DataFrame()\n",
    "# sort descending\n",
    "df_station_global.sort_values(by=['SUM (counter)'], inplace=True, ascending=False)\n",
    "# rename column\n",
    "df_station_global.rename(columns={\"SUM (counter)\": \"num_rides\"}, inplace=True)\n",
    "# getting proportion of rides from each station\n",
    "df_station_global['percent_rides'] = 100 * (df_station_global['num_rides'] / df_station_global['num_rides'].sum())\n",
    "# displaying results\n",
    "df_station_global.head(2)"
   ]
  },
  {
   "cell_type": "markdown",
   "metadata": {},
   "source": [
    "#### Local - Proportion of rides taken from each station"
   ]
  },
  {
   "cell_type": "code",
   "execution_count": 13,
   "metadata": {
    "scrolled": false
   },
   "outputs": [
    {
     "name": "stdout",
     "output_type": "stream",
     "text": [
      " * sqlite:////Users/michaellink/Desktop/__NYCDSA/_Projects/Capstone/data/citibike/sqlite/citi_bike_year.db\n",
      "Done.\n",
      "CPU times: user 11.9 s, sys: 2.76 s, total: 14.7 s\n",
      "Wall time: 21 s\n"
     ]
    },
    {
     "data": {
      "text/html": [
       "<div>\n",
       "<style scoped>\n",
       "    .dataframe tbody tr th:only-of-type {\n",
       "        vertical-align: middle;\n",
       "    }\n",
       "\n",
       "    .dataframe tbody tr th {\n",
       "        vertical-align: top;\n",
       "    }\n",
       "\n",
       "    .dataframe thead th {\n",
       "        text-align: right;\n",
       "    }\n",
       "</style>\n",
       "<table border=\"1\" class=\"dataframe\">\n",
       "  <thead>\n",
       "    <tr style=\"text-align: right;\">\n",
       "      <th></th>\n",
       "      <th>start_station_name</th>\n",
       "      <th>num_rides</th>\n",
       "      <th>percent_rides</th>\n",
       "    </tr>\n",
       "  </thead>\n",
       "  <tbody>\n",
       "    <tr>\n",
       "      <th>744</th>\n",
       "      <td>Pershing Square North</td>\n",
       "      <td>7644</td>\n",
       "      <td>0.729488</td>\n",
       "    </tr>\n",
       "    <tr>\n",
       "      <th>378</th>\n",
       "      <td>E 17 St &amp; Broadway</td>\n",
       "      <td>6196</td>\n",
       "      <td>0.591301</td>\n",
       "    </tr>\n",
       "  </tbody>\n",
       "</table>\n",
       "</div>"
      ],
      "text/plain": [
       "        start_station_name  num_rides  percent_rides\n",
       "744  Pershing Square North       7644       0.729488\n",
       "378     E 17 St & Broadway       6196       0.591301"
      ]
     },
     "execution_count": 13,
     "metadata": {},
     "output_type": "execute_result"
    }
   ],
   "source": [
    "%%time\n",
    "# sql query to get 5% random sample\n",
    "result = %sql SELECT * FROM yr_2019 WHERE abs(CAST(random() AS REAL))/9223372036854775808 < 0.05;\n",
    "# convert into pandas df\n",
    "df_station_local = result.DataFrame()\n",
    "# group by station name and sum occurences\n",
    "df_station_local = df_station_local.groupby(['start_station_name'])['counter'].sum().reset_index()\n",
    "# sort descending\n",
    "df_station_local.sort_values(by=['counter'], inplace=True, ascending=False)\n",
    "# rename column\n",
    "df_station_local.rename(columns={\"counter\": \"num_rides\"}, inplace=True)\n",
    "# getting proportion of rides from each station\n",
    "df_station_local['percent_rides'] = 100 * (df_station_local['num_rides'] / df_station_local['num_rides'].sum())\n",
    "# displaying results\n",
    "df_station_local.head(2)\n",
    "\n",
    "# Size of subsampled csv is 50kb\n",
    "# df_station_local.to_csv('size.csv') "
   ]
  },
  {
   "cell_type": "markdown",
   "metadata": {},
   "source": [
    "#### Function to perform sample validation (i.e. is our sample representative?)"
   ]
  },
  {
   "cell_type": "code",
   "execution_count": 14,
   "metadata": {},
   "outputs": [],
   "source": [
    "def sample_validation(df_station_global = df_station_global,\n",
    "                      df_station_local = df_station_local,\n",
    "                      num_samples = 3,\n",
    "                      ratio_grab = 0.05):\n",
    "    \n",
    "    # Prepare data FOR the LOOP\n",
    "    df_station_global_for_loop = df_station_global.drop(['num_rides'], axis=1).rename(columns={\"percent_rides\": \"percent_global_rides\"}).set_index('start_station_name')\n",
    "    \n",
    "    # Perform first concatenation\n",
    "    # sql query to get 5% random sample\n",
    "    result = %sql SELECT * FROM yr_2019 WHERE abs(CAST(random() AS REAL))/9223372036854775808 < $ratio_grab;\n",
    "    # convert into pandas df\n",
    "    df_station_local = result.DataFrame()\n",
    "    # group by station name and sum occurences\n",
    "    df_station_local = df_station_local.groupby(['start_station_name'])['counter'].sum().reset_index()\n",
    "    # sort descending\n",
    "    df_station_local.sort_values(by=['counter'], inplace=True, ascending=False)\n",
    "    # rename column\n",
    "    df_station_local.rename(columns={\"counter\": \"num_rides\"}, inplace=True)\n",
    "    # getting proportion of rides from each station\n",
    "    df_station_local['percent_rides'] = 100 * (df_station_local['num_rides'] / df_station_local['num_rides'].sum())\n",
    "    # modify df_station_local to prepare for concatenation\n",
    "    df_station_local_for_loop = df_station_local.drop(['num_rides'], axis=1).set_index('start_station_name')\n",
    "    \n",
    "    # Do initial concatenation\n",
    "    df_station_sampling = pd.concat([df_station_global_for_loop, df_station_local_for_loop], axis=1, sort=False).reindex(df_station_global_for_loop.index)\n",
    "\n",
    "    # for loop to randomly sample from sql database then save results (proportion of rides taken from a station)\n",
    "    for x in range(0, (num_samples - 1)):\n",
    "        print(f'This is iteration {x}')\n",
    "        # sql query to get 5% random sample\n",
    "        result = %sql SELECT * FROM yr_2019 WHERE abs(CAST(random() AS REAL))/9223372036854775808 < $ratio_grab;\n",
    "        # convert into pandas df\n",
    "        df_station_local_for_loop = result.DataFrame()\n",
    "        # group by station name and sum occurences\n",
    "        df_station_local_for_loop = df_station_local_for_loop.groupby(['start_station_name'])['counter'].sum().reset_index()\n",
    "        # sort descending\n",
    "        df_station_local_for_loop.sort_values(by=['counter'], inplace=True, ascending=False)\n",
    "        # rename column\n",
    "        df_station_local_for_loop.rename(columns={\"counter\": \"num_rides\"}, inplace=True)\n",
    "        # getting proportion of rides from each station\n",
    "        df_station_local_for_loop['percent_rides'] = 100 * (df_station_local_for_loop['num_rides'] / df_station_local_for_loop['num_rides'].sum())\n",
    "        # modify df_station_local to prepare for concatenation\n",
    "        df_station_local_for_loop = df_station_local_for_loop.drop(['num_rides'], axis=1).set_index('start_station_name')\n",
    "        # concatenate this iteration of df_station_local\n",
    "        df_station_sampling = pd.concat([df_station_sampling, df_station_local_for_loop], axis=1, sort=False).reindex(df_station_sampling.index)\n",
    "\n",
    "    return df_station_sampling"
   ]
  },
  {
   "cell_type": "code",
   "execution_count": 19,
   "metadata": {},
   "outputs": [
    {
     "name": "stdout",
     "output_type": "stream",
     "text": [
      " * sqlite:////Users/michaellink/Desktop/__NYCDSA/_Projects/Capstone/data/citibike/sqlite/citi_bike_year.db\n",
      "Done.\n",
      "This is iteration 0\n",
      " * sqlite:////Users/michaellink/Desktop/__NYCDSA/_Projects/Capstone/data/citibike/sqlite/citi_bike_year.db\n",
      "Done.\n",
      "This is iteration 1\n",
      " * sqlite:////Users/michaellink/Desktop/__NYCDSA/_Projects/Capstone/data/citibike/sqlite/citi_bike_year.db\n",
      "Done.\n",
      "This is iteration 2\n",
      " * sqlite:////Users/michaellink/Desktop/__NYCDSA/_Projects/Capstone/data/citibike/sqlite/citi_bike_year.db\n",
      "Done.\n",
      "This is iteration 3\n",
      " * sqlite:////Users/michaellink/Desktop/__NYCDSA/_Projects/Capstone/data/citibike/sqlite/citi_bike_year.db\n",
      "Done.\n",
      "This is iteration 4\n",
      " * sqlite:////Users/michaellink/Desktop/__NYCDSA/_Projects/Capstone/data/citibike/sqlite/citi_bike_year.db\n",
      "Done.\n",
      "This is iteration 5\n",
      " * sqlite:////Users/michaellink/Desktop/__NYCDSA/_Projects/Capstone/data/citibike/sqlite/citi_bike_year.db\n",
      "Done.\n",
      "This is iteration 6\n",
      " * sqlite:////Users/michaellink/Desktop/__NYCDSA/_Projects/Capstone/data/citibike/sqlite/citi_bike_year.db\n",
      "Done.\n",
      "This is iteration 7\n",
      " * sqlite:////Users/michaellink/Desktop/__NYCDSA/_Projects/Capstone/data/citibike/sqlite/citi_bike_year.db\n",
      "Done.\n",
      "This is iteration 8\n",
      " * sqlite:////Users/michaellink/Desktop/__NYCDSA/_Projects/Capstone/data/citibike/sqlite/citi_bike_year.db\n",
      "Done.\n",
      "This is iteration 9\n",
      " * sqlite:////Users/michaellink/Desktop/__NYCDSA/_Projects/Capstone/data/citibike/sqlite/citi_bike_year.db\n",
      "Done.\n",
      "This is iteration 10\n",
      " * sqlite:////Users/michaellink/Desktop/__NYCDSA/_Projects/Capstone/data/citibike/sqlite/citi_bike_year.db\n",
      "Done.\n",
      "This is iteration 11\n",
      " * sqlite:////Users/michaellink/Desktop/__NYCDSA/_Projects/Capstone/data/citibike/sqlite/citi_bike_year.db\n",
      "Done.\n",
      "This is iteration 12\n",
      " * sqlite:////Users/michaellink/Desktop/__NYCDSA/_Projects/Capstone/data/citibike/sqlite/citi_bike_year.db\n",
      "Done.\n",
      "This is iteration 13\n",
      " * sqlite:////Users/michaellink/Desktop/__NYCDSA/_Projects/Capstone/data/citibike/sqlite/citi_bike_year.db\n",
      "Done.\n",
      "This is iteration 14\n",
      " * sqlite:////Users/michaellink/Desktop/__NYCDSA/_Projects/Capstone/data/citibike/sqlite/citi_bike_year.db\n",
      "Done.\n",
      "This is iteration 15\n",
      " * sqlite:////Users/michaellink/Desktop/__NYCDSA/_Projects/Capstone/data/citibike/sqlite/citi_bike_year.db\n",
      "Done.\n",
      "This is iteration 16\n",
      " * sqlite:////Users/michaellink/Desktop/__NYCDSA/_Projects/Capstone/data/citibike/sqlite/citi_bike_year.db\n",
      "Done.\n",
      "This is iteration 17\n",
      " * sqlite:////Users/michaellink/Desktop/__NYCDSA/_Projects/Capstone/data/citibike/sqlite/citi_bike_year.db\n",
      "Done.\n",
      "This is iteration 18\n",
      " * sqlite:////Users/michaellink/Desktop/__NYCDSA/_Projects/Capstone/data/citibike/sqlite/citi_bike_year.db\n",
      "Done.\n",
      "This is iteration 19\n",
      " * sqlite:////Users/michaellink/Desktop/__NYCDSA/_Projects/Capstone/data/citibike/sqlite/citi_bike_year.db\n",
      "Done.\n",
      "This is iteration 20\n",
      " * sqlite:////Users/michaellink/Desktop/__NYCDSA/_Projects/Capstone/data/citibike/sqlite/citi_bike_year.db\n",
      "Done.\n",
      "This is iteration 21\n",
      " * sqlite:////Users/michaellink/Desktop/__NYCDSA/_Projects/Capstone/data/citibike/sqlite/citi_bike_year.db\n",
      "Done.\n",
      "This is iteration 22\n",
      " * sqlite:////Users/michaellink/Desktop/__NYCDSA/_Projects/Capstone/data/citibike/sqlite/citi_bike_year.db\n",
      "Done.\n",
      "This is iteration 23\n",
      " * sqlite:////Users/michaellink/Desktop/__NYCDSA/_Projects/Capstone/data/citibike/sqlite/citi_bike_year.db\n",
      "Done.\n",
      "This is iteration 24\n",
      " * sqlite:////Users/michaellink/Desktop/__NYCDSA/_Projects/Capstone/data/citibike/sqlite/citi_bike_year.db\n",
      "Done.\n",
      "This is iteration 25\n",
      " * sqlite:////Users/michaellink/Desktop/__NYCDSA/_Projects/Capstone/data/citibike/sqlite/citi_bike_year.db\n",
      "Done.\n",
      "This is iteration 26\n",
      " * sqlite:////Users/michaellink/Desktop/__NYCDSA/_Projects/Capstone/data/citibike/sqlite/citi_bike_year.db\n",
      "Done.\n",
      "This is iteration 27\n",
      " * sqlite:////Users/michaellink/Desktop/__NYCDSA/_Projects/Capstone/data/citibike/sqlite/citi_bike_year.db\n",
      "Done.\n",
      "This is iteration 28\n",
      " * sqlite:////Users/michaellink/Desktop/__NYCDSA/_Projects/Capstone/data/citibike/sqlite/citi_bike_year.db\n",
      "Done.\n",
      "This is iteration 29\n",
      " * sqlite:////Users/michaellink/Desktop/__NYCDSA/_Projects/Capstone/data/citibike/sqlite/citi_bike_year.db\n",
      "Done.\n",
      "This is iteration 30\n",
      " * sqlite:////Users/michaellink/Desktop/__NYCDSA/_Projects/Capstone/data/citibike/sqlite/citi_bike_year.db\n",
      "Done.\n",
      "This is iteration 31\n",
      " * sqlite:////Users/michaellink/Desktop/__NYCDSA/_Projects/Capstone/data/citibike/sqlite/citi_bike_year.db\n",
      "Done.\n",
      "This is iteration 32\n",
      " * sqlite:////Users/michaellink/Desktop/__NYCDSA/_Projects/Capstone/data/citibike/sqlite/citi_bike_year.db\n",
      "Done.\n",
      "This is iteration 33\n",
      " * sqlite:////Users/michaellink/Desktop/__NYCDSA/_Projects/Capstone/data/citibike/sqlite/citi_bike_year.db\n",
      "Done.\n",
      "This is iteration 34\n",
      " * sqlite:////Users/michaellink/Desktop/__NYCDSA/_Projects/Capstone/data/citibike/sqlite/citi_bike_year.db\n",
      "Done.\n",
      "This is iteration 35\n",
      " * sqlite:////Users/michaellink/Desktop/__NYCDSA/_Projects/Capstone/data/citibike/sqlite/citi_bike_year.db\n",
      "Done.\n",
      "This is iteration 36\n",
      " * sqlite:////Users/michaellink/Desktop/__NYCDSA/_Projects/Capstone/data/citibike/sqlite/citi_bike_year.db\n",
      "Done.\n",
      "This is iteration 37\n",
      " * sqlite:////Users/michaellink/Desktop/__NYCDSA/_Projects/Capstone/data/citibike/sqlite/citi_bike_year.db\n",
      "Done.\n",
      "This is iteration 38\n",
      " * sqlite:////Users/michaellink/Desktop/__NYCDSA/_Projects/Capstone/data/citibike/sqlite/citi_bike_year.db\n",
      "Done.\n"
     ]
    }
   ],
   "source": [
    "# Grab 5% of the data. Do this 40 times. Save Results\n",
    "sample_five_percent_n_40 = sample_validation(num_samples = 40, ratio_grab = 0.05)"
   ]
  },
  {
   "cell_type": "code",
   "execution_count": 21,
   "metadata": {},
   "outputs": [],
   "source": [
    "sample_five_percent_n_40.to_csv('five_percent_sample.csv')"
   ]
  },
  {
   "cell_type": "code",
   "execution_count": 22,
   "metadata": {},
   "outputs": [
    {
     "name": "stdout",
     "output_type": "stream",
     "text": [
      " * sqlite:////Users/michaellink/Desktop/__NYCDSA/_Projects/Capstone/data/citibike/sqlite/citi_bike_year.db\n",
      "Done.\n",
      "This is iteration 0\n",
      " * sqlite:////Users/michaellink/Desktop/__NYCDSA/_Projects/Capstone/data/citibike/sqlite/citi_bike_year.db\n",
      "Done.\n",
      "This is iteration 1\n",
      " * sqlite:////Users/michaellink/Desktop/__NYCDSA/_Projects/Capstone/data/citibike/sqlite/citi_bike_year.db\n",
      "Done.\n",
      "This is iteration 2\n",
      " * sqlite:////Users/michaellink/Desktop/__NYCDSA/_Projects/Capstone/data/citibike/sqlite/citi_bike_year.db\n",
      "Done.\n",
      "This is iteration 3\n",
      " * sqlite:////Users/michaellink/Desktop/__NYCDSA/_Projects/Capstone/data/citibike/sqlite/citi_bike_year.db\n",
      "Done.\n",
      "This is iteration 4\n",
      " * sqlite:////Users/michaellink/Desktop/__NYCDSA/_Projects/Capstone/data/citibike/sqlite/citi_bike_year.db\n",
      "Done.\n",
      "This is iteration 5\n",
      " * sqlite:////Users/michaellink/Desktop/__NYCDSA/_Projects/Capstone/data/citibike/sqlite/citi_bike_year.db\n",
      "Done.\n",
      "This is iteration 6\n",
      " * sqlite:////Users/michaellink/Desktop/__NYCDSA/_Projects/Capstone/data/citibike/sqlite/citi_bike_year.db\n",
      "Done.\n",
      "This is iteration 7\n",
      " * sqlite:////Users/michaellink/Desktop/__NYCDSA/_Projects/Capstone/data/citibike/sqlite/citi_bike_year.db\n",
      "Done.\n",
      "This is iteration 8\n",
      " * sqlite:////Users/michaellink/Desktop/__NYCDSA/_Projects/Capstone/data/citibike/sqlite/citi_bike_year.db\n",
      "Done.\n",
      "This is iteration 9\n",
      " * sqlite:////Users/michaellink/Desktop/__NYCDSA/_Projects/Capstone/data/citibike/sqlite/citi_bike_year.db\n",
      "Done.\n",
      "This is iteration 10\n",
      " * sqlite:////Users/michaellink/Desktop/__NYCDSA/_Projects/Capstone/data/citibike/sqlite/citi_bike_year.db\n",
      "Done.\n",
      "This is iteration 11\n",
      " * sqlite:////Users/michaellink/Desktop/__NYCDSA/_Projects/Capstone/data/citibike/sqlite/citi_bike_year.db\n",
      "Done.\n",
      "This is iteration 12\n",
      " * sqlite:////Users/michaellink/Desktop/__NYCDSA/_Projects/Capstone/data/citibike/sqlite/citi_bike_year.db\n",
      "Done.\n",
      "This is iteration 13\n",
      " * sqlite:////Users/michaellink/Desktop/__NYCDSA/_Projects/Capstone/data/citibike/sqlite/citi_bike_year.db\n",
      "Done.\n",
      "This is iteration 14\n",
      " * sqlite:////Users/michaellink/Desktop/__NYCDSA/_Projects/Capstone/data/citibike/sqlite/citi_bike_year.db\n",
      "Done.\n",
      "This is iteration 15\n",
      " * sqlite:////Users/michaellink/Desktop/__NYCDSA/_Projects/Capstone/data/citibike/sqlite/citi_bike_year.db\n",
      "Done.\n",
      "This is iteration 16\n",
      " * sqlite:////Users/michaellink/Desktop/__NYCDSA/_Projects/Capstone/data/citibike/sqlite/citi_bike_year.db\n",
      "Done.\n",
      "This is iteration 17\n",
      " * sqlite:////Users/michaellink/Desktop/__NYCDSA/_Projects/Capstone/data/citibike/sqlite/citi_bike_year.db\n",
      "Done.\n",
      "This is iteration 18\n",
      " * sqlite:////Users/michaellink/Desktop/__NYCDSA/_Projects/Capstone/data/citibike/sqlite/citi_bike_year.db\n",
      "Done.\n",
      "This is iteration 19\n",
      " * sqlite:////Users/michaellink/Desktop/__NYCDSA/_Projects/Capstone/data/citibike/sqlite/citi_bike_year.db\n",
      "Done.\n",
      "This is iteration 20\n",
      " * sqlite:////Users/michaellink/Desktop/__NYCDSA/_Projects/Capstone/data/citibike/sqlite/citi_bike_year.db\n",
      "Done.\n",
      "This is iteration 21\n",
      " * sqlite:////Users/michaellink/Desktop/__NYCDSA/_Projects/Capstone/data/citibike/sqlite/citi_bike_year.db\n",
      "Done.\n",
      "This is iteration 22\n",
      " * sqlite:////Users/michaellink/Desktop/__NYCDSA/_Projects/Capstone/data/citibike/sqlite/citi_bike_year.db\n",
      "Done.\n",
      "This is iteration 23\n",
      " * sqlite:////Users/michaellink/Desktop/__NYCDSA/_Projects/Capstone/data/citibike/sqlite/citi_bike_year.db\n",
      "Done.\n",
      "This is iteration 24\n",
      " * sqlite:////Users/michaellink/Desktop/__NYCDSA/_Projects/Capstone/data/citibike/sqlite/citi_bike_year.db\n",
      "Done.\n",
      "This is iteration 25\n",
      " * sqlite:////Users/michaellink/Desktop/__NYCDSA/_Projects/Capstone/data/citibike/sqlite/citi_bike_year.db\n",
      "Done.\n",
      "This is iteration 26\n",
      " * sqlite:////Users/michaellink/Desktop/__NYCDSA/_Projects/Capstone/data/citibike/sqlite/citi_bike_year.db\n",
      "Done.\n",
      "This is iteration 27\n",
      " * sqlite:////Users/michaellink/Desktop/__NYCDSA/_Projects/Capstone/data/citibike/sqlite/citi_bike_year.db\n",
      "Done.\n",
      "This is iteration 28\n",
      " * sqlite:////Users/michaellink/Desktop/__NYCDSA/_Projects/Capstone/data/citibike/sqlite/citi_bike_year.db\n",
      "Done.\n",
      "This is iteration 29\n",
      " * sqlite:////Users/michaellink/Desktop/__NYCDSA/_Projects/Capstone/data/citibike/sqlite/citi_bike_year.db\n",
      "Done.\n",
      "This is iteration 30\n",
      " * sqlite:////Users/michaellink/Desktop/__NYCDSA/_Projects/Capstone/data/citibike/sqlite/citi_bike_year.db\n",
      "Done.\n",
      "This is iteration 31\n",
      " * sqlite:////Users/michaellink/Desktop/__NYCDSA/_Projects/Capstone/data/citibike/sqlite/citi_bike_year.db\n",
      "Done.\n",
      "This is iteration 32\n",
      " * sqlite:////Users/michaellink/Desktop/__NYCDSA/_Projects/Capstone/data/citibike/sqlite/citi_bike_year.db\n",
      "Done.\n",
      "This is iteration 33\n",
      " * sqlite:////Users/michaellink/Desktop/__NYCDSA/_Projects/Capstone/data/citibike/sqlite/citi_bike_year.db\n",
      "Done.\n",
      "This is iteration 34\n",
      " * sqlite:////Users/michaellink/Desktop/__NYCDSA/_Projects/Capstone/data/citibike/sqlite/citi_bike_year.db\n",
      "Done.\n",
      "This is iteration 35\n",
      " * sqlite:////Users/michaellink/Desktop/__NYCDSA/_Projects/Capstone/data/citibike/sqlite/citi_bike_year.db\n",
      "Done.\n",
      "This is iteration 36\n",
      " * sqlite:////Users/michaellink/Desktop/__NYCDSA/_Projects/Capstone/data/citibike/sqlite/citi_bike_year.db\n",
      "Done.\n",
      "This is iteration 37\n",
      " * sqlite:////Users/michaellink/Desktop/__NYCDSA/_Projects/Capstone/data/citibike/sqlite/citi_bike_year.db\n",
      "Done.\n",
      "This is iteration 38\n",
      " * sqlite:////Users/michaellink/Desktop/__NYCDSA/_Projects/Capstone/data/citibike/sqlite/citi_bike_year.db\n",
      "Done.\n"
     ]
    }
   ],
   "source": [
    "# Grab 0.5% of the data. Do this 40 times. Save Results\n",
    "sample_one_half_percent_n_40 = sample_validation(num_samples = 40, ratio_grab = 0.005)"
   ]
  },
  {
   "cell_type": "code",
   "execution_count": 26,
   "metadata": {},
   "outputs": [],
   "source": [
    "sample_one_half_percent_n_40.to_csv('one_half_percent_sample.csv')"
   ]
  },
  {
   "cell_type": "code",
   "execution_count": 23,
   "metadata": {},
   "outputs": [
    {
     "name": "stdout",
     "output_type": "stream",
     "text": [
      " * sqlite:////Users/michaellink/Desktop/__NYCDSA/_Projects/Capstone/data/citibike/sqlite/citi_bike_year.db\n",
      "Done.\n",
      "This is iteration 0\n",
      " * sqlite:////Users/michaellink/Desktop/__NYCDSA/_Projects/Capstone/data/citibike/sqlite/citi_bike_year.db\n",
      "Done.\n",
      "This is iteration 1\n",
      " * sqlite:////Users/michaellink/Desktop/__NYCDSA/_Projects/Capstone/data/citibike/sqlite/citi_bike_year.db\n",
      "Done.\n",
      "This is iteration 2\n",
      " * sqlite:////Users/michaellink/Desktop/__NYCDSA/_Projects/Capstone/data/citibike/sqlite/citi_bike_year.db\n",
      "Done.\n",
      "This is iteration 3\n",
      " * sqlite:////Users/michaellink/Desktop/__NYCDSA/_Projects/Capstone/data/citibike/sqlite/citi_bike_year.db\n",
      "Done.\n",
      "This is iteration 4\n",
      " * sqlite:////Users/michaellink/Desktop/__NYCDSA/_Projects/Capstone/data/citibike/sqlite/citi_bike_year.db\n",
      "Done.\n",
      "This is iteration 5\n",
      " * sqlite:////Users/michaellink/Desktop/__NYCDSA/_Projects/Capstone/data/citibike/sqlite/citi_bike_year.db\n",
      "Done.\n",
      "This is iteration 6\n",
      " * sqlite:////Users/michaellink/Desktop/__NYCDSA/_Projects/Capstone/data/citibike/sqlite/citi_bike_year.db\n",
      "Done.\n",
      "This is iteration 7\n",
      " * sqlite:////Users/michaellink/Desktop/__NYCDSA/_Projects/Capstone/data/citibike/sqlite/citi_bike_year.db\n",
      "Done.\n",
      "This is iteration 8\n",
      " * sqlite:////Users/michaellink/Desktop/__NYCDSA/_Projects/Capstone/data/citibike/sqlite/citi_bike_year.db\n",
      "Done.\n",
      "This is iteration 9\n",
      " * sqlite:////Users/michaellink/Desktop/__NYCDSA/_Projects/Capstone/data/citibike/sqlite/citi_bike_year.db\n",
      "Done.\n",
      "This is iteration 10\n",
      " * sqlite:////Users/michaellink/Desktop/__NYCDSA/_Projects/Capstone/data/citibike/sqlite/citi_bike_year.db\n",
      "Done.\n",
      "This is iteration 11\n",
      " * sqlite:////Users/michaellink/Desktop/__NYCDSA/_Projects/Capstone/data/citibike/sqlite/citi_bike_year.db\n",
      "Done.\n",
      "This is iteration 12\n",
      " * sqlite:////Users/michaellink/Desktop/__NYCDSA/_Projects/Capstone/data/citibike/sqlite/citi_bike_year.db\n",
      "Done.\n",
      "This is iteration 13\n",
      " * sqlite:////Users/michaellink/Desktop/__NYCDSA/_Projects/Capstone/data/citibike/sqlite/citi_bike_year.db\n",
      "Done.\n",
      "This is iteration 14\n",
      " * sqlite:////Users/michaellink/Desktop/__NYCDSA/_Projects/Capstone/data/citibike/sqlite/citi_bike_year.db\n",
      "Done.\n",
      "This is iteration 15\n",
      " * sqlite:////Users/michaellink/Desktop/__NYCDSA/_Projects/Capstone/data/citibike/sqlite/citi_bike_year.db\n",
      "Done.\n",
      "This is iteration 16\n",
      " * sqlite:////Users/michaellink/Desktop/__NYCDSA/_Projects/Capstone/data/citibike/sqlite/citi_bike_year.db\n",
      "Done.\n",
      "This is iteration 17\n",
      " * sqlite:////Users/michaellink/Desktop/__NYCDSA/_Projects/Capstone/data/citibike/sqlite/citi_bike_year.db\n",
      "Done.\n",
      "This is iteration 18\n",
      " * sqlite:////Users/michaellink/Desktop/__NYCDSA/_Projects/Capstone/data/citibike/sqlite/citi_bike_year.db\n",
      "Done.\n",
      "This is iteration 19\n",
      " * sqlite:////Users/michaellink/Desktop/__NYCDSA/_Projects/Capstone/data/citibike/sqlite/citi_bike_year.db\n",
      "Done.\n",
      "This is iteration 20\n",
      " * sqlite:////Users/michaellink/Desktop/__NYCDSA/_Projects/Capstone/data/citibike/sqlite/citi_bike_year.db\n",
      "Done.\n",
      "This is iteration 21\n",
      " * sqlite:////Users/michaellink/Desktop/__NYCDSA/_Projects/Capstone/data/citibike/sqlite/citi_bike_year.db\n",
      "Done.\n",
      "This is iteration 22\n",
      " * sqlite:////Users/michaellink/Desktop/__NYCDSA/_Projects/Capstone/data/citibike/sqlite/citi_bike_year.db\n",
      "Done.\n",
      "This is iteration 23\n",
      " * sqlite:////Users/michaellink/Desktop/__NYCDSA/_Projects/Capstone/data/citibike/sqlite/citi_bike_year.db\n",
      "Done.\n",
      "This is iteration 24\n",
      " * sqlite:////Users/michaellink/Desktop/__NYCDSA/_Projects/Capstone/data/citibike/sqlite/citi_bike_year.db\n",
      "Done.\n",
      "This is iteration 25\n",
      " * sqlite:////Users/michaellink/Desktop/__NYCDSA/_Projects/Capstone/data/citibike/sqlite/citi_bike_year.db\n",
      "Done.\n",
      "This is iteration 26\n",
      " * sqlite:////Users/michaellink/Desktop/__NYCDSA/_Projects/Capstone/data/citibike/sqlite/citi_bike_year.db\n",
      "Done.\n",
      "This is iteration 27\n",
      " * sqlite:////Users/michaellink/Desktop/__NYCDSA/_Projects/Capstone/data/citibike/sqlite/citi_bike_year.db\n",
      "Done.\n",
      "This is iteration 28\n",
      " * sqlite:////Users/michaellink/Desktop/__NYCDSA/_Projects/Capstone/data/citibike/sqlite/citi_bike_year.db\n",
      "Done.\n",
      "This is iteration 29\n",
      " * sqlite:////Users/michaellink/Desktop/__NYCDSA/_Projects/Capstone/data/citibike/sqlite/citi_bike_year.db\n",
      "Done.\n",
      "This is iteration 30\n",
      " * sqlite:////Users/michaellink/Desktop/__NYCDSA/_Projects/Capstone/data/citibike/sqlite/citi_bike_year.db\n",
      "Done.\n",
      "This is iteration 31\n",
      " * sqlite:////Users/michaellink/Desktop/__NYCDSA/_Projects/Capstone/data/citibike/sqlite/citi_bike_year.db\n",
      "Done.\n",
      "This is iteration 32\n",
      " * sqlite:////Users/michaellink/Desktop/__NYCDSA/_Projects/Capstone/data/citibike/sqlite/citi_bike_year.db\n",
      "Done.\n",
      "This is iteration 33\n",
      " * sqlite:////Users/michaellink/Desktop/__NYCDSA/_Projects/Capstone/data/citibike/sqlite/citi_bike_year.db\n",
      "Done.\n",
      "This is iteration 34\n",
      " * sqlite:////Users/michaellink/Desktop/__NYCDSA/_Projects/Capstone/data/citibike/sqlite/citi_bike_year.db\n",
      "Done.\n",
      "This is iteration 35\n",
      " * sqlite:////Users/michaellink/Desktop/__NYCDSA/_Projects/Capstone/data/citibike/sqlite/citi_bike_year.db\n",
      "Done.\n",
      "This is iteration 36\n",
      " * sqlite:////Users/michaellink/Desktop/__NYCDSA/_Projects/Capstone/data/citibike/sqlite/citi_bike_year.db\n",
      "Done.\n",
      "This is iteration 37\n",
      " * sqlite:////Users/michaellink/Desktop/__NYCDSA/_Projects/Capstone/data/citibike/sqlite/citi_bike_year.db\n",
      "Done.\n",
      "This is iteration 38\n",
      " * sqlite:////Users/michaellink/Desktop/__NYCDSA/_Projects/Capstone/data/citibike/sqlite/citi_bike_year.db\n",
      "Done.\n"
     ]
    }
   ],
   "source": [
    "# Grab 15% of the data. Do this 40 times. Save Results\n",
    "sample_fifteen_percent_n_40 = sample_validation(num_samples = 40, ratio_grab = 0.15)"
   ]
  },
  {
   "cell_type": "code",
   "execution_count": 25,
   "metadata": {},
   "outputs": [],
   "source": [
    "sample_fifteen_percent_n_40.to_csv('fifteen_percent_sample.csv')"
   ]
  },
  {
   "cell_type": "markdown",
   "metadata": {},
   "source": [
    "### Conclusions"
   ]
  },
  {
   "cell_type": "code",
   "execution_count": 59,
   "metadata": {},
   "outputs": [],
   "source": [
    "fifteen = sample_fifteen_percent_n_40.copy()\n",
    "five = sample_five_percent_n_40.copy()\n",
    "half = sample_one_half_percent_n_40.copy()"
   ]
  },
  {
   "cell_type": "code",
   "execution_count": 60,
   "metadata": {},
   "outputs": [
    {
     "name": "stdout",
     "output_type": "stream",
     "text": [
      "The average number of missed stations when using 1/2 % sampling is 46.45.\n",
      "\n",
      "The average number of missed stations when using 5 % sampling is 9.175.\n",
      "\n",
      "The average number of missed stations when using 15 % sampling is 2.5.\n",
      "\n"
     ]
    }
   ],
   "source": [
    "num = pd.DataFrame(half.isna().sum()).iloc[1:][0].mean()\n",
    "print(f'The average number of missed stations when using 1/2 % sampling is {num}.\\n')\n",
    "num = pd.DataFrame(five.isna().sum()).iloc[1:][0].mean()\n",
    "print(f'The average number of missed stations when using 5 % sampling is {num}.\\n')\n",
    "num = pd.DataFrame(fifteen.isna().sum()).iloc[1:][0].mean()\n",
    "print(f'The average number of missed stations when using 15 % sampling is {num}.\\n')"
   ]
  },
  {
   "cell_type": "code",
   "execution_count": 61,
   "metadata": {},
   "outputs": [],
   "source": [
    "correct = fifteen.transpose().iloc[:1]\n",
    "fifteen = fifteen.transpose().iloc[1:]\n",
    "five = five.transpose().iloc[1:]\n",
    "half = half.transpose().iloc[1:]"
   ]
  },
  {
   "cell_type": "code",
   "execution_count": 172,
   "metadata": {},
   "outputs": [
    {
     "data": {
      "image/png": "[encoded data removed]",
      "text/plain": [
       "<Figure size 1440x720 with 1 Axes>"
      ]
     },
     "metadata": {
      "needs_background": "light"
     },
     "output_type": "display_data"
    }
   ],
   "source": [
    "# assign random number so we can look at a variety of station distributions\n",
    "wild = random.randrange(0, 39)\n",
    "\n",
    "# get station name associated with this random column\n",
    "station_name = correct.iloc[:,wild:wild+1].columns.to_list()[0]\n",
    "# get the true distribution\n",
    "correct_answer= correct.iloc[:,wild:wild+1].values.flatten()[0]\n",
    "\n",
    "x = fifteen.copy().iloc[:,wild:wild+1].values.flatten()\n",
    "plt.figure(figsize=(20,10)) \n",
    "result = plt.hist(x, bins=10, color='c', edgecolor='k', alpha=0.65)\n",
    "plt.axvline(x.mean(), color='r', linestyle='dashed', linewidth=2)\n",
    "plt.axvline(correct_answer, color='g', linestyle='dashed', linewidth=2)\n",
    "plt.title(station_name)\n",
    "plt.show()\n"
   ]
  },
  {
   "cell_type": "code",
   "execution_count": 176,
   "metadata": {},
   "outputs": [
    {
     "data": {
      "image/png": "[encoded data removed]",
      "text/plain": [
       "<Figure size 1440x720 with 1 Axes>"
      ]
     },
     "metadata": {
      "needs_background": "light"
     },
     "output_type": "display_data"
    }
   ],
   "source": [
    "# assign random number so we can look at a variety of station distributions\n",
    "wild = random.randrange(0, 39)\n",
    "\n",
    "# get station name associated with this random column\n",
    "station_name = correct.iloc[:,wild:wild+1].columns.to_list()[0]\n",
    "# get the true distribution\n",
    "correct_answer= correct.iloc[:,wild:wild+1].values.flatten()[0]\n",
    "\n",
    "x = five.copy().iloc[:,wild:wild+1].values.flatten()\n",
    "plt.figure(figsize=(20,10)) \n",
    "result = plt.hist(x, bins=10, color='c', edgecolor='k', alpha=0.65)\n",
    "plt.axvline(x.mean(), color='r', linestyle='dashed', linewidth=2)\n",
    "plt.axvline(correct_answer, color='g', linestyle='dashed', linewidth=2)\n",
    "plt.title(station_name)\n",
    "plt.show()\n"
   ]
  },
  {
   "cell_type": "code",
   "execution_count": 73,
   "metadata": {},
   "outputs": [
    {
     "data": {
      "image/png": "[encoded data removed]",
      "text/plain": [
       "<Figure size 216x216 with 1 Axes>"
      ]
     },
     "metadata": {
      "needs_background": "light"
     },
     "output_type": "display_data"
    }
   ],
   "source": [
    "df = fifteen.copy().iloc[:,6:7]\n",
    "dfm = df.melt(var_name='columns')\n",
    "g = sns.FacetGrid(dfm, col='columns')\n",
    "g = (g.map(sns.distplot, 'value'))"
   ]
  },
  {
   "cell_type": "code",
   "execution_count": 177,
   "metadata": {
    "scrolled": true
   },
   "outputs": [
    {
     "data": {
      "image/png": "[encoded data removed]",
      "text/plain": [
       "<Figure size 1440x504 with 1 Axes>"
      ]
     },
     "metadata": {
      "needs_background": "light"
     },
     "output_type": "display_data"
    }
   ],
   "source": [
    "\n",
    "max_fifteen = fifteen.max().values.flatten()\n",
    "min_fifteen = fifteen.min().values.flatten()\n",
    "correct_values = correct.mean().values.flatten()\n",
    "percent_off_max = 100 * ( (max_fifteen - correct_values) / correct_values)\n",
    "weights = np.ones_like(correct_values) / len(correct_values)\n",
    "plt.figure(figsize=(20,7)) \n",
    "result = plt.hist(percent_off_max, bins=25, color='c', edgecolor='k', alpha=0.65, weights=weights)\n",
    "plt.xticks(np.arange(0, 360, 10))\n",
    "plt.gca().yaxis.set_major_formatter(PercentFormatter(1))\n",
    "plt.title('Percent Correct From 15% Sample >>> 100 * ( Max - Correct / Correct )')\n",
    "plt.show()"
   ]
  },
  {
   "cell_type": "code",
   "execution_count": 181,
   "metadata": {
    "scrolled": true
   },
   "outputs": [
    {
     "data": {
      "image/png": "[encoded data removed]",
      "text/plain": [
       "<Figure size 1440x720 with 1 Axes>"
      ]
     },
     "metadata": {
      "needs_background": "light"
     },
     "output_type": "display_data"
    }
   ],
   "source": [
    "\n",
    "max_five = five.max().values.flatten()\n",
    "min_five = five.min().values.flatten()\n",
    "correct_values = correct.mean().values.flatten()\n",
    "percent_off_max = 100 * ( (max_five - correct_values) / correct_values)\n",
    "weights = np.ones_like(correct_values) / len(correct_values)\n",
    "plt.figure(figsize=(20,10)) \n",
    "result = plt.hist(percent_off_max, bins=25, color='c', edgecolor='k', alpha=0.65, weights=weights)\n",
    "# plt.xticks(np.arange(0, 360, 10))\n",
    "plt.gca().yaxis.set_major_formatter(PercentFormatter(1))\n",
    "plt.title('Percent Correct From 5% Sample>>> 100 * ( Max - Correct / Correct )')\n",
    "plt.show()"
   ]
  },
  {
   "cell_type": "code",
   "execution_count": 170,
   "metadata": {},
   "outputs": [
    {
     "data": {
      "image/png": "[encoded data removed]",
      "text/plain": [
       "<Figure size 1440x504 with 1 Axes>"
      ]
     },
     "metadata": {
      "needs_background": "light"
     },
     "output_type": "display_data"
    }
   ],
   "source": [
    "min_fifteen = fifteen.min().values.flatten()\n",
    "correct_values = correct.mean().values.flatten()\n",
    "percent_off_min = 100 * ( (correct_values - min_fifteen) / correct_values)\n",
    "weights = np.ones_like(correct_values) / len(correct_values)\n",
    "plt.figure(figsize=(20,7)) \n",
    "result = plt.hist(percent_off_min, bins=25, color='c', edgecolor='k', alpha=0.65, weights=weights)\n",
    "plt.xticks(np.arange(-130, 100, 10))\n",
    "plt.gca().yaxis.set_major_formatter(PercentFormatter(1))\n",
    "plt.title('Percent Correct From 15% Sample >>> 100 * ( Correct - Min / Correct )')\n",
    "plt.show()"
   ]
  },
  {
   "cell_type": "code",
   "execution_count": 182,
   "metadata": {},
   "outputs": [
    {
     "data": {
      "image/png": "[encoded data removed]",
      "text/plain": [
       "<Figure size 1440x504 with 1 Axes>"
      ]
     },
     "metadata": {
      "needs_background": "light"
     },
     "output_type": "display_data"
    }
   ],
   "source": [
    "min_five = five.min().values.flatten()\n",
    "correct_values = correct.mean().values.flatten()\n",
    "percent_off_min = 100 * ( (correct_values - min_five) / correct_values)\n",
    "weights = np.ones_like(correct_values) / len(correct_values)\n",
    "plt.figure(figsize=(20,7)) \n",
    "result = plt.hist(percent_off_min, bins=25, color='c', edgecolor='k', alpha=0.65, weights=weights)\n",
    "# plt.xticks(np.arange(-130, 100, 10))\n",
    "plt.gca().yaxis.set_major_formatter(PercentFormatter(1))\n",
    "plt.title('Percent Correct From 5% Sample >>> 100 * ( Correct - Min / Correct )')\n",
    "plt.show()"
   ]
  },
  {
   "cell_type": "code",
   "execution_count": 188,
   "metadata": {},
   "outputs": [
    {
     "name": "stdout",
     "output_type": "stream",
     "text": [
      "The median percent difference for the 5% sample is 8.4 when using the max and 8.17 when using the min.\n",
      "\n",
      "The median percent difference for the 5% sample is 4.59 when using the max and 4.39 when using the min.\n",
      "\n"
     ]
    }
   ],
   "source": [
    "max_five = five.max().values.flatten()\n",
    "min_five = five.min().values.flatten()\n",
    "correct_values = correct.mean().values.flatten()\n",
    "percent_off_max = 100 * ( (max_five - correct_values) / correct_values)\n",
    "percent_off_min = 100 * ( (correct_values - min_five) / correct_values)\n",
    "\n",
    "med_max_diff = round(np.median(percent_off_max),2)\n",
    "med_min_diff = round(np.median(percent_off_min),2)\n",
    "\n",
    "print(f'The median percent difference for the 5% sample is {med_max_diff} when using the max and {med_min_diff} when using the min.\\n')\n",
    "\n",
    "max_fifteen = fifteen.max().values.flatten()\n",
    "min_fifteen = fifteen.min().values.flatten()\n",
    "correct_values = correct.mean().values.flatten()\n",
    "percent_off_max = 100 * ( (max_fifteen - correct_values) / correct_values)\n",
    "percent_off_min = 100 * ( (correct_values - min_fifteen) / correct_values)\n",
    "\n",
    "med_max_diff = round(np.median(percent_off_max),2)\n",
    "med_min_diff = round(np.median(percent_off_min),2)\n",
    "\n",
    "print(f'The median percent difference for the 5% sample is {med_max_diff} when using the max and {med_min_diff} when using the min.\\n')"
   ]
  },
  {
   "cell_type": "code",
   "execution_count": null,
   "metadata": {},
   "outputs": [],
   "source": []
  },
  {
   "cell_type": "markdown",
   "metadata": {},
   "source": [
    "### Data Export Using 10% Subsample"
   ]
  },
  {
   "cell_type": "code",
   "execution_count": 212,
   "metadata": {},
   "outputs": [
    {
     "name": "stdout",
     "output_type": "stream",
     "text": [
      " * sqlite:////Users/michaellink/Desktop/__NYCDSA/_Projects/Capstone/data/citibike/sqlite/citi_bike_year.db\n",
      "Done.\n"
     ]
    }
   ],
   "source": [
    "# sql query to get 10% random sample\n",
    "result = %sql SELECT * FROM yr_2020 WHERE abs(CAST(random() AS REAL))/9223372036854775808 < 0.1;\n",
    "# convert into pandas df\n",
    "yr_2020 = result.DataFrame()\n",
    "# send to csv\n",
    "yr_2020.to_csv('./rand_10/yr_2020.csv', index=False)"
   ]
  },
  {
   "cell_type": "code",
   "execution_count": 213,
   "metadata": {},
   "outputs": [
    {
     "name": "stdout",
     "output_type": "stream",
     "text": [
      " * sqlite:////Users/michaellink/Desktop/__NYCDSA/_Projects/Capstone/data/citibike/sqlite/citi_bike_year.db\n",
      "Done.\n"
     ]
    }
   ],
   "source": [
    "# sql query to get 10% random sample\n",
    "result = %sql SELECT * FROM yr_2019 WHERE abs(CAST(random() AS REAL))/9223372036854775808 < 0.1;\n",
    "# convert into pandas df\n",
    "yr_2019 = result.DataFrame()\n",
    "# send to csv\n",
    "yr_2019.to_csv('./rand_10/yr_2019.csv', index=False)"
   ]
  },
  {
   "cell_type": "code",
   "execution_count": 214,
   "metadata": {},
   "outputs": [
    {
     "name": "stdout",
     "output_type": "stream",
     "text": [
      " * sqlite:////Users/michaellink/Desktop/__NYCDSA/_Projects/Capstone/data/citibike/sqlite/citi_bike_year.db\n",
      "Done.\n"
     ]
    }
   ],
   "source": [
    "# sql query to get 10% random sample\n",
    "result = %sql SELECT * FROM yr_2018 WHERE abs(CAST(random() AS REAL))/9223372036854775808 < 0.1;\n",
    "# convert into pandas df\n",
    "yr_2018 = result.DataFrame()\n",
    "# send to csv\n",
    "yr_2018.to_csv('./rand_10/yr_2018.csv', index=False)"
   ]
  },
  {
   "cell_type": "code",
   "execution_count": 215,
   "metadata": {},
   "outputs": [
    {
     "name": "stdout",
     "output_type": "stream",
     "text": [
      " * sqlite:////Users/michaellink/Desktop/__NYCDSA/_Projects/Capstone/data/citibike/sqlite/citi_bike_year.db\n",
      "Done.\n"
     ]
    }
   ],
   "source": [
    "# sql query to get 10% random sample\n",
    "result = %sql SELECT * FROM yr_2017 WHERE abs(CAST(random() AS REAL))/9223372036854775808 < 0.1;\n",
    "# convert into pandas df\n",
    "yr_2017 = result.DataFrame()\n",
    "# send to csv\n",
    "yr_2017.to_csv('./rand_10/yr_2017.csv', index=False)"
   ]
  },
  {
   "cell_type": "code",
   "execution_count": 216,
   "metadata": {},
   "outputs": [
    {
     "name": "stdout",
     "output_type": "stream",
     "text": [
      " * sqlite:////Users/michaellink/Desktop/__NYCDSA/_Projects/Capstone/data/citibike/sqlite/citi_bike_year.db\n",
      "Done.\n"
     ]
    }
   ],
   "source": [
    "# sql query to get 10% random sample\n",
    "result = %sql SELECT * FROM yr_2016 WHERE abs(CAST(random() AS REAL))/9223372036854775808 < 0.1;\n",
    "# convert into pandas df\n",
    "yr_2016 = result.DataFrame()\n",
    "# send to csv\n",
    "yr_2016.to_csv('./rand_10/yr_2016.csv', index=False)"
   ]
  },
  {
   "cell_type": "code",
   "execution_count": 217,
   "metadata": {},
   "outputs": [
    {
     "name": "stdout",
     "output_type": "stream",
     "text": [
      " * sqlite:////Users/michaellink/Desktop/__NYCDSA/_Projects/Capstone/data/citibike/sqlite/citi_bike_year.db\n",
      "Done.\n"
     ]
    }
   ],
   "source": [
    "# sql query to get 10% random sample\n",
    "result = %sql SELECT * FROM yr_2015 WHERE abs(CAST(random() AS REAL))/9223372036854775808 < 0.1;\n",
    "# convert into pandas df\n",
    "yr_2015 = result.DataFrame()\n",
    "# send to csv\n",
    "yr_2015.to_csv('./rand_10/yr_2015.csv', index=False)"
   ]
  },
  {
   "cell_type": "code",
   "execution_count": 218,
   "metadata": {},
   "outputs": [
    {
     "name": "stdout",
     "output_type": "stream",
     "text": [
      " * sqlite:////Users/michaellink/Desktop/__NYCDSA/_Projects/Capstone/data/citibike/sqlite/citi_bike_year.db\n",
      "Done.\n"
     ]
    }
   ],
   "source": [
    "# sql query to get 10% random sample\n",
    "result = %sql SELECT * FROM yr_2014 WHERE abs(CAST(random() AS REAL))/9223372036854775808 < 0.1;\n",
    "# convert into pandas df\n",
    "yr_2014 = result.DataFrame()\n",
    "# send to csv\n",
    "yr_2014.to_csv('./rand_10/yr_2014.csv', index=False)"
   ]
  },
  {
   "cell_type": "code",
   "execution_count": 219,
   "metadata": {},
   "outputs": [
    {
     "name": "stdout",
     "output_type": "stream",
     "text": [
      " * sqlite:////Users/michaellink/Desktop/__NYCDSA/_Projects/Capstone/data/citibike/sqlite/citi_bike_year.db\n",
      "Done.\n"
     ]
    }
   ],
   "source": [
    "# sql query to get 10% random sample\n",
    "result = %sql SELECT * FROM yr_2013 WHERE abs(CAST(random() AS REAL))/9223372036854775808 < 0.1;\n",
    "# convert into pandas df\n",
    "yr_2013 = result.DataFrame()\n",
    "# send to csv\n",
    "yr_2013.to_csv('./rand_10/yr_2013.csv', index=False)"
   ]
  },
  {
   "cell_type": "code",
   "execution_count": null,
   "metadata": {},
   "outputs": [],
   "source": []
  },
  {
   "cell_type": "code",
   "execution_count": null,
   "metadata": {},
   "outputs": [],
   "source": []
  },
  {
   "cell_type": "code",
   "execution_count": null,
   "metadata": {},
   "outputs": [],
   "source": []
  },
  {
   "cell_type": "code",
   "execution_count": null,
   "metadata": {},
   "outputs": [],
   "source": []
  },
  {
   "cell_type": "code",
   "execution_count": null,
   "metadata": {},
   "outputs": [],
   "source": []
  },
  {
   "cell_type": "code",
   "execution_count": 220,
   "metadata": {},
   "outputs": [
    {
     "name": "stdout",
     "output_type": "stream",
     "text": [
      " * sqlite:////Users/michaellink/Desktop/__NYCDSA/_Projects/Capstone/data/citibike/sqlite/citi_bike_year.db\n",
      "Done.\n"
     ]
    }
   ],
   "source": [
    "# sql query to get 5% random sample\n",
    "result = %sql SELECT * FROM yr_2020 WHERE abs(CAST(random() AS REAL))/9223372036854775808 < 0.05;\n",
    "# convert into pandas df\n",
    "yr_2020 = result.DataFrame()\n",
    "# send to csv\n",
    "yr_2020.to_csv('./rand_5/yr_2020.csv', index=False)"
   ]
  },
  {
   "cell_type": "code",
   "execution_count": 221,
   "metadata": {},
   "outputs": [
    {
     "name": "stdout",
     "output_type": "stream",
     "text": [
      " * sqlite:////Users/michaellink/Desktop/__NYCDSA/_Projects/Capstone/data/citibike/sqlite/citi_bike_year.db\n",
      "Done.\n"
     ]
    }
   ],
   "source": [
    "# sql query to get 5% random sample\n",
    "result = %sql SELECT * FROM yr_2019 WHERE abs(CAST(random() AS REAL))/9223372036854775808 < 0.05;\n",
    "# convert into pandas df\n",
    "yr_2019 = result.DataFrame()\n",
    "# send to csv\n",
    "yr_2019.to_csv('./rand_5/yr_2019.csv', index=False)"
   ]
  },
  {
   "cell_type": "code",
   "execution_count": 222,
   "metadata": {},
   "outputs": [
    {
     "name": "stdout",
     "output_type": "stream",
     "text": [
      " * sqlite:////Users/michaellink/Desktop/__NYCDSA/_Projects/Capstone/data/citibike/sqlite/citi_bike_year.db\n",
      "Done.\n"
     ]
    }
   ],
   "source": [
    "# sql query to get 5% random sample\n",
    "result = %sql SELECT * FROM yr_2018 WHERE abs(CAST(random() AS REAL))/9223372036854775808 < 0.05;\n",
    "# convert into pandas df\n",
    "yr_2018 = result.DataFrame()\n",
    "# send to csv\n",
    "yr_2018.to_csv('./rand_5/yr_2018.csv', index=False)"
   ]
  },
  {
   "cell_type": "code",
   "execution_count": 223,
   "metadata": {},
   "outputs": [
    {
     "name": "stdout",
     "output_type": "stream",
     "text": [
      " * sqlite:////Users/michaellink/Desktop/__NYCDSA/_Projects/Capstone/data/citibike/sqlite/citi_bike_year.db\n",
      "Done.\n"
     ]
    }
   ],
   "source": [
    "# sql query to get 5% random sample\n",
    "result = %sql SELECT * FROM yr_2017 WHERE abs(CAST(random() AS REAL))/9223372036854775808 < 0.05;\n",
    "# convert into pandas df\n",
    "yr_2017 = result.DataFrame()\n",
    "# send to csv\n",
    "yr_2017.to_csv('./rand_5/yr_2017.csv', index=False)"
   ]
  },
  {
   "cell_type": "code",
   "execution_count": 224,
   "metadata": {},
   "outputs": [
    {
     "name": "stdout",
     "output_type": "stream",
     "text": [
      " * sqlite:////Users/michaellink/Desktop/__NYCDSA/_Projects/Capstone/data/citibike/sqlite/citi_bike_year.db\n",
      "Done.\n"
     ]
    }
   ],
   "source": [
    "# sql query to get 5% random sample\n",
    "result = %sql SELECT * FROM yr_2016 WHERE abs(CAST(random() AS REAL))/9223372036854775808 < 0.05;\n",
    "# convert into pandas df\n",
    "yr_2016 = result.DataFrame()\n",
    "# send to csv\n",
    "yr_2016.to_csv('./rand_5/yr_2016.csv', index=False)"
   ]
  },
  {
   "cell_type": "code",
   "execution_count": 225,
   "metadata": {},
   "outputs": [
    {
     "name": "stdout",
     "output_type": "stream",
     "text": [
      " * sqlite:////Users/michaellink/Desktop/__NYCDSA/_Projects/Capstone/data/citibike/sqlite/citi_bike_year.db\n",
      "Done.\n"
     ]
    }
   ],
   "source": [
    "# sql query to get 5% random sample\n",
    "result = %sql SELECT * FROM yr_2015 WHERE abs(CAST(random() AS REAL))/9223372036854775808 < 0.05;\n",
    "# convert into pandas df\n",
    "yr_2015 = result.DataFrame()\n",
    "# send to csv\n",
    "yr_2015.to_csv('./rand_5/yr_2015.csv', index=False)"
   ]
  },
  {
   "cell_type": "code",
   "execution_count": 226,
   "metadata": {},
   "outputs": [
    {
     "name": "stdout",
     "output_type": "stream",
     "text": [
      " * sqlite:////Users/michaellink/Desktop/__NYCDSA/_Projects/Capstone/data/citibike/sqlite/citi_bike_year.db\n",
      "Done.\n"
     ]
    }
   ],
   "source": [
    "# sql query to get 5% random sample\n",
    "result = %sql SELECT * FROM yr_2014 WHERE abs(CAST(random() AS REAL))/9223372036854775808 < 0.05;\n",
    "# convert into pandas df\n",
    "yr_2014 = result.DataFrame()\n",
    "# send to csv\n",
    "yr_2014.to_csv('./rand_5/yr_2014.csv', index=False)"
   ]
  },
  {
   "cell_type": "code",
   "execution_count": 227,
   "metadata": {},
   "outputs": [
    {
     "name": "stdout",
     "output_type": "stream",
     "text": [
      " * sqlite:////Users/michaellink/Desktop/__NYCDSA/_Projects/Capstone/data/citibike/sqlite/citi_bike_year.db\n",
      "Done.\n"
     ]
    }
   ],
   "source": [
    "# sql query to get 5% random sample\n",
    "result = %sql SELECT * FROM yr_2013 WHERE abs(CAST(random() AS REAL))/9223372036854775808 < 0.05;\n",
    "# convert into pandas df\n",
    "yr_2013 = result.DataFrame()\n",
    "# send to csv\n",
    "yr_2013.to_csv('./rand_5/yr_2013.csv', index=False)"
   ]
  },
  {
   "cell_type": "code",
   "execution_count": null,
   "metadata": {},
   "outputs": [],
   "source": []
  },
  {
   "cell_type": "code",
   "execution_count": null,
   "metadata": {},
   "outputs": [],
   "source": []
  },
  {
   "cell_type": "code",
   "execution_count": null,
   "metadata": {},
   "outputs": [],
   "source": []
  },
  {
   "cell_type": "code",
   "execution_count": null,
   "metadata": {},
   "outputs": [],
   "source": []
  },
  {
   "cell_type": "code",
   "execution_count": null,
   "metadata": {},
   "outputs": [],
   "source": []
  },
  {
   "cell_type": "code",
   "execution_count": null,
   "metadata": {},
   "outputs": [],
   "source": []
  },
  {
   "cell_type": "code",
   "execution_count": null,
   "metadata": {},
   "outputs": [],
   "source": []
  },
  {
   "cell_type": "code",
   "execution_count": null,
   "metadata": {},
   "outputs": [],
   "source": []
  },
  {
   "cell_type": "code",
   "execution_count": null,
   "metadata": {},
   "outputs": [],
   "source": []
  },
  {
   "cell_type": "code",
   "execution_count": null,
   "metadata": {},
   "outputs": [],
   "source": []
  },
  {
   "cell_type": "code",
   "execution_count": null,
   "metadata": {},
   "outputs": [],
   "source": []
  },
  {
   "cell_type": "code",
   "execution_count": null,
   "metadata": {},
   "outputs": [],
   "source": []
  },
  {
   "cell_type": "code",
   "execution_count": null,
   "metadata": {},
   "outputs": [],
   "source": []
  },
  {
   "cell_type": "code",
   "execution_count": null,
   "metadata": {},
   "outputs": [],
   "source": []
  },
  {
   "cell_type": "code",
   "execution_count": null,
   "metadata": {},
   "outputs": [],
   "source": []
  },
  {
   "cell_type": "code",
   "execution_count": null,
   "metadata": {},
   "outputs": [],
   "source": []
  },
  {
   "cell_type": "code",
   "execution_count": null,
   "metadata": {},
   "outputs": [],
   "source": []
  },
  {
   "cell_type": "code",
   "execution_count": null,
   "metadata": {},
   "outputs": [],
   "source": []
  },
  {
   "cell_type": "code",
   "execution_count": null,
   "metadata": {},
   "outputs": [],
   "source": []
  },
  {
   "cell_type": "code",
   "execution_count": null,
   "metadata": {},
   "outputs": [],
   "source": []
  },
  {
   "cell_type": "code",
   "execution_count": null,
   "metadata": {},
   "outputs": [],
   "source": []
  },
  {
   "cell_type": "code",
   "execution_count": null,
   "metadata": {},
   "outputs": [],
   "source": []
  },
  {
   "cell_type": "code",
   "execution_count": null,
   "metadata": {},
   "outputs": [],
   "source": []
  },
  {
   "cell_type": "code",
   "execution_count": null,
   "metadata": {},
   "outputs": [],
   "source": []
  },
  {
   "cell_type": "code",
   "execution_count": null,
   "metadata": {},
   "outputs": [],
   "source": []
  },
  {
   "cell_type": "markdown",
   "metadata": {},
   "source": [
    "#### Global - Total number of stations"
   ]
  },
  {
   "cell_type": "code",
   "execution_count": null,
   "metadata": {},
   "outputs": [],
   "source": [
    "# get total number of distinct stations\n",
    "result = %sql SELECT COUNT (DISTINCT start_station_name) FROM yr_2019;\n",
    "num_station_global = result.DataFrame()\n",
    "num_station_global.rename(columns={\"COUNT (DISTINCT start_station_name)\": \"value\"}, inplace=True)\n",
    "num_station_global = num_station_global['value'].iloc[0]\n",
    "num_station_global"
   ]
  },
  {
   "cell_type": "markdown",
   "metadata": {},
   "source": [
    "#### Local - Total number of stations"
   ]
  },
  {
   "cell_type": "code",
   "execution_count": null,
   "metadata": {
    "scrolled": true
   },
   "outputs": [],
   "source": [
    "%%time\n",
    "# get total number of distinct stations\n",
    "# %sql SELECT COUNT (DISTINCT start_station_name) FROM yr_2019\n",
    "result = %sql SELECT COUNT (DISTINCT start_station_name) FROM yr_2019 WHERE abs(CAST(random() AS REAL))/9223372036854775808 < 0.05;\n",
    "    # can replace with pd dataframe later\n",
    "num_station_local = result.DataFrame()\n",
    "num_station_local.rename(columns={\"COUNT (DISTINCT start_station_name)\": \"value\"}, inplace=True)\n",
    "num_station_local = num_station_local['value'].iloc[0]\n",
    "num_station_local"
   ]
  },
  {
   "cell_type": "code",
   "execution_count": null,
   "metadata": {},
   "outputs": [],
   "source": []
  },
  {
   "cell_type": "code",
   "execution_count": null,
   "metadata": {},
   "outputs": [],
   "source": []
  },
  {
   "cell_type": "code",
   "execution_count": null,
   "metadata": {},
   "outputs": [],
   "source": []
  },
  {
   "cell_type": "code",
   "execution_count": null,
   "metadata": {},
   "outputs": [],
   "source": []
  },
  {
   "cell_type": "code",
   "execution_count": null,
   "metadata": {},
   "outputs": [],
   "source": []
  },
  {
   "cell_type": "code",
   "execution_count": null,
   "metadata": {},
   "outputs": [],
   "source": []
  },
  {
   "cell_type": "code",
   "execution_count": null,
   "metadata": {},
   "outputs": [],
   "source": []
  },
  {
   "cell_type": "code",
   "execution_count": null,
   "metadata": {},
   "outputs": [],
   "source": []
  },
  {
   "cell_type": "code",
   "execution_count": null,
   "metadata": {},
   "outputs": [],
   "source": []
  },
  {
   "cell_type": "markdown",
   "metadata": {},
   "source": [
    "#### Local - Experimentation to choose random sample method and to validate 5% grab"
   ]
  },
  {
   "cell_type": "code",
   "execution_count": null,
   "metadata": {
    "scrolled": false
   },
   "outputs": [],
   "source": [
    "%%time\n",
    "# [55 seconds]\n",
    "# Test on 5% grab of 2019 data with order by method\n",
    "# https://stackoverflow.com/questions/4114940/select-random-rows-in-sqlite\n",
    "result = %sql select * from yr_2019 order by random() limit 1048862;"
   ]
  },
  {
   "cell_type": "code",
   "execution_count": null,
   "metadata": {
    "scrolled": false
   },
   "outputs": [],
   "source": [
    "%%time\n",
    "# [17 seconds]\n",
    "# Test on 5% grab of 2019 data with abs method\n",
    "# https://stackoverflow.com/questions/4114940/select-random-rows-in-sqlite\n",
    "result = %sql SELECT * FROM yr_2019 WHERE abs(CAST(random() AS REAL))/9223372036854775808 < 0.05;"
   ]
  },
  {
   "cell_type": "code",
   "execution_count": null,
   "metadata": {
    "scrolled": true
   },
   "outputs": [],
   "source": [
    "%%time\n",
    "# [5 seconds]\n",
    "# Test on converting 5% grab of 2019 data into pandas dataframe\n",
    "# This contributes little to the overall time\n",
    "df_random_method_2 = result.DataFrame()\n",
    "print(df_random_method_2.shape)\n",
    "df_random_method_2.head(2)"
   ]
  },
  {
   "cell_type": "code",
   "execution_count": null,
   "metadata": {},
   "outputs": [],
   "source": [
    "# Verifying that our grab was truly 5%\n",
    "\n",
    "# Get total number of rows\n",
    "result = %sql SELECT COUNT(*) FROM yr_2019;\n",
    "num_observations = result.DataFrame()\n",
    "num_observations.rename(columns={\"COUNT(*)\": \"value\"}, inplace=True)\n",
    "num_observations = num_observations['value'].iloc[0]\n",
    "\n",
    "# Get number of rows from random sample\n",
    "num_row = df_random_method_2.shape[0]  \n",
    "\n",
    "# Calculate percentage\n",
    "percent = round(100 * ( num_row / num_observations), 2)\n",
    "print(f'The randomly sampled dataset is {percent} percent of the original dataset')"
   ]
  },
  {
   "cell_type": "code",
   "execution_count": null,
   "metadata": {},
   "outputs": [],
   "source": []
  },
  {
   "cell_type": "code",
   "execution_count": null,
   "metadata": {},
   "outputs": [],
   "source": []
  },
  {
   "cell_type": "code",
   "execution_count": null,
   "metadata": {},
   "outputs": [],
   "source": []
  },
  {
   "cell_type": "code",
   "execution_count": null,
   "metadata": {},
   "outputs": [],
   "source": []
  },
  {
   "cell_type": "code",
   "execution_count": null,
   "metadata": {},
   "outputs": [],
   "source": []
  },
  {
   "cell_type": "code",
   "execution_count": null,
   "metadata": {},
   "outputs": [],
   "source": []
  },
  {
   "cell_type": "code",
   "execution_count": null,
   "metadata": {},
   "outputs": [],
   "source": []
  },
  {
   "cell_type": "code",
   "execution_count": null,
   "metadata": {},
   "outputs": [],
   "source": []
  },
  {
   "cell_type": "code",
   "execution_count": null,
   "metadata": {},
   "outputs": [],
   "source": []
  },
  {
   "cell_type": "code",
   "execution_count": null,
   "metadata": {},
   "outputs": [],
   "source": [
    "%%time\n",
    "result = %sql SELECT * FROM yr_2020_test WHERE ID IN (SELECT ID FROM yr_2019 ORDER BY RANDOM() LIMIT 100)\n",
    "# select * from yr_2019 where random() <= .01;\n",
    "df_random = result.DataFrame()\n",
    "df_random.head(2)"
   ]
  },
  {
   "cell_type": "code",
   "execution_count": null,
   "metadata": {},
   "outputs": [],
   "source": []
  },
  {
   "cell_type": "code",
   "execution_count": null,
   "metadata": {},
   "outputs": [],
   "source": [
    "result = %sql SELECT * from yr_2019 WHERE random()<200 / (SELECT COUNT(1) from logs)::float ORDER BY random() LIMIT 100;\n",
    "# select * from yr_2019 where random() <= .01;\n",
    "df_random = result.DataFrame()\n",
    "df_random.head(2)"
   ]
  },
  {
   "cell_type": "code",
   "execution_count": null,
   "metadata": {},
   "outputs": [],
   "source": []
  },
  {
   "cell_type": "code",
   "execution_count": null,
   "metadata": {},
   "outputs": [],
   "source": []
  },
  {
   "cell_type": "code",
   "execution_count": null,
   "metadata": {},
   "outputs": [],
   "source": [
    "%%time\n",
    "# Order database randomly and take top %\n",
    "result = %sql select * from yr_2019 where random() <= .01;\n",
    "df_random = result.DataFrame()\n",
    "df_random.head(2)"
   ]
  },
  {
   "cell_type": "code",
   "execution_count": null,
   "metadata": {},
   "outputs": [],
   "source": [
    "%alias_magic t timeit"
   ]
  },
  {
   "cell_type": "code",
   "execution_count": null,
   "metadata": {},
   "outputs": [],
   "source": []
  },
  {
   "cell_type": "code",
   "execution_count": null,
   "metadata": {},
   "outputs": [],
   "source": []
  },
  {
   "cell_type": "code",
   "execution_count": null,
   "metadata": {},
   "outputs": [],
   "source": []
  },
  {
   "cell_type": "code",
   "execution_count": null,
   "metadata": {},
   "outputs": [],
   "source": []
  },
  {
   "cell_type": "code",
   "execution_count": null,
   "metadata": {},
   "outputs": [],
   "source": []
  },
  {
   "cell_type": "code",
   "execution_count": null,
   "metadata": {},
   "outputs": [],
   "source": []
  },
  {
   "cell_type": "code",
   "execution_count": null,
   "metadata": {},
   "outputs": [],
   "source": []
  },
  {
   "cell_type": "code",
   "execution_count": null,
   "metadata": {},
   "outputs": [],
   "source": []
  },
  {
   "cell_type": "code",
   "execution_count": null,
   "metadata": {},
   "outputs": [],
   "source": []
  },
  {
   "cell_type": "code",
   "execution_count": null,
   "metadata": {},
   "outputs": [],
   "source": []
  },
  {
   "cell_type": "code",
   "execution_count": null,
   "metadata": {},
   "outputs": [],
   "source": [
    "# Approximately 20 seconds. Not a big problem if we run once and save as csv\n",
    "results = %sql select * from yr_2019 order by random() limit 10;\n",
    "df_random = result.DataFrame()\n",
    "df_random.head(5)"
   ]
  },
  {
   "cell_type": "code",
   "execution_count": null,
   "metadata": {},
   "outputs": [],
   "source": []
  },
  {
   "cell_type": "code",
   "execution_count": null,
   "metadata": {},
   "outputs": [],
   "source": []
  },
  {
   "cell_type": "code",
   "execution_count": null,
   "metadata": {},
   "outputs": [],
   "source": []
  },
  {
   "cell_type": "code",
   "execution_count": null,
   "metadata": {},
   "outputs": [],
   "source": []
  },
  {
   "cell_type": "code",
   "execution_count": null,
   "metadata": {},
   "outputs": [],
   "source": []
  },
  {
   "cell_type": "code",
   "execution_count": null,
   "metadata": {},
   "outputs": [],
   "source": []
  }
 ],
 "metadata": {
  "kernelspec": {
   "display_name": "Python 3",
   "language": "python",
   "name": "python3"
  },
  "language_info": {
   "codemirror_mode": {
    "name": "ipython",
    "version": 3
   },
   "file_extension": ".py",
   "mimetype": "text/x-python",
   "name": "python",
   "nbconvert_exporter": "python",
   "pygments_lexer": "ipython3",
   "version": "3.7.6"
  }
 },
 "nbformat": 4,
 "nbformat_minor": 4
}
