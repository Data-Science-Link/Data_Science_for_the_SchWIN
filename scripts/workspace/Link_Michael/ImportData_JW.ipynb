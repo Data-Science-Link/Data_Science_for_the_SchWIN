{
 "cells": [
  {
   "cell_type": "code",
   "execution_count": 1,
   "metadata": {},
   "outputs": [],
   "source": [
    "import requests\n",
    "from bs4 import BeautifulSoup\n",
    "import os\n",
    "import zipfile\n",
    "import numpy as np\n",
    "import pandas as pd\n",
    "\n",
    "url = 'https://s3.amazonaws.com/tripdata/'\n",
    "\n",
    "# load url content into soup\n",
    "r = requests.get(url)\n",
    "soup = BeautifulSoup(r.text, 'xml')\n",
    "\n",
    "# extract file names from soup\n",
    "files = soup.find_all('Key')\n",
    "clean_files = []\n",
    "for i in range(len(files)-1):\n",
    "    clean_files.append(files[i].get_text())\n",
    "\n",
    "# download & unzip data files\n",
    "for file in clean_files:\n",
    "    file_url = url + file\n",
    "    #download files\n",
    "    with open(file, \"wb\") as f:\n",
    "            response = requests.get(file_url)\n",
    "            f.write(response.content)\n",
    "    # unzip data files\n",
    "    with zipfile.ZipFile(file, \"r\") as zip_ref:\n",
    "        zip_ref.extractall(\"tripdata\")        \n",
    "    # remove zipped file after unziping\n",
    "    os.remove(file)\n",
    "        "
   ]
  },
  {
   "cell_type": "code",
   "execution_count": null,
   "metadata": {},
   "outputs": [],
   "source": [
    "#load into DataFrames into dfs dictionary\n",
    "directory = 'tripdata/'\n",
    "dfs = {}\n",
    "\n",
    "for file in os.listdir(directory):\n",
    "    filename = os.fsdecode(file)\n",
    "    if filename.endswith('.csv'):\n",
    "        dfs[filename.split('.')[0]] = pd.read_csv(os.path.join(directory, filename)) "
   ]
  }
 ],
 "metadata": {
  "kernelspec": {
   "display_name": "Python 3",
   "language": "python",
   "name": "python3"
  },
  "language_info": {
   "codemirror_mode": {
    "name": "ipython",
    "version": 3
   },
   "file_extension": ".py",
   "mimetype": "text/x-python",
   "name": "python",
   "nbconvert_exporter": "python",
   "pygments_lexer": "ipython3",
   "version": "3.7.6"
  }
 },
 "nbformat": 4,
 "nbformat_minor": 4
}
