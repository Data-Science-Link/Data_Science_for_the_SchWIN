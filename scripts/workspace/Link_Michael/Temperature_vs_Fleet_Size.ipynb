{
 "cells": [
  {
   "cell_type": "code",
   "execution_count": 1,
   "metadata": {},
   "outputs": [],
   "source": [
    "import pandas as pd\n",
    "import numpy as np\n",
    "import matplotlib.pyplot as plt\n",
    "import seaborn as sns\n",
    "from import_clean_process import cleaning_your_bike\n",
    "import sqlite3\n",
    "%load_ext sql"
   ]
  },
  {
   "cell_type": "code",
   "execution_count": 2,
   "metadata": {},
   "outputs": [],
   "source": [
    "colors = [\"#FF9AA2\", \"#FFB7B2\",\"#FFDAC1\",'#E2F0CB','#B5EAD7','#C7CEEA']\n",
    "\n",
    "keys = [\"red\", \"salmon\",\"tan\",'light_green','aqua_green','purple']\n",
    "values = [\"#FF9AA2\", \"#FFB7B2\",\"#FFDAC1\",'#E2F0CB','#B5EAD7','#C7CEEA']\n",
    "color_dct = dict(zip(keys, values))"
   ]
  },
  {
   "cell_type": "code",
   "execution_count": 3,
   "metadata": {},
   "outputs": [],
   "source": [
    "%sql sqlite:////Users/michaellink/Desktop/__NYCDSA/_Projects/Capstone/data/citibike/sqlite/citi_bike_yr.db"
   ]
  },
  {
   "cell_type": "code",
   "execution_count": 3,
   "metadata": {},
   "outputs": [],
   "source": [
    "def sql_df_creation(year):\n",
    "    \n",
    "    # define the sql table name\n",
    "    yr =' yr_' + str(year)\n",
    "    \n",
    "    # run sql query and store as dataframe\n",
    "    sql_result = %sql SELECT starttime, bikeid FROM $yr;\n",
    "    df_sql = sql_result.DataFrame()\n",
    "    \n",
    "    # do datetime conversions\n",
    "    df_sql['starttime'] = pd.to_datetime(df_sql['starttime'])\n",
    "    df_sql['year'] = df_sql['starttime'].dt.year\n",
    "    df_sql['month'] = df_sql['starttime'].dt.month\n",
    "    df_sql.loc[df_sql['month'] == 1, ['month']] = 'January'\n",
    "    df_sql.loc[df_sql['month'] == 2, ['month']] = 'February'\n",
    "    df_sql.loc[df_sql['month'] == 3, ['month']] = 'March'\n",
    "    df_sql.loc[df_sql['month'] == 4, ['month']] = 'April'\n",
    "    df_sql.loc[df_sql['month'] == 5, ['month']] = 'May'\n",
    "    df_sql.loc[df_sql['month'] == 6, ['month']] = 'June'\n",
    "    df_sql.loc[df_sql['month'] == 7, ['month']] = 'July'\n",
    "    df_sql.loc[df_sql['month'] == 8, ['month']] = 'August'\n",
    "    df_sql.loc[df_sql['month'] == 9, ['month']] = 'September'\n",
    "    df_sql.loc[df_sql['month'] == 10, ['month']] = 'October'\n",
    "    df_sql.loc[df_sql['month'] == 11, ['month']] = 'November'\n",
    "    df_sql.loc[df_sql['month'] == 12, ['month']] = 'December'\n",
    "    df_sql.drop(columns=['starttime'], inplace=True)\n",
    "    \n",
    "    return df_sql"
   ]
  },
  {
   "cell_type": "code",
   "execution_count": 4,
   "metadata": {},
   "outputs": [],
   "source": [
    "def unique_bikes_sql():\n",
    "    \n",
    "    %sql sqlite:////Users/michaellink/Desktop/__NYCDSA/_Projects/Capstone/data/citibike/sqlite/citi_bike_yr.db\n",
    "    \n",
    "    # define years\n",
    "    years = list(np.arange(2013,2020+1))\n",
    "    \n",
    "    # define months\n",
    "    months = ['January','February','March',\"April\",\"May\",\"June\",\"July\",\"August\",\"September\",\"October\",\"November\", \"December\"]\n",
    "    \n",
    "    # initialize empty dataframe to store number of unique bikes for each month and year\n",
    "    result = pd.DataFrame({'bikes': pd.Series([], dtype='int'),'year': pd.Series([], dtype='int'),'month': pd.Series([], dtype='str')})\n",
    "    \n",
    "    # initialize empty list to store number of unique bikes for each month\n",
    "    unique_bikes = []\n",
    "    \n",
    "    for year in years:\n",
    "        \n",
    "        print('before_query\\n')\n",
    "        \n",
    "        df = sql_df_creation(year)\n",
    "        \n",
    "        print(year)\n",
    "        \n",
    "        # create for loop to count number of unique bikes after filtering to a given month\n",
    "        for month in months:\n",
    "            # filter down to given month\n",
    "            x = df.loc[(df['year'] == year) & (df['month'] == month)]\n",
    "            # append unique number to list created above\n",
    "            unique_bikes.append(len(x.bikeid.unique()))\n",
    "\n",
    "        # create dataframe with results\n",
    "        bike = pd.DataFrame(unique_bikes, columns = ['bikes'])\n",
    "        \n",
    "        # add columns denoting year and month\n",
    "        bike['year'] = int(year)\n",
    "        bike['month'] = months\n",
    "        \n",
    "        # concatenate the above result with prior results\n",
    "        result = pd.concat([result, bike])\n",
    "        \n",
    "        # clear bike number list and delete bike dataframe in preparation for next loop in year\n",
    "        unique_bikes.clear()\n",
    "        del bike\n",
    "        del df\n",
    "        \n",
    "    \n",
    "    return result"
   ]
  },
  {
   "cell_type": "code",
   "execution_count": 5,
   "metadata": {},
   "outputs": [
    {
     "name": "stdout",
     "output_type": "stream",
     "text": [
      "before_query\n",
      "\n",
      " * sqlite:////Users/michaellink/Desktop/__NYCDSA/_Projects/Capstone/data/citibike/sqlite/citi_bike_yr.db\n",
      "Done.\n",
      "2013\n",
      "before_query\n",
      "\n",
      " * sqlite:////Users/michaellink/Desktop/__NYCDSA/_Projects/Capstone/data/citibike/sqlite/citi_bike_yr.db\n",
      "Done.\n",
      "2014\n",
      "before_query\n",
      "\n",
      " * sqlite:////Users/michaellink/Desktop/__NYCDSA/_Projects/Capstone/data/citibike/sqlite/citi_bike_yr.db\n",
      "Done.\n",
      "2015\n",
      "before_query\n",
      "\n",
      " * sqlite:////Users/michaellink/Desktop/__NYCDSA/_Projects/Capstone/data/citibike/sqlite/citi_bike_yr.db\n",
      "Done.\n",
      "2016\n",
      "before_query\n",
      "\n",
      " * sqlite:////Users/michaellink/Desktop/__NYCDSA/_Projects/Capstone/data/citibike/sqlite/citi_bike_yr.db\n",
      "Done.\n",
      "2017\n",
      "before_query\n",
      "\n",
      " * sqlite:////Users/michaellink/Desktop/__NYCDSA/_Projects/Capstone/data/citibike/sqlite/citi_bike_yr.db\n",
      "Done.\n",
      "2018\n",
      "before_query\n",
      "\n",
      " * sqlite:////Users/michaellink/Desktop/__NYCDSA/_Projects/Capstone/data/citibike/sqlite/citi_bike_yr.db\n",
      "Done.\n",
      "2019\n",
      "before_query\n",
      "\n",
      " * sqlite:////Users/michaellink/Desktop/__NYCDSA/_Projects/Capstone/data/citibike/sqlite/citi_bike_yr.db\n",
      "Done.\n",
      "2020\n"
     ]
    },
    {
     "data": {
      "text/html": [
       "<div>\n",
       "<style scoped>\n",
       "    .dataframe tbody tr th:only-of-type {\n",
       "        vertical-align: middle;\n",
       "    }\n",
       "\n",
       "    .dataframe tbody tr th {\n",
       "        vertical-align: top;\n",
       "    }\n",
       "\n",
       "    .dataframe thead th {\n",
       "        text-align: right;\n",
       "    }\n",
       "</style>\n",
       "<table border=\"1\" class=\"dataframe\">\n",
       "  <thead>\n",
       "    <tr style=\"text-align: right;\">\n",
       "      <th></th>\n",
       "      <th>bikes</th>\n",
       "      <th>year</th>\n",
       "      <th>month</th>\n",
       "    </tr>\n",
       "  </thead>\n",
       "  <tbody>\n",
       "    <tr>\n",
       "      <th>10</th>\n",
       "      <td>7971</td>\n",
       "      <td>2015</td>\n",
       "      <td>November</td>\n",
       "    </tr>\n",
       "    <tr>\n",
       "      <th>5</th>\n",
       "      <td>5897</td>\n",
       "      <td>2015</td>\n",
       "      <td>June</td>\n",
       "    </tr>\n",
       "    <tr>\n",
       "      <th>0</th>\n",
       "      <td>0</td>\n",
       "      <td>2013</td>\n",
       "      <td>January</td>\n",
       "    </tr>\n",
       "    <tr>\n",
       "      <th>4</th>\n",
       "      <td>5476</td>\n",
       "      <td>2015</td>\n",
       "      <td>May</td>\n",
       "    </tr>\n",
       "    <tr>\n",
       "      <th>11</th>\n",
       "      <td>0</td>\n",
       "      <td>2020</td>\n",
       "      <td>December</td>\n",
       "    </tr>\n",
       "    <tr>\n",
       "      <th>8</th>\n",
       "      <td>10267</td>\n",
       "      <td>2016</td>\n",
       "      <td>September</td>\n",
       "    </tr>\n",
       "    <tr>\n",
       "      <th>1</th>\n",
       "      <td>4466</td>\n",
       "      <td>2015</td>\n",
       "      <td>February</td>\n",
       "    </tr>\n",
       "    <tr>\n",
       "      <th>6</th>\n",
       "      <td>8413</td>\n",
       "      <td>2016</td>\n",
       "      <td>July</td>\n",
       "    </tr>\n",
       "    <tr>\n",
       "      <th>4</th>\n",
       "      <td>6186</td>\n",
       "      <td>2014</td>\n",
       "      <td>May</td>\n",
       "    </tr>\n",
       "    <tr>\n",
       "      <th>6</th>\n",
       "      <td>5461</td>\n",
       "      <td>2013</td>\n",
       "      <td>July</td>\n",
       "    </tr>\n",
       "    <tr>\n",
       "      <th>6</th>\n",
       "      <td>11226</td>\n",
       "      <td>2018</td>\n",
       "      <td>July</td>\n",
       "    </tr>\n",
       "    <tr>\n",
       "      <th>0</th>\n",
       "      <td>10665</td>\n",
       "      <td>2018</td>\n",
       "      <td>January</td>\n",
       "    </tr>\n",
       "    <tr>\n",
       "      <th>9</th>\n",
       "      <td>5722</td>\n",
       "      <td>2013</td>\n",
       "      <td>October</td>\n",
       "    </tr>\n",
       "    <tr>\n",
       "      <th>7</th>\n",
       "      <td>0</td>\n",
       "      <td>2020</td>\n",
       "      <td>August</td>\n",
       "    </tr>\n",
       "    <tr>\n",
       "      <th>8</th>\n",
       "      <td>16329</td>\n",
       "      <td>2019</td>\n",
       "      <td>September</td>\n",
       "    </tr>\n",
       "  </tbody>\n",
       "</table>\n",
       "</div>"
      ],
      "text/plain": [
       "    bikes  year      month\n",
       "10   7971  2015   November\n",
       "5    5897  2015       June\n",
       "0       0  2013    January\n",
       "4    5476  2015        May\n",
       "11      0  2020   December\n",
       "8   10267  2016  September\n",
       "1    4466  2015   February\n",
       "6    8413  2016       July\n",
       "4    6186  2014        May\n",
       "6    5461  2013       July\n",
       "6   11226  2018       July\n",
       "0   10665  2018    January\n",
       "9    5722  2013    October\n",
       "7       0  2020     August\n",
       "8   16329  2019  September"
      ]
     },
     "execution_count": 5,
     "metadata": {},
     "output_type": "execute_result"
    }
   ],
   "source": [
    "df_bike_full = unique_bikes_sql()\n",
    "df_bike_full.sample(15)"
   ]
  },
  {
   "cell_type": "markdown",
   "metadata": {},
   "source": [
    "### Convert columns to datetime to prep for graphing"
   ]
  },
  {
   "cell_type": "code",
   "execution_count": 22,
   "metadata": {},
   "outputs": [
    {
     "ename": "KeyError",
     "evalue": "'year'",
     "output_type": "error",
     "traceback": [
      "\u001b[0;31m---------------------------------------------------------------------------\u001b[0m",
      "\u001b[0;31mKeyError\u001b[0m                                  Traceback (most recent call last)",
      "\u001b[0;32m~/opt/anaconda3/lib/python3.7/site-packages/pandas/core/indexes/base.py\u001b[0m in \u001b[0;36mget_loc\u001b[0;34m(self, key, method, tolerance)\u001b[0m\n\u001b[1;32m   2645\u001b[0m             \u001b[0;32mtry\u001b[0m\u001b[0;34m:\u001b[0m\u001b[0;34m\u001b[0m\u001b[0;34m\u001b[0m\u001b[0m\n\u001b[0;32m-> 2646\u001b[0;31m                 \u001b[0;32mreturn\u001b[0m \u001b[0mself\u001b[0m\u001b[0;34m.\u001b[0m\u001b[0m_engine\u001b[0m\u001b[0;34m.\u001b[0m\u001b[0mget_loc\u001b[0m\u001b[0;34m(\u001b[0m\u001b[0mkey\u001b[0m\u001b[0;34m)\u001b[0m\u001b[0;34m\u001b[0m\u001b[0;34m\u001b[0m\u001b[0m\n\u001b[0m\u001b[1;32m   2647\u001b[0m             \u001b[0;32mexcept\u001b[0m \u001b[0mKeyError\u001b[0m\u001b[0;34m:\u001b[0m\u001b[0;34m\u001b[0m\u001b[0;34m\u001b[0m\u001b[0m\n",
      "\u001b[0;32mpandas/_libs/index.pyx\u001b[0m in \u001b[0;36mpandas._libs.index.IndexEngine.get_loc\u001b[0;34m()\u001b[0m\n",
      "\u001b[0;32mpandas/_libs/index.pyx\u001b[0m in \u001b[0;36mpandas._libs.index.IndexEngine.get_loc\u001b[0;34m()\u001b[0m\n",
      "\u001b[0;32mpandas/_libs/hashtable_class_helper.pxi\u001b[0m in \u001b[0;36mpandas._libs.hashtable.PyObjectHashTable.get_item\u001b[0;34m()\u001b[0m\n",
      "\u001b[0;32mpandas/_libs/hashtable_class_helper.pxi\u001b[0m in \u001b[0;36mpandas._libs.hashtable.PyObjectHashTable.get_item\u001b[0;34m()\u001b[0m\n",
      "\u001b[0;31mKeyError\u001b[0m: 'year'",
      "\nDuring handling of the above exception, another exception occurred:\n",
      "\u001b[0;31mKeyError\u001b[0m                                  Traceback (most recent call last)",
      "\u001b[0;32m<ipython-input-22-b3b02615a592>\u001b[0m in \u001b[0;36m<module>\u001b[0;34m\u001b[0m\n\u001b[0;32m----> 1\u001b[0;31m \u001b[0mdf_bike_full\u001b[0m\u001b[0;34m[\u001b[0m\u001b[0;34m'datetime'\u001b[0m\u001b[0;34m]\u001b[0m \u001b[0;34m=\u001b[0m \u001b[0mpd\u001b[0m\u001b[0;34m.\u001b[0m\u001b[0mto_datetime\u001b[0m\u001b[0;34m(\u001b[0m\u001b[0mdf_bike_full\u001b[0m\u001b[0;34m[\u001b[0m\u001b[0;34m'year'\u001b[0m\u001b[0;34m]\u001b[0m\u001b[0;34m.\u001b[0m\u001b[0mastype\u001b[0m\u001b[0;34m(\u001b[0m\u001b[0mstr\u001b[0m\u001b[0;34m)\u001b[0m  \u001b[0;34m+\u001b[0m \u001b[0mdf_bike_full\u001b[0m\u001b[0;34m[\u001b[0m\u001b[0;34m'month'\u001b[0m\u001b[0;34m]\u001b[0m\u001b[0;34m,\u001b[0m \u001b[0mformat\u001b[0m\u001b[0;34m=\u001b[0m\u001b[0;34m'%Y%B'\u001b[0m\u001b[0;34m)\u001b[0m\u001b[0;34m\u001b[0m\u001b[0;34m\u001b[0m\u001b[0m\n\u001b[0m\u001b[1;32m      2\u001b[0m \u001b[0mdf_bike_full\u001b[0m\u001b[0;34m.\u001b[0m\u001b[0mset_index\u001b[0m\u001b[0;34m(\u001b[0m\u001b[0;34m'datetime'\u001b[0m\u001b[0;34m,\u001b[0m \u001b[0minplace\u001b[0m\u001b[0;34m=\u001b[0m\u001b[0;32mTrue\u001b[0m\u001b[0;34m)\u001b[0m\u001b[0;34m\u001b[0m\u001b[0;34m\u001b[0m\u001b[0m\n\u001b[1;32m      3\u001b[0m \u001b[0mdf_bike_full\u001b[0m\u001b[0;34m.\u001b[0m\u001b[0mdrop\u001b[0m\u001b[0;34m(\u001b[0m\u001b[0mcolumns\u001b[0m\u001b[0;34m=\u001b[0m\u001b[0;34m[\u001b[0m\u001b[0;34m'year'\u001b[0m\u001b[0;34m,\u001b[0m \u001b[0;34m'month'\u001b[0m\u001b[0;34m]\u001b[0m\u001b[0;34m,\u001b[0m \u001b[0minplace\u001b[0m\u001b[0;34m=\u001b[0m\u001b[0;32mTrue\u001b[0m\u001b[0;34m)\u001b[0m\u001b[0;34m\u001b[0m\u001b[0;34m\u001b[0m\u001b[0m\n\u001b[1;32m      4\u001b[0m \u001b[0mdf_bike_full\u001b[0m \u001b[0;34m=\u001b[0m \u001b[0mdf_bike_full\u001b[0m\u001b[0;34m.\u001b[0m\u001b[0mloc\u001b[0m\u001b[0;34m[\u001b[0m\u001b[0;34m(\u001b[0m\u001b[0mdf_bike_full\u001b[0m\u001b[0;34m!=\u001b[0m\u001b[0;36m0\u001b[0m\u001b[0;34m)\u001b[0m\u001b[0;34m.\u001b[0m\u001b[0many\u001b[0m\u001b[0;34m(\u001b[0m\u001b[0maxis\u001b[0m\u001b[0;34m=\u001b[0m\u001b[0;36m1\u001b[0m\u001b[0;34m)\u001b[0m\u001b[0;34m]\u001b[0m\u001b[0;34m\u001b[0m\u001b[0;34m\u001b[0m\u001b[0m\n\u001b[1;32m      5\u001b[0m \u001b[0mdf_bike_full\u001b[0m\u001b[0;34m.\u001b[0m\u001b[0msample\u001b[0m\u001b[0;34m(\u001b[0m\u001b[0;36m15\u001b[0m\u001b[0;34m)\u001b[0m\u001b[0;34m\u001b[0m\u001b[0;34m\u001b[0m\u001b[0m\n",
      "\u001b[0;32m~/opt/anaconda3/lib/python3.7/site-packages/pandas/core/frame.py\u001b[0m in \u001b[0;36m__getitem__\u001b[0;34m(self, key)\u001b[0m\n\u001b[1;32m   2798\u001b[0m             \u001b[0;32mif\u001b[0m \u001b[0mself\u001b[0m\u001b[0;34m.\u001b[0m\u001b[0mcolumns\u001b[0m\u001b[0;34m.\u001b[0m\u001b[0mnlevels\u001b[0m \u001b[0;34m>\u001b[0m \u001b[0;36m1\u001b[0m\u001b[0;34m:\u001b[0m\u001b[0;34m\u001b[0m\u001b[0;34m\u001b[0m\u001b[0m\n\u001b[1;32m   2799\u001b[0m                 \u001b[0;32mreturn\u001b[0m \u001b[0mself\u001b[0m\u001b[0;34m.\u001b[0m\u001b[0m_getitem_multilevel\u001b[0m\u001b[0;34m(\u001b[0m\u001b[0mkey\u001b[0m\u001b[0;34m)\u001b[0m\u001b[0;34m\u001b[0m\u001b[0;34m\u001b[0m\u001b[0m\n\u001b[0;32m-> 2800\u001b[0;31m             \u001b[0mindexer\u001b[0m \u001b[0;34m=\u001b[0m \u001b[0mself\u001b[0m\u001b[0;34m.\u001b[0m\u001b[0mcolumns\u001b[0m\u001b[0;34m.\u001b[0m\u001b[0mget_loc\u001b[0m\u001b[0;34m(\u001b[0m\u001b[0mkey\u001b[0m\u001b[0;34m)\u001b[0m\u001b[0;34m\u001b[0m\u001b[0;34m\u001b[0m\u001b[0m\n\u001b[0m\u001b[1;32m   2801\u001b[0m             \u001b[0;32mif\u001b[0m \u001b[0mis_integer\u001b[0m\u001b[0;34m(\u001b[0m\u001b[0mindexer\u001b[0m\u001b[0;34m)\u001b[0m\u001b[0;34m:\u001b[0m\u001b[0;34m\u001b[0m\u001b[0;34m\u001b[0m\u001b[0m\n\u001b[1;32m   2802\u001b[0m                 \u001b[0mindexer\u001b[0m \u001b[0;34m=\u001b[0m \u001b[0;34m[\u001b[0m\u001b[0mindexer\u001b[0m\u001b[0;34m]\u001b[0m\u001b[0;34m\u001b[0m\u001b[0;34m\u001b[0m\u001b[0m\n",
      "\u001b[0;32m~/opt/anaconda3/lib/python3.7/site-packages/pandas/core/indexes/base.py\u001b[0m in \u001b[0;36mget_loc\u001b[0;34m(self, key, method, tolerance)\u001b[0m\n\u001b[1;32m   2646\u001b[0m                 \u001b[0;32mreturn\u001b[0m \u001b[0mself\u001b[0m\u001b[0;34m.\u001b[0m\u001b[0m_engine\u001b[0m\u001b[0;34m.\u001b[0m\u001b[0mget_loc\u001b[0m\u001b[0;34m(\u001b[0m\u001b[0mkey\u001b[0m\u001b[0;34m)\u001b[0m\u001b[0;34m\u001b[0m\u001b[0;34m\u001b[0m\u001b[0m\n\u001b[1;32m   2647\u001b[0m             \u001b[0;32mexcept\u001b[0m \u001b[0mKeyError\u001b[0m\u001b[0;34m:\u001b[0m\u001b[0;34m\u001b[0m\u001b[0;34m\u001b[0m\u001b[0m\n\u001b[0;32m-> 2648\u001b[0;31m                 \u001b[0;32mreturn\u001b[0m \u001b[0mself\u001b[0m\u001b[0;34m.\u001b[0m\u001b[0m_engine\u001b[0m\u001b[0;34m.\u001b[0m\u001b[0mget_loc\u001b[0m\u001b[0;34m(\u001b[0m\u001b[0mself\u001b[0m\u001b[0;34m.\u001b[0m\u001b[0m_maybe_cast_indexer\u001b[0m\u001b[0;34m(\u001b[0m\u001b[0mkey\u001b[0m\u001b[0;34m)\u001b[0m\u001b[0;34m)\u001b[0m\u001b[0;34m\u001b[0m\u001b[0;34m\u001b[0m\u001b[0m\n\u001b[0m\u001b[1;32m   2649\u001b[0m         \u001b[0mindexer\u001b[0m \u001b[0;34m=\u001b[0m \u001b[0mself\u001b[0m\u001b[0;34m.\u001b[0m\u001b[0mget_indexer\u001b[0m\u001b[0;34m(\u001b[0m\u001b[0;34m[\u001b[0m\u001b[0mkey\u001b[0m\u001b[0;34m]\u001b[0m\u001b[0;34m,\u001b[0m \u001b[0mmethod\u001b[0m\u001b[0;34m=\u001b[0m\u001b[0mmethod\u001b[0m\u001b[0;34m,\u001b[0m \u001b[0mtolerance\u001b[0m\u001b[0;34m=\u001b[0m\u001b[0mtolerance\u001b[0m\u001b[0;34m)\u001b[0m\u001b[0;34m\u001b[0m\u001b[0;34m\u001b[0m\u001b[0m\n\u001b[1;32m   2650\u001b[0m         \u001b[0;32mif\u001b[0m \u001b[0mindexer\u001b[0m\u001b[0;34m.\u001b[0m\u001b[0mndim\u001b[0m \u001b[0;34m>\u001b[0m \u001b[0;36m1\u001b[0m \u001b[0;32mor\u001b[0m \u001b[0mindexer\u001b[0m\u001b[0;34m.\u001b[0m\u001b[0msize\u001b[0m \u001b[0;34m>\u001b[0m \u001b[0;36m1\u001b[0m\u001b[0;34m:\u001b[0m\u001b[0;34m\u001b[0m\u001b[0;34m\u001b[0m\u001b[0m\n",
      "\u001b[0;32mpandas/_libs/index.pyx\u001b[0m in \u001b[0;36mpandas._libs.index.IndexEngine.get_loc\u001b[0;34m()\u001b[0m\n",
      "\u001b[0;32mpandas/_libs/index.pyx\u001b[0m in \u001b[0;36mpandas._libs.index.IndexEngine.get_loc\u001b[0;34m()\u001b[0m\n",
      "\u001b[0;32mpandas/_libs/hashtable_class_helper.pxi\u001b[0m in \u001b[0;36mpandas._libs.hashtable.PyObjectHashTable.get_item\u001b[0;34m()\u001b[0m\n",
      "\u001b[0;32mpandas/_libs/hashtable_class_helper.pxi\u001b[0m in \u001b[0;36mpandas._libs.hashtable.PyObjectHashTable.get_item\u001b[0;34m()\u001b[0m\n",
      "\u001b[0;31mKeyError\u001b[0m: 'year'"
     ]
    }
   ],
   "source": [
    "df_bike_full['datetime'] = pd.to_datetime(df_bike_full['year'].astype(str)  + df_bike_full['month'], format='%Y%B')\n",
    "df_bike_full.set_index('datetime', inplace=True)\n",
    "df_bike_full.drop(columns=['year', 'month'], inplace=True)\n",
    "df_bike_full = df_bike_full.loc[(df_bike_full!=0).any(axis=1)]\n",
    "df_bike_full.sample(15)"
   ]
  },
  {
   "cell_type": "markdown",
   "metadata": {},
   "source": [
    "### Look back n years for maximum number of bikes to calculate % of bike fleet"
   ]
  },
  {
   "cell_type": "code",
   "execution_count": 5,
   "metadata": {},
   "outputs": [],
   "source": [
    "def max_past_value_in_N_months(df, N_months=12):\n",
    "    \n",
    "    # initiate empty list to track the max values\n",
    "    max_prev_N_months = []\n",
    "    \n",
    "    # create for loop to look back at max value in the last N months \n",
    "    for i in np.arange(1,df.shape[0]+1):\n",
    "        # if we are below N months then select all dataframe rows up until 'i'\n",
    "        if i <=N_months:\n",
    "            max_prev_N_months.append(df[0:i]['bikes'].max())\n",
    "        #if we are above N_months then start taking subset of rows from 'i - N_months' to 'i'\n",
    "        else:\n",
    "            max_prev_N_months.append(df[i-N_months:i]['bikes'].max())\n",
    "    \n",
    "    return max_prev_N_months"
   ]
  },
  {
   "cell_type": "code",
   "execution_count": 6,
   "metadata": {},
   "outputs": [
    {
     "data": {
      "text/html": [
       "<div>\n",
       "<style scoped>\n",
       "    .dataframe tbody tr th:only-of-type {\n",
       "        vertical-align: middle;\n",
       "    }\n",
       "\n",
       "    .dataframe tbody tr th {\n",
       "        vertical-align: top;\n",
       "    }\n",
       "\n",
       "    .dataframe thead th {\n",
       "        text-align: right;\n",
       "    }\n",
       "</style>\n",
       "<table border=\"1\" class=\"dataframe\">\n",
       "  <thead>\n",
       "    <tr style=\"text-align: right;\">\n",
       "      <th></th>\n",
       "      <th>Unnamed: 0</th>\n",
       "      <th>bikes</th>\n",
       "      <th>max_past_24m</th>\n",
       "    </tr>\n",
       "    <tr>\n",
       "      <th>datetime</th>\n",
       "      <th></th>\n",
       "      <th></th>\n",
       "      <th></th>\n",
       "    </tr>\n",
       "  </thead>\n",
       "  <tbody>\n",
       "    <tr>\n",
       "      <th>2013-02-01</th>\n",
       "      <td>1</td>\n",
       "      <td>0</td>\n",
       "      <td>0</td>\n",
       "    </tr>\n",
       "    <tr>\n",
       "      <th>2013-03-01</th>\n",
       "      <td>2</td>\n",
       "      <td>0</td>\n",
       "      <td>0</td>\n",
       "    </tr>\n",
       "    <tr>\n",
       "      <th>2013-04-01</th>\n",
       "      <td>3</td>\n",
       "      <td>0</td>\n",
       "      <td>0</td>\n",
       "    </tr>\n",
       "    <tr>\n",
       "      <th>2013-05-01</th>\n",
       "      <td>4</td>\n",
       "      <td>0</td>\n",
       "      <td>0</td>\n",
       "    </tr>\n",
       "    <tr>\n",
       "      <th>2013-06-01</th>\n",
       "      <td>5</td>\n",
       "      <td>5794</td>\n",
       "      <td>5794</td>\n",
       "    </tr>\n",
       "    <tr>\n",
       "      <th>2013-07-01</th>\n",
       "      <td>6</td>\n",
       "      <td>5461</td>\n",
       "      <td>5794</td>\n",
       "    </tr>\n",
       "    <tr>\n",
       "      <th>2013-08-01</th>\n",
       "      <td>7</td>\n",
       "      <td>5750</td>\n",
       "      <td>5794</td>\n",
       "    </tr>\n",
       "    <tr>\n",
       "      <th>2013-09-01</th>\n",
       "      <td>8</td>\n",
       "      <td>5444</td>\n",
       "      <td>5794</td>\n",
       "    </tr>\n",
       "    <tr>\n",
       "      <th>2013-10-01</th>\n",
       "      <td>9</td>\n",
       "      <td>5722</td>\n",
       "      <td>5794</td>\n",
       "    </tr>\n",
       "    <tr>\n",
       "      <th>2013-11-01</th>\n",
       "      <td>10</td>\n",
       "      <td>5978</td>\n",
       "      <td>5978</td>\n",
       "    </tr>\n",
       "    <tr>\n",
       "      <th>2013-12-01</th>\n",
       "      <td>11</td>\n",
       "      <td>6310</td>\n",
       "      <td>6310</td>\n",
       "    </tr>\n",
       "    <tr>\n",
       "      <th>2014-01-01</th>\n",
       "      <td>0</td>\n",
       "      <td>6354</td>\n",
       "      <td>6354</td>\n",
       "    </tr>\n",
       "    <tr>\n",
       "      <th>2014-02-01</th>\n",
       "      <td>1</td>\n",
       "      <td>5699</td>\n",
       "      <td>6354</td>\n",
       "    </tr>\n",
       "    <tr>\n",
       "      <th>2014-03-01</th>\n",
       "      <td>2</td>\n",
       "      <td>6298</td>\n",
       "      <td>6354</td>\n",
       "    </tr>\n",
       "    <tr>\n",
       "      <th>2014-04-01</th>\n",
       "      <td>3</td>\n",
       "      <td>6532</td>\n",
       "      <td>6532</td>\n",
       "    </tr>\n",
       "  </tbody>\n",
       "</table>\n",
       "</div>"
      ],
      "text/plain": [
       "            Unnamed: 0  bikes  max_past_24m\n",
       "datetime                                   \n",
       "2013-02-01           1      0             0\n",
       "2013-03-01           2      0             0\n",
       "2013-04-01           3      0             0\n",
       "2013-05-01           4      0             0\n",
       "2013-06-01           5   5794          5794\n",
       "2013-07-01           6   5461          5794\n",
       "2013-08-01           7   5750          5794\n",
       "2013-09-01           8   5444          5794\n",
       "2013-10-01           9   5722          5794\n",
       "2013-11-01          10   5978          5978\n",
       "2013-12-01          11   6310          6310\n",
       "2014-01-01           0   6354          6354\n",
       "2014-02-01           1   5699          6354\n",
       "2014-03-01           2   6298          6354\n",
       "2014-04-01           3   6532          6532"
      ]
     },
     "execution_count": 6,
     "metadata": {},
     "output_type": "execute_result"
    }
   ],
   "source": [
    "max_unique_bikes_in_24_months = max_past_value_in_N_months(df_bike_full, N_months=24)\n",
    "df_bike_full['max_past_24m'] = max_unique_bikes_in_24_months\n",
    "df_bike_full.head(15)"
   ]
  },
  {
   "cell_type": "code",
   "execution_count": 7,
   "metadata": {
    "scrolled": true
   },
   "outputs": [
    {
     "data": {
      "text/html": [
       "<div>\n",
       "<style scoped>\n",
       "    .dataframe tbody tr th:only-of-type {\n",
       "        vertical-align: middle;\n",
       "    }\n",
       "\n",
       "    .dataframe tbody tr th {\n",
       "        vertical-align: top;\n",
       "    }\n",
       "\n",
       "    .dataframe thead th {\n",
       "        text-align: right;\n",
       "    }\n",
       "</style>\n",
       "<table border=\"1\" class=\"dataframe\">\n",
       "  <thead>\n",
       "    <tr style=\"text-align: right;\">\n",
       "      <th></th>\n",
       "      <th>Unnamed: 0</th>\n",
       "      <th>bikes</th>\n",
       "      <th>max_past_24m</th>\n",
       "      <th>% Fleet on Road</th>\n",
       "    </tr>\n",
       "    <tr>\n",
       "      <th>datetime</th>\n",
       "      <th></th>\n",
       "      <th></th>\n",
       "      <th></th>\n",
       "      <th></th>\n",
       "    </tr>\n",
       "  </thead>\n",
       "  <tbody>\n",
       "    <tr>\n",
       "      <th>2013-02-01</th>\n",
       "      <td>1</td>\n",
       "      <td>0</td>\n",
       "      <td>0</td>\n",
       "      <td>0.0</td>\n",
       "    </tr>\n",
       "    <tr>\n",
       "      <th>2013-03-01</th>\n",
       "      <td>2</td>\n",
       "      <td>0</td>\n",
       "      <td>0</td>\n",
       "      <td>0.0</td>\n",
       "    </tr>\n",
       "    <tr>\n",
       "      <th>2013-04-01</th>\n",
       "      <td>3</td>\n",
       "      <td>0</td>\n",
       "      <td>0</td>\n",
       "      <td>0.0</td>\n",
       "    </tr>\n",
       "    <tr>\n",
       "      <th>2013-05-01</th>\n",
       "      <td>4</td>\n",
       "      <td>0</td>\n",
       "      <td>0</td>\n",
       "      <td>0.0</td>\n",
       "    </tr>\n",
       "    <tr>\n",
       "      <th>2013-06-01</th>\n",
       "      <td>5</td>\n",
       "      <td>5794</td>\n",
       "      <td>5794</td>\n",
       "      <td>100.0</td>\n",
       "    </tr>\n",
       "  </tbody>\n",
       "</table>\n",
       "</div>"
      ],
      "text/plain": [
       "            Unnamed: 0  bikes  max_past_24m  % Fleet on Road\n",
       "datetime                                                    \n",
       "2013-02-01           1      0             0              0.0\n",
       "2013-03-01           2      0             0              0.0\n",
       "2013-04-01           3      0             0              0.0\n",
       "2013-05-01           4      0             0              0.0\n",
       "2013-06-01           5   5794          5794            100.0"
      ]
     },
     "execution_count": 7,
     "metadata": {},
     "output_type": "execute_result"
    }
   ],
   "source": [
    "df_bike_full['% Fleet on Road'] = round(100 * (df_bike_full['bikes'] / df_bike_full['max_past_24m']), 1).fillna(0)\n",
    "df_bike_full.head(5)"
   ]
  },
  {
   "cell_type": "code",
   "execution_count": 37,
   "metadata": {},
   "outputs": [],
   "source": [
    "# df_bike_full.to_csv('unique_bikes_per_month.csv')"
   ]
  },
  {
   "cell_type": "code",
   "execution_count": 3,
   "metadata": {},
   "outputs": [],
   "source": [
    "df_bike_full = pd.read_csv('unique_bikes_per_month.csv')"
   ]
  },
  {
   "cell_type": "code",
   "execution_count": 4,
   "metadata": {},
   "outputs": [
    {
     "data": {
      "text/plain": [
       "RangeIndex(start=0, stop=84, step=1)"
      ]
     },
     "execution_count": 4,
     "metadata": {},
     "output_type": "execute_result"
    }
   ],
   "source": [
    "df_bike_full.index"
   ]
  },
  {
   "cell_type": "code",
   "execution_count": null,
   "metadata": {},
   "outputs": [],
   "source": []
  },
  {
   "cell_type": "code",
   "execution_count": 5,
   "metadata": {},
   "outputs": [],
   "source": [
    "df_bike_full = df_bike_full.loc[df_bike_full['bikes']!=0]\n",
    "df_bike_full['datetime'] = pd.to_datetime(df_bike_full['datetime'])\n",
    "df_bike_full.drop(columns=['Unnamed: 0','bikes','max_past_24m'], inplace = True)\n",
    "df_bike_full.set_index('datetime', inplace=True)"
   ]
  },
  {
   "cell_type": "code",
   "execution_count": 6,
   "metadata": {
    "scrolled": true
   },
   "outputs": [
    {
     "data": {
      "image/png": "[encoded data removed]",
      "text/plain": [
       "<Figure size 1080x288 with 1 Axes>"
      ]
     },
     "metadata": {
      "needs_background": "light"
     },
     "output_type": "display_data"
    }
   ],
   "source": [
    "df_bike_full[['% Fleet on Road']].plot(figsize=(15,4), color=color_dct['purple'], linewidth=3, alpha=0.7)\n",
    "plt.xlabel('')\n",
    "plt.ylabel('Percent (%)')\n",
    "plt.title('Percent of Citibike Fleet Not in Storage')\n",
    "plt.show()"
   ]
  },
  {
   "cell_type": "markdown",
   "metadata": {},
   "source": [
    "### Import NOAA weather data for central park"
   ]
  },
  {
   "cell_type": "code",
   "execution_count": 7,
   "metadata": {
    "scrolled": true
   },
   "outputs": [
    {
     "data": {
      "text/html": [
       "<div>\n",
       "<style scoped>\n",
       "    .dataframe tbody tr th:only-of-type {\n",
       "        vertical-align: middle;\n",
       "    }\n",
       "\n",
       "    .dataframe tbody tr th {\n",
       "        vertical-align: top;\n",
       "    }\n",
       "\n",
       "    .dataframe thead th {\n",
       "        text-align: right;\n",
       "    }\n",
       "</style>\n",
       "<table border=\"1\" class=\"dataframe\">\n",
       "  <thead>\n",
       "    <tr style=\"text-align: right;\">\n",
       "      <th></th>\n",
       "      <th>Temperature</th>\n",
       "    </tr>\n",
       "    <tr>\n",
       "      <th>date</th>\n",
       "      <th></th>\n",
       "    </tr>\n",
       "  </thead>\n",
       "  <tbody>\n",
       "    <tr>\n",
       "      <th>2013-01-01</th>\n",
       "      <td>38.0</td>\n",
       "    </tr>\n",
       "    <tr>\n",
       "      <th>2013-02-01</th>\n",
       "      <td>34.0</td>\n",
       "    </tr>\n",
       "    <tr>\n",
       "      <th>2013-03-01</th>\n",
       "      <td>38.0</td>\n",
       "    </tr>\n",
       "    <tr>\n",
       "      <th>2013-04-01</th>\n",
       "      <td>53.0</td>\n",
       "    </tr>\n",
       "    <tr>\n",
       "      <th>2013-05-01</th>\n",
       "      <td>60.0</td>\n",
       "    </tr>\n",
       "    <tr>\n",
       "      <th>2013-06-01</th>\n",
       "      <td>70.0</td>\n",
       "    </tr>\n",
       "    <tr>\n",
       "      <th>2013-07-01</th>\n",
       "      <td>77.0</td>\n",
       "    </tr>\n",
       "    <tr>\n",
       "      <th>2013-08-01</th>\n",
       "      <td>73.0</td>\n",
       "    </tr>\n",
       "    <tr>\n",
       "      <th>2013-09-01</th>\n",
       "      <td>68.0</td>\n",
       "    </tr>\n",
       "    <tr>\n",
       "      <th>2013-10-01</th>\n",
       "      <td>61.0</td>\n",
       "    </tr>\n",
       "  </tbody>\n",
       "</table>\n",
       "</div>"
      ],
      "text/plain": [
       "            Temperature\n",
       "date                   \n",
       "2013-01-01         38.0\n",
       "2013-02-01         34.0\n",
       "2013-03-01         38.0\n",
       "2013-04-01         53.0\n",
       "2013-05-01         60.0\n",
       "2013-06-01         70.0\n",
       "2013-07-01         77.0\n",
       "2013-08-01         73.0\n",
       "2013-09-01         68.0\n",
       "2013-10-01         61.0"
      ]
     },
     "execution_count": 7,
     "metadata": {},
     "output_type": "execute_result"
    }
   ],
   "source": [
    "df_temp = pd.read_csv('./_weather/NOAA_Temp_NYC_Processed.csv')\n",
    "df_temp['date'] = pd.to_datetime(df_temp['date'], format='%Y-%m-%d %H:%M:%S.%f')\n",
    "df_temp.set_index('date', inplace=True)\n",
    "df_temp = df_temp[[\"Temperature\"]].resample('M', label='left', loffset=\"1d\").median()#.resample(\"1m\").median()\n",
    "df_temp.head(10)"
   ]
  },
  {
   "cell_type": "markdown",
   "metadata": {},
   "source": [
    "### Combine datasets and plot"
   ]
  },
  {
   "cell_type": "code",
   "execution_count": 8,
   "metadata": {},
   "outputs": [
    {
     "data": {
      "text/html": [
       "<div>\n",
       "<style scoped>\n",
       "    .dataframe tbody tr th:only-of-type {\n",
       "        vertical-align: middle;\n",
       "    }\n",
       "\n",
       "    .dataframe tbody tr th {\n",
       "        vertical-align: top;\n",
       "    }\n",
       "\n",
       "    .dataframe thead th {\n",
       "        text-align: right;\n",
       "    }\n",
       "</style>\n",
       "<table border=\"1\" class=\"dataframe\">\n",
       "  <thead>\n",
       "    <tr style=\"text-align: right;\">\n",
       "      <th></th>\n",
       "      <th>% Fleet on Road</th>\n",
       "      <th>Temperature</th>\n",
       "    </tr>\n",
       "  </thead>\n",
       "  <tbody>\n",
       "    <tr>\n",
       "      <th>2013-06-01</th>\n",
       "      <td>100.0</td>\n",
       "      <td>70.0</td>\n",
       "    </tr>\n",
       "    <tr>\n",
       "      <th>2013-07-01</th>\n",
       "      <td>94.3</td>\n",
       "      <td>77.0</td>\n",
       "    </tr>\n",
       "    <tr>\n",
       "      <th>2013-08-01</th>\n",
       "      <td>99.2</td>\n",
       "      <td>73.0</td>\n",
       "    </tr>\n",
       "    <tr>\n",
       "      <th>2013-09-01</th>\n",
       "      <td>94.0</td>\n",
       "      <td>68.0</td>\n",
       "    </tr>\n",
       "    <tr>\n",
       "      <th>2013-10-01</th>\n",
       "      <td>98.8</td>\n",
       "      <td>61.0</td>\n",
       "    </tr>\n",
       "    <tr>\n",
       "      <th>...</th>\n",
       "      <td>...</td>\n",
       "      <td>...</td>\n",
       "    </tr>\n",
       "    <tr>\n",
       "      <th>2020-02-01</th>\n",
       "      <td>85.4</td>\n",
       "      <td>41.0</td>\n",
       "    </tr>\n",
       "    <tr>\n",
       "      <th>2020-03-01</th>\n",
       "      <td>94.1</td>\n",
       "      <td>45.0</td>\n",
       "    </tr>\n",
       "    <tr>\n",
       "      <th>2020-04-01</th>\n",
       "      <td>93.7</td>\n",
       "      <td>50.0</td>\n",
       "    </tr>\n",
       "    <tr>\n",
       "      <th>2020-05-01</th>\n",
       "      <td>94.8</td>\n",
       "      <td>60.0</td>\n",
       "    </tr>\n",
       "    <tr>\n",
       "      <th>2020-06-01</th>\n",
       "      <td>NaN</td>\n",
       "      <td>71.0</td>\n",
       "    </tr>\n",
       "  </tbody>\n",
       "</table>\n",
       "<p>85 rows × 2 columns</p>\n",
       "</div>"
      ],
      "text/plain": [
       "            % Fleet on Road  Temperature\n",
       "2013-06-01            100.0         70.0\n",
       "2013-07-01             94.3         77.0\n",
       "2013-08-01             99.2         73.0\n",
       "2013-09-01             94.0         68.0\n",
       "2013-10-01             98.8         61.0\n",
       "...                     ...          ...\n",
       "2020-02-01             85.4         41.0\n",
       "2020-03-01             94.1         45.0\n",
       "2020-04-01             93.7         50.0\n",
       "2020-05-01             94.8         60.0\n",
       "2020-06-01              NaN         71.0\n",
       "\n",
       "[85 rows x 2 columns]"
      ]
     },
     "execution_count": 8,
     "metadata": {},
     "output_type": "execute_result"
    }
   ],
   "source": [
    "result = pd.concat([df_bike_full, df_temp], axis=1, sort=False)[5:]\n",
    "result"
   ]
  },
  {
   "cell_type": "code",
   "execution_count": 9,
   "metadata": {
    "scrolled": true
   },
   "outputs": [
    {
     "data": {
      "image/png": "[encoded data removed]",
      "text/plain": [
       "<Figure size 1080x288 with 1 Axes>"
      ]
     },
     "metadata": {
      "needs_background": "light"
     },
     "output_type": "display_data"
    }
   ],
   "source": [
    "result[['% Fleet on Road', \"Temperature\"]].plot(figsize=(15,4), linewidth=3, alpha=0.7) #, colors=color_dct['red']\n",
    "# df_bikes[['% Fleet on Road']].plot(figsize=(15,4), color=color_dct['purple'], linewidth=3, alpha=0.7)\n",
    "plt.xlabel('')\n",
    "plt.ylabel('Percent (%)')\n",
    "plt.title('Temperature vs. Citi Bike Fleet Size')\n",
    "plt.show()"
   ]
  },
  {
   "cell_type": "code",
   "execution_count": null,
   "metadata": {},
   "outputs": [],
   "source": []
  },
  {
   "cell_type": "code",
   "execution_count": 10,
   "metadata": {},
   "outputs": [],
   "source": [
    "ts = pd.Series(np.random.randn(1000), index=pd.date_range('1/1/2000', periods=1000))\n",
    "df = pd.DataFrame(np.random.randn(1000, 4), index=ts.index, columns=list('ABCD'))"
   ]
  },
  {
   "cell_type": "code",
   "execution_count": 17,
   "metadata": {},
   "outputs": [
    {
     "data": {
      "image/png": "[encoded data removed]",
      "text/plain": [
       "<Figure size 864x360 with 1 Axes>"
      ]
     },
     "metadata": {
      "needs_background": "light"
     },
     "output_type": "display_data"
    }
   ],
   "source": [
    "import datetime\n",
    "import numpy as np\n",
    "import matplotlib.pyplot as plt\n",
    "import matplotlib.dates as mdates\n",
    "\n",
    "plt.figure(figsize=(12,5))\n",
    "plt.title('Temperature vs. Citi Bike Fleet Size', fontsize=14)\n",
    "\n",
    "ax1 = result['% Fleet on Road'].plot(color=color_dct['purple'], label='% Fleet on Road', linewidth=2.5)\n",
    "ax2 = result[\"Temperature\"].plot(color=color_dct['aqua_green'], label=\"Temperature\", linewidth=2.5) #, secondary_y=True\n",
    "\n",
    "# ax1.set_ylabel('Percent of Fleet on Road (%)', color=color_dct['purple'], fontsize=14, weight='bold')\n",
    "# ax2.set_ylabel('Temperature (Fahrenheit)', color=color_dct['aqua_green'], fontsize=14, weight='bold')\n",
    "\n",
    "# ax1.tick_params(axis='y', colors=color_dct['purple'], labelsize=14)#, weight='bold')\n",
    "\n",
    "# h1, l1 = ax1.get_legend_handles_labels()\n",
    "# h2, l2 = ax2.get_legend_handles_labels()\n",
    "\n",
    "linestyles = ['-', '--', '-.', ':']\n",
    "plt.axhline(y=85, linewidth=2, color=color_dct['purple'], ls=linestyles[1])\n",
    "\n",
    "plt.legend(loc=4)\n",
    "\n",
    "plt.savefig('Temperature_vs_Fleet_Size.png') \n",
    "\n",
    "plt.show()"
   ]
  },
  {
   "cell_type": "code",
   "execution_count": null,
   "metadata": {},
   "outputs": [],
   "source": []
  },
  {
   "cell_type": "code",
   "execution_count": null,
   "metadata": {},
   "outputs": [],
   "source": []
  },
  {
   "cell_type": "code",
   "execution_count": null,
   "metadata": {},
   "outputs": [],
   "source": []
  },
  {
   "cell_type": "code",
   "execution_count": null,
   "metadata": {},
   "outputs": [],
   "source": []
  },
  {
   "cell_type": "code",
   "execution_count": null,
   "metadata": {},
   "outputs": [],
   "source": []
  },
  {
   "cell_type": "code",
   "execution_count": null,
   "metadata": {},
   "outputs": [],
   "source": []
  },
  {
   "cell_type": "code",
   "execution_count": null,
   "metadata": {},
   "outputs": [],
   "source": []
  },
  {
   "cell_type": "code",
   "execution_count": null,
   "metadata": {},
   "outputs": [],
   "source": []
  },
  {
   "cell_type": "code",
   "execution_count": null,
   "metadata": {},
   "outputs": [],
   "source": []
  },
  {
   "cell_type": "code",
   "execution_count": null,
   "metadata": {},
   "outputs": [],
   "source": []
  },
  {
   "cell_type": "code",
   "execution_count": null,
   "metadata": {},
   "outputs": [],
   "source": []
  },
  {
   "cell_type": "code",
   "execution_count": null,
   "metadata": {},
   "outputs": [],
   "source": []
  },
  {
   "cell_type": "code",
   "execution_count": null,
   "metadata": {},
   "outputs": [],
   "source": []
  },
  {
   "cell_type": "code",
   "execution_count": null,
   "metadata": {},
   "outputs": [],
   "source": []
  },
  {
   "cell_type": "code",
   "execution_count": null,
   "metadata": {},
   "outputs": [],
   "source": []
  },
  {
   "cell_type": "code",
   "execution_count": null,
   "metadata": {},
   "outputs": [],
   "source": []
  },
  {
   "cell_type": "code",
   "execution_count": null,
   "metadata": {},
   "outputs": [],
   "source": []
  },
  {
   "cell_type": "code",
   "execution_count": null,
   "metadata": {},
   "outputs": [],
   "source": [
    "test.sort_values(by=['bikes'], ascending=False)"
   ]
  },
  {
   "cell_type": "code",
   "execution_count": null,
   "metadata": {},
   "outputs": [],
   "source": []
  },
  {
   "cell_type": "code",
   "execution_count": null,
   "metadata": {},
   "outputs": [],
   "source": []
  },
  {
   "cell_type": "code",
   "execution_count": null,
   "metadata": {},
   "outputs": [],
   "source": []
  },
  {
   "cell_type": "code",
   "execution_count": null,
   "metadata": {},
   "outputs": [],
   "source": []
  },
  {
   "cell_type": "code",
   "execution_count": null,
   "metadata": {},
   "outputs": [],
   "source": [
    "colors = [\"#FF9AA2\", \"#FFB7B2\",\"#FFDAC1\",'#E2F0CB','#B5EAD7','#C7CEEA']\n",
    "\n",
    "keys = [\"red\", \"salmon\",\"tan\",'light_green','aqua_green','purple']\n",
    "values = [\"#FF9AA2\", \"#FFB7B2\",\"#FFDAC1\",'#E2F0CB','#B5EAD7','#C7CEEA']\n",
    "\n",
    "color_dct = dict(zip(keys, values))"
   ]
  },
  {
   "cell_type": "code",
   "execution_count": null,
   "metadata": {},
   "outputs": [],
   "source": []
  },
  {
   "cell_type": "markdown",
   "metadata": {},
   "source": [
    "### Import and clean all data"
   ]
  },
  {
   "cell_type": "code",
   "execution_count": null,
   "metadata": {},
   "outputs": [],
   "source": [
    "path = '/Users/michaellink/Desktop/__NYCDSA/_Projects/Capstone/data/citibike/rand_5/scwinning_5.csv'\n",
    "df_all = cleaning_your_bike(path)"
   ]
  },
  {
   "cell_type": "markdown",
   "metadata": {},
   "source": [
    "### Define function that goes through every month of every year and counts unique number of bikes"
   ]
  },
  {
   "cell_type": "code",
   "execution_count": null,
   "metadata": {},
   "outputs": [],
   "source": [
    "def unique_bikes(df):\n",
    "    \n",
    "    # define years\n",
    "    years = list(np.arange(2013,2020+1))\n",
    "    \n",
    "    # define months\n",
    "    months = ['January','February','March',\"April\",\"May\",\"June\",\"July\",\"August\",\"September\",\"October\",\"November\", \"December\"]\n",
    "    \n",
    "    # initialize empty dataframe to store number of unique bikes for each month and year\n",
    "    result = pd.DataFrame({'bikes': pd.Series([], dtype='int'),'year': pd.Series([], dtype='int'),'month': pd.Series([], dtype='str')})\n",
    "    \n",
    "    # initialize empty list to store number of unique bikes for each month\n",
    "    unique_bikes = []\n",
    "    \n",
    "    for year in years:\n",
    "        \n",
    "        print(year)\n",
    "        \n",
    "        # create for loop to count number of unique bikes after filtering to a given month\n",
    "        for month in months:\n",
    "            # filter down to given month\n",
    "            x = df.loc[(df['year'] == year) & (df['month'] == month)]\n",
    "            # append unique number to list created above\n",
    "            unique_bikes.append(len(x.bikeid.unique()))\n",
    "\n",
    "        # create dataframe with results\n",
    "        bike = pd.DataFrame(unique_bikes, columns = ['bikes'])\n",
    "        \n",
    "        # add columns denoting year and month\n",
    "        bike['year'] = int(year)\n",
    "        bike['month'] = months\n",
    "        \n",
    "        # concatenate the above result with prior results\n",
    "        result = pd.concat([result, bike])\n",
    "        \n",
    "        # clear bike number list and delete bike dataframe in preparation for next loop in year\n",
    "        unique_bikes.clear()\n",
    "        del bike\n",
    "        \n",
    "    \n",
    "    return result"
   ]
  },
  {
   "cell_type": "markdown",
   "metadata": {},
   "source": [
    "### Process whole DF to get number of bikes per month and year"
   ]
  },
  {
   "cell_type": "code",
   "execution_count": null,
   "metadata": {},
   "outputs": [],
   "source": [
    "df_all.head(2)"
   ]
  },
  {
   "cell_type": "code",
   "execution_count": null,
   "metadata": {
    "scrolled": true
   },
   "outputs": [],
   "source": [
    "df_bikes = unique_bikes(df_all)\n",
    "# df_bikes.sample(10)"
   ]
  },
  {
   "cell_type": "markdown",
   "metadata": {},
   "source": [
    "### Convert columns to datetime to prep for graphing"
   ]
  },
  {
   "cell_type": "code",
   "execution_count": null,
   "metadata": {},
   "outputs": [],
   "source": [
    "test_post = test.copy()\n",
    "test_post['datetime'] = pd.to_datetime(test_post['year'].astype(str)  + test_post['month'], format='%Y%B')\n",
    "test_post.set_index('datetime', inplace=True)\n",
    "test_post.drop(columns=['year', 'month'], inplace=True)\n",
    "test_post = test_post.loc[(test_post!=0).any(axis=1)]\n",
    "test_post"
   ]
  },
  {
   "cell_type": "code",
   "execution_count": null,
   "metadata": {},
   "outputs": [],
   "source": [
    "df_bikes['datetime'] = pd.to_datetime(df_bikes['year'].astype(str)  + df_bikes['month'], format='%Y%B')\n",
    "df_bikes.set_index('datetime', inplace=True)\n",
    "df_bikes.drop(columns=['year', 'month'], inplace=True)\n",
    "df_bikes = df_bikes.loc[(df_bikes!=0).any(axis=1)]\n",
    "df_bikes"
   ]
  },
  {
   "cell_type": "markdown",
   "metadata": {},
   "source": [
    "### Look back n years for maximum number of bikes to calculate % of bike fleet"
   ]
  },
  {
   "cell_type": "code",
   "execution_count": null,
   "metadata": {},
   "outputs": [],
   "source": [
    "def max_past_value_in_N_months(df, N_months=12):\n",
    "    \n",
    "    # initiate empty list to track the max values\n",
    "    max_prev_N_months = []\n",
    "    \n",
    "    # create for loop to look back at max value in the last N months \n",
    "    for i in np.arange(1,df.shape[0]+1):\n",
    "        # if we are below N months then select all dataframe rows up until 'i'\n",
    "        if i <=N_months:\n",
    "            max_prev_N_months.append(df[0:i]['bikes'].max())\n",
    "        #if we are above N_months then start taking subset of rows from 'i - N_months' to 'i'\n",
    "        else:\n",
    "            max_prev_N_months.append(df[i-N_months:i]['bikes'].max())\n",
    "    \n",
    "    return max_prev_N_months"
   ]
  },
  {
   "cell_type": "code",
   "execution_count": null,
   "metadata": {},
   "outputs": [],
   "source": [
    "test_post\n",
    "max_unique_bikes_in_24_months = max_past_value_in_N_months(test_post, N_months=24)\n",
    "test_post['max_past_24m'] = max_unique_bikes_in_24_months\n",
    "test_post.head(10)"
   ]
  },
  {
   "cell_type": "code",
   "execution_count": null,
   "metadata": {},
   "outputs": [],
   "source": [
    "max_unique_bikes_in_24_months = max_past_value_in_N_months(df_bikes, N_months=24)\n",
    "df_bikes['max_past_24m'] = max_unique_bikes_in_24_months\n",
    "df_bikes.head(10)"
   ]
  },
  {
   "cell_type": "markdown",
   "metadata": {},
   "source": [
    "### Calculate percent of fleet in the dataframe and plot"
   ]
  },
  {
   "cell_type": "code",
   "execution_count": null,
   "metadata": {},
   "outputs": [],
   "source": [
    "test_post\n",
    "test_post['% Fleet on Road'] = round(100 * (test_post['bikes'] / test_post['max_past_24m']), 1).fillna(0)\n",
    "test_post.head(5)"
   ]
  },
  {
   "cell_type": "code",
   "execution_count": null,
   "metadata": {
    "scrolled": true
   },
   "outputs": [],
   "source": [
    "df_bikes['% Fleet on Road'] = round(100 * (df_bikes['bikes'] / df_bikes['max_past_24m']), 1).fillna(0)\n",
    "df_bikes.head(5)"
   ]
  },
  {
   "cell_type": "code",
   "execution_count": null,
   "metadata": {},
   "outputs": [],
   "source": [
    "test_post[['% Fleet on Road']].plot(figsize=(15,4), color=color_dct['purple'], linewidth=3, alpha=0.7)\n",
    "plt.xlabel('')\n",
    "plt.ylabel('Median Monthly Temperature (F)')\n",
    "plt.title('Monthly Temperature in Central Park')\n",
    "plt.show()"
   ]
  },
  {
   "cell_type": "code",
   "execution_count": null,
   "metadata": {},
   "outputs": [],
   "source": [
    "df_bikes[['% Fleet on Road']].plot(figsize=(15,4), color=color_dct['purple'], linewidth=3, alpha=0.7)\n",
    "plt.xlabel('')\n",
    "plt.ylabel('Median Monthly Temperature (F)')\n",
    "plt.title('Monthly Temperature in Central Park')\n",
    "plt.show()"
   ]
  },
  {
   "cell_type": "markdown",
   "metadata": {},
   "source": [
    "### Import NOAA weather data for central park"
   ]
  },
  {
   "cell_type": "code",
   "execution_count": null,
   "metadata": {
    "scrolled": true
   },
   "outputs": [],
   "source": [
    "df_temp = pd.read_csv('./_weather/NOAA_Temp_NYC_Processed.csv')\n",
    "df_temp['date'] = pd.to_datetime(df_temp['date'], format='%Y-%m-%d %H:%M:%S.%f')\n",
    "df_temp.set_index('date', inplace=True)\n",
    "df_temp.head(2)"
   ]
  },
  {
   "cell_type": "code",
   "execution_count": null,
   "metadata": {},
   "outputs": [],
   "source": [
    "df_temp = df_temp[[\"Temperature\"]].resample(\"1m\").median()"
   ]
  },
  {
   "cell_type": "code",
   "execution_count": null,
   "metadata": {},
   "outputs": [],
   "source": []
  },
  {
   "cell_type": "code",
   "execution_count": null,
   "metadata": {},
   "outputs": [],
   "source": [
    "result = pd.concat([df_bikes, df_temp], axis=1, sort=False)\n",
    "result"
   ]
  },
  {
   "cell_type": "code",
   "execution_count": null,
   "metadata": {},
   "outputs": [],
   "source": []
  },
  {
   "cell_type": "code",
   "execution_count": null,
   "metadata": {},
   "outputs": [],
   "source": [
    "result[['% Fleet on Road', \"Temperature\"]].resample(\"1m\").median().plot(figsize=(15,4), linewidth=3, alpha=0.7) #, colors=color_dct['red']\n",
    "# df_bikes[['% Fleet on Road']].plot(figsize=(15,4), color=color_dct['purple'], linewidth=3, alpha=0.7)\n",
    "plt.xlabel('')\n",
    "plt.ylabel('Median Monthly Temperature (F)')\n",
    "plt.title('Monthly Temperature in Central Park')\n",
    "plt.show()"
   ]
  },
  {
   "cell_type": "code",
   "execution_count": null,
   "metadata": {},
   "outputs": [],
   "source": []
  },
  {
   "cell_type": "code",
   "execution_count": null,
   "metadata": {},
   "outputs": [],
   "source": []
  },
  {
   "cell_type": "code",
   "execution_count": null,
   "metadata": {},
   "outputs": [],
   "source": []
  },
  {
   "cell_type": "code",
   "execution_count": null,
   "metadata": {},
   "outputs": [],
   "source": []
  },
  {
   "cell_type": "code",
   "execution_count": null,
   "metadata": {},
   "outputs": [],
   "source": []
  },
  {
   "cell_type": "code",
   "execution_count": null,
   "metadata": {},
   "outputs": [],
   "source": []
  },
  {
   "cell_type": "code",
   "execution_count": null,
   "metadata": {},
   "outputs": [],
   "source": []
  },
  {
   "cell_type": "code",
   "execution_count": null,
   "metadata": {},
   "outputs": [],
   "source": []
  },
  {
   "cell_type": "code",
   "execution_count": null,
   "metadata": {},
   "outputs": [],
   "source": []
  },
  {
   "cell_type": "code",
   "execution_count": null,
   "metadata": {},
   "outputs": [],
   "source": []
  },
  {
   "cell_type": "code",
   "execution_count": null,
   "metadata": {},
   "outputs": [],
   "source": []
  },
  {
   "cell_type": "code",
   "execution_count": null,
   "metadata": {},
   "outputs": [],
   "source": []
  },
  {
   "cell_type": "code",
   "execution_count": null,
   "metadata": {},
   "outputs": [],
   "source": []
  },
  {
   "cell_type": "code",
   "execution_count": null,
   "metadata": {},
   "outputs": [],
   "source": []
  },
  {
   "cell_type": "code",
   "execution_count": null,
   "metadata": {},
   "outputs": [],
   "source": []
  },
  {
   "cell_type": "code",
   "execution_count": null,
   "metadata": {},
   "outputs": [],
   "source": []
  },
  {
   "cell_type": "code",
   "execution_count": null,
   "metadata": {},
   "outputs": [],
   "source": []
  },
  {
   "cell_type": "code",
   "execution_count": null,
   "metadata": {},
   "outputs": [],
   "source": []
  },
  {
   "cell_type": "code",
   "execution_count": null,
   "metadata": {},
   "outputs": [],
   "source": []
  },
  {
   "cell_type": "code",
   "execution_count": null,
   "metadata": {},
   "outputs": [],
   "source": []
  },
  {
   "cell_type": "code",
   "execution_count": null,
   "metadata": {},
   "outputs": [],
   "source": []
  },
  {
   "cell_type": "code",
   "execution_count": null,
   "metadata": {},
   "outputs": [],
   "source": []
  },
  {
   "cell_type": "code",
   "execution_count": null,
   "metadata": {},
   "outputs": [],
   "source": []
  },
  {
   "cell_type": "code",
   "execution_count": null,
   "metadata": {},
   "outputs": [],
   "source": []
  },
  {
   "cell_type": "code",
   "execution_count": null,
   "metadata": {},
   "outputs": [],
   "source": []
  },
  {
   "cell_type": "markdown",
   "metadata": {},
   "source": [
    "### Testing to see memory usage of a year dataframe and the full dataframe\n",
    "- 2013 is 140 MB\n",
    "- 2019 is 540 MB\n",
    "- Full sampled 5% is 2.4 GB"
   ]
  },
  {
   "cell_type": "code",
   "execution_count": null,
   "metadata": {},
   "outputs": [],
   "source": [
    "%%time\n",
    "df_2013 = pd.read_csv('/Users/michaellink/Desktop/__NYCDSA/_Projects/Capstone/data/citibike/rand_5/yr_2013.csv',\\\n",
    "              dtype={\"tripduration\":float,\\\n",
    "              \"starttime\":object,\\\n",
    "              \"stoptime\":object,\\\n",
    "              \"start_station_id\":float,\\\n",
    "              \"start_station_name\":object,\\\n",
    "              \"start_station_latitude\":float,\\\n",
    "              \"start_station_longitude\":float,\\\n",
    "              \"end_station_id\":float,\\\n",
    "              \"end_station_name\":object,\\\n",
    "              \"end_station_latitude\":float,\\\n",
    "              \"end_station_longitude\":float,\\\n",
    "              \"bikeid\":int,\\\n",
    "              \"usertype\":object,\\\n",
    "              \"birth_year\":object,\\\n",
    "              \"gender\":int,\\\n",
    "              \"counter\":int,\\\n",
    "              \"year\":int,\\\n",
    "              \"age\":int})"
   ]
  },
  {
   "cell_type": "code",
   "execution_count": null,
   "metadata": {},
   "outputs": [],
   "source": [
    "df_2013.info(memory_usage=\"deep\")"
   ]
  },
  {
   "cell_type": "code",
   "execution_count": null,
   "metadata": {},
   "outputs": [],
   "source": [
    "del df_2013"
   ]
  },
  {
   "cell_type": "code",
   "execution_count": null,
   "metadata": {},
   "outputs": [],
   "source": [
    "%%time\n",
    "df_all = pd.read_csv('/Users/michaellink/Desktop/__NYCDSA/_Projects/Capstone/data/citibike/rand_5/scwinning_5.csv',\\\n",
    "              dtype={\"tripduration\":float,\\\n",
    "              \"starttime\":object,\\\n",
    "              \"stoptime\":object,\\\n",
    "              \"start_station_id\":float,\\\n",
    "              \"start_station_name\":object,\\\n",
    "              \"start_station_latitude\":float,\\\n",
    "              \"start_station_longitude\":float,\\\n",
    "              \"end_station_id\":float,\\\n",
    "              \"end_station_name\":object,\\\n",
    "              \"end_station_latitude\":float,\\\n",
    "              \"end_station_longitude\":float,\\\n",
    "              \"bikeid\":int,\\\n",
    "              \"usertype\":object,\\\n",
    "              \"birth_year\":object,\\\n",
    "              \"gender\":int,\\\n",
    "              \"counter\":int,\\\n",
    "              \"year\":int,\\\n",
    "              \"age\":int})"
   ]
  },
  {
   "cell_type": "code",
   "execution_count": null,
   "metadata": {},
   "outputs": [],
   "source": [
    "df_all.info(memory_usage=\"deep\")"
   ]
  },
  {
   "cell_type": "code",
   "execution_count": null,
   "metadata": {},
   "outputs": [],
   "source": [
    "del df_all"
   ]
  },
  {
   "cell_type": "code",
   "execution_count": null,
   "metadata": {},
   "outputs": [],
   "source": []
  }
 ],
 "metadata": {
  "kernelspec": {
   "display_name": "Python 3",
   "language": "python",
   "name": "python3"
  },
  "language_info": {
   "codemirror_mode": {
    "name": "ipython",
    "version": 3
   },
   "file_extension": ".py",
   "mimetype": "text/x-python",
   "name": "python",
   "nbconvert_exporter": "python",
   "pygments_lexer": "ipython3",
   "version": "3.7.6"
  }
 },
 "nbformat": 4,
 "nbformat_minor": 4
}
