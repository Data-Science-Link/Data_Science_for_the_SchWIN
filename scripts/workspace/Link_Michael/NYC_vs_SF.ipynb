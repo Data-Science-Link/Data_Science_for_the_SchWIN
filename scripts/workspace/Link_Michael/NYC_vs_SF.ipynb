{
 "cells": [
  {
   "cell_type": "code",
   "execution_count": 1,
   "metadata": {},
   "outputs": [],
   "source": [
    "# Source https://www.kaggle.com/bbusath5/sf-bike-share-exploration-with-sql"
   ]
  },
  {
   "cell_type": "markdown",
   "metadata": {
    "_cell_guid": "b1076dfc-b9ad-4769-8c92-a6c4dae69d19",
    "_kg_hide-input": false,
    "_kg_hide-output": false,
    "_uuid": "8f2839f25d086af736a60e9eeb907d3b93b6e0e5"
   },
   "source": [
    "Today I will be performing an exploratory analysis on the SF Bay Area Bike Share database using SQLite supplemented by the pandas library.  The goal of this project is to demonstrate proficiency in extracting data from database files using SQL and the ability to analyze these values in context. This database contains four data tables: station, status, trip, and weather.\n",
    "\n",
    "Here are some questions I will try to answer over the course of this exploration:\n",
    "* What was the trip with the longest duration?\n",
    "* Do unregistered users take longer or shorter trips?\n",
    "*  Which stations are the most popular?\n",
    "* Which routes are the most popular?\n",
    "\n",
    "\n"
   ]
  },
  {
   "cell_type": "markdown",
   "metadata": {
    "_uuid": "4843cfb75229a7b7c6c57a0345f284408d881fb9"
   },
   "source": [
    "**Importing Packages**"
   ]
  },
  {
   "cell_type": "code",
   "execution_count": 2,
   "metadata": {
    "_cell_guid": "79c7e3d0-c299-4dcb-8224-4455121ee9b0",
    "_kg_hide-input": false,
    "_uuid": "d629ff2d2480ee46fbb7e2d37f6b5fab8052498a"
   },
   "outputs": [],
   "source": [
    "import sqlite3\n",
    "import pandas as pd\n",
    "import matplotlib.pyplot as plt"
   ]
  },
  {
   "cell_type": "markdown",
   "metadata": {
    "_uuid": "5b94cd0aaa25c3454e4b837c490300fdac15032a"
   },
   "source": [
    "First, the data must be imported into python. I will set up a function that takes an sql query as a parameter and returns a dataframe visualization of that query. This will save coding time in the long run."
   ]
  },
  {
   "cell_type": "code",
   "execution_count": 3,
   "metadata": {
    "_uuid": "9a8eb963008b4ff4fc813cda1a57459c11ad3d15"
   },
   "outputs": [],
   "source": [
    "%load_ext sql"
   ]
  },
  {
   "cell_type": "markdown",
   "metadata": {},
   "source": [
    "### Defining Color Palette "
   ]
  },
  {
   "cell_type": "code",
   "execution_count": 4,
   "metadata": {},
   "outputs": [],
   "source": [
    "colors = [\"#FF9AA2\", \"#FFB7B2\",\"#FFDAC1\",'#E2F0CB','#B5EAD7','#C7CEEA']\n",
    "\n",
    "keys = [\"red\", \"salmon\",\"tan\",'light_green','aqua_green','purple']\n",
    "values = [\"#FF9AA2\", \"#FFB7B2\",\"#FFDAC1\",'#E2F0CB','#B5EAD7','#C7CEEA']\n",
    "color_dct = dict(zip(keys, values))"
   ]
  },
  {
   "cell_type": "markdown",
   "metadata": {},
   "source": [
    "### Columns in tables"
   ]
  },
  {
   "cell_type": "code",
   "execution_count": 5,
   "metadata": {},
   "outputs": [
    {
     "name": "stdout",
     "output_type": "stream",
     "text": [
      " * sqlite:////Users/michaellink/Desktop/__NYCDSA/_Projects/Capstone/data/kaggle/San_Francisco/SF.sqlite\n",
      "Done.\n"
     ]
    },
    {
     "data": {
      "text/html": [
       "<table>\n",
       "    <tr>\n",
       "        <th>id</th>\n",
       "        <th>duration</th>\n",
       "        <th>start_date</th>\n",
       "        <th>start_station_name</th>\n",
       "        <th>start_station_id</th>\n",
       "        <th>end_date</th>\n",
       "        <th>end_station_name</th>\n",
       "        <th>end_station_id</th>\n",
       "        <th>bike_id</th>\n",
       "        <th>subscription_type</th>\n",
       "        <th>zip_code</th>\n",
       "    </tr>\n",
       "    <tr>\n",
       "        <td>4069</td>\n",
       "        <td>174</td>\n",
       "        <td>8/29/2013 9:08</td>\n",
       "        <td>2nd at South Park</td>\n",
       "        <td>64</td>\n",
       "        <td>8/29/2013 9:11</td>\n",
       "        <td>2nd at South Park</td>\n",
       "        <td>64</td>\n",
       "        <td>288</td>\n",
       "        <td>Subscriber</td>\n",
       "        <td>94114</td>\n",
       "    </tr>\n",
       "</table>"
      ],
      "text/plain": [
       "[(4069, 174, '8/29/2013 9:08', '2nd at South Park', 64, '8/29/2013 9:11', '2nd at South Park', 64, 288, 'Subscriber', 94114)]"
      ]
     },
     "execution_count": 5,
     "metadata": {},
     "output_type": "execute_result"
    }
   ],
   "source": [
    "%sql sqlite:////Users/michaellink/Desktop/__NYCDSA/_Projects/Capstone/data/kaggle/San_Francisco/SF.sqlite\n",
    "%sql SELECT * FROM trip LIMIT 1;"
   ]
  },
  {
   "cell_type": "code",
   "execution_count": 7,
   "metadata": {},
   "outputs": [
    {
     "name": "stdout",
     "output_type": "stream",
     "text": [
      "   sqlite:////Users/michaellink/Desktop/__NYCDSA/_Projects/Capstone/data/citibike/sqlite/citi_bike.db\n",
      " * sqlite:////Users/michaellink/Desktop/__NYCDSA/_Projects/Capstone/data/citibike/sqlite/citi_bike_yr.db\n",
      "   sqlite:////Users/michaellink/Desktop/__NYCDSA/_Projects/Capstone/data/kaggle/San_Francisco/SF.sqlite\n",
      "Done.\n"
     ]
    },
    {
     "data": {
      "text/html": [
       "<table>\n",
       "    <tr>\n",
       "        <th>dummy</th>\n",
       "        <th>tripduration</th>\n",
       "        <th>starttime</th>\n",
       "        <th>stoptime</th>\n",
       "        <th>start_station_id</th>\n",
       "        <th>start_station_name</th>\n",
       "        <th>start_station_latitude</th>\n",
       "        <th>start_station_longitude</th>\n",
       "        <th>end_station_id</th>\n",
       "        <th>end_station_name</th>\n",
       "        <th>end_station_latitude</th>\n",
       "        <th>end_station_longitude</th>\n",
       "        <th>bikeid</th>\n",
       "        <th>usertype</th>\n",
       "        <th>birth_year</th>\n",
       "        <th>gender</th>\n",
       "        <th>counter</th>\n",
       "        <th>year</th>\n",
       "        <th>age</th>\n",
       "    </tr>\n",
       "    <tr>\n",
       "        <td>1</td>\n",
       "        <td>320.0</td>\n",
       "        <td>2019-01-01 00:01:47.4010</td>\n",
       "        <td>2019-01-01 00:07:07.5810</td>\n",
       "        <td>3160</td>\n",
       "        <td>Central Park West &amp; W 76 St</td>\n",
       "        <td>40.77896784</td>\n",
       "        <td>-73.97374737</td>\n",
       "        <td>3283</td>\n",
       "        <td>W 89 St &amp; Columbus Ave</td>\n",
       "        <td>40.7882213</td>\n",
       "        <td>-73.97041561</td>\n",
       "        <td>15839</td>\n",
       "        <td>Subscriber</td>\n",
       "        <td>1971</td>\n",
       "        <td>1</td>\n",
       "        <td>1</td>\n",
       "        <td>2019</td>\n",
       "        <td>48</td>\n",
       "    </tr>\n",
       "</table>"
      ],
      "text/plain": [
       "[(1, 320.0, '2019-01-01 00:01:47.4010', '2019-01-01 00:07:07.5810', 3160, 'Central Park West & W 76 St', 40.77896784, -73.97374737, 3283, 'W 89 St & Columbus Ave', 40.7882213, -73.97041561, 15839, 'Subscriber', 1971, 1, 1, 2019, 48)]"
      ]
     },
     "execution_count": 7,
     "metadata": {},
     "output_type": "execute_result"
    }
   ],
   "source": [
    "%sql sqlite:////Users/michaellink/Desktop/__NYCDSA/_Projects/Capstone/data/citibike/sqlite/citi_bike_yr.db\n",
    "%sql SELECT * FROM yr_2019 LIMIT 1;"
   ]
  },
  {
   "cell_type": "markdown",
   "metadata": {},
   "source": [
    "### Number of Rides By Subscription Type"
   ]
  },
  {
   "cell_type": "code",
   "execution_count": 8,
   "metadata": {},
   "outputs": [
    {
     "name": "stdout",
     "output_type": "stream",
     "text": [
      "   sqlite:////Users/michaellink/Desktop/__NYCDSA/_Projects/Capstone/data/citibike/sqlite/citi_bike.db\n",
      "   sqlite:////Users/michaellink/Desktop/__NYCDSA/_Projects/Capstone/data/citibike/sqlite/citi_bike_yr.db\n",
      " * sqlite:////Users/michaellink/Desktop/__NYCDSA/_Projects/Capstone/data/kaggle/San_Francisco/SF.sqlite\n",
      "Done.\n",
      "CPU times: user 282 ms, sys: 477 ms, total: 759 ms\n",
      "Wall time: 1.66 s\n"
     ]
    }
   ],
   "source": [
    "%%time\n",
    "%sql sqlite:////Users/michaellink/Desktop/__NYCDSA/_Projects/Capstone/data/kaggle/San_Francisco/SF.sqlite\n",
    "result_SF = %sql SELECT subscription_type, count(*) AS count FROM trip GROUP BY subscription_type;\n",
    "df_user_type_SF = result_SF.DataFrame()"
   ]
  },
  {
   "cell_type": "code",
   "execution_count": 10,
   "metadata": {
    "scrolled": true
   },
   "outputs": [
    {
     "name": "stdout",
     "output_type": "stream",
     "text": [
      "   sqlite:////Users/michaellink/Desktop/__NYCDSA/_Projects/Capstone/data/citibike/sqlite/citi_bike.db\n",
      " * sqlite:////Users/michaellink/Desktop/__NYCDSA/_Projects/Capstone/data/citibike/sqlite/citi_bike_master.db\n",
      "   sqlite:////Users/michaellink/Desktop/__NYCDSA/_Projects/Capstone/data/citibike/sqlite/citi_bike_yr.db\n",
      "   sqlite:////Users/michaellink/Desktop/__NYCDSA/_Projects/Capstone/data/kaggle/San_Francisco/SF.sqlite\n",
      "Done.\n",
      "CPU times: user 45.8 s, sys: 17.4 s, total: 1min 3s\n",
      "Wall time: 1min 45s\n"
     ]
    }
   ],
   "source": [
    "%%time\n",
    "%sql sqlite:////Users/michaellink/Desktop/__NYCDSA/_Projects/Capstone/data/citibike/sqlite/citi_bike_master.db\n",
    "result_NYC = %sql SELECT usertype, count(*) AS count FROM cb GROUP BY usertype;\n",
    "df_user_type_NYC = result_NYC.DataFrame()"
   ]
  },
  {
   "cell_type": "code",
   "execution_count": 11,
   "metadata": {},
   "outputs": [
    {
     "data": {
      "image/png": "[encoded data removed]",
      "text/plain": [
       "<Figure size 432x288 with 1 Axes>"
      ]
     },
     "metadata": {},
     "output_type": "display_data"
    }
   ],
   "source": [
    "# SF\n",
    "labels = ['Customer', 'Subscriber']\n",
    "sizes = df_user_type_SF['count']\n",
    "colors = [color_dct['light_green'], color_dct['purple']]\n",
    "explode = (0.1, 0)\n",
    "\n",
    "plt.pie(sizes, explode=explode, labels=labels, colors=colors,\n",
    "        autopct='%1.1f%%', shadow=True, startangle=140, )\n",
    "plt.title('SF - Rides From Subscribed & Unsubscribed Users')\n",
    "plt.axis('equal')\n",
    "plt.show()"
   ]
  },
  {
   "cell_type": "code",
   "execution_count": 12,
   "metadata": {},
   "outputs": [
    {
     "data": {
      "image/png": "[encoded data removed]",
      "text/plain": [
       "<Figure size 432x288 with 1 Axes>"
      ]
     },
     "metadata": {},
     "output_type": "display_data"
    }
   ],
   "source": [
    "# NYC\n",
    "labels = ['Not Listed', 'Customer', 'Subscriber']\n",
    "sizes = df_user_type_NYC['count']\n",
    "colors = ['lightyellow', color_dct['light_green'], color_dct['purple']]\n",
    "explode = (0.1, 0.1, 0)\n",
    "\n",
    "plt.pie(sizes, explode=explode, labels=labels, colors=colors,\n",
    "        autopct='%1.1f%%', shadow=True, startangle=140, )\n",
    "plt.title('NYC - Rides From Subscribed & Unsubscribed Users')\n",
    "plt.axis('equal')\n",
    "plt.show()"
   ]
  },
  {
   "cell_type": "markdown",
   "metadata": {},
   "source": [
    "### Rides From Particular Stations"
   ]
  },
  {
   "cell_type": "code",
   "execution_count": 13,
   "metadata": {},
   "outputs": [
    {
     "name": "stdout",
     "output_type": "stream",
     "text": [
      "   sqlite:////Users/michaellink/Desktop/__NYCDSA/_Projects/Capstone/data/citibike/sqlite/citi_bike.db\n",
      "   sqlite:////Users/michaellink/Desktop/__NYCDSA/_Projects/Capstone/data/citibike/sqlite/citi_bike_master.db\n",
      "   sqlite:////Users/michaellink/Desktop/__NYCDSA/_Projects/Capstone/data/citibike/sqlite/citi_bike_yr.db\n",
      " * sqlite:////Users/michaellink/Desktop/__NYCDSA/_Projects/Capstone/data/kaggle/San_Francisco/SF.sqlite\n",
      "Done.\n"
     ]
    },
    {
     "data": {
      "image/png": "[encoded data removed]",
      "text/plain": [
       "<Figure size 432x288 with 1 Axes>"
      ]
     },
     "metadata": {},
     "output_type": "display_data"
    }
   ],
   "source": [
    "# SF\n",
    "%sql sqlite:////Users/michaellink/Desktop/__NYCDSA/_Projects/Capstone/data/kaggle/San_Francisco/SF.sqlite\n",
    "result_SF = %sql SELECT start_station_name AS Station, count(*) AS Count FROM trip GROUP BY start_station_name;\n",
    "df_station_rides_SF = result_SF.DataFrame()\n",
    "\n",
    "num_observations = df_station_rides_SF['Count'].sum()\n",
    "df_station_rides_SF['Percent of Total Rides'] = round(100 * (df_station_rides_SF['Count'] / num_observations), 2)\n",
    "df_station_rides_SF.rename(columns={'Count':'Number of Rides'}, inplace=True)\n",
    "df_station_rides_SF.sort_values(by=['Number of Rides'], ascending=False, inplace=True)\n",
    "\n",
    "percent=30\n",
    "n_obs_top_percent = round(df_station_rides_SF.shape[0] * (percent/100))\n",
    "rides_from_top_percent = df_station_rides_SF[0:n_obs_top_percent+1]['Number of Rides'].sum()\n",
    "rides_from_bottom_percent = df_station_rides_SF[n_obs_top_percent+1:]['Number of Rides'].sum()\n",
    "df_station_rides_SF\n",
    "\n",
    "d = {'Percent of Stations': [str(percent), str(100-percent)], 'Number of Rides': [rides_from_top_percent, rides_from_bottom_percent]}\n",
    "df = pd.DataFrame(data=d)\n",
    "\n",
    "labels = [f'Rides From Most Popular Stations (Top {percent} %)', f'Rides From Least Popular Stations (Bottom {100-percent} %)']\n",
    "sizes = df['Number of Rides']\n",
    "colors = [color_dct['light_green'], color_dct['purple']]\n",
    "explode = (0.1, 0)\n",
    "\n",
    "plt.pie(sizes, explode=explode, labels=labels, colors=colors,\n",
    "        autopct='%1.1f%%', shadow=True, startangle=180, )\n",
    "plt.title('Number of Rides in SF')\n",
    "plt.axis('equal')\n",
    "plt.show()"
   ]
  },
  {
   "cell_type": "code",
   "execution_count": null,
   "metadata": {},
   "outputs": [],
   "source": []
  },
  {
   "cell_type": "code",
   "execution_count": 15,
   "metadata": {},
   "outputs": [
    {
     "data": {
      "image/png": "[encoded data removed]",
      "text/plain": [
       "<Figure size 432x288 with 1 Axes>"
      ]
     },
     "metadata": {},
     "output_type": "display_data"
    }
   ],
   "source": [
    "# NYC\n",
    "df_station_rides = pd.read_csv('Number_of_Rides_Starting_From_Each_Station.csv')\n",
    "df_station_rides.sort_values(by=['Number of Rides'], ascending=False, inplace=True)\n",
    "\n",
    "percent=30\n",
    "n_obs_top_percent = round(df_station_rides.shape[0] * (percent/100))\n",
    "rides_from_top_percent = df_station_rides[0:n_obs_top_percent+1]['Number of Rides'].sum()\n",
    "rides_from_bottom_percent = df_station_rides[n_obs_top_percent+1:]['Number of Rides'].sum()\n",
    "rides_from_bottom_percent\n",
    "\n",
    "d = {'Percent of Stations': [str(percent), str(100-percent)], 'Number of Rides': [rides_from_top_percent, rides_from_bottom_percent]}\n",
    "df = pd.DataFrame(data=d)\n",
    "\n",
    "labels = [f'Rides From Most Popular Stations (Top {percent} %)', f'Rides From Least Popular Stations (Bottom {100-percent} %)']\n",
    "sizes = df['Number of Rides']\n",
    "colors = [color_dct['light_green'], color_dct['purple']]\n",
    "explode = (0.1, 0)\n",
    "\n",
    "plt.pie(sizes, explode=explode, labels=labels, colors=colors,\n",
    "        autopct='%1.1f%%', shadow=True, startangle=180, )\n",
    "plt.title('Number of Rides in NYC')\n",
    "plt.axis('equal')\n",
    "plt.show()"
   ]
  },
  {
   "cell_type": "markdown",
   "metadata": {},
   "source": [
    "### Trip Duration"
   ]
  },
  {
   "cell_type": "code",
   "execution_count": 53,
   "metadata": {},
   "outputs": [
    {
     "name": "stdout",
     "output_type": "stream",
     "text": [
      "   sqlite:////Users/michaellink/Desktop/__NYCDSA/_Projects/Capstone/data/citibike/sqlite/citi_bike.db\n",
      "   sqlite:////Users/michaellink/Desktop/__NYCDSA/_Projects/Capstone/data/citibike/sqlite/citi_bike_master.db\n",
      "   sqlite:////Users/michaellink/Desktop/__NYCDSA/_Projects/Capstone/data/citibike/sqlite/citi_bike_yr.db\n",
      " * sqlite:////Users/michaellink/Desktop/__NYCDSA/_Projects/Capstone/data/kaggle/San_Francisco/SF.sqlite\n",
      "Done.\n",
      "CPU times: user 660 ms, sys: 198 ms, total: 858 ms\n",
      "Wall time: 884 ms\n"
     ]
    }
   ],
   "source": [
    "%%time\n",
    "result_SF = %sql SELECT duration FROM trip ORDER BY duration DESC;"
   ]
  },
  {
   "cell_type": "code",
   "execution_count": 54,
   "metadata": {},
   "outputs": [
    {
     "name": "stdout",
     "output_type": "stream",
     "text": [
      "The total number of rows in the 2019 table is 669959.\n",
      "While the total number of tripdurations above 60 minutes is 21242.\n",
      "\n",
      "The trips above 1 hour represent 3.17 percent of the total dataset.\n"
     ]
    }
   ],
   "source": [
    "df_duration_SF = result_SF.DataFrame()\n",
    "df_duration_SF['tripduration_hrs'] = df_duration_SF['duration'] / (60*60)\n",
    "df_duration_SF['tripduration_days'] = df_duration_SF['duration'] / (60*60*24)\n",
    "# df_duration_NYC[['tripduration', 'tripduration_hrs', 'tripduration_days']].head()\n",
    "result_index = df_duration_SF['tripduration_hrs'].sub(1).abs().idxmin()\n",
    "# df_duration_NYC.iloc[[result_index]][['tripduration', 'tripduration_hrs', 'tripduration_days']]\n",
    "num_observations = df_duration_SF.shape[0]\n",
    "print(f'The total number of rows in the 2019 table is {num_observations}.\\nWhile the total number of tripdurations above 60 minutes is {result_index}.')\n",
    "print(f'\\nThe trips above 1 hour represent {round(100*(result_index/num_observations),2)} percent of the total dataset.')"
   ]
  },
  {
   "cell_type": "code",
   "execution_count": 60,
   "metadata": {},
   "outputs": [
    {
     "data": {
      "image/png": "[encoded data removed]",
      "text/plain": [
       "<Figure size 432x288 with 1 Axes>"
      ]
     },
     "metadata": {},
     "output_type": "display_data"
    }
   ],
   "source": [
    "minutes = 30\n",
    "num_observations = df_duration_SF.shape[0]\n",
    "num_above_minute = df_duration_SF[df_duration_SF['duration']>=60*minutes].shape[0]\n",
    "num_below_minute = num_observations - num_above_minute\n",
    "\n",
    "d = {f'Category': [f'Rides Above {minutes} Minutes', f'Rides Below {minutes} Minutes'], 'Number of Rides': [ num_above_minute, num_below_minute]}\n",
    "df = pd.DataFrame(data=d)\n",
    "\n",
    "labels = [f'Rides Above {minutes} Minutes', f'Rides Below {minutes} Minutes']\n",
    "sizes = df['Number of Rides']\n",
    "colors = [color_dct['light_green'], color_dct['purple']]\n",
    "explode = (0.1, 0)\n",
    "\n",
    "plt.pie(sizes, explode=explode, labels=labels, colors=colors,\n",
    "        autopct='%1.1f%%', shadow=True, startangle=140, )\n",
    "plt.title('SF Ride Duration')\n",
    "plt.axis('equal')\n",
    "plt.show()"
   ]
  },
  {
   "cell_type": "code",
   "execution_count": 16,
   "metadata": {},
   "outputs": [
    {
     "name": "stdout",
     "output_type": "stream",
     "text": [
      "   sqlite:////Users/michaellink/Desktop/__NYCDSA/_Projects/Capstone/data/citibike/sqlite/citi_bike.db\n",
      "   sqlite:////Users/michaellink/Desktop/__NYCDSA/_Projects/Capstone/data/citibike/sqlite/citi_bike_master.db\n",
      " * sqlite:////Users/michaellink/Desktop/__NYCDSA/_Projects/Capstone/data/citibike/sqlite/citi_bike_yr.db\n",
      "   sqlite:////Users/michaellink/Desktop/__NYCDSA/_Projects/Capstone/data/kaggle/San_Francisco/SF.sqlite\n",
      "Done.\n",
      "CPU times: user 28.6 s, sys: 10.9 s, total: 39.5 s\n",
      "Wall time: 55.7 s\n"
     ]
    }
   ],
   "source": [
    "%%time\n",
    "%sql sqlite:////Users/michaellink/Desktop/__NYCDSA/_Projects/Capstone/data/citibike/sqlite/citi_bike_yr.db\n",
    "result_NYC = %sql SELECT tripduration FROM yr_2019 ORDER BY tripduration DESC;"
   ]
  },
  {
   "cell_type": "code",
   "execution_count": 58,
   "metadata": {},
   "outputs": [
    {
     "name": "stdout",
     "output_type": "stream",
     "text": [
      "The total number of rows in the 2019 table is 20956644.\n",
      "While the total number of tripdurations above 60 minutes is 197937.\n",
      "\n",
      "The trips above 1 hour represent 0.94 percent of the total dataset.\n"
     ]
    }
   ],
   "source": [
    "df_duration_NYC = result_NYC.DataFrame()\n",
    "df_duration_NYC['tripduration_hrs'] = df_duration_NYC['tripduration'] / (60*60)\n",
    "df_duration_NYC['tripduration_days'] = df_duration_NYC['tripduration'] / (60*60*24)\n",
    "# df_duration_NYC[['tripduration', 'tripduration_hrs', 'tripduration_days']].head()\n",
    "result_index = df_duration_NYC['tripduration_hrs'].sub(1).abs().idxmin()\n",
    "# df_duration_NYC.iloc[[result_index]][['tripduration', 'tripduration_hrs', 'tripduration_days']]\n",
    "num_observations = df_duration_NYC.shape[0]\n",
    "print(f'The total number of rows in the 2019 table is {num_observations}.\\nWhile the total number of tripdurations above 60 minutes is {result_index}.')\n",
    "print(f'\\nThe trips above 1 hour represent {round(100*(result_index/num_observations),2)} percent of the total dataset.')"
   ]
  },
  {
   "cell_type": "code",
   "execution_count": 61,
   "metadata": {},
   "outputs": [
    {
     "data": {
      "image/png": "[encoded data removed]",
      "text/plain": [
       "<Figure size 432x288 with 1 Axes>"
      ]
     },
     "metadata": {},
     "output_type": "display_data"
    }
   ],
   "source": [
    "minutes = 30\n",
    "num_observations = df_duration_NYC.shape[0]\n",
    "num_above_minute = df_duration_NYC[df_duration_NYC['tripduration']>=60*minutes].shape[0]\n",
    "num_below_minute = num_observations - num_above_minute\n",
    "\n",
    "d = {f'Category': [f'Rides Above {minutes} Minutes', f'Rides Below {minutes} Minutes'], 'Number of Rides': [ num_above_minute, num_below_minute]}\n",
    "df = pd.DataFrame(data=d)\n",
    "\n",
    "labels = [f'Rides Above {minutes} Minutes', f'Rides Below {minutes} Minutes']\n",
    "sizes = df['Number of Rides']\n",
    "colors = [color_dct['light_green'], color_dct['purple']]\n",
    "explode = (0.1, 0)\n",
    "\n",
    "plt.pie(sizes, explode=explode, labels=labels, colors=colors,\n",
    "        autopct='%1.1f%%', shadow=True, startangle=140, )\n",
    "plt.title('NYC Ride Duration in 2019')\n",
    "plt.axis('equal')\n",
    "plt.show()"
   ]
  },
  {
   "cell_type": "markdown",
   "metadata": {},
   "source": [
    "### Leaving vs. Arriving Ratio for Each Station"
   ]
  },
  {
   "cell_type": "code",
   "execution_count": 147,
   "metadata": {},
   "outputs": [
    {
     "name": "stdout",
     "output_type": "stream",
     "text": [
      "   sqlite:////Users/michaellink/Desktop/__NYCDSA/_Projects/Capstone/data/citibike/sqlite/citi_bike.db\n",
      "   sqlite:////Users/michaellink/Desktop/__NYCDSA/_Projects/Capstone/data/citibike/sqlite/citi_bike_master.db\n",
      "   sqlite:////Users/michaellink/Desktop/__NYCDSA/_Projects/Capstone/data/citibike/sqlite/citi_bike_yr.db\n",
      " * sqlite:////Users/michaellink/Desktop/__NYCDSA/_Projects/Capstone/data/kaggle/San_Francisco/SF.sqlite\n",
      "Done.\n",
      "   sqlite:////Users/michaellink/Desktop/__NYCDSA/_Projects/Capstone/data/citibike/sqlite/citi_bike.db\n",
      "   sqlite:////Users/michaellink/Desktop/__NYCDSA/_Projects/Capstone/data/citibike/sqlite/citi_bike_master.db\n",
      "   sqlite:////Users/michaellink/Desktop/__NYCDSA/_Projects/Capstone/data/citibike/sqlite/citi_bike_yr.db\n",
      " * sqlite:////Users/michaellink/Desktop/__NYCDSA/_Projects/Capstone/data/kaggle/San_Francisco/SF.sqlite\n",
      "Done.\n"
     ]
    }
   ],
   "source": [
    "%sql sqlite:////Users/michaellink/Desktop/__NYCDSA/_Projects/Capstone/data/kaggle/San_Francisco/SF.sqlite\n",
    "# %sql SELECT * FROM trip LIMIT 2;\n",
    "result_start_station_SF = %sql SELECT start_station_name AS Start_Station, count(*) AS Count FROM trip GROUP BY start_station_name;\n",
    "result_end_station_SF = %sql SELECT end_station_name AS End_Station, count(*) AS Count FROM trip GROUP BY end_station_name;"
   ]
  },
  {
   "cell_type": "code",
   "execution_count": 148,
   "metadata": {},
   "outputs": [],
   "source": [
    "df_start_station_rides_SF = result_start_station_SF.DataFrame().sort_values(by=['Count'], ascending=False)\n",
    "df_end_station_rides_SF = result_end_station_SF.DataFrame().sort_values(by=['Count'], ascending=False)"
   ]
  },
  {
   "cell_type": "code",
   "execution_count": 149,
   "metadata": {
    "scrolled": true
   },
   "outputs": [],
   "source": [
    "num_observations = df_start_station_rides_SF['Count'].sum()\n",
    "df_end_station_rides_SF['Percent of Total Rides'] = round(100 * (df_end_station_rides_SF['Count'] / num_observations), 2)\n",
    "df_end_station_rides_SF.rename(columns={'Count':'Number of Rides'}, inplace=True)\n",
    "# df_end_station_rides_SF.head(2)\n",
    "# df_end_station_rides_SF.to_csv('Number_of_Rides_Ending_From_Each_Station.csv', index=False)"
   ]
  },
  {
   "cell_type": "code",
   "execution_count": 150,
   "metadata": {
    "scrolled": true
   },
   "outputs": [],
   "source": [
    "num_observations = df_start_station_rides_SF['Count'].sum()\n",
    "df_start_station_rides_SF['Percent of Total Rides'] = round(100 * (df_start_station_rides_SF['Count'] / num_observations), 2)\n",
    "df_start_station_rides_SF.rename(columns={'Count':'Number of Rides'}, inplace=True)\n",
    "# df_start_station_rides_SF.head(2)"
   ]
  },
  {
   "cell_type": "code",
   "execution_count": 151,
   "metadata": {
    "scrolled": true
   },
   "outputs": [],
   "source": [
    "left = df_start_station_rides_SF.copy()\n",
    "left.set_index('Start_Station', inplace=True)\n",
    "left.rename(columns = {'Number of Rides':'Number of Start Rides'}, inplace=True)\n",
    "left.drop(['Percent of Total Rides'], axis=1, inplace=True)\n",
    "\n",
    "right = df_end_station_rides_SF.copy()\n",
    "right.set_index('End_Station', inplace=True)\n",
    "right.rename(columns = {'Number of Rides':'Number of End Rides'}, inplace=True)\n",
    "right.drop(['Percent of Total Rides'], axis=1, inplace=True)\n",
    "right_mod = right.groupby('End_Station').agg({'Number of End Rides': 'sum'})\n",
    "right_mod.head(2)\n",
    "\n",
    "df_concat = pd.concat([left, right_mod], axis=1, sort=False)\n",
    "# df_concat.sample(10)\n",
    "\n",
    "df_concat['Start_Ratio'] = df_concat['Number of Start Rides'] / df_concat['Number of End Rides']\n",
    "df_concat.dropna(inplace=True) \n",
    "df_concat.sort_values(by=['Start_Ratio'], inplace=True)"
   ]
  },
  {
   "cell_type": "code",
   "execution_count": 153,
   "metadata": {},
   "outputs": [
    {
     "data": {
      "text/html": [
       "<div>\n",
       "<style scoped>\n",
       "    .dataframe tbody tr th:only-of-type {\n",
       "        vertical-align: middle;\n",
       "    }\n",
       "\n",
       "    .dataframe tbody tr th {\n",
       "        vertical-align: top;\n",
       "    }\n",
       "\n",
       "    .dataframe thead th {\n",
       "        text-align: right;\n",
       "    }\n",
       "</style>\n",
       "<table border=\"1\" class=\"dataframe\">\n",
       "  <thead>\n",
       "    <tr style=\"text-align: right;\">\n",
       "      <th></th>\n",
       "      <th>Number of Start Rides</th>\n",
       "      <th>Number of End Rides</th>\n",
       "      <th>Start_Ratio</th>\n",
       "    </tr>\n",
       "  </thead>\n",
       "  <tbody>\n",
       "    <tr>\n",
       "      <th>count</th>\n",
       "      <td>74.00000</td>\n",
       "      <td>74.000000</td>\n",
       "      <td>74.000000</td>\n",
       "    </tr>\n",
       "    <tr>\n",
       "      <th>mean</th>\n",
       "      <td>9053.50000</td>\n",
       "      <td>9053.500000</td>\n",
       "      <td>1.025842</td>\n",
       "    </tr>\n",
       "    <tr>\n",
       "      <th>std</th>\n",
       "      <td>10045.49677</td>\n",
       "      <td>11068.350963</td>\n",
       "      <td>0.189569</td>\n",
       "    </tr>\n",
       "    <tr>\n",
       "      <th>min</th>\n",
       "      <td>23.00000</td>\n",
       "      <td>23.000000</td>\n",
       "      <td>0.688053</td>\n",
       "    </tr>\n",
       "    <tr>\n",
       "      <th>25%</th>\n",
       "      <td>1522.50000</td>\n",
       "      <td>1449.000000</td>\n",
       "      <td>0.902596</td>\n",
       "    </tr>\n",
       "    <tr>\n",
       "      <th>50%</th>\n",
       "      <td>4076.50000</td>\n",
       "      <td>3552.500000</td>\n",
       "      <td>1.000000</td>\n",
       "    </tr>\n",
       "    <tr>\n",
       "      <th>75%</th>\n",
       "      <td>13922.00000</td>\n",
       "      <td>12278.000000</td>\n",
       "      <td>1.116342</td>\n",
       "    </tr>\n",
       "    <tr>\n",
       "      <th>max</th>\n",
       "      <td>49092.00000</td>\n",
       "      <td>63179.000000</td>\n",
       "      <td>1.770851</td>\n",
       "    </tr>\n",
       "  </tbody>\n",
       "</table>\n",
       "</div>"
      ],
      "text/plain": [
       "       Number of Start Rides  Number of End Rides  Start_Ratio\n",
       "count               74.00000            74.000000    74.000000\n",
       "mean              9053.50000          9053.500000     1.025842\n",
       "std              10045.49677         11068.350963     0.189569\n",
       "min                 23.00000            23.000000     0.688053\n",
       "25%               1522.50000          1449.000000     0.902596\n",
       "50%               4076.50000          3552.500000     1.000000\n",
       "75%              13922.00000         12278.000000     1.116342\n",
       "max              49092.00000         63179.000000     1.770851"
      ]
     },
     "execution_count": 153,
     "metadata": {},
     "output_type": "execute_result"
    }
   ],
   "source": [
    "df_concat.describe()"
   ]
  },
  {
   "cell_type": "code",
   "execution_count": 152,
   "metadata": {},
   "outputs": [
    {
     "data": {
      "image/png": "[encoded data removed]",
      "text/plain": [
       "<Figure size 640x480 with 1 Axes>"
      ]
     },
     "metadata": {},
     "output_type": "display_data"
    }
   ],
   "source": [
    "plt.style.use('default')\n",
    "plt.bar(df_concat.index.to_list(), df_concat['Start_Ratio'], color=color_dct['purple'])\n",
    "plt.xlabel(\"\")\n",
    "plt.ylabel(\"Bikes Leaving vs. Bikes Arriving\")\n",
    "plt.suptitle('SF Inflow vs Outflow for Each Station', fontsize=16)\n",
    "plt.title(\"(Above Red Line => Bikes Leaving Station) & (Below Red Line => Bikes Arriving at Station)\", fontsize=8)\n",
    "plt.yscale('log')\n",
    "plt.xticks([])\n",
    "plt.axhline(y=1, linewidth=2, color=color_dct['salmon'])\n",
    "plt.show()"
   ]
  },
  {
   "cell_type": "code",
   "execution_count": 63,
   "metadata": {},
   "outputs": [
    {
     "name": "stdout",
     "output_type": "stream",
     "text": [
      "   sqlite:////Users/michaellink/Desktop/__NYCDSA/_Projects/Capstone/data/citibike/sqlite/citi_bike.db\n",
      " * sqlite:////Users/michaellink/Desktop/__NYCDSA/_Projects/Capstone/data/citibike/sqlite/citi_bike_master.db\n",
      "   sqlite:////Users/michaellink/Desktop/__NYCDSA/_Projects/Capstone/data/citibike/sqlite/citi_bike_yr.db\n",
      "   sqlite:////Users/michaellink/Desktop/__NYCDSA/_Projects/Capstone/data/kaggle/San_Francisco/SF.sqlite\n",
      "Done.\n",
      "CPU times: user 1min 20s, sys: 37.8 s, total: 1min 58s\n",
      "Wall time: 3min 42s\n"
     ]
    }
   ],
   "source": [
    "%%time\n",
    "%sql sqlite:////Users/michaellink/Desktop/__NYCDSA/_Projects/Capstone/data/citibike/sqlite/citi_bike_master.db\n",
    "result = %sql SELECT end_station_name AS End_Station, count(*) AS Count FROM cb GROUP BY start_station_name;"
   ]
  },
  {
   "cell_type": "code",
   "execution_count": 64,
   "metadata": {},
   "outputs": [],
   "source": [
    "df_end_station_rides = result.DataFrame()\n",
    "num_observations = df_end_station_rides['Count'].sum()\n",
    "df_end_station_rides['Percent of Total Rides'] = round(100 * (df_end_station_rides['Count'] / num_observations), 2)\n",
    "df_end_station_rides.rename(columns={'Count':'Number of Rides'}, inplace=True)\n",
    "df_end_station_rides.head(5)\n",
    "df_end_station_rides.to_csv('Number_of_Rides_Ending_From_Each_Station.csv', index=False)"
   ]
  },
  {
   "cell_type": "code",
   "execution_count": 75,
   "metadata": {
    "scrolled": true
   },
   "outputs": [],
   "source": [
    "df_start_station_rides_NYC = pd.read_csv('Number_of_Rides_Starting_From_Each_Station.csv')\n",
    "left = df_start_station_rides_NYC.copy()\n",
    "left.set_index('Station', inplace=True)\n",
    "left.rename(columns = {'Number of Rides':'Number of Start Rides'}, inplace=True)\n",
    "left.drop(['Percent of Total Rides'], axis=1, inplace=True)\n",
    "\n",
    "df_end_station_rides_NYC = pd.read_csv('Number_of_Rides_Ending_From_Each_Station.csv')\n",
    "right = df_end_station_rides_NYC.copy()\n",
    "right.set_index('End_Station', inplace=True)\n",
    "right.rename(columns = {'Number of Rides':'Number of End Rides'}, inplace=True)\n",
    "right.drop(['Percent of Total Rides'], axis=1, inplace=True)\n",
    "right_mod = right.groupby('End_Station').agg({'Number of End Rides': 'sum'})\n",
    "right_mod.head(2)\n",
    "\n",
    "df_concat = pd.concat([left, right_mod], axis=1, sort=False)\n",
    "# df_concat.sample(10)\n",
    "\n",
    "df_concat['Start_Ratio'] = df_concat['Number of Start Rides'] / df_concat['Number of End Rides']\n",
    "df_concat.dropna(inplace=True) # 600 STATIONS WERE NA. I.e. THEY HAVE NEVER BEEN USED AS END STATIONS\n",
    "df_concat.sort_values(by=['Start_Ratio'], inplace=True)"
   ]
  },
  {
   "cell_type": "code",
   "execution_count": 103,
   "metadata": {},
   "outputs": [
    {
     "data": {
      "image/png": "[encoded data removed]",
      "text/plain": [
       "<Figure size 640x480 with 1 Axes>"
      ]
     },
     "metadata": {},
     "output_type": "display_data"
    }
   ],
   "source": [
    "plt.style.use('default')\n",
    "plt.bar(df_concat.index.to_list(), df_concat['Start_Ratio'], color=color_dct['purple'])\n",
    "plt.xlabel(\"\")\n",
    "plt.ylabel(\"Bikes Leaving vs. Bikes Arriving\")\n",
    "plt.suptitle('NYC Inflow vs Outflow for Each Station', fontsize=16)\n",
    "plt.title(\"(Above Red Line => Bikes Leaving Station) & (Below Red Line => Bikes Arriving at Station)\", fontsize=8)\n",
    "plt.yscale('log')\n",
    "plt.xticks([])\n",
    "plt.axhline(y=1, linewidth=2, color=color_dct['salmon'])\n",
    "plt.show()"
   ]
  },
  {
   "cell_type": "code",
   "execution_count": null,
   "metadata": {},
   "outputs": [],
   "source": []
  },
  {
   "cell_type": "code",
   "execution_count": null,
   "metadata": {},
   "outputs": [],
   "source": []
  },
  {
   "cell_type": "code",
   "execution_count": null,
   "metadata": {},
   "outputs": [],
   "source": []
  },
  {
   "cell_type": "code",
   "execution_count": null,
   "metadata": {},
   "outputs": [],
   "source": []
  },
  {
   "cell_type": "code",
   "execution_count": null,
   "metadata": {},
   "outputs": [],
   "source": []
  },
  {
   "cell_type": "code",
   "execution_count": null,
   "metadata": {},
   "outputs": [],
   "source": []
  },
  {
   "cell_type": "code",
   "execution_count": null,
   "metadata": {},
   "outputs": [],
   "source": []
  },
  {
   "cell_type": "code",
   "execution_count": null,
   "metadata": {},
   "outputs": [],
   "source": []
  },
  {
   "cell_type": "code",
   "execution_count": null,
   "metadata": {},
   "outputs": [],
   "source": []
  },
  {
   "cell_type": "code",
   "execution_count": null,
   "metadata": {},
   "outputs": [],
   "source": []
  },
  {
   "cell_type": "code",
   "execution_count": null,
   "metadata": {},
   "outputs": [],
   "source": []
  },
  {
   "cell_type": "code",
   "execution_count": null,
   "metadata": {},
   "outputs": [],
   "source": []
  },
  {
   "cell_type": "markdown",
   "metadata": {
    "_uuid": "4b750299969edda27824ad302c80ade74154cd2c"
   },
   "source": [
    "**Q1: What was the trip with the longest duration? **"
   ]
  },
  {
   "cell_type": "code",
   "execution_count": null,
   "metadata": {
    "_uuid": "174064c78bf8362e357dc109f24f37ff2b2c86cc"
   },
   "outputs": [],
   "source": [
    "query = '''\n",
    "SELECT *\n",
    "FROM trip\n",
    "ORDER BY duration DESC\n",
    "LIMIT 1\n",
    "'''\n",
    "\n",
    "run_query(query)"
   ]
  },
  {
   "cell_type": "markdown",
   "metadata": {
    "_uuid": "e6d0df8dab09091a9ab1118a0578954a1865c602"
   },
   "source": [
    "So it appears that the longest ride recorded is over six months long! It is very likely that this could have been a glitch. Pulling up the top 10 longest rides will hopefully provide some context as to whether this datapoint is a fluke."
   ]
  },
  {
   "cell_type": "code",
   "execution_count": null,
   "metadata": {
    "_uuid": "780d6748428777757364b0ac4201f51f31702969",
    "scrolled": false
   },
   "outputs": [],
   "source": [
    "query = '''\n",
    "SELECT *\n",
    "FROM trip\n",
    "ORDER BY duration DESC\n",
    "LIMIT 10\n",
    "'''\n",
    "\n",
    "run_query(query)"
   ]
  },
  {
   "cell_type": "markdown",
   "metadata": {
    "_uuid": "7cab55725cc4577a6da1e22217e69ffbddae0df1"
   },
   "source": [
    "Lets see if how common it is for a ride to go over 24 hours"
   ]
  },
  {
   "cell_type": "code",
   "execution_count": null,
   "metadata": {
    "_uuid": "e56b0526dc58eacd9821967ea1ecdc82c0466270"
   },
   "outputs": [],
   "source": [
    "query = '''\n",
    "SELECT count(*)\n",
    "AS \\'Long Trips\\'\n",
    "FROM trip \n",
    "WHERE \n",
    "duration >= 60*60*24;\n",
    "'''\n",
    "#60 seconds in a minute, 60 minutes in an hour, 24 hours in a day\n",
    "\n",
    "run_query(query)"
   ]
  },
  {
   "cell_type": "markdown",
   "metadata": {
    "_uuid": "7be96fa50d89a7cedd40e3f948a502717a30e6ac"
   },
   "source": [
    "It appears that all but two of the 10 longest trips were made by unsubscribed customers. Let's see if unregistered customers are the main culprits.\n",
    "\n",
    "\n",
    "\n",
    "**Q2: Do unregistered users take longer or shorter trips?**\n",
    "\n",
    "First let's plot a pie chart to determine the proportion of unregistered users."
   ]
  },
  {
   "cell_type": "code",
   "execution_count": null,
   "metadata": {
    "_uuid": "f33a860a196ecf07fc9709e6bf19f182fd846166"
   },
   "outputs": [],
   "source": [
    "query = '''\n",
    "SELECT subscription_type, count(*) AS count\n",
    "FROM trip\n",
    "GROUP BY subscription_type\n",
    "'''\n",
    "\n",
    "df = pd.read_sql_query(query, db)\n",
    "\n",
    "labels = ['Casual', 'Subscriber']\n",
    "sizes = df['count']\n",
    "colors = ['lightblue', 'lightgreen']\n",
    "explode = (0.1, 0)  # explode 1st slice\n",
    "# Plot\n",
    "plt.pie(sizes, explode=explode, labels=labels, colors=colors,\n",
    "        autopct='%1.1f%%', shadow=True, startangle=140, )\n",
    "plt.title('Subscribed vs Unsubscribed Riders')\n",
    "plt.axis('equal')\n",
    "plt.show()\n"
   ]
  },
  {
   "cell_type": "code",
   "execution_count": null,
   "metadata": {
    "_uuid": "4ab487532a2ac5ef77f849d673654b50df8ef4c6"
   },
   "outputs": [],
   "source": [
    "query = '''\n",
    "SELECT subscription_type, AVG(duration)/60 AS 'Average Duration'\n",
    "FROM trip\n",
    "GROUP BY subscription_type\n",
    "''' \n",
    "#since duration is in seconds, we will convert to minutes\n",
    "run_query(query)"
   ]
  },
  {
   "cell_type": "markdown",
   "metadata": {
    "_uuid": "537f4e97b39f4866c516d46de69bcbd87406c531"
   },
   "source": [
    "So unsubscribed customers take much longer rides on average. This would make sense as unsubscribed customers are more unaware of the charges that are incurred if you go over your 30 minute time limit. Other potential influential factors include the fact that unsubscribed customers come from certain demographics, such as tourists who would be doing more sight-seeing.\n",
    "\n",
    "\n",
    "\n",
    "**Q3: Which stations are the most popular?**\n",
    "\n",
    "In order to extract the data needed, the \"trip\" and \"station\" tables will need to be inner-joined:\n",
    "\n"
   ]
  },
  {
   "cell_type": "code",
   "execution_count": null,
   "metadata": {
    "_uuid": "09a5154fc02b561be788c26db4c9d0cbb262de8c"
   },
   "outputs": [],
   "source": [
    "query = '''\n",
    "SELECT station.name AS Station, count(*) AS Count\n",
    "FROM station\n",
    "INNER JOIN trip\n",
    "ON station.id = trip.start_station_id\n",
    "GROUP BY station.name\n",
    "ORDER BY count DESC\n",
    "LIMIT 5\n",
    "''' \n",
    "\n",
    "run_query(query)"
   ]
  },
  {
   "cell_type": "markdown",
   "metadata": {
    "_uuid": "07b523624bb8ff12730d6dab185416ad011ee48e"
   },
   "source": [
    "For anyone who is familiar with San Fransisco, it would make sense why these are the most popular stations. Townsend at 4th is blocks away from AT&T park, the financial district, and is the location of both a Caltrain and BART station. Both the Caltrain and BART serve hundreds of thousands of commuters every day. The Ferry Building is also one of the iconic landmarks of San Fransisco and is right along the Embarcadero, a very popular area among tourists.\n",
    "\n",
    "\n",
    "Lets take this a step further. We can utilize the \"status\" table in the database and determine which stations are empty the most. It appears that the status table consists of status updates pulled from each station every two minutes. Each station contains 1,047,142 unique status readings."
   ]
  },
  {
   "cell_type": "code",
   "execution_count": null,
   "metadata": {
    "_uuid": "3c9c464ede15a19553c6c2912d3bc5806f3ee2ca"
   },
   "outputs": [],
   "source": [
    "\n",
    "#there are 1047142 total status readings for each station\n",
    "\n",
    "query = '''\n",
    "SELECT station.name AS Station, count(*) AS 'Total Empty Readings'\n",
    "FROM station\n",
    "\n",
    "INNER JOIN status\n",
    "ON status.station_id=station.id\n",
    "WHERE status.bikes_available=0\n",
    "GROUP BY station.name\n",
    "\n",
    "ORDER BY count(*) DESC\n",
    "LIMIT 10\n",
    "\n",
    "''' \n",
    "\n",
    "run_query(query)"
   ]
  },
  {
   "cell_type": "markdown",
   "metadata": {
    "_uuid": "52e18b377c2423f97c6b07c96f66054a52618432"
   },
   "source": [
    "It turns out only two out of 5 of our most popular stations are in the top 10 most empty stations. The other three must be very popular drop-off stations as well, which allows the kiosks to maintain a steady number of bikes.\n",
    "\n",
    "Lets create a quick plot to show the distribution of available bike readings for all stations."
   ]
  },
  {
   "cell_type": "code",
   "execution_count": null,
   "metadata": {
    "_uuid": "d3b556d753db40a5b6f99316d2948b5a8e35eb2f"
   },
   "outputs": [],
   "source": [
    "query = '''\n",
    "SELECT bikes_available AS 'Bikes Available'\n",
    "FROM status\n",
    "\n",
    "''' \n",
    "\n",
    "df = pd.read_sql_query(query, db)\n",
    "df['Bikes Available'].plot.hist(bins=27, title='Bikes Available (All Stations)', \n",
    "                                ec='black', alpha=0.5)"
   ]
  },
  {
   "cell_type": "markdown",
   "metadata": {
    "_uuid": "5938fd2a3381080f9783679b7987cdd920b3e879"
   },
   "source": [
    "**Q4: Which routes are the most popular?**\n",
    "\n",
    "\n",
    "This can be done using a simple \"group by\" statement."
   ]
  },
  {
   "cell_type": "code",
   "execution_count": null,
   "metadata": {
    "_uuid": "4f77236f53a7dcd27cd3bf62d2bef24957fafc0f"
   },
   "outputs": [],
   "source": [
    "query='''\n",
    "SELECT start_station_name, end_station_name, COUNT(*) AS Count\n",
    "FROM trip\n",
    "GROUP BY start_station_name, end_station_name\n",
    "ORDER BY Count DESC\n",
    "LIMIT 10;\n",
    "  '''\n",
    "run_query(query)"
   ]
  },
  {
   "cell_type": "markdown",
   "metadata": {
    "_uuid": "c56703a8fd65afccc90be961f3dd29361f461d4f"
   },
   "source": []
  }
 ],
 "metadata": {
  "kernelspec": {
   "display_name": "Python 3",
   "language": "python",
   "name": "python3"
  },
  "language_info": {
   "codemirror_mode": {
    "name": "ipython",
    "version": 3
   },
   "file_extension": ".py",
   "mimetype": "text/x-python",
   "name": "python",
   "nbconvert_exporter": "python",
   "pygments_lexer": "ipython3",
   "version": "3.7.6"
  }
 },
 "nbformat": 4,
 "nbformat_minor": 1
}
