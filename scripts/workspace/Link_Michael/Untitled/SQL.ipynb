{
 "cells": [
  {
   "cell_type": "code",
   "execution_count": 1,
   "metadata": {},
   "outputs": [],
   "source": [
    "%load_ext sql\n",
    "%sql sqlite:////Users/michaellink/Desktop/__NYCDSA/_Projects/Capstone/data/citibike/sqlite/citi_bike.db"
   ]
  },
  {
   "cell_type": "code",
   "execution_count": 2,
   "metadata": {},
   "outputs": [],
   "source": [
    "import pandas as pd\n",
    "import matplotlib.pyplot as plt\n",
    "import random\n",
    "import seaborn as sns\n",
    "from matplotlib.ticker import PercentFormatter\n",
    "import numpy as np"
   ]
  },
  {
   "cell_type": "markdown",
   "metadata": {},
   "source": [
    "### Here we look at the top 10000 longest trips to see if there are outliers"
   ]
  },
  {
   "cell_type": "code",
   "execution_count": 3,
   "metadata": {},
   "outputs": [
    {
     "name": "stdout",
     "output_type": "stream",
     "text": [
      " * sqlite:////Users/michaellink/Desktop/__NYCDSA/_Projects/Capstone/data/citibike/sqlite/citi_bike.db\n",
      "Done.\n",
      "CPU times: user 19.6 s, sys: 14.6 s, total: 34.1 s\n",
      "Wall time: 56.9 s\n"
     ]
    }
   ],
   "source": [
    "%%time\n",
    "result = %sql SELECT tripduration FROM yr_2019 ORDER BY tripduration DESC;"
   ]
  },
  {
   "cell_type": "code",
   "execution_count": 4,
   "metadata": {},
   "outputs": [
    {
     "data": {
      "text/html": [
       "<div>\n",
       "<style scoped>\n",
       "    .dataframe tbody tr th:only-of-type {\n",
       "        vertical-align: middle;\n",
       "    }\n",
       "\n",
       "    .dataframe tbody tr th {\n",
       "        vertical-align: top;\n",
       "    }\n",
       "\n",
       "    .dataframe thead th {\n",
       "        text-align: right;\n",
       "    }\n",
       "</style>\n",
       "<table border=\"1\" class=\"dataframe\">\n",
       "  <thead>\n",
       "    <tr style=\"text-align: right;\">\n",
       "      <th></th>\n",
       "      <th>tripduration</th>\n",
       "      <th>tripduration_hrs</th>\n",
       "      <th>tripduration_days</th>\n",
       "    </tr>\n",
       "  </thead>\n",
       "  <tbody>\n",
       "    <tr>\n",
       "      <th>0</th>\n",
       "      <td>998775</td>\n",
       "      <td>277.437500</td>\n",
       "      <td>11.559896</td>\n",
       "    </tr>\n",
       "    <tr>\n",
       "      <th>1</th>\n",
       "      <td>989122</td>\n",
       "      <td>274.756111</td>\n",
       "      <td>11.448171</td>\n",
       "    </tr>\n",
       "    <tr>\n",
       "      <th>2</th>\n",
       "      <td>983681</td>\n",
       "      <td>273.244722</td>\n",
       "      <td>11.385197</td>\n",
       "    </tr>\n",
       "    <tr>\n",
       "      <th>3</th>\n",
       "      <td>982217</td>\n",
       "      <td>272.838056</td>\n",
       "      <td>11.368252</td>\n",
       "    </tr>\n",
       "    <tr>\n",
       "      <th>4</th>\n",
       "      <td>980590</td>\n",
       "      <td>272.386111</td>\n",
       "      <td>11.349421</td>\n",
       "    </tr>\n",
       "  </tbody>\n",
       "</table>\n",
       "</div>"
      ],
      "text/plain": [
       "   tripduration  tripduration_hrs  tripduration_days\n",
       "0        998775        277.437500          11.559896\n",
       "1        989122        274.756111          11.448171\n",
       "2        983681        273.244722          11.385197\n",
       "3        982217        272.838056          11.368252\n",
       "4        980590        272.386111          11.349421"
      ]
     },
     "execution_count": 4,
     "metadata": {},
     "output_type": "execute_result"
    }
   ],
   "source": [
    "df_top_10000_longest_trips = result.DataFrame()\n",
    "df_top_10000_longest_trips['tripduration_hrs'] = df_top_10000_longest_trips['tripduration'] / (60*60)\n",
    "df_top_10000_longest_trips['tripduration_days'] = df_top_10000_longest_trips['tripduration'] / (60*60*24)\n",
    "df_top_10000_longest_trips[['tripduration', 'tripduration_hrs', 'tripduration_days']].head()"
   ]
  },
  {
   "cell_type": "code",
   "execution_count": 5,
   "metadata": {
    "scrolled": true
   },
   "outputs": [
    {
     "data": {
      "text/html": [
       "<div>\n",
       "<style scoped>\n",
       "    .dataframe tbody tr th:only-of-type {\n",
       "        vertical-align: middle;\n",
       "    }\n",
       "\n",
       "    .dataframe tbody tr th {\n",
       "        vertical-align: top;\n",
       "    }\n",
       "\n",
       "    .dataframe thead th {\n",
       "        text-align: right;\n",
       "    }\n",
       "</style>\n",
       "<table border=\"1\" class=\"dataframe\">\n",
       "  <thead>\n",
       "    <tr style=\"text-align: right;\">\n",
       "      <th></th>\n",
       "      <th>tripduration</th>\n",
       "      <th>tripduration_hrs</th>\n",
       "      <th>tripduration_days</th>\n",
       "    </tr>\n",
       "  </thead>\n",
       "  <tbody>\n",
       "    <tr>\n",
       "      <th>20956639</th>\n",
       "      <td>0</td>\n",
       "      <td>0.0</td>\n",
       "      <td>0.0</td>\n",
       "    </tr>\n",
       "    <tr>\n",
       "      <th>20956640</th>\n",
       "      <td>0</td>\n",
       "      <td>0.0</td>\n",
       "      <td>0.0</td>\n",
       "    </tr>\n",
       "    <tr>\n",
       "      <th>20956641</th>\n",
       "      <td>0</td>\n",
       "      <td>0.0</td>\n",
       "      <td>0.0</td>\n",
       "    </tr>\n",
       "    <tr>\n",
       "      <th>20956642</th>\n",
       "      <td>0</td>\n",
       "      <td>0.0</td>\n",
       "      <td>0.0</td>\n",
       "    </tr>\n",
       "    <tr>\n",
       "      <th>20956643</th>\n",
       "      <td>0</td>\n",
       "      <td>0.0</td>\n",
       "      <td>0.0</td>\n",
       "    </tr>\n",
       "  </tbody>\n",
       "</table>\n",
       "</div>"
      ],
      "text/plain": [
       "          tripduration  tripduration_hrs  tripduration_days\n",
       "20956639             0               0.0                0.0\n",
       "20956640             0               0.0                0.0\n",
       "20956641             0               0.0                0.0\n",
       "20956642             0               0.0                0.0\n",
       "20956643             0               0.0                0.0"
      ]
     },
     "execution_count": 5,
     "metadata": {},
     "output_type": "execute_result"
    }
   ],
   "source": [
    "df_top_10000_longest_trips[['tripduration', 'tripduration_hrs', 'tripduration_days']].tail()"
   ]
  },
  {
   "cell_type": "code",
   "execution_count": 6,
   "metadata": {},
   "outputs": [
    {
     "data": {
      "text/html": [
       "<div>\n",
       "<style scoped>\n",
       "    .dataframe tbody tr th:only-of-type {\n",
       "        vertical-align: middle;\n",
       "    }\n",
       "\n",
       "    .dataframe tbody tr th {\n",
       "        vertical-align: top;\n",
       "    }\n",
       "\n",
       "    .dataframe thead th {\n",
       "        text-align: right;\n",
       "    }\n",
       "</style>\n",
       "<table border=\"1\" class=\"dataframe\">\n",
       "  <thead>\n",
       "    <tr style=\"text-align: right;\">\n",
       "      <th></th>\n",
       "      <th>tripduration</th>\n",
       "      <th>tripduration_hrs</th>\n",
       "      <th>tripduration_days</th>\n",
       "    </tr>\n",
       "  </thead>\n",
       "  <tbody>\n",
       "    <tr>\n",
       "      <th>count</th>\n",
       "      <td>2.095664e+07</td>\n",
       "      <td>2.095664e+07</td>\n",
       "      <td>2.095664e+07</td>\n",
       "    </tr>\n",
       "    <tr>\n",
       "      <th>mean</th>\n",
       "      <td>1.680634e+02</td>\n",
       "      <td>4.668427e-02</td>\n",
       "      <td>1.945178e-03</td>\n",
       "    </tr>\n",
       "    <tr>\n",
       "      <th>std</th>\n",
       "      <td>2.523527e+03</td>\n",
       "      <td>7.009797e-01</td>\n",
       "      <td>2.920749e-02</td>\n",
       "    </tr>\n",
       "    <tr>\n",
       "      <th>min</th>\n",
       "      <td>0.000000e+00</td>\n",
       "      <td>0.000000e+00</td>\n",
       "      <td>0.000000e+00</td>\n",
       "    </tr>\n",
       "    <tr>\n",
       "      <th>25%</th>\n",
       "      <td>3.100000e+01</td>\n",
       "      <td>8.611111e-03</td>\n",
       "      <td>3.587963e-04</td>\n",
       "    </tr>\n",
       "    <tr>\n",
       "      <th>50%</th>\n",
       "      <td>6.400000e+01</td>\n",
       "      <td>1.777778e-02</td>\n",
       "      <td>7.407407e-04</td>\n",
       "    </tr>\n",
       "    <tr>\n",
       "      <th>75%</th>\n",
       "      <td>9.700000e+01</td>\n",
       "      <td>2.694444e-02</td>\n",
       "      <td>1.122685e-03</td>\n",
       "    </tr>\n",
       "    <tr>\n",
       "      <th>max</th>\n",
       "      <td>9.987750e+05</td>\n",
       "      <td>2.774375e+02</td>\n",
       "      <td>1.155990e+01</td>\n",
       "    </tr>\n",
       "  </tbody>\n",
       "</table>\n",
       "</div>"
      ],
      "text/plain": [
       "       tripduration  tripduration_hrs  tripduration_days\n",
       "count  2.095664e+07      2.095664e+07       2.095664e+07\n",
       "mean   1.680634e+02      4.668427e-02       1.945178e-03\n",
       "std    2.523527e+03      7.009797e-01       2.920749e-02\n",
       "min    0.000000e+00      0.000000e+00       0.000000e+00\n",
       "25%    3.100000e+01      8.611111e-03       3.587963e-04\n",
       "50%    6.400000e+01      1.777778e-02       7.407407e-04\n",
       "75%    9.700000e+01      2.694444e-02       1.122685e-03\n",
       "max    9.987750e+05      2.774375e+02       1.155990e+01"
      ]
     },
     "execution_count": 6,
     "metadata": {},
     "output_type": "execute_result"
    }
   ],
   "source": [
    "df_top_10000_longest_trips.describe()"
   ]
  },
  {
   "cell_type": "code",
   "execution_count": 10,
   "metadata": {},
   "outputs": [
    {
     "data": {
      "text/plain": [
       "(172637, 3)"
      ]
     },
     "execution_count": 10,
     "metadata": {},
     "output_type": "execute_result"
    }
   ],
   "source": [
    "df_top_10000_longest_trips[df_top_10000_longest_trips['tripduration']==0].shape"
   ]
  },
  {
   "cell_type": "code",
   "execution_count": 13,
   "metadata": {
    "scrolled": true
   },
   "outputs": [
    {
     "data": {
      "text/html": [
       "<div>\n",
       "<style scoped>\n",
       "    .dataframe tbody tr th:only-of-type {\n",
       "        vertical-align: middle;\n",
       "    }\n",
       "\n",
       "    .dataframe tbody tr th {\n",
       "        vertical-align: top;\n",
       "    }\n",
       "\n",
       "    .dataframe thead th {\n",
       "        text-align: right;\n",
       "    }\n",
       "</style>\n",
       "<table border=\"1\" class=\"dataframe\">\n",
       "  <thead>\n",
       "    <tr style=\"text-align: right;\">\n",
       "      <th></th>\n",
       "      <th>tripduration</th>\n",
       "      <th>tripduration_hrs</th>\n",
       "      <th>tripduration_days</th>\n",
       "    </tr>\n",
       "  </thead>\n",
       "  <tbody>\n",
       "    <tr>\n",
       "      <th>20063</th>\n",
       "      <td>3600</td>\n",
       "      <td>1.0</td>\n",
       "      <td>0.041667</td>\n",
       "    </tr>\n",
       "  </tbody>\n",
       "</table>\n",
       "</div>"
      ],
      "text/plain": [
       "       tripduration  tripduration_hrs  tripduration_days\n",
       "20063          3600               1.0           0.041667"
      ]
     },
     "execution_count": 13,
     "metadata": {},
     "output_type": "execute_result"
    }
   ],
   "source": [
    "result_index = df_top_10000_longest_trips['tripduration_hrs'].sub(1).abs().idxmin()\n",
    "df_top_10000_longest_trips.iloc[[result_index]][['tripduration', 'tripduration_hrs', 'tripduration_days']]"
   ]
  },
  {
   "cell_type": "code",
   "execution_count": 14,
   "metadata": {},
   "outputs": [],
   "source": [
    "num_observations = df_top_10000_longest_trips.shape[0]"
   ]
  },
  {
   "cell_type": "code",
   "execution_count": 15,
   "metadata": {},
   "outputs": [
    {
     "name": "stdout",
     "output_type": "stream",
     "text": [
      "The total number of rows in the 2019 table is 20956644.\n",
      "While the total number of tripdurations above 60 minutes is 20063.\n",
      "\n",
      "The trips above 1 hour represent 0.1 percent of the total dataset.\n"
     ]
    }
   ],
   "source": [
    "print(f'The total number of rows in the 2019 table is {num_observations}.\\nWhile the total number of tripdurations above 60 minutes is {result_index}.')\n",
    "print(f'\\nThe trips above 1 hour represent {round(100*(result_index/num_observations),2)} percent of the total dataset.')"
   ]
  },
  {
   "cell_type": "code",
   "execution_count": 29,
   "metadata": {},
   "outputs": [
    {
     "data": {
      "image/png": "[encoded data removed]",
      "text/plain": [
       "<Figure size 432x288 with 1 Axes>"
      ]
     },
     "metadata": {},
     "output_type": "display_data"
    }
   ],
   "source": [
    "minutes = 1\n",
    "num_above_minute = df_top_10000_longest_trips[df_top_10000_longest_trips['tripduration']>=60*minutes].shape[0]\n",
    "num_below_minute = num_observations - num_above_minute\n",
    "\n",
    "d = {f'Category': [f'Rides Above {minutes} Minutes', f'Rides Below {minutes} Minutes'], 'Number of Rides': [ num_above_minute, num_below_minute]}\n",
    "df = pd.DataFrame(data=d)\n",
    "\n",
    "labels = [f'Rides Above {minutes} Minutes', f'Rides Below {minutes} Minutes']\n",
    "sizes = df['Number of Rides']\n",
    "colors = ['lightblue', 'lightgreen']\n",
    "explode = (0.1, 0)\n",
    "\n",
    "plt.pie(sizes, explode=explode, labels=labels, colors=colors,\n",
    "        autopct='%1.1f%%', shadow=True, startangle=140, )\n",
    "plt.title('Ride Duration in 2019')\n",
    "plt.axis('equal')\n",
    "plt.show()"
   ]
  },
  {
   "cell_type": "code",
   "execution_count": null,
   "metadata": {},
   "outputs": [],
   "source": []
  },
  {
   "cell_type": "code",
   "execution_count": null,
   "metadata": {},
   "outputs": [],
   "source": []
  },
  {
   "cell_type": "code",
   "execution_count": null,
   "metadata": {},
   "outputs": [],
   "source": []
  },
  {
   "cell_type": "markdown",
   "metadata": {},
   "source": [
    "#### Conclusions\n",
    "- The top 100 longest trips range from 11 days to 1 day\n",
    "- Trips above 1 hour are pretty rare (0.1% of 2019 data) \n",
    "- If our machine learning models are problematic we could clean data above 1 hr"
   ]
  },
  {
   "cell_type": "markdown",
   "metadata": {},
   "source": [
    "### San Fran vs. NYC"
   ]
  },
  {
   "cell_type": "code",
   "execution_count": 33,
   "metadata": {},
   "outputs": [
    {
     "name": "stdout",
     "output_type": "stream",
     "text": [
      " * sqlite:////Users/michaellink/Desktop/__NYCDSA/_Projects/Capstone/data/citibike/sqlite/citi_bike.db\n",
      "Done.\n",
      "CPU times: user 46.1 s, sys: 20.4 s, total: 1min 6s\n",
      "Wall time: 1min 53s\n"
     ]
    }
   ],
   "source": [
    "%%time\n",
    "result = %sql SELECT usertype, count(*) AS count FROM cb GROUP BY usertype;"
   ]
  },
  {
   "cell_type": "code",
   "execution_count": 38,
   "metadata": {},
   "outputs": [
    {
     "data": {
      "text/html": [
       "<div>\n",
       "<style scoped>\n",
       "    .dataframe tbody tr th:only-of-type {\n",
       "        vertical-align: middle;\n",
       "    }\n",
       "\n",
       "    .dataframe tbody tr th {\n",
       "        vertical-align: top;\n",
       "    }\n",
       "\n",
       "    .dataframe thead th {\n",
       "        text-align: right;\n",
       "    }\n",
       "</style>\n",
       "<table border=\"1\" class=\"dataframe\">\n",
       "  <thead>\n",
       "    <tr style=\"text-align: right;\">\n",
       "      <th></th>\n",
       "      <th>usertype</th>\n",
       "      <th>count</th>\n",
       "    </tr>\n",
       "  </thead>\n",
       "  <tbody>\n",
       "    <tr>\n",
       "      <th>0</th>\n",
       "      <td></td>\n",
       "      <td>52277</td>\n",
       "    </tr>\n",
       "    <tr>\n",
       "      <th>1</th>\n",
       "      <td>Customer</td>\n",
       "      <td>12201131</td>\n",
       "    </tr>\n",
       "    <tr>\n",
       "      <th>2</th>\n",
       "      <td>Subscriber</td>\n",
       "      <td>86772828</td>\n",
       "    </tr>\n",
       "  </tbody>\n",
       "</table>\n",
       "</div>"
      ],
      "text/plain": [
       "     usertype     count\n",
       "0                 52277\n",
       "1    Customer  12201131\n",
       "2  Subscriber  86772828"
      ]
     },
     "execution_count": 38,
     "metadata": {},
     "output_type": "execute_result"
    }
   ],
   "source": [
    "df_usertype = result.DataFrame()\n",
    "df_usertype"
   ]
  },
  {
   "cell_type": "code",
   "execution_count": 52,
   "metadata": {},
   "outputs": [
    {
     "data": {
      "image/png": "[encoded data removed]",
      "text/plain": [
       "<Figure size 432x288 with 1 Axes>"
      ]
     },
     "metadata": {},
     "output_type": "display_data"
    }
   ],
   "source": [
    "labels = ['Not Listed', 'Customer', 'Subscriber']\n",
    "sizes = df_usertype['count']\n",
    "colors = ['lightyellow', 'lightblue', 'lightgreen']\n",
    "explode = (0.1, 0.1, 0)\n",
    "\n",
    "plt.pie(sizes, explode=explode, labels=labels, colors=colors,\n",
    "        autopct='%1.1f%%', shadow=True, startangle=140, )\n",
    "plt.title('Subscribed vs Unsubscribed Riders in NYC')\n",
    "plt.axis('equal')\n",
    "plt.show()"
   ]
  },
  {
   "cell_type": "code",
   "execution_count": 53,
   "metadata": {},
   "outputs": [
    {
     "name": "stdout",
     "output_type": "stream",
     "text": [
      " * sqlite:////Users/michaellink/Desktop/__NYCDSA/_Projects/Capstone/data/citibike/sqlite/citi_bike.db\n",
      "Done.\n",
      "CPU times: user 9.83 s, sys: 13.4 s, total: 23.2 s\n",
      "Wall time: 46.4 s\n"
     ]
    }
   ],
   "source": [
    "%%time\n",
    "result_time = %sql SELECT usertype, AVG(tripduration)/60 AS 'Average Duration' FROM yr_2019 GROUP BY usertype;"
   ]
  },
  {
   "cell_type": "code",
   "execution_count": 57,
   "metadata": {},
   "outputs": [
    {
     "data": {
      "text/html": [
       "<div>\n",
       "<style scoped>\n",
       "    .dataframe tbody tr th:only-of-type {\n",
       "        vertical-align: middle;\n",
       "    }\n",
       "\n",
       "    .dataframe tbody tr th {\n",
       "        vertical-align: top;\n",
       "    }\n",
       "\n",
       "    .dataframe thead th {\n",
       "        text-align: right;\n",
       "    }\n",
       "</style>\n",
       "<table border=\"1\" class=\"dataframe\">\n",
       "  <thead>\n",
       "    <tr style=\"text-align: right;\">\n",
       "      <th></th>\n",
       "      <th>usertype</th>\n",
       "      <th>Average Duration (min)</th>\n",
       "    </tr>\n",
       "  </thead>\n",
       "  <tbody>\n",
       "    <tr>\n",
       "      <th>0</th>\n",
       "      <td>Customer</td>\n",
       "      <td>6.699874</td>\n",
       "    </tr>\n",
       "    <tr>\n",
       "      <th>1</th>\n",
       "      <td>Subscriber</td>\n",
       "      <td>2.171071</td>\n",
       "    </tr>\n",
       "  </tbody>\n",
       "</table>\n",
       "</div>"
      ],
      "text/plain": [
       "     usertype  Average Duration (min)\n",
       "0    Customer                6.699874\n",
       "1  Subscriber                2.171071"
      ]
     },
     "execution_count": 57,
     "metadata": {},
     "output_type": "execute_result"
    }
   ],
   "source": [
    "df_avg_trip = result_time.DataFrame()\n",
    "df_avg_trip.rename(columns={'Average Duration':'Average Duration (min)'}, inplace=True)\n",
    "df_avg_trip"
   ]
  },
  {
   "cell_type": "markdown",
   "metadata": {},
   "source": [
    "### Most Popular Start Stations... OF ALL TIME"
   ]
  },
  {
   "cell_type": "code",
   "execution_count": 45,
   "metadata": {},
   "outputs": [
    {
     "name": "stdout",
     "output_type": "stream",
     "text": [
      " * sqlite:////Users/michaellink/Desktop/__NYCDSA/_Projects/Capstone/data/citibike/sqlite/citi_bike.db\n",
      "Done.\n",
      "CPU times: user 1min 8s, sys: 23.3 s, total: 1min 31s\n",
      "Wall time: 2min 30s\n"
     ]
    }
   ],
   "source": [
    "%%time\n",
    "result = %sql SELECT start_station_name AS Station, count(*) AS Count FROM cb GROUP BY start_station_name;"
   ]
  },
  {
   "cell_type": "code",
   "execution_count": 46,
   "metadata": {},
   "outputs": [],
   "source": [
    "df_station_rides = result.DataFrame()"
   ]
  },
  {
   "cell_type": "code",
   "execution_count": 87,
   "metadata": {},
   "outputs": [],
   "source": [
    "# df_station_rides.sort_values(by=['Count'], ascending=False, inplace=True)\n",
    "# df_station_rides.head(5)"
   ]
  },
  {
   "cell_type": "code",
   "execution_count": 86,
   "metadata": {},
   "outputs": [
    {
     "data": {
      "text/plain": [
       "99026236"
      ]
     },
     "execution_count": 86,
     "metadata": {},
     "output_type": "execute_result"
    }
   ],
   "source": [
    "num_observations = df_station_rides['Count'].sum()"
   ]
  },
  {
   "cell_type": "code",
   "execution_count": 49,
   "metadata": {},
   "outputs": [
    {
     "data": {
      "text/html": [
       "<div>\n",
       "<style scoped>\n",
       "    .dataframe tbody tr th:only-of-type {\n",
       "        vertical-align: middle;\n",
       "    }\n",
       "\n",
       "    .dataframe tbody tr th {\n",
       "        vertical-align: top;\n",
       "    }\n",
       "\n",
       "    .dataframe thead th {\n",
       "        text-align: right;\n",
       "    }\n",
       "</style>\n",
       "<table border=\"1\" class=\"dataframe\">\n",
       "  <thead>\n",
       "    <tr style=\"text-align: right;\">\n",
       "      <th></th>\n",
       "      <th>Station</th>\n",
       "      <th>Number of Rides</th>\n",
       "      <th>Percent of Total Rides</th>\n",
       "    </tr>\n",
       "  </thead>\n",
       "  <tbody>\n",
       "    <tr>\n",
       "      <th>923</th>\n",
       "      <td>Pershing Square North</td>\n",
       "      <td>789357</td>\n",
       "      <td>0.80</td>\n",
       "    </tr>\n",
       "    <tr>\n",
       "      <th>459</th>\n",
       "      <td>E 17 St &amp; Broadway</td>\n",
       "      <td>692747</td>\n",
       "      <td>0.70</td>\n",
       "    </tr>\n",
       "    <tr>\n",
       "      <th>1095</th>\n",
       "      <td>W 21 St &amp; 6 Ave</td>\n",
       "      <td>655909</td>\n",
       "      <td>0.66</td>\n",
       "    </tr>\n",
       "    <tr>\n",
       "      <th>158</th>\n",
       "      <td>8 Ave &amp; W 31 St</td>\n",
       "      <td>631855</td>\n",
       "      <td>0.64</td>\n",
       "    </tr>\n",
       "    <tr>\n",
       "      <th>1195</th>\n",
       "      <td>West St &amp; Chambers St</td>\n",
       "      <td>619279</td>\n",
       "      <td>0.63</td>\n",
       "    </tr>\n",
       "  </tbody>\n",
       "</table>\n",
       "</div>"
      ],
      "text/plain": [
       "                    Station  Number of Rides  Percent of Total Rides\n",
       "923   Pershing Square North           789357                    0.80\n",
       "459      E 17 St & Broadway           692747                    0.70\n",
       "1095        W 21 St & 6 Ave           655909                    0.66\n",
       "158         8 Ave & W 31 St           631855                    0.64\n",
       "1195  West St & Chambers St           619279                    0.63"
      ]
     },
     "execution_count": 49,
     "metadata": {},
     "output_type": "execute_result"
    }
   ],
   "source": [
    "df_station_rides['Percent of Total Rides'] = round(100 * (df_station_rides['Count'] / num_observations), 2)\n",
    "df_station_rides.rename(columns={'Count':'Number of Rides'}, inplace=True)\n",
    "df_station_rides.head(5)"
   ]
  },
  {
   "cell_type": "code",
   "execution_count": 50,
   "metadata": {},
   "outputs": [],
   "source": [
    "df_station_rides.to_csv('Number_of_Rides_Starting_From_Each_Station.csv', index=False)"
   ]
  },
  {
   "cell_type": "code",
   "execution_count": 77,
   "metadata": {
    "scrolled": false
   },
   "outputs": [
    {
     "data": {
      "image/png": "[encoded data removed]",
      "text/plain": [
       "<Figure size 432x288 with 1 Axes>"
      ]
     },
     "metadata": {},
     "output_type": "display_data"
    }
   ],
   "source": [
    "percent=10\n",
    "n_obs_top_percent = round(df_station_rides.shape[0] * (percent/100))\n",
    "rides_from_top_percent = df_station_rides[0:n_obs_top_percent+1]['Number of Rides'].sum()\n",
    "rides_from_bottom_percent = df_station_rides[n_obs_top_percent+1:]['Number of Rides'].sum()\n",
    "rides_from_bottom_percent\n",
    "\n",
    "d = {'Percent of Stations': [str(percent), str(100-percent)], 'Number of Rides': [rides_from_top_percent, rides_from_bottom_percent]}\n",
    "df = pd.DataFrame(data=d)\n",
    "\n",
    "labels = [f'Top {percent} Percent of Stations by Popularity', f'Bottom {100-percent} Percent of Stations by Popularity']\n",
    "sizes = df['Number of Rides']\n",
    "colors = ['lightgreen', 'lightblue']\n",
    "explode = (0.1, 0)\n",
    "\n",
    "plt.pie(sizes, explode=explode, labels=labels, colors=colors,\n",
    "        autopct='%1.1f%%', shadow=True, startangle=140, )\n",
    "plt.title('Number of Rides in NYC')\n",
    "plt.axis('equal')\n",
    "plt.show()"
   ]
  },
  {
   "cell_type": "code",
   "execution_count": 79,
   "metadata": {},
   "outputs": [
    {
     "data": {
      "text/html": [
       "<div>\n",
       "<style scoped>\n",
       "    .dataframe tbody tr th:only-of-type {\n",
       "        vertical-align: middle;\n",
       "    }\n",
       "\n",
       "    .dataframe tbody tr th {\n",
       "        vertical-align: top;\n",
       "    }\n",
       "\n",
       "    .dataframe thead th {\n",
       "        text-align: right;\n",
       "    }\n",
       "</style>\n",
       "<table border=\"1\" class=\"dataframe\">\n",
       "  <thead>\n",
       "    <tr style=\"text-align: right;\">\n",
       "      <th></th>\n",
       "      <th>Station</th>\n",
       "      <th>Number of Rides</th>\n",
       "      <th>Percent of Total Rides</th>\n",
       "    </tr>\n",
       "  </thead>\n",
       "  <tbody>\n",
       "    <tr>\n",
       "      <th>923</th>\n",
       "      <td>Pershing Square North</td>\n",
       "      <td>789357</td>\n",
       "      <td>0.80</td>\n",
       "    </tr>\n",
       "    <tr>\n",
       "      <th>459</th>\n",
       "      <td>E 17 St &amp; Broadway</td>\n",
       "      <td>692747</td>\n",
       "      <td>0.70</td>\n",
       "    </tr>\n",
       "    <tr>\n",
       "      <th>1095</th>\n",
       "      <td>W 21 St &amp; 6 Ave</td>\n",
       "      <td>655909</td>\n",
       "      <td>0.66</td>\n",
       "    </tr>\n",
       "    <tr>\n",
       "      <th>158</th>\n",
       "      <td>8 Ave &amp; W 31 St</td>\n",
       "      <td>631855</td>\n",
       "      <td>0.64</td>\n",
       "    </tr>\n",
       "    <tr>\n",
       "      <th>1195</th>\n",
       "      <td>West St &amp; Chambers St</td>\n",
       "      <td>619279</td>\n",
       "      <td>0.63</td>\n",
       "    </tr>\n",
       "  </tbody>\n",
       "</table>\n",
       "</div>"
      ],
      "text/plain": [
       "                    Station  Number of Rides  Percent of Total Rides\n",
       "923   Pershing Square North           789357                    0.80\n",
       "459      E 17 St & Broadway           692747                    0.70\n",
       "1095        W 21 St & 6 Ave           655909                    0.66\n",
       "158         8 Ave & W 31 St           631855                    0.64\n",
       "1195  West St & Chambers St           619279                    0.63"
      ]
     },
     "execution_count": 79,
     "metadata": {},
     "output_type": "execute_result"
    }
   ],
   "source": [
    "df_station_rides.head()"
   ]
  },
  {
   "cell_type": "code",
   "execution_count": 82,
   "metadata": {
    "scrolled": true
   },
   "outputs": [
    {
     "data": {
      "image/png": "[encoded data removed]",
      "text/plain": [
       "<Figure size 432x288 with 1 Axes>"
      ]
     },
     "metadata": {},
     "output_type": "display_data"
    }
   ],
   "source": [
    "x = df_station_rides['Number of Rides'].values.flatten()\n",
    "# y = df_station_rides[df_station_rides['User Type']=='Subscriber'][['Age']].values.flatten()\n",
    "\n",
    "plt.style.use('fivethirtyeight')\n",
    "\n",
    "# plt.hist(y, bins=25, alpha=0.5, label='Subscriber')\n",
    "plt.hist(x, bins=25, alpha=0.5)#, label='Customer')\n",
    "\n",
    "# plt.legend(loc='upper right')\n",
    "plt.title('Number of Rides From Each Station')\n",
    "plt.xlabel('Number of Rides')\n",
    "plt.ylabel('Frequency')\n",
    "plt.show()"
   ]
  },
  {
   "cell_type": "markdown",
   "metadata": {},
   "source": [
    "### Most Popular End Stations... OF ALL TIME"
   ]
  },
  {
   "cell_type": "code",
   "execution_count": 88,
   "metadata": {},
   "outputs": [
    {
     "name": "stdout",
     "output_type": "stream",
     "text": [
      " * sqlite:////Users/michaellink/Desktop/__NYCDSA/_Projects/Capstone/data/citibike/sqlite/citi_bike.db\n",
      "Done.\n",
      "CPU times: user 1min 19s, sys: 39.5 s, total: 1min 58s\n",
      "Wall time: 3min 43s\n"
     ]
    }
   ],
   "source": [
    "%%time\n",
    "result = %sql SELECT end_station_name AS End_Station, count(*) AS Count FROM cb GROUP BY start_station_name;"
   ]
  },
  {
   "cell_type": "code",
   "execution_count": 89,
   "metadata": {},
   "outputs": [],
   "source": [
    "df_end_station_rides = result.DataFrame()"
   ]
  },
  {
   "cell_type": "code",
   "execution_count": 87,
   "metadata": {},
   "outputs": [],
   "source": [
    "# df_station_rides.sort_values(by=['Count'], ascending=False, inplace=True)\n",
    "# df_station_rides.head(5)"
   ]
  },
  {
   "cell_type": "code",
   "execution_count": 91,
   "metadata": {},
   "outputs": [
    {
     "data": {
      "text/plain": [
       "99026236"
      ]
     },
     "execution_count": 91,
     "metadata": {},
     "output_type": "execute_result"
    }
   ],
   "source": [
    "num_observations = df_end_station_rides['Count'].sum()\n",
    "num_observations"
   ]
  },
  {
   "cell_type": "code",
   "execution_count": 92,
   "metadata": {},
   "outputs": [
    {
     "data": {
      "text/html": [
       "<div>\n",
       "<style scoped>\n",
       "    .dataframe tbody tr th:only-of-type {\n",
       "        vertical-align: middle;\n",
       "    }\n",
       "\n",
       "    .dataframe tbody tr th {\n",
       "        vertical-align: top;\n",
       "    }\n",
       "\n",
       "    .dataframe thead th {\n",
       "        text-align: right;\n",
       "    }\n",
       "</style>\n",
       "<table border=\"1\" class=\"dataframe\">\n",
       "  <thead>\n",
       "    <tr style=\"text-align: right;\">\n",
       "      <th></th>\n",
       "      <th>End_Station</th>\n",
       "      <th>Number of Rides</th>\n",
       "      <th>Percent of Total Rides</th>\n",
       "    </tr>\n",
       "  </thead>\n",
       "  <tbody>\n",
       "    <tr>\n",
       "      <th>0</th>\n",
       "      <td>E 103 St &amp; Lexington Ave</td>\n",
       "      <td>30560</td>\n",
       "      <td>0.03</td>\n",
       "    </tr>\n",
       "    <tr>\n",
       "      <th>1</th>\n",
       "      <td>E 20 St &amp; FDR Drive</td>\n",
       "      <td>154640</td>\n",
       "      <td>0.16</td>\n",
       "    </tr>\n",
       "    <tr>\n",
       "      <th>2</th>\n",
       "      <td>E 51 St &amp; 1 Ave</td>\n",
       "      <td>260057</td>\n",
       "      <td>0.26</td>\n",
       "    </tr>\n",
       "    <tr>\n",
       "      <th>3</th>\n",
       "      <td>Canal St &amp; Rutgers St</td>\n",
       "      <td>4434</td>\n",
       "      <td>0.00</td>\n",
       "    </tr>\n",
       "    <tr>\n",
       "      <th>4</th>\n",
       "      <td>1 Ave &amp; E 18 St</td>\n",
       "      <td>279710</td>\n",
       "      <td>0.28</td>\n",
       "    </tr>\n",
       "  </tbody>\n",
       "</table>\n",
       "</div>"
      ],
      "text/plain": [
       "                End_Station  Number of Rides  Percent of Total Rides\n",
       "0  E 103 St & Lexington Ave            30560                    0.03\n",
       "1       E 20 St & FDR Drive           154640                    0.16\n",
       "2           E 51 St & 1 Ave           260057                    0.26\n",
       "3     Canal St & Rutgers St             4434                    0.00\n",
       "4           1 Ave & E 18 St           279710                    0.28"
      ]
     },
     "execution_count": 92,
     "metadata": {},
     "output_type": "execute_result"
    }
   ],
   "source": [
    "df_end_station_rides['Percent of Total Rides'] = round(100 * (df_end_station_rides['Count'] / num_observations), 2)\n",
    "df_end_station_rides.rename(columns={'Count':'Number of Rides'}, inplace=True)\n",
    "df_end_station_rides.head(5)"
   ]
  },
  {
   "cell_type": "code",
   "execution_count": 50,
   "metadata": {},
   "outputs": [],
   "source": [
    "df_end_station_rides.to_csv('Number_of_Rides_Ending_From_Each_Station.csv', index=False)"
   ]
  },
  {
   "cell_type": "markdown",
   "metadata": {},
   "source": [
    "### Start Station Rides vs. End Station Rides"
   ]
  },
  {
   "cell_type": "code",
   "execution_count": 114,
   "metadata": {},
   "outputs": [],
   "source": [
    "left = df_station_rides.copy()\n",
    "left.set_index('Station', inplace=True)\n",
    "left.rename(columns = {'Number of Rides':'Number of Start Rides'}, inplace=True)\n",
    "left.drop(['Percent of Total Rides'], axis=1, inplace=True)\n",
    "\n",
    "right = df_end_station_rides.copy()\n",
    "right.set_index('End_Station', inplace=True)\n",
    "right.rename(columns = {'Number of Rides':'Number of End Rides'}, inplace=True)\n",
    "right.drop(['Percent of Total Rides'], axis=1, inplace=True)"
   ]
  },
  {
   "cell_type": "code",
   "execution_count": 115,
   "metadata": {
    "scrolled": true
   },
   "outputs": [
    {
     "data": {
      "text/html": [
       "<div>\n",
       "<style scoped>\n",
       "    .dataframe tbody tr th:only-of-type {\n",
       "        vertical-align: middle;\n",
       "    }\n",
       "\n",
       "    .dataframe tbody tr th {\n",
       "        vertical-align: top;\n",
       "    }\n",
       "\n",
       "    .dataframe thead th {\n",
       "        text-align: right;\n",
       "    }\n",
       "</style>\n",
       "<table border=\"1\" class=\"dataframe\">\n",
       "  <thead>\n",
       "    <tr style=\"text-align: right;\">\n",
       "      <th></th>\n",
       "      <th>Number of End Rides</th>\n",
       "    </tr>\n",
       "    <tr>\n",
       "      <th>End_Station</th>\n",
       "      <th></th>\n",
       "    </tr>\n",
       "  </thead>\n",
       "  <tbody>\n",
       "    <tr>\n",
       "      <th>E 103 St &amp; Lexington Ave</th>\n",
       "      <td>30560</td>\n",
       "    </tr>\n",
       "    <tr>\n",
       "      <th>E 20 St &amp; FDR Drive</th>\n",
       "      <td>154640</td>\n",
       "    </tr>\n",
       "  </tbody>\n",
       "</table>\n",
       "</div>"
      ],
      "text/plain": [
       "                          Number of End Rides\n",
       "End_Station                                  \n",
       "E 103 St & Lexington Ave                30560\n",
       "E 20 St & FDR Drive                    154640"
      ]
     },
     "execution_count": 115,
     "metadata": {},
     "output_type": "execute_result"
    }
   ],
   "source": [
    "right.head(2)"
   ]
  },
  {
   "cell_type": "code",
   "execution_count": 116,
   "metadata": {},
   "outputs": [
    {
     "data": {
      "text/plain": [
       "False"
      ]
     },
     "execution_count": 116,
     "metadata": {},
     "output_type": "execute_result"
    }
   ],
   "source": [
    "right.index.is_unique"
   ]
  },
  {
   "cell_type": "code",
   "execution_count": 117,
   "metadata": {},
   "outputs": [
    {
     "data": {
      "text/plain": [
       "(1230, 1)"
      ]
     },
     "execution_count": 117,
     "metadata": {},
     "output_type": "execute_result"
    }
   ],
   "source": [
    "right.shape"
   ]
  },
  {
   "cell_type": "code",
   "execution_count": 118,
   "metadata": {
    "scrolled": true
   },
   "outputs": [
    {
     "data": {
      "text/plain": [
       "(631, 1)"
      ]
     },
     "execution_count": 118,
     "metadata": {},
     "output_type": "execute_result"
    }
   ],
   "source": [
    "right.groupby('End_Station').agg({'Number of End Rides': 'sum'}).shape"
   ]
  },
  {
   "cell_type": "code",
   "execution_count": 119,
   "metadata": {
    "scrolled": true
   },
   "outputs": [
    {
     "data": {
      "text/html": [
       "<div>\n",
       "<style scoped>\n",
       "    .dataframe tbody tr th:only-of-type {\n",
       "        vertical-align: middle;\n",
       "    }\n",
       "\n",
       "    .dataframe tbody tr th {\n",
       "        vertical-align: top;\n",
       "    }\n",
       "\n",
       "    .dataframe thead th {\n",
       "        text-align: right;\n",
       "    }\n",
       "</style>\n",
       "<table border=\"1\" class=\"dataframe\">\n",
       "  <thead>\n",
       "    <tr style=\"text-align: right;\">\n",
       "      <th></th>\n",
       "      <th>Number of Start Rides</th>\n",
       "    </tr>\n",
       "    <tr>\n",
       "      <th>Station</th>\n",
       "      <th></th>\n",
       "    </tr>\n",
       "  </thead>\n",
       "  <tbody>\n",
       "    <tr>\n",
       "      <th>Pershing Square North</th>\n",
       "      <td>789357</td>\n",
       "    </tr>\n",
       "    <tr>\n",
       "      <th>E 17 St &amp; Broadway</th>\n",
       "      <td>692747</td>\n",
       "    </tr>\n",
       "  </tbody>\n",
       "</table>\n",
       "</div>"
      ],
      "text/plain": [
       "                       Number of Start Rides\n",
       "Station                                     \n",
       "Pershing Square North                 789357\n",
       "E 17 St & Broadway                    692747"
      ]
     },
     "execution_count": 119,
     "metadata": {},
     "output_type": "execute_result"
    }
   ],
   "source": [
    "left.head(2)"
   ]
  },
  {
   "cell_type": "code",
   "execution_count": 120,
   "metadata": {},
   "outputs": [
    {
     "data": {
      "text/plain": [
       "True"
      ]
     },
     "execution_count": 120,
     "metadata": {},
     "output_type": "execute_result"
    }
   ],
   "source": [
    "left.index.is_unique"
   ]
  },
  {
   "cell_type": "code",
   "execution_count": 121,
   "metadata": {},
   "outputs": [
    {
     "data": {
      "text/plain": [
       "(1230, 1)"
      ]
     },
     "execution_count": 121,
     "metadata": {},
     "output_type": "execute_result"
    }
   ],
   "source": [
    "left.shape"
   ]
  },
  {
   "cell_type": "code",
   "execution_count": 122,
   "metadata": {},
   "outputs": [
    {
     "data": {
      "text/plain": [
       "(1230, 1)"
      ]
     },
     "execution_count": 122,
     "metadata": {},
     "output_type": "execute_result"
    }
   ],
   "source": [
    "left.groupby('Station').agg({'Number of Start Rides': 'sum'}).shape"
   ]
  },
  {
   "cell_type": "code",
   "execution_count": 123,
   "metadata": {},
   "outputs": [
    {
     "data": {
      "text/html": [
       "<div>\n",
       "<style scoped>\n",
       "    .dataframe tbody tr th:only-of-type {\n",
       "        vertical-align: middle;\n",
       "    }\n",
       "\n",
       "    .dataframe tbody tr th {\n",
       "        vertical-align: top;\n",
       "    }\n",
       "\n",
       "    .dataframe thead th {\n",
       "        text-align: right;\n",
       "    }\n",
       "</style>\n",
       "<table border=\"1\" class=\"dataframe\">\n",
       "  <thead>\n",
       "    <tr style=\"text-align: right;\">\n",
       "      <th></th>\n",
       "      <th>Number of Start Rides</th>\n",
       "    </tr>\n",
       "    <tr>\n",
       "      <th>Station</th>\n",
       "      <th></th>\n",
       "    </tr>\n",
       "  </thead>\n",
       "  <tbody>\n",
       "    <tr>\n",
       "      <th>1 Ave &amp; E 110 St</th>\n",
       "      <td>30560</td>\n",
       "    </tr>\n",
       "    <tr>\n",
       "      <th>1 Ave &amp; E 15 St</th>\n",
       "      <td>154640</td>\n",
       "    </tr>\n",
       "  </tbody>\n",
       "</table>\n",
       "</div>"
      ],
      "text/plain": [
       "                  Number of Start Rides\n",
       "Station                                \n",
       "1 Ave & E 110 St                  30560\n",
       "1 Ave & E 15 St                  154640"
      ]
     },
     "execution_count": 123,
     "metadata": {},
     "output_type": "execute_result"
    }
   ],
   "source": [
    "left.groupby('Station').agg({'Number of Start Rides': 'sum'}).head(2)"
   ]
  },
  {
   "cell_type": "code",
   "execution_count": 124,
   "metadata": {},
   "outputs": [
    {
     "data": {
      "text/html": [
       "<div>\n",
       "<style scoped>\n",
       "    .dataframe tbody tr th:only-of-type {\n",
       "        vertical-align: middle;\n",
       "    }\n",
       "\n",
       "    .dataframe tbody tr th {\n",
       "        vertical-align: top;\n",
       "    }\n",
       "\n",
       "    .dataframe thead th {\n",
       "        text-align: right;\n",
       "    }\n",
       "</style>\n",
       "<table border=\"1\" class=\"dataframe\">\n",
       "  <thead>\n",
       "    <tr style=\"text-align: right;\">\n",
       "      <th></th>\n",
       "      <th>Number of End Rides</th>\n",
       "    </tr>\n",
       "    <tr>\n",
       "      <th>End_Station</th>\n",
       "      <th></th>\n",
       "    </tr>\n",
       "  </thead>\n",
       "  <tbody>\n",
       "    <tr>\n",
       "      <th>1 Ave &amp; E 15 St</th>\n",
       "      <td>193587</td>\n",
       "    </tr>\n",
       "    <tr>\n",
       "      <th>1 Ave &amp; E 18 St</th>\n",
       "      <td>852737</td>\n",
       "    </tr>\n",
       "  </tbody>\n",
       "</table>\n",
       "</div>"
      ],
      "text/plain": [
       "                 Number of End Rides\n",
       "End_Station                         \n",
       "1 Ave & E 15 St               193587\n",
       "1 Ave & E 18 St               852737"
      ]
     },
     "execution_count": 124,
     "metadata": {},
     "output_type": "execute_result"
    }
   ],
   "source": [
    "right_mod = right.groupby('End_Station').agg({'Number of End Rides': 'sum'})\n",
    "right_mod.head(2)"
   ]
  },
  {
   "cell_type": "code",
   "execution_count": 125,
   "metadata": {},
   "outputs": [
    {
     "data": {
      "text/html": [
       "<div>\n",
       "<style scoped>\n",
       "    .dataframe tbody tr th:only-of-type {\n",
       "        vertical-align: middle;\n",
       "    }\n",
       "\n",
       "    .dataframe tbody tr th {\n",
       "        vertical-align: top;\n",
       "    }\n",
       "\n",
       "    .dataframe thead th {\n",
       "        text-align: right;\n",
       "    }\n",
       "</style>\n",
       "<table border=\"1\" class=\"dataframe\">\n",
       "  <thead>\n",
       "    <tr style=\"text-align: right;\">\n",
       "      <th></th>\n",
       "      <th>Number of Start Rides</th>\n",
       "      <th>Number of End Rides</th>\n",
       "    </tr>\n",
       "  </thead>\n",
       "  <tbody>\n",
       "    <tr>\n",
       "      <th>Stephen St &amp; Seneca Ave</th>\n",
       "      <td>306</td>\n",
       "      <td>1179.0</td>\n",
       "    </tr>\n",
       "    <tr>\n",
       "      <th>W 54 St &amp; 9 Ave</th>\n",
       "      <td>169511</td>\n",
       "      <td>145315.0</td>\n",
       "    </tr>\n",
       "    <tr>\n",
       "      <th>E 42 St &amp; Vanderbilt Ave</th>\n",
       "      <td>56308</td>\n",
       "      <td>NaN</td>\n",
       "    </tr>\n",
       "    <tr>\n",
       "      <th>8 Ave &amp; W 16 St</th>\n",
       "      <td>68884</td>\n",
       "      <td>NaN</td>\n",
       "    </tr>\n",
       "    <tr>\n",
       "      <th>10 St &amp; 5 Ave</th>\n",
       "      <td>23395</td>\n",
       "      <td>NaN</td>\n",
       "    </tr>\n",
       "    <tr>\n",
       "      <th>Kingsland Ave &amp; Nassau Ave</th>\n",
       "      <td>4678</td>\n",
       "      <td>NaN</td>\n",
       "    </tr>\n",
       "    <tr>\n",
       "      <th>Willis Ave &amp; E 143 St</th>\n",
       "      <td>17</td>\n",
       "      <td>NaN</td>\n",
       "    </tr>\n",
       "    <tr>\n",
       "      <th>Lispenard St &amp; Broadway</th>\n",
       "      <td>223305</td>\n",
       "      <td>180712.0</td>\n",
       "    </tr>\n",
       "    <tr>\n",
       "      <th>Willoughby Ave &amp; Myrtle Ave</th>\n",
       "      <td>1936</td>\n",
       "      <td>3267.0</td>\n",
       "    </tr>\n",
       "    <tr>\n",
       "      <th>Greenwich St &amp; Warren St</th>\n",
       "      <td>164376</td>\n",
       "      <td>244148.0</td>\n",
       "    </tr>\n",
       "  </tbody>\n",
       "</table>\n",
       "</div>"
      ],
      "text/plain": [
       "                             Number of Start Rides  Number of End Rides\n",
       "Stephen St & Seneca Ave                        306               1179.0\n",
       "W 54 St & 9 Ave                             169511             145315.0\n",
       "E 42 St & Vanderbilt Ave                     56308                  NaN\n",
       "8 Ave & W 16 St                              68884                  NaN\n",
       "10 St & 5 Ave                                23395                  NaN\n",
       "Kingsland Ave & Nassau Ave                    4678                  NaN\n",
       "Willis Ave & E 143 St                           17                  NaN\n",
       "Lispenard St & Broadway                     223305             180712.0\n",
       "Willoughby Ave & Myrtle Ave                   1936               3267.0\n",
       "Greenwich St & Warren St                    164376             244148.0"
      ]
     },
     "execution_count": 125,
     "metadata": {},
     "output_type": "execute_result"
    }
   ],
   "source": [
    "df_concat = pd.concat([left, right_mod], axis=1, sort=False)\n",
    "df_concat.sample(10)"
   ]
  },
  {
   "cell_type": "code",
   "execution_count": 127,
   "metadata": {},
   "outputs": [
    {
     "data": {
      "text/html": [
       "<div>\n",
       "<style scoped>\n",
       "    .dataframe tbody tr th:only-of-type {\n",
       "        vertical-align: middle;\n",
       "    }\n",
       "\n",
       "    .dataframe tbody tr th {\n",
       "        vertical-align: top;\n",
       "    }\n",
       "\n",
       "    .dataframe thead th {\n",
       "        text-align: right;\n",
       "    }\n",
       "</style>\n",
       "<table border=\"1\" class=\"dataframe\">\n",
       "  <thead>\n",
       "    <tr style=\"text-align: right;\">\n",
       "      <th></th>\n",
       "      <th>Number of Start Rides</th>\n",
       "      <th>Number of End Rides</th>\n",
       "      <th>Start_Ratio</th>\n",
       "    </tr>\n",
       "  </thead>\n",
       "  <tbody>\n",
       "    <tr>\n",
       "      <th>Pershing Square North</th>\n",
       "      <td>789357</td>\n",
       "      <td>737.0</td>\n",
       "      <td>1071.040706</td>\n",
       "    </tr>\n",
       "    <tr>\n",
       "      <th>E 17 St &amp; Broadway</th>\n",
       "      <td>692747</td>\n",
       "      <td>905008.0</td>\n",
       "      <td>0.765460</td>\n",
       "    </tr>\n",
       "  </tbody>\n",
       "</table>\n",
       "</div>"
      ],
      "text/plain": [
       "                       Number of Start Rides  Number of End Rides  Start_Ratio\n",
       "Pershing Square North                 789357                737.0  1071.040706\n",
       "E 17 St & Broadway                    692747             905008.0     0.765460"
      ]
     },
     "execution_count": 127,
     "metadata": {},
     "output_type": "execute_result"
    }
   ],
   "source": [
    "df_concat['Start_Ratio'] = df_concat['Number of Start Rides'] / df_concat['Number of End Rides']\n",
    "df_concat.head(2)"
   ]
  },
  {
   "cell_type": "code",
   "execution_count": 129,
   "metadata": {},
   "outputs": [
    {
     "data": {
      "text/plain": [
       "Number of Start Rides      0\n",
       "Number of End Rides      599\n",
       "Start_Ratio              599\n",
       "dtype: int64"
      ]
     },
     "execution_count": 129,
     "metadata": {},
     "output_type": "execute_result"
    }
   ],
   "source": [
    "df_concat.isna().sum()"
   ]
  },
  {
   "cell_type": "code",
   "execution_count": 130,
   "metadata": {
    "scrolled": true
   },
   "outputs": [
    {
     "data": {
      "text/html": [
       "<div>\n",
       "<style scoped>\n",
       "    .dataframe tbody tr th:only-of-type {\n",
       "        vertical-align: middle;\n",
       "    }\n",
       "\n",
       "    .dataframe tbody tr th {\n",
       "        vertical-align: top;\n",
       "    }\n",
       "\n",
       "    .dataframe thead th {\n",
       "        text-align: right;\n",
       "    }\n",
       "</style>\n",
       "<table border=\"1\" class=\"dataframe\">\n",
       "  <thead>\n",
       "    <tr style=\"text-align: right;\">\n",
       "      <th></th>\n",
       "      <th>Number of Start Rides</th>\n",
       "      <th>Number of End Rides</th>\n",
       "      <th>Start_Ratio</th>\n",
       "    </tr>\n",
       "  </thead>\n",
       "  <tbody>\n",
       "    <tr>\n",
       "      <th>count</th>\n",
       "      <td>1230.000000</td>\n",
       "      <td>6.310000e+02</td>\n",
       "      <td>631.000000</td>\n",
       "    </tr>\n",
       "    <tr>\n",
       "      <th>mean</th>\n",
       "      <td>80509.134959</td>\n",
       "      <td>1.569354e+05</td>\n",
       "      <td>180.968995</td>\n",
       "    </tr>\n",
       "    <tr>\n",
       "      <th>std</th>\n",
       "      <td>113572.824299</td>\n",
       "      <td>2.348665e+05</td>\n",
       "      <td>3075.559980</td>\n",
       "    </tr>\n",
       "    <tr>\n",
       "      <th>min</th>\n",
       "      <td>1.000000</td>\n",
       "      <td>1.000000e+00</td>\n",
       "      <td>0.011599</td>\n",
       "    </tr>\n",
       "    <tr>\n",
       "      <th>25%</th>\n",
       "      <td>6936.000000</td>\n",
       "      <td>9.272000e+03</td>\n",
       "      <td>0.552529</td>\n",
       "    </tr>\n",
       "    <tr>\n",
       "      <th>50%</th>\n",
       "      <td>32261.000000</td>\n",
       "      <td>4.729200e+04</td>\n",
       "      <td>1.000000</td>\n",
       "    </tr>\n",
       "    <tr>\n",
       "      <th>75%</th>\n",
       "      <td>108673.500000</td>\n",
       "      <td>1.940585e+05</td>\n",
       "      <td>2.198954</td>\n",
       "    </tr>\n",
       "    <tr>\n",
       "      <th>max</th>\n",
       "      <td>789357.000000</td>\n",
       "      <td>1.367115e+06</td>\n",
       "      <td>72458.000000</td>\n",
       "    </tr>\n",
       "  </tbody>\n",
       "</table>\n",
       "</div>"
      ],
      "text/plain": [
       "       Number of Start Rides  Number of End Rides   Start_Ratio\n",
       "count            1230.000000         6.310000e+02    631.000000\n",
       "mean            80509.134959         1.569354e+05    180.968995\n",
       "std            113572.824299         2.348665e+05   3075.559980\n",
       "min                 1.000000         1.000000e+00      0.011599\n",
       "25%              6936.000000         9.272000e+03      0.552529\n",
       "50%             32261.000000         4.729200e+04      1.000000\n",
       "75%            108673.500000         1.940585e+05      2.198954\n",
       "max            789357.000000         1.367115e+06  72458.000000"
      ]
     },
     "execution_count": 130,
     "metadata": {},
     "output_type": "execute_result"
    }
   ],
   "source": [
    "df_concat.describe()"
   ]
  },
  {
   "cell_type": "code",
   "execution_count": 132,
   "metadata": {},
   "outputs": [
    {
     "data": {
      "text/html": [
       "<div>\n",
       "<style scoped>\n",
       "    .dataframe tbody tr th:only-of-type {\n",
       "        vertical-align: middle;\n",
       "    }\n",
       "\n",
       "    .dataframe tbody tr th {\n",
       "        vertical-align: top;\n",
       "    }\n",
       "\n",
       "    .dataframe thead th {\n",
       "        text-align: right;\n",
       "    }\n",
       "</style>\n",
       "<table border=\"1\" class=\"dataframe\">\n",
       "  <thead>\n",
       "    <tr style=\"text-align: right;\">\n",
       "      <th></th>\n",
       "      <th>Number of Start Rides</th>\n",
       "      <th>Number of End Rides</th>\n",
       "      <th>Start_Ratio</th>\n",
       "    </tr>\n",
       "  </thead>\n",
       "  <tbody>\n",
       "    <tr>\n",
       "      <th>Pershing Square North</th>\n",
       "      <td>789357</td>\n",
       "      <td>737.0</td>\n",
       "      <td>1071.040706</td>\n",
       "    </tr>\n",
       "    <tr>\n",
       "      <th>E 17 St &amp; Broadway</th>\n",
       "      <td>692747</td>\n",
       "      <td>905008.0</td>\n",
       "      <td>0.765460</td>\n",
       "    </tr>\n",
       "  </tbody>\n",
       "</table>\n",
       "</div>"
      ],
      "text/plain": [
       "                       Number of Start Rides  Number of End Rides  Start_Ratio\n",
       "Pershing Square North                 789357                737.0  1071.040706\n",
       "E 17 St & Broadway                    692747             905008.0     0.765460"
      ]
     },
     "execution_count": 132,
     "metadata": {},
     "output_type": "execute_result"
    }
   ],
   "source": [
    "df_concat.head(2)"
   ]
  },
  {
   "cell_type": "code",
   "execution_count": 142,
   "metadata": {},
   "outputs": [],
   "source": [
    "df_concat.sort_values(by=['Start_Ratio'], inplace=True)"
   ]
  },
  {
   "cell_type": "code",
   "execution_count": 149,
   "metadata": {},
   "outputs": [
    {
     "data": {
      "image/png": "[encoded data removed]",
      "text/plain": [
       "<Figure size 432x288 with 1 Axes>"
      ]
     },
     "metadata": {},
     "output_type": "display_data"
    }
   ],
   "source": [
    "plt.style.use('fivethirtyeight')\n",
    "plt.bar(df_concat.index.to_list(), df_concat['Start_Ratio'], color='blue')\n",
    "plt.xlabel(\"Individual Station\")\n",
    "plt.ylabel(\"Ratio of Start to End Rides\")\n",
    "plt.title(\"Start vs. End Rides (Above Red Line = More Bikes Leaving)\")\n",
    "plt.yscale('log')\n",
    "plt.xticks([])\n",
    "plt.axhline(y=1, linewidth=2, color='r')\n",
    "plt.show()\n",
    "\n",
    "# plt.xticks(x_pos, x)\n",
    "\n",
    "plt.show()"
   ]
  },
  {
   "cell_type": "code",
   "execution_count": 151,
   "metadata": {},
   "outputs": [],
   "source": [
    "df_concat.loc[df_concat['Start_Ratio'] >= 1, 'Station_Type'] = 'Net Bikes Leaving'\n",
    "df_concat.loc[df_concat['Start_Ratio'] < 1, 'Station_Type'] = 'Net Bikes Arriving'"
   ]
  },
  {
   "cell_type": "code",
   "execution_count": 152,
   "metadata": {
    "scrolled": true
   },
   "outputs": [
    {
     "data": {
      "text/html": [
       "<div>\n",
       "<style scoped>\n",
       "    .dataframe tbody tr th:only-of-type {\n",
       "        vertical-align: middle;\n",
       "    }\n",
       "\n",
       "    .dataframe tbody tr th {\n",
       "        vertical-align: top;\n",
       "    }\n",
       "\n",
       "    .dataframe thead th {\n",
       "        text-align: right;\n",
       "    }\n",
       "</style>\n",
       "<table border=\"1\" class=\"dataframe\">\n",
       "  <thead>\n",
       "    <tr style=\"text-align: right;\">\n",
       "      <th></th>\n",
       "      <th>Number of Start Rides</th>\n",
       "      <th>Number of End Rides</th>\n",
       "      <th>Start_Ratio</th>\n",
       "      <th>Station_Type</th>\n",
       "    </tr>\n",
       "  </thead>\n",
       "  <tbody>\n",
       "    <tr>\n",
       "      <th>NYCBS Depot - SSP</th>\n",
       "      <td>1718</td>\n",
       "      <td>148122.0</td>\n",
       "      <td>0.011599</td>\n",
       "      <td>Net Bikes Arriving</td>\n",
       "    </tr>\n",
       "    <tr>\n",
       "      <th>Center Blvd &amp; Borden Ave</th>\n",
       "      <td>1811</td>\n",
       "      <td>109268.0</td>\n",
       "      <td>0.016574</td>\n",
       "      <td>Net Bikes Arriving</td>\n",
       "    </tr>\n",
       "  </tbody>\n",
       "</table>\n",
       "</div>"
      ],
      "text/plain": [
       "                          Number of Start Rides  Number of End Rides  \\\n",
       "NYCBS Depot - SSP                          1718             148122.0   \n",
       "Center Blvd & Borden Ave                   1811             109268.0   \n",
       "\n",
       "                          Start_Ratio        Station_Type  \n",
       "NYCBS Depot - SSP            0.011599  Net Bikes Arriving  \n",
       "Center Blvd & Borden Ave     0.016574  Net Bikes Arriving  "
      ]
     },
     "execution_count": 152,
     "metadata": {},
     "output_type": "execute_result"
    }
   ],
   "source": [
    "df_concat.head(2)"
   ]
  },
  {
   "cell_type": "code",
   "execution_count": 158,
   "metadata": {},
   "outputs": [
    {
     "data": {
      "text/html": [
       "<div>\n",
       "<style scoped>\n",
       "    .dataframe tbody tr th:only-of-type {\n",
       "        vertical-align: middle;\n",
       "    }\n",
       "\n",
       "    .dataframe tbody tr th {\n",
       "        vertical-align: top;\n",
       "    }\n",
       "\n",
       "    .dataframe thead th {\n",
       "        text-align: right;\n",
       "    }\n",
       "</style>\n",
       "<table border=\"1\" class=\"dataframe\">\n",
       "  <thead>\n",
       "    <tr style=\"text-align: right;\">\n",
       "      <th></th>\n",
       "      <th>Station_Type</th>\n",
       "      <th>Count</th>\n",
       "    </tr>\n",
       "  </thead>\n",
       "  <tbody>\n",
       "    <tr>\n",
       "      <th>0</th>\n",
       "      <td>Net Bikes Arriving</td>\n",
       "      <td>289</td>\n",
       "    </tr>\n",
       "    <tr>\n",
       "      <th>1</th>\n",
       "      <td>Net Bikes Leaving</td>\n",
       "      <td>342</td>\n",
       "    </tr>\n",
       "  </tbody>\n",
       "</table>\n",
       "</div>"
      ],
      "text/plain": [
       "         Station_Type  Count\n",
       "0  Net Bikes Arriving    289\n",
       "1   Net Bikes Leaving    342"
      ]
     },
     "execution_count": 158,
     "metadata": {},
     "output_type": "execute_result"
    }
   ],
   "source": [
    "pie_df_concat = df_concat.groupby('Station_Type').size().reset_index().rename(columns={0:'Count'})\n",
    "pie_df_concat.head(2)"
   ]
  },
  {
   "cell_type": "code",
   "execution_count": 161,
   "metadata": {},
   "outputs": [
    {
     "data": {
      "image/png": "[encoded data removed]",
      "text/plain": [
       "<Figure size 432x288 with 1 Axes>"
      ]
     },
     "metadata": {},
     "output_type": "display_data"
    }
   ],
   "source": [
    "labels = ['Stations with Bikes Arriving', 'Stations with Bikes Leaving']\n",
    "sizes = pie_df_concat['Count']\n",
    "colors = ['lightgreen', 'lightblue']\n",
    "explode = (0.1, 0)\n",
    "\n",
    "plt.pie(sizes, explode=explode, labels=labels, colors=colors,\n",
    "        autopct='%1.1f%%', shadow=True, startangle=140, )\n",
    "plt.title('Bike Transfer Within NYC')\n",
    "plt.axis('equal')\n",
    "plt.show()"
   ]
  },
  {
   "cell_type": "code",
   "execution_count": 138,
   "metadata": {},
   "outputs": [
    {
     "data": {
      "text/plain": [
       "count      631.000000\n",
       "mean       180.968995\n",
       "std       3075.559980\n",
       "min          0.011599\n",
       "25%          0.552529\n",
       "50%          1.000000\n",
       "75%          2.198954\n",
       "max      72458.000000\n",
       "Name: Start_Ratio, dtype: float64"
      ]
     },
     "execution_count": 138,
     "metadata": {},
     "output_type": "execute_result"
    }
   ],
   "source": [
    "df_concat['Start_Ratio'].describe()"
   ]
  },
  {
   "cell_type": "code",
   "execution_count": null,
   "metadata": {},
   "outputs": [],
   "source": []
  },
  {
   "cell_type": "code",
   "execution_count": null,
   "metadata": {},
   "outputs": [],
   "source": []
  },
  {
   "cell_type": "code",
   "execution_count": null,
   "metadata": {},
   "outputs": [],
   "source": []
  },
  {
   "cell_type": "code",
   "execution_count": null,
   "metadata": {},
   "outputs": [],
   "source": []
  },
  {
   "cell_type": "code",
   "execution_count": null,
   "metadata": {},
   "outputs": [],
   "source": []
  },
  {
   "cell_type": "markdown",
   "metadata": {},
   "source": [
    "### Rider Age"
   ]
  },
  {
   "cell_type": "code",
   "execution_count": 85,
   "metadata": {},
   "outputs": [
    {
     "name": "stdout",
     "output_type": "stream",
     "text": [
      " * sqlite:////Users/michaellink/Desktop/__NYCDSA/_Projects/Capstone/data/citibike/sqlite/citi_bike.db\n",
      "Done.\n",
      "CPU times: user 14.3 s, sys: 14.5 s, total: 28.8 s\n",
      "Wall time: 54.8 s\n"
     ]
    }
   ],
   "source": [
    "%%time\n",
    "result = %sql SELECT age AS 'Age' FROM yr_2019"
   ]
  },
  {
   "cell_type": "code",
   "execution_count": 86,
   "metadata": {},
   "outputs": [],
   "source": [
    "%%time\n",
    "df_age = result.DataFrame()"
   ]
  },
  {
   "cell_type": "code",
   "execution_count": 87,
   "metadata": {},
   "outputs": [
    {
     "data": {
      "text/html": [
       "<div>\n",
       "<style scoped>\n",
       "    .dataframe tbody tr th:only-of-type {\n",
       "        vertical-align: middle;\n",
       "    }\n",
       "\n",
       "    .dataframe tbody tr th {\n",
       "        vertical-align: top;\n",
       "    }\n",
       "\n",
       "    .dataframe thead th {\n",
       "        text-align: right;\n",
       "    }\n",
       "</style>\n",
       "<table border=\"1\" class=\"dataframe\">\n",
       "  <thead>\n",
       "    <tr style=\"text-align: right;\">\n",
       "      <th></th>\n",
       "      <th>Age</th>\n",
       "    </tr>\n",
       "  </thead>\n",
       "  <tbody>\n",
       "    <tr>\n",
       "      <th>0</th>\n",
       "      <td>48</td>\n",
       "    </tr>\n",
       "    <tr>\n",
       "      <th>1</th>\n",
       "      <td>55</td>\n",
       "    </tr>\n",
       "    <tr>\n",
       "      <th>2</th>\n",
       "      <td>32</td>\n",
       "    </tr>\n",
       "    <tr>\n",
       "      <th>3</th>\n",
       "      <td>29</td>\n",
       "    </tr>\n",
       "    <tr>\n",
       "      <th>4</th>\n",
       "      <td>40</td>\n",
       "    </tr>\n",
       "  </tbody>\n",
       "</table>\n",
       "</div>"
      ],
      "text/plain": [
       "   Age\n",
       "0   48\n",
       "1   55\n",
       "2   32\n",
       "3   29\n",
       "4   40"
      ]
     },
     "execution_count": 87,
     "metadata": {},
     "output_type": "execute_result"
    }
   ],
   "source": [
    "df_age.head()"
   ]
  },
  {
   "cell_type": "code",
   "execution_count": 94,
   "metadata": {},
   "outputs": [
    {
     "data": {
      "text/plain": [
       "<matplotlib.axes._subplots.AxesSubplot at 0x7fce569fcbd0>"
      ]
     },
     "execution_count": 94,
     "metadata": {},
     "output_type": "execute_result"
    },
    {
     "data": {
      "image/png": "[encoded data removed]",
      "text/plain": [
       "<Figure size 432x288 with 1 Axes>"
      ]
     },
     "metadata": {
      "needs_background": "light"
     },
     "output_type": "display_data"
    }
   ],
   "source": [
    "df_age[df_age['Age']<100].plot.hist(bins = 25, title='Age of Riders in NYC 2019', \n",
    "                                ec='black', alpha=0.5)"
   ]
  },
  {
   "cell_type": "code",
   "execution_count": 130,
   "metadata": {},
   "outputs": [
    {
     "name": "stdout",
     "output_type": "stream",
     "text": [
      " * sqlite:////Users/michaellink/Desktop/__NYCDSA/_Projects/Capstone/data/citibike/sqlite/citi_bike.db\n",
      "Done.\n",
      "CPU times: user 1min 46s, sys: 59.2 s, total: 2min 45s\n",
      "Wall time: 3min 59s\n"
     ]
    }
   ],
   "source": [
    "%%time\n",
    "# %sql SELECT age AS 'Age' FROM yr_2019\n",
    "result_age_cust = %sql SELECT usertype AS 'User Type', age AS 'Age' FROM cb;"
   ]
  },
  {
   "cell_type": "code",
   "execution_count": 132,
   "metadata": {},
   "outputs": [],
   "source": [
    "# %%time\n",
    "# df_age_cust = result_age_cust.DataFrame()\n",
    "# df_age_cust = df_age_cust[df_age_cust['Age']<100]"
   ]
  },
  {
   "cell_type": "code",
   "execution_count": 106,
   "metadata": {
    "scrolled": true
   },
   "outputs": [
    {
     "data": {
      "text/plain": [
       "<matplotlib.axes._subplots.AxesSubplot at 0x7fcfc47eea10>"
      ]
     },
     "execution_count": 106,
     "metadata": {},
     "output_type": "execute_result"
    },
    {
     "data": {
      "image/png": "[encoded data removed]",
      "text/plain": [
       "<Figure size 432x288 with 1 Axes>"
      ]
     },
     "metadata": {
      "needs_background": "light"
     },
     "output_type": "display_data"
    }
   ],
   "source": [
    "# library & dataset\n",
    "import seaborn as sns\n",
    "# df = sns.load_dataset('iris')\n",
    "\n",
    "# density plot with shade\n",
    "sns.kdeplot(df_age_cust['Age'], shade=True)\n",
    "#sns.plt.show()"
   ]
  },
  {
   "cell_type": "code",
   "execution_count": 111,
   "metadata": {
    "scrolled": true
   },
   "outputs": [
    {
     "data": {
      "image/png": "[encoded data removed]",
      "text/plain": [
       "<Figure size 842.4x595.44 with 1 Axes>"
      ]
     },
     "metadata": {},
     "output_type": "display_data"
    }
   ],
   "source": [
    "# List of five airlines to plot\n",
    "sns.set(rc={'figure.figsize':(11.7,8.27)})\n",
    "airlines = ['Subscriber', 'Customer']\n",
    "\n",
    "# Iterate through the five airlines\n",
    "for airline in airlines:\n",
    "    # Subset to the airline\n",
    "    subset = df_age_cust[df_age_cust['User Type'] == airline]\n",
    "    \n",
    "    # Draw the density plot\n",
    "    sns.distplot(subset['Age'], hist = False, kde = True,\n",
    "                 kde_kws = {'linewidth': 3},\n",
    "                 label = airline)\n",
    "    \n",
    "# Plot formatting\n",
    "# plt.figure(figsize=(20,10))\n",
    "plt.legend(prop={'size': 14}, title = 'Age of Riders')\n",
    "plt.title('Age Density Plot by Customer Types')\n",
    "plt.xlabel('Age (yrs)')\n",
    "plt.ylabel('Density')\n",
    "plt.show()"
   ]
  },
  {
   "cell_type": "code",
   "execution_count": 129,
   "metadata": {},
   "outputs": [
    {
     "data": {
      "image/png": "[encoded data removed]",
      "text/plain": [
       "<Figure size 640x480 with 1 Axes>"
      ]
     },
     "metadata": {},
     "output_type": "display_data"
    }
   ],
   "source": [
    "from matplotlib import pyplot\n",
    "\n",
    "x = df_age_cust[df_age_cust['User Type']=='Customer'][['Age']].values.flatten()\n",
    "y = df_age_cust[df_age_cust['User Type']=='Subscriber'][['Age']].values.flatten()\n",
    "\n",
    "plt.style.use('fivethirtyeight')\n",
    "\n",
    "plt.hist(y, bins=25, alpha=0.5, label='Subscriber')\n",
    "plt.hist(x, bins=25, alpha=0.5, label='Customer')\n",
    "\n",
    "plt.legend(loc='upper right')\n",
    "plt.title('Age by Customer Types')\n",
    "plt.xlabel('Age (yrs)')\n",
    "plt.ylabel('Ride Count')\n",
    "plt.show()"
   ]
  },
  {
   "cell_type": "code",
   "execution_count": 122,
   "metadata": {},
   "outputs": [
    {
     "data": {
      "text/plain": [
       "array([30, 50, 50, 50, 50])"
      ]
     },
     "execution_count": 122,
     "metadata": {},
     "output_type": "execute_result"
    }
   ],
   "source": [
    "df_age_cust[df_age_cust['User Type']=='Customer'][['Age']].head().values.flatten()"
   ]
  },
  {
   "cell_type": "markdown",
   "metadata": {},
   "source": [
    "### Most Popular Trips (From A to B)"
   ]
  },
  {
   "cell_type": "code",
   "execution_count": 25,
   "metadata": {},
   "outputs": [
    {
     "data": {
      "text/plain": [
       "Index(['tripduration', 'starttime', 'stoptime', 'start_station_id',\n",
       "       'start_station_name', 'start_station_latitude',\n",
       "       'start_station_longitude', 'end_station_id', 'end_station_name',\n",
       "       'end_station_latitude', 'end_station_longitude', 'bikeid', 'usertype',\n",
       "       'birth_year', 'gender', 'counter', 'year', 'age', 'tripduration_hrs',\n",
       "       'tripduration_days'],\n",
       "      dtype='object')"
      ]
     },
     "execution_count": 25,
     "metadata": {},
     "output_type": "execute_result"
    }
   ],
   "source": [
    "df_top_10000_longest_trips.columns"
   ]
  },
  {
   "cell_type": "code",
   "execution_count": 3,
   "metadata": {},
   "outputs": [
    {
     "name": "stdout",
     "output_type": "stream",
     "text": [
      " * sqlite:////Users/michaellink/Desktop/__NYCDSA/_Projects/Capstone/data/citibike/sqlite/citi_bike.db\n",
      "Done.\n",
      "CPU times: user 29.4 s, sys: 17.3 s, total: 46.8 s\n",
      "Wall time: 1min 10s\n"
     ]
    }
   ],
   "source": [
    "%%time\n",
    "result = %sql SELECT start_station_name, end_station_name, COUNT(*) AS Count FROM yr_2019 GROUP BY start_station_name, end_station_name ORDER BY Count DESC;"
   ]
  },
  {
   "cell_type": "code",
   "execution_count": 7,
   "metadata": {},
   "outputs": [
    {
     "data": {
      "text/html": [
       "<div>\n",
       "<style scoped>\n",
       "    .dataframe tbody tr th:only-of-type {\n",
       "        vertical-align: middle;\n",
       "    }\n",
       "\n",
       "    .dataframe tbody tr th {\n",
       "        vertical-align: top;\n",
       "    }\n",
       "\n",
       "    .dataframe thead th {\n",
       "        text-align: right;\n",
       "    }\n",
       "</style>\n",
       "<table border=\"1\" class=\"dataframe\">\n",
       "  <thead>\n",
       "    <tr style=\"text-align: right;\">\n",
       "      <th></th>\n",
       "      <th>start_station_name</th>\n",
       "      <th>end_station_name</th>\n",
       "      <th>Count</th>\n",
       "    </tr>\n",
       "  </thead>\n",
       "  <tbody>\n",
       "    <tr>\n",
       "      <th>0</th>\n",
       "      <td>Hamilton Park</td>\n",
       "      <td>Grove St PATH</td>\n",
       "      <td>8778</td>\n",
       "    </tr>\n",
       "    <tr>\n",
       "      <th>1</th>\n",
       "      <td>E 7 St &amp; Avenue A</td>\n",
       "      <td>Cooper Square &amp; Astor Pl</td>\n",
       "      <td>8426</td>\n",
       "    </tr>\n",
       "    <tr>\n",
       "      <th>2</th>\n",
       "      <td>Central Park S &amp; 6 Ave</td>\n",
       "      <td>Central Park S &amp; 6 Ave</td>\n",
       "      <td>6778</td>\n",
       "    </tr>\n",
       "    <tr>\n",
       "      <th>3</th>\n",
       "      <td>Central Park S &amp; 6 Ave</td>\n",
       "      <td>5 Ave &amp; E 88 St</td>\n",
       "      <td>6092</td>\n",
       "    </tr>\n",
       "    <tr>\n",
       "      <th>4</th>\n",
       "      <td>Grove St PATH</td>\n",
       "      <td>Hamilton Park</td>\n",
       "      <td>6050</td>\n",
       "    </tr>\n",
       "  </tbody>\n",
       "</table>\n",
       "</div>"
      ],
      "text/plain": [
       "       start_station_name          end_station_name  Count\n",
       "0           Hamilton Park             Grove St PATH   8778\n",
       "1       E 7 St & Avenue A  Cooper Square & Astor Pl   8426\n",
       "2  Central Park S & 6 Ave    Central Park S & 6 Ave   6778\n",
       "3  Central Park S & 6 Ave           5 Ave & E 88 St   6092\n",
       "4           Grove St PATH             Hamilton Park   6050"
      ]
     },
     "execution_count": 7,
     "metadata": {},
     "output_type": "execute_result"
    }
   ],
   "source": [
    "df_2019_unique_trips=result.DataFrame()\n",
    "df_2019_unique_trips.head()"
   ]
  },
  {
   "cell_type": "code",
   "execution_count": 6,
   "metadata": {},
   "outputs": [
    {
     "name": "stdout",
     "output_type": "stream",
     "text": [
      " * sqlite:////Users/michaellink/Desktop/__NYCDSA/_Projects/Capstone/data/citibike/sqlite/citi_bike.db\n",
      "Done.\n",
      "CPU times: user 2min 25s, sys: 39 s, total: 3min 4s\n",
      "Wall time: 5min 11s\n"
     ]
    }
   ],
   "source": [
    "%%time\n",
    "result_cb = %sql SELECT start_station_name, end_station_name, COUNT(*) AS Count FROM cb GROUP BY start_station_name, end_station_name ORDER BY Count DESC;"
   ]
  },
  {
   "cell_type": "code",
   "execution_count": 11,
   "metadata": {},
   "outputs": [],
   "source": [
    "df_total_unique_trips = result_cb.DataFrame()\n",
    "df_total_unique_trips['Percent of Total Trips'] = 100 * (df_total_unique_trips.Count / df_total_unique_trips.Count.sum())"
   ]
  },
  {
   "cell_type": "code",
   "execution_count": 15,
   "metadata": {},
   "outputs": [],
   "source": [
    "df_total_unique_trips.loc[df_total_unique_trips['start_station_name'] == df_total_unique_trips['end_station_name'], 'Same_Station'] = 'Same Return Station'\n",
    "df_total_unique_trips.loc[df_total_unique_trips['start_station_name'] != df_total_unique_trips['end_station_name'], 'Same_Station'] = 'Different Return Station'"
   ]
  },
  {
   "cell_type": "code",
   "execution_count": 78,
   "metadata": {},
   "outputs": [],
   "source": [
    "df_total_unique_trips.to_csv('Number_of_Unique_Trips.csv', index=False)"
   ]
  },
  {
   "cell_type": "code",
   "execution_count": 38,
   "metadata": {
    "scrolled": true
   },
   "outputs": [
    {
     "data": {
      "text/html": [
       "<div>\n",
       "<style scoped>\n",
       "    .dataframe tbody tr th:only-of-type {\n",
       "        vertical-align: middle;\n",
       "    }\n",
       "\n",
       "    .dataframe tbody tr th {\n",
       "        vertical-align: top;\n",
       "    }\n",
       "\n",
       "    .dataframe thead th {\n",
       "        text-align: right;\n",
       "    }\n",
       "</style>\n",
       "<table border=\"1\" class=\"dataframe\">\n",
       "  <thead>\n",
       "    <tr style=\"text-align: right;\">\n",
       "      <th></th>\n",
       "      <th>start_station_name</th>\n",
       "      <th>end_station_name</th>\n",
       "      <th>Count</th>\n",
       "      <th>Percent of Total Trips</th>\n",
       "      <th>Same_Station</th>\n",
       "    </tr>\n",
       "  </thead>\n",
       "  <tbody>\n",
       "    <tr>\n",
       "      <th>636828</th>\n",
       "      <td>Wythe Ave &amp; Metropolitan Ave</td>\n",
       "      <td>Lexington Ave &amp; E 29 St [temporarily removed]</td>\n",
       "      <td>1</td>\n",
       "      <td>0.000001</td>\n",
       "      <td>Different Return Station</td>\n",
       "    </tr>\n",
       "    <tr>\n",
       "      <th>636986</th>\n",
       "      <td>old - E 13 St &amp; Avenue A</td>\n",
       "      <td>Vesey Pl &amp; River Terrace</td>\n",
       "      <td>1</td>\n",
       "      <td>0.000001</td>\n",
       "      <td>Different Return Station</td>\n",
       "    </tr>\n",
       "    <tr>\n",
       "      <th>636130</th>\n",
       "      <td>Withers St &amp; Kingsland Ave</td>\n",
       "      <td>Kosciuszko St &amp; Nostrand Ave</td>\n",
       "      <td>1</td>\n",
       "      <td>0.000001</td>\n",
       "      <td>Different Return Station</td>\n",
       "    </tr>\n",
       "    <tr>\n",
       "      <th>636477</th>\n",
       "      <td>Wyckoff Av &amp; Stanhope St</td>\n",
       "      <td>Johnson St &amp; Gold St</td>\n",
       "      <td>1</td>\n",
       "      <td>0.000001</td>\n",
       "      <td>Different Return Station</td>\n",
       "    </tr>\n",
       "    <tr>\n",
       "      <th>636829</th>\n",
       "      <td>Wythe Ave &amp; Metropolitan Ave</td>\n",
       "      <td>Linden St &amp; Knickerbocker Ave</td>\n",
       "      <td>1</td>\n",
       "      <td>0.000001</td>\n",
       "      <td>Different Return Station</td>\n",
       "    </tr>\n",
       "    <tr>\n",
       "      <th>636548</th>\n",
       "      <td>Wyckoff St &amp; 3 Ave</td>\n",
       "      <td>E 20 St &amp; Park Ave</td>\n",
       "      <td>1</td>\n",
       "      <td>0.000001</td>\n",
       "      <td>Different Return Station</td>\n",
       "    </tr>\n",
       "    <tr>\n",
       "      <th>636535</th>\n",
       "      <td>Wyckoff St &amp; 3 Ave</td>\n",
       "      <td>Broadway &amp; W 56 St</td>\n",
       "      <td>1</td>\n",
       "      <td>0.000001</td>\n",
       "      <td>Different Return Station</td>\n",
       "    </tr>\n",
       "    <tr>\n",
       "      <th>636412</th>\n",
       "      <td>Wyckoff Av &amp; Jefferson St</td>\n",
       "      <td>W 129 St &amp; Convent Ave</td>\n",
       "      <td>1</td>\n",
       "      <td>0.000001</td>\n",
       "      <td>Different Return Station</td>\n",
       "    </tr>\n",
       "    <tr>\n",
       "      <th>636028</th>\n",
       "      <td>Wilson Ave &amp; Troutman St</td>\n",
       "      <td>Park Pl &amp; Vanderbilt Ave</td>\n",
       "      <td>1</td>\n",
       "      <td>0.000001</td>\n",
       "      <td>Different Return Station</td>\n",
       "    </tr>\n",
       "    <tr>\n",
       "      <th>636071</th>\n",
       "      <td>Withers St &amp; Kingsland Ave</td>\n",
       "      <td>37 Ave &amp; 35 St</td>\n",
       "      <td>1</td>\n",
       "      <td>0.000001</td>\n",
       "      <td>Different Return Station</td>\n",
       "    </tr>\n",
       "  </tbody>\n",
       "</table>\n",
       "</div>"
      ],
      "text/plain": [
       "                  start_station_name  \\\n",
       "636828  Wythe Ave & Metropolitan Ave   \n",
       "636986      old - E 13 St & Avenue A   \n",
       "636130    Withers St & Kingsland Ave   \n",
       "636477      Wyckoff Av & Stanhope St   \n",
       "636829  Wythe Ave & Metropolitan Ave   \n",
       "636548            Wyckoff St & 3 Ave   \n",
       "636535            Wyckoff St & 3 Ave   \n",
       "636412     Wyckoff Av & Jefferson St   \n",
       "636028      Wilson Ave & Troutman St   \n",
       "636071    Withers St & Kingsland Ave   \n",
       "\n",
       "                                     end_station_name  Count  \\\n",
       "636828  Lexington Ave & E 29 St [temporarily removed]      1   \n",
       "636986                       Vesey Pl & River Terrace      1   \n",
       "636130                   Kosciuszko St & Nostrand Ave      1   \n",
       "636477                           Johnson St & Gold St      1   \n",
       "636829                  Linden St & Knickerbocker Ave      1   \n",
       "636548                             E 20 St & Park Ave      1   \n",
       "636535                             Broadway & W 56 St      1   \n",
       "636412                         W 129 St & Convent Ave      1   \n",
       "636028                       Park Pl & Vanderbilt Ave      1   \n",
       "636071                                 37 Ave & 35 St      1   \n",
       "\n",
       "        Percent of Total Trips              Same_Station  \n",
       "636828                0.000001  Different Return Station  \n",
       "636986                0.000001  Different Return Station  \n",
       "636130                0.000001  Different Return Station  \n",
       "636477                0.000001  Different Return Station  \n",
       "636829                0.000001  Different Return Station  \n",
       "636548                0.000001  Different Return Station  \n",
       "636535                0.000001  Different Return Station  \n",
       "636412                0.000001  Different Return Station  \n",
       "636028                0.000001  Different Return Station  \n",
       "636071                0.000001  Different Return Station  "
      ]
     },
     "execution_count": 38,
     "metadata": {},
     "output_type": "execute_result"
    }
   ],
   "source": [
    "df_total_unique_trips.tail(1000).sample(10)"
   ]
  },
  {
   "cell_type": "code",
   "execution_count": null,
   "metadata": {},
   "outputs": [],
   "source": []
  },
  {
   "cell_type": "code",
   "execution_count": 39,
   "metadata": {
    "scrolled": true
   },
   "outputs": [
    {
     "data": {
      "image/png": "[encoded data removed]",
      "text/plain": [
       "<Figure size 432x288 with 1 Axes>"
      ]
     },
     "metadata": {},
     "output_type": "display_data"
    }
   ],
   "source": [
    "x = df_total_unique_trips[df_total_unique_trips['Same_Station']=='Same Return Station'][['Count']].values.flatten()\n",
    "y = df_total_unique_trips[df_total_unique_trips['Same_Station']=='Different Return Station'][['Count']].values.flatten()\n",
    "\n",
    "max_val=1000000\n",
    "x=x[x<max_val]\n",
    "y=y[y<max_val]\n",
    "\n",
    "\n",
    "plt.style.use('fivethirtyeight')\n",
    "\n",
    "plt.hist(y, bins=25, alpha=0.5, label='Different Return Station', log=True)\n",
    "plt.hist(x, bins=25, alpha=0.5, label='Same Return Station', log=True)\n",
    "\n",
    "plt.legend(loc='upper right')\n",
    "plt.title('Number of Unique Rides')\n",
    "plt.xlabel('Count of Rides for Unique Trip')\n",
    "plt.ylabel('Ride Count')\n",
    "plt.show()"
   ]
  },
  {
   "cell_type": "code",
   "execution_count": 35,
   "metadata": {
    "scrolled": true
   },
   "outputs": [
    {
     "data": {
      "image/png": "[encoded data removed]",
      "text/plain": [
       "<Figure size 432x288 with 1 Axes>"
      ]
     },
     "metadata": {},
     "output_type": "display_data"
    }
   ],
   "source": [
    "x = df_total_unique_trips[df_total_unique_trips['Same_Station']=='Same Return Station'][['Count']].values.flatten()\n",
    "y = df_total_unique_trips[df_total_unique_trips['Same_Station']=='Different Return Station'][['Count']].values.flatten()\n",
    "\n",
    "max_val=400\n",
    "x=x[x<max_val]\n",
    "y=y[y<max_val]\n",
    "\n",
    "\n",
    "plt.style.use('fivethirtyeight')\n",
    "\n",
    "plt.hist(y, bins=25, alpha=0.5, label='Different Return Station')#, log=True)\n",
    "plt.hist(x, bins=25, alpha=0.5, label='Same Return Station')#, log=True)\n",
    "\n",
    "plt.legend(loc='upper right')\n",
    "plt.title('Number of Unique Rides')\n",
    "plt.xlabel('Count of Rides for Unique Trip')\n",
    "plt.ylabel('Frequency')\n",
    "plt.show()"
   ]
  },
  {
   "cell_type": "code",
   "execution_count": 18,
   "metadata": {},
   "outputs": [
    {
     "data": {
      "text/html": [
       "<div>\n",
       "<style scoped>\n",
       "    .dataframe tbody tr th:only-of-type {\n",
       "        vertical-align: middle;\n",
       "    }\n",
       "\n",
       "    .dataframe tbody tr th {\n",
       "        vertical-align: top;\n",
       "    }\n",
       "\n",
       "    .dataframe thead th {\n",
       "        text-align: right;\n",
       "    }\n",
       "</style>\n",
       "<table border=\"1\" class=\"dataframe\">\n",
       "  <thead>\n",
       "    <tr style=\"text-align: right;\">\n",
       "      <th></th>\n",
       "      <th>Count</th>\n",
       "    </tr>\n",
       "    <tr>\n",
       "      <th>Same_Station</th>\n",
       "      <th></th>\n",
       "    </tr>\n",
       "  </thead>\n",
       "  <tbody>\n",
       "    <tr>\n",
       "      <th>Different Return Station</th>\n",
       "      <td>96755783</td>\n",
       "    </tr>\n",
       "    <tr>\n",
       "      <th>Same Return Station</th>\n",
       "      <td>2270453</td>\n",
       "    </tr>\n",
       "  </tbody>\n",
       "</table>\n",
       "</div>"
      ],
      "text/plain": [
       "                             Count\n",
       "Same_Station                      \n",
       "Different Return Station  96755783\n",
       "Same Return Station        2270453"
      ]
     },
     "execution_count": 18,
     "metadata": {},
     "output_type": "execute_result"
    }
   ],
   "source": [
    "pie_df_total_unique_trips = df_total_unique_trips.groupby('Same_Station').agg({'Count': 'sum'})\n",
    "pie_df_total_unique_trips"
   ]
  },
  {
   "cell_type": "code",
   "execution_count": 22,
   "metadata": {},
   "outputs": [
    {
     "data": {
      "image/png": "[encoded data removed]",
      "text/plain": [
       "<Figure size 432x288 with 1 Axes>"
      ]
     },
     "metadata": {},
     "output_type": "display_data"
    }
   ],
   "source": [
    "labels = ['Different Return Station', 'Same Return Station']\n",
    "sizes = pie_df_total_unique_trips['Count']\n",
    "colors = ['lightgreen', 'lightblue']\n",
    "explode = (0.1, 0)\n",
    "\n",
    "plt.pie(sizes, explode=explode, labels=labels, colors=colors,\n",
    "        autopct='%1.1f%%', shadow=True, startangle=140, )\n",
    "plt.title('Unique Rides in NYC')\n",
    "plt.axis('equal')\n",
    "plt.show()"
   ]
  },
  {
   "cell_type": "code",
   "execution_count": 41,
   "metadata": {},
   "outputs": [
    {
     "data": {
      "text/html": [
       "<div>\n",
       "<style scoped>\n",
       "    .dataframe tbody tr th:only-of-type {\n",
       "        vertical-align: middle;\n",
       "    }\n",
       "\n",
       "    .dataframe tbody tr th {\n",
       "        vertical-align: top;\n",
       "    }\n",
       "\n",
       "    .dataframe thead th {\n",
       "        text-align: right;\n",
       "    }\n",
       "</style>\n",
       "<table border=\"1\" class=\"dataframe\">\n",
       "  <thead>\n",
       "    <tr style=\"text-align: right;\">\n",
       "      <th></th>\n",
       "      <th>start_station_name</th>\n",
       "      <th>end_station_name</th>\n",
       "      <th>Count</th>\n",
       "      <th>Percent of Total Trips</th>\n",
       "      <th>Same_Station</th>\n",
       "    </tr>\n",
       "  </thead>\n",
       "  <tbody>\n",
       "    <tr>\n",
       "      <th>0</th>\n",
       "      <td>Central Park S &amp; 6 Ave</td>\n",
       "      <td>Central Park S &amp; 6 Ave</td>\n",
       "      <td>74021</td>\n",
       "      <td>0.074749</td>\n",
       "      <td>Same Return Station</td>\n",
       "    </tr>\n",
       "    <tr>\n",
       "      <th>1</th>\n",
       "      <td>Grand Army Plaza &amp; Central Park S</td>\n",
       "      <td>Grand Army Plaza &amp; Central Park S</td>\n",
       "      <td>36280</td>\n",
       "      <td>0.036637</td>\n",
       "      <td>Same Return Station</td>\n",
       "    </tr>\n",
       "  </tbody>\n",
       "</table>\n",
       "</div>"
      ],
      "text/plain": [
       "                  start_station_name                   end_station_name  \\\n",
       "0             Central Park S & 6 Ave             Central Park S & 6 Ave   \n",
       "1  Grand Army Plaza & Central Park S  Grand Army Plaza & Central Park S   \n",
       "\n",
       "   Count  Percent of Total Trips         Same_Station  \n",
       "0  74021                0.074749  Same Return Station  \n",
       "1  36280                0.036637  Same Return Station  "
      ]
     },
     "execution_count": 41,
     "metadata": {},
     "output_type": "execute_result"
    }
   ],
   "source": [
    "df_total_unique_trips.head(2)"
   ]
  },
  {
   "cell_type": "code",
   "execution_count": 44,
   "metadata": {},
   "outputs": [
    {
     "data": {
      "text/plain": [
       "637001"
      ]
     },
     "execution_count": 44,
     "metadata": {},
     "output_type": "execute_result"
    }
   ],
   "source": [
    "df_total_unique_trips.shape[0]*0.01"
   ]
  },
  {
   "cell_type": "code",
   "execution_count": null,
   "metadata": {},
   "outputs": [],
   "source": []
  },
  {
   "cell_type": "code",
   "execution_count": null,
   "metadata": {},
   "outputs": [],
   "source": []
  },
  {
   "cell_type": "code",
   "execution_count": null,
   "metadata": {},
   "outputs": [],
   "source": []
  }
 ],
 "metadata": {
  "kernelspec": {
   "display_name": "Python 3",
   "language": "python",
   "name": "python3"
  },
  "language_info": {
   "codemirror_mode": {
    "name": "ipython",
    "version": 3
   },
   "file_extension": ".py",
   "mimetype": "text/x-python",
   "name": "python",
   "nbconvert_exporter": "python",
   "pygments_lexer": "ipython3",
   "version": "3.7.6"
  }
 },
 "nbformat": 4,
 "nbformat_minor": 4
}
