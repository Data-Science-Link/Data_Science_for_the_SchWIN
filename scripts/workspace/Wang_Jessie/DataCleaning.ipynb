{
 "cells": [
  {
   "cell_type": "markdown",
   "metadata": {},
   "source": [
    "# Cleaning Data "
   ]
  },
  {
   "cell_type": "code",
   "execution_count": null,
   "metadata": {},
   "outputs": [],
   "source": [
    "def clean(dataframe):\n",
    "    \n",
    "    # remove trips that are longer than 1 hour \n",
    "    dataframe = dataframe.loc[dataframe['trip_duration']<= 60*60]\n",
    "    \n",
    "    #remove longitude and latitude outside of New York area \n",
    "    dataframe = dataframe.loc[(dataframe['start_station_latitude']>40) & (dataframe['start_station_latitude']<41)] \n",
    "    dataframe = dataframe.loc[(dataframe['end_station_longitude']>-74.5) & (dataframe['end_station_longitude']<-73.5)]\n",
    "    \n",
    "    #converting time to date time for pandas\n",
    "    dataframe['start_time'] = pd.to_datetime(dataframe['start_time'])\n",
    "    dataframe['stop_time'] = pd.to_datetime( dataframe['stop_time'])\n",
    "    \n",
    "    return dataframe"
   ]
  },
  {
   "cell_type": "markdown",
   "metadata": {},
   "source": [
    "# Defining New Variables "
   ]
  },
  {
   "cell_type": "code",
   "execution_count": null,
   "metadata": {},
   "outputs": [],
   "source": [
    "def newfeatures(data_frame):\n",
    "    \n",
    "    #add age variables \n",
    "    data_frame['age'] = 2020 - data_frame['birth_year'] \n",
    "    \n",
    "    #start time variables \n",
    "    data_frame['year'] = data_frame['start_time'].dt.year\n",
    "    \n",
    "    #defining months\n",
    "    data_frame['month'] = data_frame['start_time'].dt.month\n",
    "    df_copy.loc[df_copy['month'] == 1, ['month']] = 'January'\n",
    "    df_copy.loc[df_copy['month'] == 2, ['month']] = 'February'\n",
    "    df_copy.loc[df_copy['month'] == 3, ['month']] = 'March'\n",
    "    df_copy.loc[df_copy['month'] == 4, ['month']] = 'April'\n",
    "    df_copy.loc[df_copy['month'] == 5, ['month']] = 'May'\n",
    "    df_copy.loc[df_copy['month'] == 6, ['month']] = 'June'\n",
    "    df_copy.loc[df_copy['month'] == 7, ['month']] = 'July'\n",
    "    df_copy.loc[df_copy['month'] == 8, ['month']] = 'August'\n",
    "    df_copy.loc[df_copy['month'] == 9, ['month']] = 'September'\n",
    "    df_copy.loc[df_copy['month'] == 10, ['month']] = 'October'\n",
    "    df_copy.loc[df_copy['month'] == 11, ['month']] = 'November'\n",
    "    df_copy.loc[df_copy['month'] == 12, ['month']] = 'December'\n",
    "    \n",
    "    \n",
    "    data_frame['start_date'] = data_frame['start_time'].dt.date\n",
    "    data_frame['time_of_day'] = data_frame['start_time'].dt.time\n",
    "    data_frame['hour_of_day'] = data_frame['start_time'].dt.hour #0 to 23 \n",
    "    \n",
    "    #defining days of the week and weekend \n",
    "    data_frame['week_day'] = data_frame['start_time'].dt.weekday #0 to 7 \n",
    "    data_frame['weekend'] = [1 if 5<=x<=6 else 0 for x in data_frame['week_day']]\n",
    "    df_copy.loc[df_copy['week_day'] == 0, ['week_day']] = 'Monday'\n",
    "    df_copy.loc[df_copy['week_day'] == 1, ['week_day']] = 'Tuesday'\n",
    "    df_copy.loc[df_copy['week_day'] == 2, ['week_day']] = 'Wednesday'\n",
    "    df_copy.loc[df_copy['week_day'] == 3, ['week_day']] = 'Thursday'\n",
    "    df_copy.loc[df_copy['week_day'] == 4, ['week_day']] = 'Friday'\n",
    "    df_copy.loc[df_copy['week_day'] == 5, ['week_day']] = 'Saturday'\n",
    "    df_copy.loc[df_copy['week_day'] == 6, ['week_day']] = 'Sunday'\n",
    "\n",
    "    \n",
    "    #stop time variables \n",
    "    data_frame['stop_date'] = data_frame['stop_time'].dt.date\n",
    "    data_frame['stop_hour'] = data_frame['stop_time'].dt.hour\n",
    "    data_frame['end_time_of_day'] = data_frame['stop_time'].dt.time\n",
    "\n",
    "    return data_frame"
   ]
  }
 ],
 "metadata": {
  "kernelspec": {
   "display_name": "Python 3",
   "language": "python",
   "name": "python3"
  },
  "language_info": {
   "codemirror_mode": {
    "name": "ipython",
    "version": 3
   },
   "file_extension": ".py",
   "mimetype": "text/x-python",
   "name": "python",
   "nbconvert_exporter": "python",
   "pygments_lexer": "ipython3",
   "version": "3.7.6"
  }
 },
 "nbformat": 4,
 "nbformat_minor": 4
}
